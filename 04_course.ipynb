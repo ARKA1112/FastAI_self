{
  "cells": [
    {
      "cell_type": "code",
      "execution_count": null,
      "metadata": {
        "id": "pjMWpyFpD5y1"
      },
      "outputs": [],
      "source": [
        "import os\n",
        "iskaggle = os.environ.get('KAGGLE_KERNEL_RUN_TYPE', '')\n",
        "#Only needs to run when runningon kaggle"
      ]
    },
    {
      "cell_type": "code",
      "execution_count": null,
      "metadata": {
        "id": "6oh9YEhiD5y3",
        "outputId": "90a3b0fb-c37d-4237-9382-31ca8546410e"
      },
      "outputs": [
        {
          "data": {
            "text/plain": [
              "''"
            ]
          },
          "execution_count": 2,
          "metadata": {},
          "output_type": "execute_result"
        }
      ],
      "source": [
        "iskaggle"
      ]
    },
    {
      "cell_type": "code",
      "source": [
        "import time\n",
        "def print_bump():\n",
        "  print('bumped')\n",
        "  time.sleep(50)\n",
        "  return print_bump()"
      ],
      "metadata": {
        "id": "vvuCLmvQFIwq"
      },
      "execution_count": 27,
      "outputs": []
    },
    {
      "cell_type": "code",
      "source": [
        "print_bump()"
      ],
      "metadata": {
        "colab": {
          "base_uri": "https://localhost:8080/",
          "height": 1000
        },
        "id": "WbJHlBGgFqvL",
        "outputId": "5b46bc43-4673-4abc-f614-728f328e6e37"
      },
      "execution_count": 28,
      "outputs": [
        {
          "output_type": "stream",
          "name": "stdout",
          "text": [
            "bumped\n",
            "bumped\n",
            "bumped\n",
            "bumped\n",
            "bumped\n",
            "bumped\n",
            "bumped\n",
            "bumped\n",
            "bumped\n",
            "bumped\n",
            "bumped\n",
            "bumped\n",
            "bumped\n",
            "bumped\n",
            "bumped\n",
            "bumped\n",
            "bumped\n",
            "bumped\n",
            "bumped\n",
            "bumped\n",
            "bumped\n",
            "bumped\n",
            "bumped\n",
            "bumped\n",
            "bumped\n",
            "bumped\n",
            "bumped\n",
            "bumped\n",
            "bumped\n",
            "bumped\n",
            "bumped\n",
            "bumped\n",
            "bumped\n",
            "bumped\n",
            "bumped\n",
            "bumped\n",
            "bumped\n",
            "bumped\n",
            "bumped\n",
            "bumped\n",
            "bumped\n",
            "bumped\n",
            "bumped\n",
            "bumped\n",
            "bumped\n",
            "bumped\n",
            "bumped\n",
            "bumped\n",
            "bumped\n",
            "bumped\n",
            "bumped\n",
            "bumped\n",
            "bumped\n",
            "bumped\n",
            "bumped\n",
            "bumped\n",
            "bumped\n"
          ]
        },
        {
          "output_type": "error",
          "ename": "KeyboardInterrupt",
          "evalue": "ignored",
          "traceback": [
            "\u001b[0;31m---------------------------------------------------------------------------\u001b[0m",
            "\u001b[0;31mKeyboardInterrupt\u001b[0m                         Traceback (most recent call last)",
            "\u001b[0;32m<ipython-input-28-5b88a6eed60a>\u001b[0m in \u001b[0;36m<cell line: 1>\u001b[0;34m()\u001b[0m\n\u001b[0;32m----> 1\u001b[0;31m \u001b[0mprint_bump\u001b[0m\u001b[0;34m(\u001b[0m\u001b[0;34m)\u001b[0m\u001b[0;34m\u001b[0m\u001b[0;34m\u001b[0m\u001b[0m\n\u001b[0m",
            "\u001b[0;32m<ipython-input-27-d6a26a4a5a91>\u001b[0m in \u001b[0;36mprint_bump\u001b[0;34m()\u001b[0m\n\u001b[1;32m      3\u001b[0m   \u001b[0mprint\u001b[0m\u001b[0;34m(\u001b[0m\u001b[0;34m'bumped'\u001b[0m\u001b[0;34m)\u001b[0m\u001b[0;34m\u001b[0m\u001b[0;34m\u001b[0m\u001b[0m\n\u001b[1;32m      4\u001b[0m   \u001b[0mtime\u001b[0m\u001b[0;34m.\u001b[0m\u001b[0msleep\u001b[0m\u001b[0;34m(\u001b[0m\u001b[0;36m50\u001b[0m\u001b[0;34m)\u001b[0m\u001b[0;34m\u001b[0m\u001b[0;34m\u001b[0m\u001b[0m\n\u001b[0;32m----> 5\u001b[0;31m   \u001b[0;32mreturn\u001b[0m \u001b[0mprint_bump\u001b[0m\u001b[0;34m(\u001b[0m\u001b[0;34m)\u001b[0m\u001b[0;34m\u001b[0m\u001b[0;34m\u001b[0m\u001b[0m\n\u001b[0m",
            "\u001b[0;32m<ipython-input-27-d6a26a4a5a91>\u001b[0m in \u001b[0;36mprint_bump\u001b[0;34m()\u001b[0m\n\u001b[1;32m      3\u001b[0m   \u001b[0mprint\u001b[0m\u001b[0;34m(\u001b[0m\u001b[0;34m'bumped'\u001b[0m\u001b[0;34m)\u001b[0m\u001b[0;34m\u001b[0m\u001b[0;34m\u001b[0m\u001b[0m\n\u001b[1;32m      4\u001b[0m   \u001b[0mtime\u001b[0m\u001b[0;34m.\u001b[0m\u001b[0msleep\u001b[0m\u001b[0;34m(\u001b[0m\u001b[0;36m50\u001b[0m\u001b[0;34m)\u001b[0m\u001b[0;34m\u001b[0m\u001b[0;34m\u001b[0m\u001b[0m\n\u001b[0;32m----> 5\u001b[0;31m   \u001b[0;32mreturn\u001b[0m \u001b[0mprint_bump\u001b[0m\u001b[0;34m(\u001b[0m\u001b[0;34m)\u001b[0m\u001b[0;34m\u001b[0m\u001b[0;34m\u001b[0m\u001b[0m\n\u001b[0m",
            "\u001b[0;32m<ipython-input-27-d6a26a4a5a91>\u001b[0m in \u001b[0;36mprint_bump\u001b[0;34m()\u001b[0m\n\u001b[1;32m      3\u001b[0m   \u001b[0mprint\u001b[0m\u001b[0;34m(\u001b[0m\u001b[0;34m'bumped'\u001b[0m\u001b[0;34m)\u001b[0m\u001b[0;34m\u001b[0m\u001b[0;34m\u001b[0m\u001b[0m\n\u001b[1;32m      4\u001b[0m   \u001b[0mtime\u001b[0m\u001b[0;34m.\u001b[0m\u001b[0msleep\u001b[0m\u001b[0;34m(\u001b[0m\u001b[0;36m50\u001b[0m\u001b[0;34m)\u001b[0m\u001b[0;34m\u001b[0m\u001b[0;34m\u001b[0m\u001b[0m\n\u001b[0;32m----> 5\u001b[0;31m   \u001b[0;32mreturn\u001b[0m \u001b[0mprint_bump\u001b[0m\u001b[0;34m(\u001b[0m\u001b[0;34m)\u001b[0m\u001b[0;34m\u001b[0m\u001b[0;34m\u001b[0m\u001b[0m\n\u001b[0m",
            "\u001b[0;32m<ipython-input-27-d6a26a4a5a91>\u001b[0m in \u001b[0;36mprint_bump\u001b[0;34m()\u001b[0m\n\u001b[1;32m      3\u001b[0m   \u001b[0mprint\u001b[0m\u001b[0;34m(\u001b[0m\u001b[0;34m'bumped'\u001b[0m\u001b[0;34m)\u001b[0m\u001b[0;34m\u001b[0m\u001b[0;34m\u001b[0m\u001b[0m\n\u001b[1;32m      4\u001b[0m   \u001b[0mtime\u001b[0m\u001b[0;34m.\u001b[0m\u001b[0msleep\u001b[0m\u001b[0;34m(\u001b[0m\u001b[0;36m50\u001b[0m\u001b[0;34m)\u001b[0m\u001b[0;34m\u001b[0m\u001b[0;34m\u001b[0m\u001b[0m\n\u001b[0;32m----> 5\u001b[0;31m   \u001b[0;32mreturn\u001b[0m \u001b[0mprint_bump\u001b[0m\u001b[0;34m(\u001b[0m\u001b[0;34m)\u001b[0m\u001b[0;34m\u001b[0m\u001b[0;34m\u001b[0m\u001b[0m\n\u001b[0m",
            "\u001b[0;32m<ipython-input-27-d6a26a4a5a91>\u001b[0m in \u001b[0;36mprint_bump\u001b[0;34m()\u001b[0m\n\u001b[1;32m      3\u001b[0m   \u001b[0mprint\u001b[0m\u001b[0;34m(\u001b[0m\u001b[0;34m'bumped'\u001b[0m\u001b[0;34m)\u001b[0m\u001b[0;34m\u001b[0m\u001b[0;34m\u001b[0m\u001b[0m\n\u001b[1;32m      4\u001b[0m   \u001b[0mtime\u001b[0m\u001b[0;34m.\u001b[0m\u001b[0msleep\u001b[0m\u001b[0;34m(\u001b[0m\u001b[0;36m50\u001b[0m\u001b[0;34m)\u001b[0m\u001b[0;34m\u001b[0m\u001b[0;34m\u001b[0m\u001b[0m\n\u001b[0;32m----> 5\u001b[0;31m   \u001b[0;32mreturn\u001b[0m \u001b[0mprint_bump\u001b[0m\u001b[0;34m(\u001b[0m\u001b[0;34m)\u001b[0m\u001b[0;34m\u001b[0m\u001b[0;34m\u001b[0m\u001b[0m\n\u001b[0m",
            "\u001b[0;32m<ipython-input-27-d6a26a4a5a91>\u001b[0m in \u001b[0;36mprint_bump\u001b[0;34m()\u001b[0m\n\u001b[1;32m      3\u001b[0m   \u001b[0mprint\u001b[0m\u001b[0;34m(\u001b[0m\u001b[0;34m'bumped'\u001b[0m\u001b[0;34m)\u001b[0m\u001b[0;34m\u001b[0m\u001b[0;34m\u001b[0m\u001b[0m\n\u001b[1;32m      4\u001b[0m   \u001b[0mtime\u001b[0m\u001b[0;34m.\u001b[0m\u001b[0msleep\u001b[0m\u001b[0;34m(\u001b[0m\u001b[0;36m50\u001b[0m\u001b[0;34m)\u001b[0m\u001b[0;34m\u001b[0m\u001b[0;34m\u001b[0m\u001b[0m\n\u001b[0;32m----> 5\u001b[0;31m   \u001b[0;32mreturn\u001b[0m \u001b[0mprint_bump\u001b[0m\u001b[0;34m(\u001b[0m\u001b[0;34m)\u001b[0m\u001b[0;34m\u001b[0m\u001b[0;34m\u001b[0m\u001b[0m\n\u001b[0m",
            "\u001b[0;32m<ipython-input-27-d6a26a4a5a91>\u001b[0m in \u001b[0;36mprint_bump\u001b[0;34m()\u001b[0m\n\u001b[1;32m      3\u001b[0m   \u001b[0mprint\u001b[0m\u001b[0;34m(\u001b[0m\u001b[0;34m'bumped'\u001b[0m\u001b[0;34m)\u001b[0m\u001b[0;34m\u001b[0m\u001b[0;34m\u001b[0m\u001b[0m\n\u001b[1;32m      4\u001b[0m   \u001b[0mtime\u001b[0m\u001b[0;34m.\u001b[0m\u001b[0msleep\u001b[0m\u001b[0;34m(\u001b[0m\u001b[0;36m50\u001b[0m\u001b[0;34m)\u001b[0m\u001b[0;34m\u001b[0m\u001b[0;34m\u001b[0m\u001b[0m\n\u001b[0;32m----> 5\u001b[0;31m   \u001b[0;32mreturn\u001b[0m \u001b[0mprint_bump\u001b[0m\u001b[0;34m(\u001b[0m\u001b[0;34m)\u001b[0m\u001b[0;34m\u001b[0m\u001b[0;34m\u001b[0m\u001b[0m\n\u001b[0m",
            "\u001b[0;32m<ipython-input-27-d6a26a4a5a91>\u001b[0m in \u001b[0;36mprint_bump\u001b[0;34m()\u001b[0m\n\u001b[1;32m      3\u001b[0m   \u001b[0mprint\u001b[0m\u001b[0;34m(\u001b[0m\u001b[0;34m'bumped'\u001b[0m\u001b[0;34m)\u001b[0m\u001b[0;34m\u001b[0m\u001b[0;34m\u001b[0m\u001b[0m\n\u001b[1;32m      4\u001b[0m   \u001b[0mtime\u001b[0m\u001b[0;34m.\u001b[0m\u001b[0msleep\u001b[0m\u001b[0;34m(\u001b[0m\u001b[0;36m50\u001b[0m\u001b[0;34m)\u001b[0m\u001b[0;34m\u001b[0m\u001b[0;34m\u001b[0m\u001b[0m\n\u001b[0;32m----> 5\u001b[0;31m   \u001b[0;32mreturn\u001b[0m \u001b[0mprint_bump\u001b[0m\u001b[0;34m(\u001b[0m\u001b[0;34m)\u001b[0m\u001b[0;34m\u001b[0m\u001b[0;34m\u001b[0m\u001b[0m\n\u001b[0m",
            "\u001b[0;32m<ipython-input-27-d6a26a4a5a91>\u001b[0m in \u001b[0;36mprint_bump\u001b[0;34m()\u001b[0m\n\u001b[1;32m      3\u001b[0m   \u001b[0mprint\u001b[0m\u001b[0;34m(\u001b[0m\u001b[0;34m'bumped'\u001b[0m\u001b[0;34m)\u001b[0m\u001b[0;34m\u001b[0m\u001b[0;34m\u001b[0m\u001b[0m\n\u001b[1;32m      4\u001b[0m   \u001b[0mtime\u001b[0m\u001b[0;34m.\u001b[0m\u001b[0msleep\u001b[0m\u001b[0;34m(\u001b[0m\u001b[0;36m50\u001b[0m\u001b[0;34m)\u001b[0m\u001b[0;34m\u001b[0m\u001b[0;34m\u001b[0m\u001b[0m\n\u001b[0;32m----> 5\u001b[0;31m   \u001b[0;32mreturn\u001b[0m \u001b[0mprint_bump\u001b[0m\u001b[0;34m(\u001b[0m\u001b[0;34m)\u001b[0m\u001b[0;34m\u001b[0m\u001b[0;34m\u001b[0m\u001b[0m\n\u001b[0m",
            "\u001b[0;32m<ipython-input-27-d6a26a4a5a91>\u001b[0m in \u001b[0;36mprint_bump\u001b[0;34m()\u001b[0m\n\u001b[1;32m      3\u001b[0m   \u001b[0mprint\u001b[0m\u001b[0;34m(\u001b[0m\u001b[0;34m'bumped'\u001b[0m\u001b[0;34m)\u001b[0m\u001b[0;34m\u001b[0m\u001b[0;34m\u001b[0m\u001b[0m\n\u001b[1;32m      4\u001b[0m   \u001b[0mtime\u001b[0m\u001b[0;34m.\u001b[0m\u001b[0msleep\u001b[0m\u001b[0;34m(\u001b[0m\u001b[0;36m50\u001b[0m\u001b[0;34m)\u001b[0m\u001b[0;34m\u001b[0m\u001b[0;34m\u001b[0m\u001b[0m\n\u001b[0;32m----> 5\u001b[0;31m   \u001b[0;32mreturn\u001b[0m \u001b[0mprint_bump\u001b[0m\u001b[0;34m(\u001b[0m\u001b[0;34m)\u001b[0m\u001b[0;34m\u001b[0m\u001b[0;34m\u001b[0m\u001b[0m\n\u001b[0m",
            "\u001b[0;32m<ipython-input-27-d6a26a4a5a91>\u001b[0m in \u001b[0;36mprint_bump\u001b[0;34m()\u001b[0m\n\u001b[1;32m      3\u001b[0m   \u001b[0mprint\u001b[0m\u001b[0;34m(\u001b[0m\u001b[0;34m'bumped'\u001b[0m\u001b[0;34m)\u001b[0m\u001b[0;34m\u001b[0m\u001b[0;34m\u001b[0m\u001b[0m\n\u001b[1;32m      4\u001b[0m   \u001b[0mtime\u001b[0m\u001b[0;34m.\u001b[0m\u001b[0msleep\u001b[0m\u001b[0;34m(\u001b[0m\u001b[0;36m50\u001b[0m\u001b[0;34m)\u001b[0m\u001b[0;34m\u001b[0m\u001b[0;34m\u001b[0m\u001b[0m\n\u001b[0;32m----> 5\u001b[0;31m   \u001b[0;32mreturn\u001b[0m \u001b[0mprint_bump\u001b[0m\u001b[0;34m(\u001b[0m\u001b[0;34m)\u001b[0m\u001b[0;34m\u001b[0m\u001b[0;34m\u001b[0m\u001b[0m\n\u001b[0m",
            "\u001b[0;32m<ipython-input-27-d6a26a4a5a91>\u001b[0m in \u001b[0;36mprint_bump\u001b[0;34m()\u001b[0m\n\u001b[1;32m      3\u001b[0m   \u001b[0mprint\u001b[0m\u001b[0;34m(\u001b[0m\u001b[0;34m'bumped'\u001b[0m\u001b[0;34m)\u001b[0m\u001b[0;34m\u001b[0m\u001b[0;34m\u001b[0m\u001b[0m\n\u001b[1;32m      4\u001b[0m   \u001b[0mtime\u001b[0m\u001b[0;34m.\u001b[0m\u001b[0msleep\u001b[0m\u001b[0;34m(\u001b[0m\u001b[0;36m50\u001b[0m\u001b[0;34m)\u001b[0m\u001b[0;34m\u001b[0m\u001b[0;34m\u001b[0m\u001b[0m\n\u001b[0;32m----> 5\u001b[0;31m   \u001b[0;32mreturn\u001b[0m \u001b[0mprint_bump\u001b[0m\u001b[0;34m(\u001b[0m\u001b[0;34m)\u001b[0m\u001b[0;34m\u001b[0m\u001b[0;34m\u001b[0m\u001b[0m\n\u001b[0m",
            "\u001b[0;32m<ipython-input-27-d6a26a4a5a91>\u001b[0m in \u001b[0;36mprint_bump\u001b[0;34m()\u001b[0m\n\u001b[1;32m      3\u001b[0m   \u001b[0mprint\u001b[0m\u001b[0;34m(\u001b[0m\u001b[0;34m'bumped'\u001b[0m\u001b[0;34m)\u001b[0m\u001b[0;34m\u001b[0m\u001b[0;34m\u001b[0m\u001b[0m\n\u001b[1;32m      4\u001b[0m   \u001b[0mtime\u001b[0m\u001b[0;34m.\u001b[0m\u001b[0msleep\u001b[0m\u001b[0;34m(\u001b[0m\u001b[0;36m50\u001b[0m\u001b[0;34m)\u001b[0m\u001b[0;34m\u001b[0m\u001b[0;34m\u001b[0m\u001b[0m\n\u001b[0;32m----> 5\u001b[0;31m   \u001b[0;32mreturn\u001b[0m \u001b[0mprint_bump\u001b[0m\u001b[0;34m(\u001b[0m\u001b[0;34m)\u001b[0m\u001b[0;34m\u001b[0m\u001b[0;34m\u001b[0m\u001b[0m\n\u001b[0m",
            "\u001b[0;32m<ipython-input-27-d6a26a4a5a91>\u001b[0m in \u001b[0;36mprint_bump\u001b[0;34m()\u001b[0m\n\u001b[1;32m      3\u001b[0m   \u001b[0mprint\u001b[0m\u001b[0;34m(\u001b[0m\u001b[0;34m'bumped'\u001b[0m\u001b[0;34m)\u001b[0m\u001b[0;34m\u001b[0m\u001b[0;34m\u001b[0m\u001b[0m\n\u001b[1;32m      4\u001b[0m   \u001b[0mtime\u001b[0m\u001b[0;34m.\u001b[0m\u001b[0msleep\u001b[0m\u001b[0;34m(\u001b[0m\u001b[0;36m50\u001b[0m\u001b[0;34m)\u001b[0m\u001b[0;34m\u001b[0m\u001b[0;34m\u001b[0m\u001b[0m\n\u001b[0;32m----> 5\u001b[0;31m   \u001b[0;32mreturn\u001b[0m \u001b[0mprint_bump\u001b[0m\u001b[0;34m(\u001b[0m\u001b[0;34m)\u001b[0m\u001b[0;34m\u001b[0m\u001b[0;34m\u001b[0m\u001b[0m\n\u001b[0m",
            "\u001b[0;32m<ipython-input-27-d6a26a4a5a91>\u001b[0m in \u001b[0;36mprint_bump\u001b[0;34m()\u001b[0m\n\u001b[1;32m      3\u001b[0m   \u001b[0mprint\u001b[0m\u001b[0;34m(\u001b[0m\u001b[0;34m'bumped'\u001b[0m\u001b[0;34m)\u001b[0m\u001b[0;34m\u001b[0m\u001b[0;34m\u001b[0m\u001b[0m\n\u001b[1;32m      4\u001b[0m   \u001b[0mtime\u001b[0m\u001b[0;34m.\u001b[0m\u001b[0msleep\u001b[0m\u001b[0;34m(\u001b[0m\u001b[0;36m50\u001b[0m\u001b[0;34m)\u001b[0m\u001b[0;34m\u001b[0m\u001b[0;34m\u001b[0m\u001b[0m\n\u001b[0;32m----> 5\u001b[0;31m   \u001b[0;32mreturn\u001b[0m \u001b[0mprint_bump\u001b[0m\u001b[0;34m(\u001b[0m\u001b[0;34m)\u001b[0m\u001b[0;34m\u001b[0m\u001b[0;34m\u001b[0m\u001b[0m\n\u001b[0m",
            "\u001b[0;32m<ipython-input-27-d6a26a4a5a91>\u001b[0m in \u001b[0;36mprint_bump\u001b[0;34m()\u001b[0m\n\u001b[1;32m      3\u001b[0m   \u001b[0mprint\u001b[0m\u001b[0;34m(\u001b[0m\u001b[0;34m'bumped'\u001b[0m\u001b[0;34m)\u001b[0m\u001b[0;34m\u001b[0m\u001b[0;34m\u001b[0m\u001b[0m\n\u001b[1;32m      4\u001b[0m   \u001b[0mtime\u001b[0m\u001b[0;34m.\u001b[0m\u001b[0msleep\u001b[0m\u001b[0;34m(\u001b[0m\u001b[0;36m50\u001b[0m\u001b[0;34m)\u001b[0m\u001b[0;34m\u001b[0m\u001b[0;34m\u001b[0m\u001b[0m\n\u001b[0;32m----> 5\u001b[0;31m   \u001b[0;32mreturn\u001b[0m \u001b[0mprint_bump\u001b[0m\u001b[0;34m(\u001b[0m\u001b[0;34m)\u001b[0m\u001b[0;34m\u001b[0m\u001b[0;34m\u001b[0m\u001b[0m\n\u001b[0m",
            "\u001b[0;32m<ipython-input-27-d6a26a4a5a91>\u001b[0m in \u001b[0;36mprint_bump\u001b[0;34m()\u001b[0m\n\u001b[1;32m      3\u001b[0m   \u001b[0mprint\u001b[0m\u001b[0;34m(\u001b[0m\u001b[0;34m'bumped'\u001b[0m\u001b[0;34m)\u001b[0m\u001b[0;34m\u001b[0m\u001b[0;34m\u001b[0m\u001b[0m\n\u001b[1;32m      4\u001b[0m   \u001b[0mtime\u001b[0m\u001b[0;34m.\u001b[0m\u001b[0msleep\u001b[0m\u001b[0;34m(\u001b[0m\u001b[0;36m50\u001b[0m\u001b[0;34m)\u001b[0m\u001b[0;34m\u001b[0m\u001b[0;34m\u001b[0m\u001b[0m\n\u001b[0;32m----> 5\u001b[0;31m   \u001b[0;32mreturn\u001b[0m \u001b[0mprint_bump\u001b[0m\u001b[0;34m(\u001b[0m\u001b[0;34m)\u001b[0m\u001b[0;34m\u001b[0m\u001b[0;34m\u001b[0m\u001b[0m\n\u001b[0m",
            "\u001b[0;32m<ipython-input-27-d6a26a4a5a91>\u001b[0m in \u001b[0;36mprint_bump\u001b[0;34m()\u001b[0m\n\u001b[1;32m      3\u001b[0m   \u001b[0mprint\u001b[0m\u001b[0;34m(\u001b[0m\u001b[0;34m'bumped'\u001b[0m\u001b[0;34m)\u001b[0m\u001b[0;34m\u001b[0m\u001b[0;34m\u001b[0m\u001b[0m\n\u001b[1;32m      4\u001b[0m   \u001b[0mtime\u001b[0m\u001b[0;34m.\u001b[0m\u001b[0msleep\u001b[0m\u001b[0;34m(\u001b[0m\u001b[0;36m50\u001b[0m\u001b[0;34m)\u001b[0m\u001b[0;34m\u001b[0m\u001b[0;34m\u001b[0m\u001b[0m\n\u001b[0;32m----> 5\u001b[0;31m   \u001b[0;32mreturn\u001b[0m \u001b[0mprint_bump\u001b[0m\u001b[0;34m(\u001b[0m\u001b[0;34m)\u001b[0m\u001b[0;34m\u001b[0m\u001b[0;34m\u001b[0m\u001b[0m\n\u001b[0m",
            "\u001b[0;32m<ipython-input-27-d6a26a4a5a91>\u001b[0m in \u001b[0;36mprint_bump\u001b[0;34m()\u001b[0m\n\u001b[1;32m      3\u001b[0m   \u001b[0mprint\u001b[0m\u001b[0;34m(\u001b[0m\u001b[0;34m'bumped'\u001b[0m\u001b[0;34m)\u001b[0m\u001b[0;34m\u001b[0m\u001b[0;34m\u001b[0m\u001b[0m\n\u001b[1;32m      4\u001b[0m   \u001b[0mtime\u001b[0m\u001b[0;34m.\u001b[0m\u001b[0msleep\u001b[0m\u001b[0;34m(\u001b[0m\u001b[0;36m50\u001b[0m\u001b[0;34m)\u001b[0m\u001b[0;34m\u001b[0m\u001b[0;34m\u001b[0m\u001b[0m\n\u001b[0;32m----> 5\u001b[0;31m   \u001b[0;32mreturn\u001b[0m \u001b[0mprint_bump\u001b[0m\u001b[0;34m(\u001b[0m\u001b[0;34m)\u001b[0m\u001b[0;34m\u001b[0m\u001b[0;34m\u001b[0m\u001b[0m\n\u001b[0m",
            "\u001b[0;32m<ipython-input-27-d6a26a4a5a91>\u001b[0m in \u001b[0;36mprint_bump\u001b[0;34m()\u001b[0m\n\u001b[1;32m      3\u001b[0m   \u001b[0mprint\u001b[0m\u001b[0;34m(\u001b[0m\u001b[0;34m'bumped'\u001b[0m\u001b[0;34m)\u001b[0m\u001b[0;34m\u001b[0m\u001b[0;34m\u001b[0m\u001b[0m\n\u001b[1;32m      4\u001b[0m   \u001b[0mtime\u001b[0m\u001b[0;34m.\u001b[0m\u001b[0msleep\u001b[0m\u001b[0;34m(\u001b[0m\u001b[0;36m50\u001b[0m\u001b[0;34m)\u001b[0m\u001b[0;34m\u001b[0m\u001b[0;34m\u001b[0m\u001b[0m\n\u001b[0;32m----> 5\u001b[0;31m   \u001b[0;32mreturn\u001b[0m \u001b[0mprint_bump\u001b[0m\u001b[0;34m(\u001b[0m\u001b[0;34m)\u001b[0m\u001b[0;34m\u001b[0m\u001b[0;34m\u001b[0m\u001b[0m\n\u001b[0m",
            "\u001b[0;32m<ipython-input-27-d6a26a4a5a91>\u001b[0m in \u001b[0;36mprint_bump\u001b[0;34m()\u001b[0m\n\u001b[1;32m      3\u001b[0m   \u001b[0mprint\u001b[0m\u001b[0;34m(\u001b[0m\u001b[0;34m'bumped'\u001b[0m\u001b[0;34m)\u001b[0m\u001b[0;34m\u001b[0m\u001b[0;34m\u001b[0m\u001b[0m\n\u001b[1;32m      4\u001b[0m   \u001b[0mtime\u001b[0m\u001b[0;34m.\u001b[0m\u001b[0msleep\u001b[0m\u001b[0;34m(\u001b[0m\u001b[0;36m50\u001b[0m\u001b[0;34m)\u001b[0m\u001b[0;34m\u001b[0m\u001b[0;34m\u001b[0m\u001b[0m\n\u001b[0;32m----> 5\u001b[0;31m   \u001b[0;32mreturn\u001b[0m \u001b[0mprint_bump\u001b[0m\u001b[0;34m(\u001b[0m\u001b[0;34m)\u001b[0m\u001b[0;34m\u001b[0m\u001b[0;34m\u001b[0m\u001b[0m\n\u001b[0m",
            "\u001b[0;32m<ipython-input-27-d6a26a4a5a91>\u001b[0m in \u001b[0;36mprint_bump\u001b[0;34m()\u001b[0m\n\u001b[1;32m      3\u001b[0m   \u001b[0mprint\u001b[0m\u001b[0;34m(\u001b[0m\u001b[0;34m'bumped'\u001b[0m\u001b[0;34m)\u001b[0m\u001b[0;34m\u001b[0m\u001b[0;34m\u001b[0m\u001b[0m\n\u001b[1;32m      4\u001b[0m   \u001b[0mtime\u001b[0m\u001b[0;34m.\u001b[0m\u001b[0msleep\u001b[0m\u001b[0;34m(\u001b[0m\u001b[0;36m50\u001b[0m\u001b[0;34m)\u001b[0m\u001b[0;34m\u001b[0m\u001b[0;34m\u001b[0m\u001b[0m\n\u001b[0;32m----> 5\u001b[0;31m   \u001b[0;32mreturn\u001b[0m \u001b[0mprint_bump\u001b[0m\u001b[0;34m(\u001b[0m\u001b[0;34m)\u001b[0m\u001b[0;34m\u001b[0m\u001b[0;34m\u001b[0m\u001b[0m\n\u001b[0m",
            "\u001b[0;32m<ipython-input-27-d6a26a4a5a91>\u001b[0m in \u001b[0;36mprint_bump\u001b[0;34m()\u001b[0m\n\u001b[1;32m      3\u001b[0m   \u001b[0mprint\u001b[0m\u001b[0;34m(\u001b[0m\u001b[0;34m'bumped'\u001b[0m\u001b[0;34m)\u001b[0m\u001b[0;34m\u001b[0m\u001b[0;34m\u001b[0m\u001b[0m\n\u001b[1;32m      4\u001b[0m   \u001b[0mtime\u001b[0m\u001b[0;34m.\u001b[0m\u001b[0msleep\u001b[0m\u001b[0;34m(\u001b[0m\u001b[0;36m50\u001b[0m\u001b[0;34m)\u001b[0m\u001b[0;34m\u001b[0m\u001b[0;34m\u001b[0m\u001b[0m\n\u001b[0;32m----> 5\u001b[0;31m   \u001b[0;32mreturn\u001b[0m \u001b[0mprint_bump\u001b[0m\u001b[0;34m(\u001b[0m\u001b[0;34m)\u001b[0m\u001b[0;34m\u001b[0m\u001b[0;34m\u001b[0m\u001b[0m\n\u001b[0m",
            "\u001b[0;32m<ipython-input-27-d6a26a4a5a91>\u001b[0m in \u001b[0;36mprint_bump\u001b[0;34m()\u001b[0m\n\u001b[1;32m      3\u001b[0m   \u001b[0mprint\u001b[0m\u001b[0;34m(\u001b[0m\u001b[0;34m'bumped'\u001b[0m\u001b[0;34m)\u001b[0m\u001b[0;34m\u001b[0m\u001b[0;34m\u001b[0m\u001b[0m\n\u001b[1;32m      4\u001b[0m   \u001b[0mtime\u001b[0m\u001b[0;34m.\u001b[0m\u001b[0msleep\u001b[0m\u001b[0;34m(\u001b[0m\u001b[0;36m50\u001b[0m\u001b[0;34m)\u001b[0m\u001b[0;34m\u001b[0m\u001b[0;34m\u001b[0m\u001b[0m\n\u001b[0;32m----> 5\u001b[0;31m   \u001b[0;32mreturn\u001b[0m \u001b[0mprint_bump\u001b[0m\u001b[0;34m(\u001b[0m\u001b[0;34m)\u001b[0m\u001b[0;34m\u001b[0m\u001b[0;34m\u001b[0m\u001b[0m\n\u001b[0m",
            "\u001b[0;32m<ipython-input-27-d6a26a4a5a91>\u001b[0m in \u001b[0;36mprint_bump\u001b[0;34m()\u001b[0m\n\u001b[1;32m      3\u001b[0m   \u001b[0mprint\u001b[0m\u001b[0;34m(\u001b[0m\u001b[0;34m'bumped'\u001b[0m\u001b[0;34m)\u001b[0m\u001b[0;34m\u001b[0m\u001b[0;34m\u001b[0m\u001b[0m\n\u001b[1;32m      4\u001b[0m   \u001b[0mtime\u001b[0m\u001b[0;34m.\u001b[0m\u001b[0msleep\u001b[0m\u001b[0;34m(\u001b[0m\u001b[0;36m50\u001b[0m\u001b[0;34m)\u001b[0m\u001b[0;34m\u001b[0m\u001b[0;34m\u001b[0m\u001b[0m\n\u001b[0;32m----> 5\u001b[0;31m   \u001b[0;32mreturn\u001b[0m \u001b[0mprint_bump\u001b[0m\u001b[0;34m(\u001b[0m\u001b[0;34m)\u001b[0m\u001b[0;34m\u001b[0m\u001b[0;34m\u001b[0m\u001b[0m\n\u001b[0m",
            "\u001b[0;32m<ipython-input-27-d6a26a4a5a91>\u001b[0m in \u001b[0;36mprint_bump\u001b[0;34m()\u001b[0m\n\u001b[1;32m      3\u001b[0m   \u001b[0mprint\u001b[0m\u001b[0;34m(\u001b[0m\u001b[0;34m'bumped'\u001b[0m\u001b[0;34m)\u001b[0m\u001b[0;34m\u001b[0m\u001b[0;34m\u001b[0m\u001b[0m\n\u001b[1;32m      4\u001b[0m   \u001b[0mtime\u001b[0m\u001b[0;34m.\u001b[0m\u001b[0msleep\u001b[0m\u001b[0;34m(\u001b[0m\u001b[0;36m50\u001b[0m\u001b[0;34m)\u001b[0m\u001b[0;34m\u001b[0m\u001b[0;34m\u001b[0m\u001b[0m\n\u001b[0;32m----> 5\u001b[0;31m   \u001b[0;32mreturn\u001b[0m \u001b[0mprint_bump\u001b[0m\u001b[0;34m(\u001b[0m\u001b[0;34m)\u001b[0m\u001b[0;34m\u001b[0m\u001b[0;34m\u001b[0m\u001b[0m\n\u001b[0m",
            "\u001b[0;32m<ipython-input-27-d6a26a4a5a91>\u001b[0m in \u001b[0;36mprint_bump\u001b[0;34m()\u001b[0m\n\u001b[1;32m      3\u001b[0m   \u001b[0mprint\u001b[0m\u001b[0;34m(\u001b[0m\u001b[0;34m'bumped'\u001b[0m\u001b[0;34m)\u001b[0m\u001b[0;34m\u001b[0m\u001b[0;34m\u001b[0m\u001b[0m\n\u001b[1;32m      4\u001b[0m   \u001b[0mtime\u001b[0m\u001b[0;34m.\u001b[0m\u001b[0msleep\u001b[0m\u001b[0;34m(\u001b[0m\u001b[0;36m50\u001b[0m\u001b[0;34m)\u001b[0m\u001b[0;34m\u001b[0m\u001b[0;34m\u001b[0m\u001b[0m\n\u001b[0;32m----> 5\u001b[0;31m   \u001b[0;32mreturn\u001b[0m \u001b[0mprint_bump\u001b[0m\u001b[0;34m(\u001b[0m\u001b[0;34m)\u001b[0m\u001b[0;34m\u001b[0m\u001b[0;34m\u001b[0m\u001b[0m\n\u001b[0m",
            "\u001b[0;32m<ipython-input-27-d6a26a4a5a91>\u001b[0m in \u001b[0;36mprint_bump\u001b[0;34m()\u001b[0m\n\u001b[1;32m      3\u001b[0m   \u001b[0mprint\u001b[0m\u001b[0;34m(\u001b[0m\u001b[0;34m'bumped'\u001b[0m\u001b[0;34m)\u001b[0m\u001b[0;34m\u001b[0m\u001b[0;34m\u001b[0m\u001b[0m\n\u001b[1;32m      4\u001b[0m   \u001b[0mtime\u001b[0m\u001b[0;34m.\u001b[0m\u001b[0msleep\u001b[0m\u001b[0;34m(\u001b[0m\u001b[0;36m50\u001b[0m\u001b[0;34m)\u001b[0m\u001b[0;34m\u001b[0m\u001b[0;34m\u001b[0m\u001b[0m\n\u001b[0;32m----> 5\u001b[0;31m   \u001b[0;32mreturn\u001b[0m \u001b[0mprint_bump\u001b[0m\u001b[0;34m(\u001b[0m\u001b[0;34m)\u001b[0m\u001b[0;34m\u001b[0m\u001b[0;34m\u001b[0m\u001b[0m\n\u001b[0m",
            "\u001b[0;32m<ipython-input-27-d6a26a4a5a91>\u001b[0m in \u001b[0;36mprint_bump\u001b[0;34m()\u001b[0m\n\u001b[1;32m      3\u001b[0m   \u001b[0mprint\u001b[0m\u001b[0;34m(\u001b[0m\u001b[0;34m'bumped'\u001b[0m\u001b[0;34m)\u001b[0m\u001b[0;34m\u001b[0m\u001b[0;34m\u001b[0m\u001b[0m\n\u001b[1;32m      4\u001b[0m   \u001b[0mtime\u001b[0m\u001b[0;34m.\u001b[0m\u001b[0msleep\u001b[0m\u001b[0;34m(\u001b[0m\u001b[0;36m50\u001b[0m\u001b[0;34m)\u001b[0m\u001b[0;34m\u001b[0m\u001b[0;34m\u001b[0m\u001b[0m\n\u001b[0;32m----> 5\u001b[0;31m   \u001b[0;32mreturn\u001b[0m \u001b[0mprint_bump\u001b[0m\u001b[0;34m(\u001b[0m\u001b[0;34m)\u001b[0m\u001b[0;34m\u001b[0m\u001b[0;34m\u001b[0m\u001b[0m\n\u001b[0m",
            "\u001b[0;32m<ipython-input-27-d6a26a4a5a91>\u001b[0m in \u001b[0;36mprint_bump\u001b[0;34m()\u001b[0m\n\u001b[1;32m      3\u001b[0m   \u001b[0mprint\u001b[0m\u001b[0;34m(\u001b[0m\u001b[0;34m'bumped'\u001b[0m\u001b[0;34m)\u001b[0m\u001b[0;34m\u001b[0m\u001b[0;34m\u001b[0m\u001b[0m\n\u001b[1;32m      4\u001b[0m   \u001b[0mtime\u001b[0m\u001b[0;34m.\u001b[0m\u001b[0msleep\u001b[0m\u001b[0;34m(\u001b[0m\u001b[0;36m50\u001b[0m\u001b[0;34m)\u001b[0m\u001b[0;34m\u001b[0m\u001b[0;34m\u001b[0m\u001b[0m\n\u001b[0;32m----> 5\u001b[0;31m   \u001b[0;32mreturn\u001b[0m \u001b[0mprint_bump\u001b[0m\u001b[0;34m(\u001b[0m\u001b[0;34m)\u001b[0m\u001b[0;34m\u001b[0m\u001b[0;34m\u001b[0m\u001b[0m\n\u001b[0m",
            "\u001b[0;32m<ipython-input-27-d6a26a4a5a91>\u001b[0m in \u001b[0;36mprint_bump\u001b[0;34m()\u001b[0m\n\u001b[1;32m      3\u001b[0m   \u001b[0mprint\u001b[0m\u001b[0;34m(\u001b[0m\u001b[0;34m'bumped'\u001b[0m\u001b[0;34m)\u001b[0m\u001b[0;34m\u001b[0m\u001b[0;34m\u001b[0m\u001b[0m\n\u001b[1;32m      4\u001b[0m   \u001b[0mtime\u001b[0m\u001b[0;34m.\u001b[0m\u001b[0msleep\u001b[0m\u001b[0;34m(\u001b[0m\u001b[0;36m50\u001b[0m\u001b[0;34m)\u001b[0m\u001b[0;34m\u001b[0m\u001b[0;34m\u001b[0m\u001b[0m\n\u001b[0;32m----> 5\u001b[0;31m   \u001b[0;32mreturn\u001b[0m \u001b[0mprint_bump\u001b[0m\u001b[0;34m(\u001b[0m\u001b[0;34m)\u001b[0m\u001b[0;34m\u001b[0m\u001b[0;34m\u001b[0m\u001b[0m\n\u001b[0m",
            "\u001b[0;32m<ipython-input-27-d6a26a4a5a91>\u001b[0m in \u001b[0;36mprint_bump\u001b[0;34m()\u001b[0m\n\u001b[1;32m      3\u001b[0m   \u001b[0mprint\u001b[0m\u001b[0;34m(\u001b[0m\u001b[0;34m'bumped'\u001b[0m\u001b[0;34m)\u001b[0m\u001b[0;34m\u001b[0m\u001b[0;34m\u001b[0m\u001b[0m\n\u001b[1;32m      4\u001b[0m   \u001b[0mtime\u001b[0m\u001b[0;34m.\u001b[0m\u001b[0msleep\u001b[0m\u001b[0;34m(\u001b[0m\u001b[0;36m50\u001b[0m\u001b[0;34m)\u001b[0m\u001b[0;34m\u001b[0m\u001b[0;34m\u001b[0m\u001b[0m\n\u001b[0;32m----> 5\u001b[0;31m   \u001b[0;32mreturn\u001b[0m \u001b[0mprint_bump\u001b[0m\u001b[0;34m(\u001b[0m\u001b[0;34m)\u001b[0m\u001b[0;34m\u001b[0m\u001b[0;34m\u001b[0m\u001b[0m\n\u001b[0m",
            "\u001b[0;32m<ipython-input-27-d6a26a4a5a91>\u001b[0m in \u001b[0;36mprint_bump\u001b[0;34m()\u001b[0m\n\u001b[1;32m      3\u001b[0m   \u001b[0mprint\u001b[0m\u001b[0;34m(\u001b[0m\u001b[0;34m'bumped'\u001b[0m\u001b[0;34m)\u001b[0m\u001b[0;34m\u001b[0m\u001b[0;34m\u001b[0m\u001b[0m\n\u001b[1;32m      4\u001b[0m   \u001b[0mtime\u001b[0m\u001b[0;34m.\u001b[0m\u001b[0msleep\u001b[0m\u001b[0;34m(\u001b[0m\u001b[0;36m50\u001b[0m\u001b[0;34m)\u001b[0m\u001b[0;34m\u001b[0m\u001b[0;34m\u001b[0m\u001b[0m\n\u001b[0;32m----> 5\u001b[0;31m   \u001b[0;32mreturn\u001b[0m \u001b[0mprint_bump\u001b[0m\u001b[0;34m(\u001b[0m\u001b[0;34m)\u001b[0m\u001b[0;34m\u001b[0m\u001b[0;34m\u001b[0m\u001b[0m\n\u001b[0m",
            "\u001b[0;32m<ipython-input-27-d6a26a4a5a91>\u001b[0m in \u001b[0;36mprint_bump\u001b[0;34m()\u001b[0m\n\u001b[1;32m      3\u001b[0m   \u001b[0mprint\u001b[0m\u001b[0;34m(\u001b[0m\u001b[0;34m'bumped'\u001b[0m\u001b[0;34m)\u001b[0m\u001b[0;34m\u001b[0m\u001b[0;34m\u001b[0m\u001b[0m\n\u001b[1;32m      4\u001b[0m   \u001b[0mtime\u001b[0m\u001b[0;34m.\u001b[0m\u001b[0msleep\u001b[0m\u001b[0;34m(\u001b[0m\u001b[0;36m50\u001b[0m\u001b[0;34m)\u001b[0m\u001b[0;34m\u001b[0m\u001b[0;34m\u001b[0m\u001b[0m\n\u001b[0;32m----> 5\u001b[0;31m   \u001b[0;32mreturn\u001b[0m \u001b[0mprint_bump\u001b[0m\u001b[0;34m(\u001b[0m\u001b[0;34m)\u001b[0m\u001b[0;34m\u001b[0m\u001b[0;34m\u001b[0m\u001b[0m\n\u001b[0m",
            "\u001b[0;32m<ipython-input-27-d6a26a4a5a91>\u001b[0m in \u001b[0;36mprint_bump\u001b[0;34m()\u001b[0m\n\u001b[1;32m      3\u001b[0m   \u001b[0mprint\u001b[0m\u001b[0;34m(\u001b[0m\u001b[0;34m'bumped'\u001b[0m\u001b[0;34m)\u001b[0m\u001b[0;34m\u001b[0m\u001b[0;34m\u001b[0m\u001b[0m\n\u001b[1;32m      4\u001b[0m   \u001b[0mtime\u001b[0m\u001b[0;34m.\u001b[0m\u001b[0msleep\u001b[0m\u001b[0;34m(\u001b[0m\u001b[0;36m50\u001b[0m\u001b[0;34m)\u001b[0m\u001b[0;34m\u001b[0m\u001b[0;34m\u001b[0m\u001b[0m\n\u001b[0;32m----> 5\u001b[0;31m   \u001b[0;32mreturn\u001b[0m \u001b[0mprint_bump\u001b[0m\u001b[0;34m(\u001b[0m\u001b[0;34m)\u001b[0m\u001b[0;34m\u001b[0m\u001b[0;34m\u001b[0m\u001b[0m\n\u001b[0m",
            "\u001b[0;32m<ipython-input-27-d6a26a4a5a91>\u001b[0m in \u001b[0;36mprint_bump\u001b[0;34m()\u001b[0m\n\u001b[1;32m      3\u001b[0m   \u001b[0mprint\u001b[0m\u001b[0;34m(\u001b[0m\u001b[0;34m'bumped'\u001b[0m\u001b[0;34m)\u001b[0m\u001b[0;34m\u001b[0m\u001b[0;34m\u001b[0m\u001b[0m\n\u001b[1;32m      4\u001b[0m   \u001b[0mtime\u001b[0m\u001b[0;34m.\u001b[0m\u001b[0msleep\u001b[0m\u001b[0;34m(\u001b[0m\u001b[0;36m50\u001b[0m\u001b[0;34m)\u001b[0m\u001b[0;34m\u001b[0m\u001b[0;34m\u001b[0m\u001b[0m\n\u001b[0;32m----> 5\u001b[0;31m   \u001b[0;32mreturn\u001b[0m \u001b[0mprint_bump\u001b[0m\u001b[0;34m(\u001b[0m\u001b[0;34m)\u001b[0m\u001b[0;34m\u001b[0m\u001b[0;34m\u001b[0m\u001b[0m\n\u001b[0m",
            "\u001b[0;32m<ipython-input-27-d6a26a4a5a91>\u001b[0m in \u001b[0;36mprint_bump\u001b[0;34m()\u001b[0m\n\u001b[1;32m      3\u001b[0m   \u001b[0mprint\u001b[0m\u001b[0;34m(\u001b[0m\u001b[0;34m'bumped'\u001b[0m\u001b[0;34m)\u001b[0m\u001b[0;34m\u001b[0m\u001b[0;34m\u001b[0m\u001b[0m\n\u001b[1;32m      4\u001b[0m   \u001b[0mtime\u001b[0m\u001b[0;34m.\u001b[0m\u001b[0msleep\u001b[0m\u001b[0;34m(\u001b[0m\u001b[0;36m50\u001b[0m\u001b[0;34m)\u001b[0m\u001b[0;34m\u001b[0m\u001b[0;34m\u001b[0m\u001b[0m\n\u001b[0;32m----> 5\u001b[0;31m   \u001b[0;32mreturn\u001b[0m \u001b[0mprint_bump\u001b[0m\u001b[0;34m(\u001b[0m\u001b[0;34m)\u001b[0m\u001b[0;34m\u001b[0m\u001b[0;34m\u001b[0m\u001b[0m\n\u001b[0m",
            "\u001b[0;32m<ipython-input-27-d6a26a4a5a91>\u001b[0m in \u001b[0;36mprint_bump\u001b[0;34m()\u001b[0m\n\u001b[1;32m      3\u001b[0m   \u001b[0mprint\u001b[0m\u001b[0;34m(\u001b[0m\u001b[0;34m'bumped'\u001b[0m\u001b[0;34m)\u001b[0m\u001b[0;34m\u001b[0m\u001b[0;34m\u001b[0m\u001b[0m\n\u001b[1;32m      4\u001b[0m   \u001b[0mtime\u001b[0m\u001b[0;34m.\u001b[0m\u001b[0msleep\u001b[0m\u001b[0;34m(\u001b[0m\u001b[0;36m50\u001b[0m\u001b[0;34m)\u001b[0m\u001b[0;34m\u001b[0m\u001b[0;34m\u001b[0m\u001b[0m\n\u001b[0;32m----> 5\u001b[0;31m   \u001b[0;32mreturn\u001b[0m \u001b[0mprint_bump\u001b[0m\u001b[0;34m(\u001b[0m\u001b[0;34m)\u001b[0m\u001b[0;34m\u001b[0m\u001b[0;34m\u001b[0m\u001b[0m\n\u001b[0m",
            "\u001b[0;32m<ipython-input-27-d6a26a4a5a91>\u001b[0m in \u001b[0;36mprint_bump\u001b[0;34m()\u001b[0m\n\u001b[1;32m      3\u001b[0m   \u001b[0mprint\u001b[0m\u001b[0;34m(\u001b[0m\u001b[0;34m'bumped'\u001b[0m\u001b[0;34m)\u001b[0m\u001b[0;34m\u001b[0m\u001b[0;34m\u001b[0m\u001b[0m\n\u001b[1;32m      4\u001b[0m   \u001b[0mtime\u001b[0m\u001b[0;34m.\u001b[0m\u001b[0msleep\u001b[0m\u001b[0;34m(\u001b[0m\u001b[0;36m50\u001b[0m\u001b[0;34m)\u001b[0m\u001b[0;34m\u001b[0m\u001b[0;34m\u001b[0m\u001b[0m\n\u001b[0;32m----> 5\u001b[0;31m   \u001b[0;32mreturn\u001b[0m \u001b[0mprint_bump\u001b[0m\u001b[0;34m(\u001b[0m\u001b[0;34m)\u001b[0m\u001b[0;34m\u001b[0m\u001b[0;34m\u001b[0m\u001b[0m\n\u001b[0m",
            "\u001b[0;32m<ipython-input-27-d6a26a4a5a91>\u001b[0m in \u001b[0;36mprint_bump\u001b[0;34m()\u001b[0m\n\u001b[1;32m      3\u001b[0m   \u001b[0mprint\u001b[0m\u001b[0;34m(\u001b[0m\u001b[0;34m'bumped'\u001b[0m\u001b[0;34m)\u001b[0m\u001b[0;34m\u001b[0m\u001b[0;34m\u001b[0m\u001b[0m\n\u001b[1;32m      4\u001b[0m   \u001b[0mtime\u001b[0m\u001b[0;34m.\u001b[0m\u001b[0msleep\u001b[0m\u001b[0;34m(\u001b[0m\u001b[0;36m50\u001b[0m\u001b[0;34m)\u001b[0m\u001b[0;34m\u001b[0m\u001b[0;34m\u001b[0m\u001b[0m\n\u001b[0;32m----> 5\u001b[0;31m   \u001b[0;32mreturn\u001b[0m \u001b[0mprint_bump\u001b[0m\u001b[0;34m(\u001b[0m\u001b[0;34m)\u001b[0m\u001b[0;34m\u001b[0m\u001b[0;34m\u001b[0m\u001b[0m\n\u001b[0m",
            "\u001b[0;32m<ipython-input-27-d6a26a4a5a91>\u001b[0m in \u001b[0;36mprint_bump\u001b[0;34m()\u001b[0m\n\u001b[1;32m      3\u001b[0m   \u001b[0mprint\u001b[0m\u001b[0;34m(\u001b[0m\u001b[0;34m'bumped'\u001b[0m\u001b[0;34m)\u001b[0m\u001b[0;34m\u001b[0m\u001b[0;34m\u001b[0m\u001b[0m\n\u001b[1;32m      4\u001b[0m   \u001b[0mtime\u001b[0m\u001b[0;34m.\u001b[0m\u001b[0msleep\u001b[0m\u001b[0;34m(\u001b[0m\u001b[0;36m50\u001b[0m\u001b[0;34m)\u001b[0m\u001b[0;34m\u001b[0m\u001b[0;34m\u001b[0m\u001b[0m\n\u001b[0;32m----> 5\u001b[0;31m   \u001b[0;32mreturn\u001b[0m \u001b[0mprint_bump\u001b[0m\u001b[0;34m(\u001b[0m\u001b[0;34m)\u001b[0m\u001b[0;34m\u001b[0m\u001b[0;34m\u001b[0m\u001b[0m\n\u001b[0m",
            "\u001b[0;32m<ipython-input-27-d6a26a4a5a91>\u001b[0m in \u001b[0;36mprint_bump\u001b[0;34m()\u001b[0m\n\u001b[1;32m      3\u001b[0m   \u001b[0mprint\u001b[0m\u001b[0;34m(\u001b[0m\u001b[0;34m'bumped'\u001b[0m\u001b[0;34m)\u001b[0m\u001b[0;34m\u001b[0m\u001b[0;34m\u001b[0m\u001b[0m\n\u001b[1;32m      4\u001b[0m   \u001b[0mtime\u001b[0m\u001b[0;34m.\u001b[0m\u001b[0msleep\u001b[0m\u001b[0;34m(\u001b[0m\u001b[0;36m50\u001b[0m\u001b[0;34m)\u001b[0m\u001b[0;34m\u001b[0m\u001b[0;34m\u001b[0m\u001b[0m\n\u001b[0;32m----> 5\u001b[0;31m   \u001b[0;32mreturn\u001b[0m \u001b[0mprint_bump\u001b[0m\u001b[0;34m(\u001b[0m\u001b[0;34m)\u001b[0m\u001b[0;34m\u001b[0m\u001b[0;34m\u001b[0m\u001b[0m\n\u001b[0m",
            "\u001b[0;32m<ipython-input-27-d6a26a4a5a91>\u001b[0m in \u001b[0;36mprint_bump\u001b[0;34m()\u001b[0m\n\u001b[1;32m      3\u001b[0m   \u001b[0mprint\u001b[0m\u001b[0;34m(\u001b[0m\u001b[0;34m'bumped'\u001b[0m\u001b[0;34m)\u001b[0m\u001b[0;34m\u001b[0m\u001b[0;34m\u001b[0m\u001b[0m\n\u001b[1;32m      4\u001b[0m   \u001b[0mtime\u001b[0m\u001b[0;34m.\u001b[0m\u001b[0msleep\u001b[0m\u001b[0;34m(\u001b[0m\u001b[0;36m50\u001b[0m\u001b[0;34m)\u001b[0m\u001b[0;34m\u001b[0m\u001b[0;34m\u001b[0m\u001b[0m\n\u001b[0;32m----> 5\u001b[0;31m   \u001b[0;32mreturn\u001b[0m \u001b[0mprint_bump\u001b[0m\u001b[0;34m(\u001b[0m\u001b[0;34m)\u001b[0m\u001b[0;34m\u001b[0m\u001b[0;34m\u001b[0m\u001b[0m\n\u001b[0m",
            "\u001b[0;32m<ipython-input-27-d6a26a4a5a91>\u001b[0m in \u001b[0;36mprint_bump\u001b[0;34m()\u001b[0m\n\u001b[1;32m      3\u001b[0m   \u001b[0mprint\u001b[0m\u001b[0;34m(\u001b[0m\u001b[0;34m'bumped'\u001b[0m\u001b[0;34m)\u001b[0m\u001b[0;34m\u001b[0m\u001b[0;34m\u001b[0m\u001b[0m\n\u001b[1;32m      4\u001b[0m   \u001b[0mtime\u001b[0m\u001b[0;34m.\u001b[0m\u001b[0msleep\u001b[0m\u001b[0;34m(\u001b[0m\u001b[0;36m50\u001b[0m\u001b[0;34m)\u001b[0m\u001b[0;34m\u001b[0m\u001b[0;34m\u001b[0m\u001b[0m\n\u001b[0;32m----> 5\u001b[0;31m   \u001b[0;32mreturn\u001b[0m \u001b[0mprint_bump\u001b[0m\u001b[0;34m(\u001b[0m\u001b[0;34m)\u001b[0m\u001b[0;34m\u001b[0m\u001b[0;34m\u001b[0m\u001b[0m\n\u001b[0m",
            "\u001b[0;32m<ipython-input-27-d6a26a4a5a91>\u001b[0m in \u001b[0;36mprint_bump\u001b[0;34m()\u001b[0m\n\u001b[1;32m      3\u001b[0m   \u001b[0mprint\u001b[0m\u001b[0;34m(\u001b[0m\u001b[0;34m'bumped'\u001b[0m\u001b[0;34m)\u001b[0m\u001b[0;34m\u001b[0m\u001b[0;34m\u001b[0m\u001b[0m\n\u001b[1;32m      4\u001b[0m   \u001b[0mtime\u001b[0m\u001b[0;34m.\u001b[0m\u001b[0msleep\u001b[0m\u001b[0;34m(\u001b[0m\u001b[0;36m50\u001b[0m\u001b[0;34m)\u001b[0m\u001b[0;34m\u001b[0m\u001b[0;34m\u001b[0m\u001b[0m\n\u001b[0;32m----> 5\u001b[0;31m   \u001b[0;32mreturn\u001b[0m \u001b[0mprint_bump\u001b[0m\u001b[0;34m(\u001b[0m\u001b[0;34m)\u001b[0m\u001b[0;34m\u001b[0m\u001b[0;34m\u001b[0m\u001b[0m\n\u001b[0m",
            "\u001b[0;32m<ipython-input-27-d6a26a4a5a91>\u001b[0m in \u001b[0;36mprint_bump\u001b[0;34m()\u001b[0m\n\u001b[1;32m      3\u001b[0m   \u001b[0mprint\u001b[0m\u001b[0;34m(\u001b[0m\u001b[0;34m'bumped'\u001b[0m\u001b[0;34m)\u001b[0m\u001b[0;34m\u001b[0m\u001b[0;34m\u001b[0m\u001b[0m\n\u001b[1;32m      4\u001b[0m   \u001b[0mtime\u001b[0m\u001b[0;34m.\u001b[0m\u001b[0msleep\u001b[0m\u001b[0;34m(\u001b[0m\u001b[0;36m50\u001b[0m\u001b[0;34m)\u001b[0m\u001b[0;34m\u001b[0m\u001b[0;34m\u001b[0m\u001b[0m\n\u001b[0;32m----> 5\u001b[0;31m   \u001b[0;32mreturn\u001b[0m \u001b[0mprint_bump\u001b[0m\u001b[0;34m(\u001b[0m\u001b[0;34m)\u001b[0m\u001b[0;34m\u001b[0m\u001b[0;34m\u001b[0m\u001b[0m\n\u001b[0m",
            "\u001b[0;32m<ipython-input-27-d6a26a4a5a91>\u001b[0m in \u001b[0;36mprint_bump\u001b[0;34m()\u001b[0m\n\u001b[1;32m      3\u001b[0m   \u001b[0mprint\u001b[0m\u001b[0;34m(\u001b[0m\u001b[0;34m'bumped'\u001b[0m\u001b[0;34m)\u001b[0m\u001b[0;34m\u001b[0m\u001b[0;34m\u001b[0m\u001b[0m\n\u001b[1;32m      4\u001b[0m   \u001b[0mtime\u001b[0m\u001b[0;34m.\u001b[0m\u001b[0msleep\u001b[0m\u001b[0;34m(\u001b[0m\u001b[0;36m50\u001b[0m\u001b[0;34m)\u001b[0m\u001b[0;34m\u001b[0m\u001b[0;34m\u001b[0m\u001b[0m\n\u001b[0;32m----> 5\u001b[0;31m   \u001b[0;32mreturn\u001b[0m \u001b[0mprint_bump\u001b[0m\u001b[0;34m(\u001b[0m\u001b[0;34m)\u001b[0m\u001b[0;34m\u001b[0m\u001b[0;34m\u001b[0m\u001b[0m\n\u001b[0m",
            "\u001b[0;32m<ipython-input-27-d6a26a4a5a91>\u001b[0m in \u001b[0;36mprint_bump\u001b[0;34m()\u001b[0m\n\u001b[1;32m      3\u001b[0m   \u001b[0mprint\u001b[0m\u001b[0;34m(\u001b[0m\u001b[0;34m'bumped'\u001b[0m\u001b[0;34m)\u001b[0m\u001b[0;34m\u001b[0m\u001b[0;34m\u001b[0m\u001b[0m\n\u001b[1;32m      4\u001b[0m   \u001b[0mtime\u001b[0m\u001b[0;34m.\u001b[0m\u001b[0msleep\u001b[0m\u001b[0;34m(\u001b[0m\u001b[0;36m50\u001b[0m\u001b[0;34m)\u001b[0m\u001b[0;34m\u001b[0m\u001b[0;34m\u001b[0m\u001b[0m\n\u001b[0;32m----> 5\u001b[0;31m   \u001b[0;32mreturn\u001b[0m \u001b[0mprint_bump\u001b[0m\u001b[0;34m(\u001b[0m\u001b[0;34m)\u001b[0m\u001b[0;34m\u001b[0m\u001b[0;34m\u001b[0m\u001b[0m\n\u001b[0m",
            "\u001b[0;32m<ipython-input-27-d6a26a4a5a91>\u001b[0m in \u001b[0;36mprint_bump\u001b[0;34m()\u001b[0m\n\u001b[1;32m      3\u001b[0m   \u001b[0mprint\u001b[0m\u001b[0;34m(\u001b[0m\u001b[0;34m'bumped'\u001b[0m\u001b[0;34m)\u001b[0m\u001b[0;34m\u001b[0m\u001b[0;34m\u001b[0m\u001b[0m\n\u001b[1;32m      4\u001b[0m   \u001b[0mtime\u001b[0m\u001b[0;34m.\u001b[0m\u001b[0msleep\u001b[0m\u001b[0;34m(\u001b[0m\u001b[0;36m50\u001b[0m\u001b[0;34m)\u001b[0m\u001b[0;34m\u001b[0m\u001b[0;34m\u001b[0m\u001b[0m\n\u001b[0;32m----> 5\u001b[0;31m   \u001b[0;32mreturn\u001b[0m \u001b[0mprint_bump\u001b[0m\u001b[0;34m(\u001b[0m\u001b[0;34m)\u001b[0m\u001b[0;34m\u001b[0m\u001b[0;34m\u001b[0m\u001b[0m\n\u001b[0m",
            "\u001b[0;32m<ipython-input-27-d6a26a4a5a91>\u001b[0m in \u001b[0;36mprint_bump\u001b[0;34m()\u001b[0m\n\u001b[1;32m      3\u001b[0m   \u001b[0mprint\u001b[0m\u001b[0;34m(\u001b[0m\u001b[0;34m'bumped'\u001b[0m\u001b[0;34m)\u001b[0m\u001b[0;34m\u001b[0m\u001b[0;34m\u001b[0m\u001b[0m\n\u001b[1;32m      4\u001b[0m   \u001b[0mtime\u001b[0m\u001b[0;34m.\u001b[0m\u001b[0msleep\u001b[0m\u001b[0;34m(\u001b[0m\u001b[0;36m50\u001b[0m\u001b[0;34m)\u001b[0m\u001b[0;34m\u001b[0m\u001b[0;34m\u001b[0m\u001b[0m\n\u001b[0;32m----> 5\u001b[0;31m   \u001b[0;32mreturn\u001b[0m \u001b[0mprint_bump\u001b[0m\u001b[0;34m(\u001b[0m\u001b[0;34m)\u001b[0m\u001b[0;34m\u001b[0m\u001b[0;34m\u001b[0m\u001b[0m\n\u001b[0m",
            "\u001b[0;32m<ipython-input-27-d6a26a4a5a91>\u001b[0m in \u001b[0;36mprint_bump\u001b[0;34m()\u001b[0m\n\u001b[1;32m      3\u001b[0m   \u001b[0mprint\u001b[0m\u001b[0;34m(\u001b[0m\u001b[0;34m'bumped'\u001b[0m\u001b[0;34m)\u001b[0m\u001b[0;34m\u001b[0m\u001b[0;34m\u001b[0m\u001b[0m\n\u001b[1;32m      4\u001b[0m   \u001b[0mtime\u001b[0m\u001b[0;34m.\u001b[0m\u001b[0msleep\u001b[0m\u001b[0;34m(\u001b[0m\u001b[0;36m50\u001b[0m\u001b[0;34m)\u001b[0m\u001b[0;34m\u001b[0m\u001b[0;34m\u001b[0m\u001b[0m\n\u001b[0;32m----> 5\u001b[0;31m   \u001b[0;32mreturn\u001b[0m \u001b[0mprint_bump\u001b[0m\u001b[0;34m(\u001b[0m\u001b[0;34m)\u001b[0m\u001b[0;34m\u001b[0m\u001b[0;34m\u001b[0m\u001b[0m\n\u001b[0m",
            "\u001b[0;32m<ipython-input-27-d6a26a4a5a91>\u001b[0m in \u001b[0;36mprint_bump\u001b[0;34m()\u001b[0m\n\u001b[1;32m      3\u001b[0m   \u001b[0mprint\u001b[0m\u001b[0;34m(\u001b[0m\u001b[0;34m'bumped'\u001b[0m\u001b[0;34m)\u001b[0m\u001b[0;34m\u001b[0m\u001b[0;34m\u001b[0m\u001b[0m\n\u001b[1;32m      4\u001b[0m   \u001b[0mtime\u001b[0m\u001b[0;34m.\u001b[0m\u001b[0msleep\u001b[0m\u001b[0;34m(\u001b[0m\u001b[0;36m50\u001b[0m\u001b[0;34m)\u001b[0m\u001b[0;34m\u001b[0m\u001b[0;34m\u001b[0m\u001b[0m\n\u001b[0;32m----> 5\u001b[0;31m   \u001b[0;32mreturn\u001b[0m \u001b[0mprint_bump\u001b[0m\u001b[0;34m(\u001b[0m\u001b[0;34m)\u001b[0m\u001b[0;34m\u001b[0m\u001b[0;34m\u001b[0m\u001b[0m\n\u001b[0m",
            "\u001b[0;32m<ipython-input-27-d6a26a4a5a91>\u001b[0m in \u001b[0;36mprint_bump\u001b[0;34m()\u001b[0m\n\u001b[1;32m      3\u001b[0m   \u001b[0mprint\u001b[0m\u001b[0;34m(\u001b[0m\u001b[0;34m'bumped'\u001b[0m\u001b[0;34m)\u001b[0m\u001b[0;34m\u001b[0m\u001b[0;34m\u001b[0m\u001b[0m\n\u001b[1;32m      4\u001b[0m   \u001b[0mtime\u001b[0m\u001b[0;34m.\u001b[0m\u001b[0msleep\u001b[0m\u001b[0;34m(\u001b[0m\u001b[0;36m50\u001b[0m\u001b[0;34m)\u001b[0m\u001b[0;34m\u001b[0m\u001b[0;34m\u001b[0m\u001b[0m\n\u001b[0;32m----> 5\u001b[0;31m   \u001b[0;32mreturn\u001b[0m \u001b[0mprint_bump\u001b[0m\u001b[0;34m(\u001b[0m\u001b[0;34m)\u001b[0m\u001b[0;34m\u001b[0m\u001b[0;34m\u001b[0m\u001b[0m\n\u001b[0m",
            "\u001b[0;32m<ipython-input-27-d6a26a4a5a91>\u001b[0m in \u001b[0;36mprint_bump\u001b[0;34m()\u001b[0m\n\u001b[1;32m      3\u001b[0m   \u001b[0mprint\u001b[0m\u001b[0;34m(\u001b[0m\u001b[0;34m'bumped'\u001b[0m\u001b[0;34m)\u001b[0m\u001b[0;34m\u001b[0m\u001b[0;34m\u001b[0m\u001b[0m\n\u001b[1;32m      4\u001b[0m   \u001b[0mtime\u001b[0m\u001b[0;34m.\u001b[0m\u001b[0msleep\u001b[0m\u001b[0;34m(\u001b[0m\u001b[0;36m50\u001b[0m\u001b[0;34m)\u001b[0m\u001b[0;34m\u001b[0m\u001b[0;34m\u001b[0m\u001b[0m\n\u001b[0;32m----> 5\u001b[0;31m   \u001b[0;32mreturn\u001b[0m \u001b[0mprint_bump\u001b[0m\u001b[0;34m(\u001b[0m\u001b[0;34m)\u001b[0m\u001b[0;34m\u001b[0m\u001b[0;34m\u001b[0m\u001b[0m\n\u001b[0m",
            "\u001b[0;32m<ipython-input-27-d6a26a4a5a91>\u001b[0m in \u001b[0;36mprint_bump\u001b[0;34m()\u001b[0m\n\u001b[1;32m      3\u001b[0m   \u001b[0mprint\u001b[0m\u001b[0;34m(\u001b[0m\u001b[0;34m'bumped'\u001b[0m\u001b[0;34m)\u001b[0m\u001b[0;34m\u001b[0m\u001b[0;34m\u001b[0m\u001b[0m\n\u001b[1;32m      4\u001b[0m   \u001b[0mtime\u001b[0m\u001b[0;34m.\u001b[0m\u001b[0msleep\u001b[0m\u001b[0;34m(\u001b[0m\u001b[0;36m50\u001b[0m\u001b[0;34m)\u001b[0m\u001b[0;34m\u001b[0m\u001b[0;34m\u001b[0m\u001b[0m\n\u001b[0;32m----> 5\u001b[0;31m   \u001b[0;32mreturn\u001b[0m \u001b[0mprint_bump\u001b[0m\u001b[0;34m(\u001b[0m\u001b[0;34m)\u001b[0m\u001b[0;34m\u001b[0m\u001b[0;34m\u001b[0m\u001b[0m\n\u001b[0m",
            "\u001b[0;32m<ipython-input-27-d6a26a4a5a91>\u001b[0m in \u001b[0;36mprint_bump\u001b[0;34m()\u001b[0m\n\u001b[1;32m      3\u001b[0m   \u001b[0mprint\u001b[0m\u001b[0;34m(\u001b[0m\u001b[0;34m'bumped'\u001b[0m\u001b[0;34m)\u001b[0m\u001b[0;34m\u001b[0m\u001b[0;34m\u001b[0m\u001b[0m\n\u001b[1;32m      4\u001b[0m   \u001b[0mtime\u001b[0m\u001b[0;34m.\u001b[0m\u001b[0msleep\u001b[0m\u001b[0;34m(\u001b[0m\u001b[0;36m50\u001b[0m\u001b[0;34m)\u001b[0m\u001b[0;34m\u001b[0m\u001b[0;34m\u001b[0m\u001b[0m\n\u001b[0;32m----> 5\u001b[0;31m   \u001b[0;32mreturn\u001b[0m \u001b[0mprint_bump\u001b[0m\u001b[0;34m(\u001b[0m\u001b[0;34m)\u001b[0m\u001b[0;34m\u001b[0m\u001b[0;34m\u001b[0m\u001b[0m\n\u001b[0m",
            "\u001b[0;32m<ipython-input-27-d6a26a4a5a91>\u001b[0m in \u001b[0;36mprint_bump\u001b[0;34m()\u001b[0m\n\u001b[1;32m      2\u001b[0m \u001b[0;32mdef\u001b[0m \u001b[0mprint_bump\u001b[0m\u001b[0;34m(\u001b[0m\u001b[0;34m)\u001b[0m\u001b[0;34m:\u001b[0m\u001b[0;34m\u001b[0m\u001b[0;34m\u001b[0m\u001b[0m\n\u001b[1;32m      3\u001b[0m   \u001b[0mprint\u001b[0m\u001b[0;34m(\u001b[0m\u001b[0;34m'bumped'\u001b[0m\u001b[0;34m)\u001b[0m\u001b[0;34m\u001b[0m\u001b[0;34m\u001b[0m\u001b[0m\n\u001b[0;32m----> 4\u001b[0;31m   \u001b[0mtime\u001b[0m\u001b[0;34m.\u001b[0m\u001b[0msleep\u001b[0m\u001b[0;34m(\u001b[0m\u001b[0;36m50\u001b[0m\u001b[0;34m)\u001b[0m\u001b[0;34m\u001b[0m\u001b[0;34m\u001b[0m\u001b[0m\n\u001b[0m\u001b[1;32m      5\u001b[0m   \u001b[0;32mreturn\u001b[0m \u001b[0mprint_bump\u001b[0m\u001b[0;34m(\u001b[0m\u001b[0;34m)\u001b[0m\u001b[0;34m\u001b[0m\u001b[0;34m\u001b[0m\u001b[0m\n",
            "\u001b[0;31mKeyboardInterrupt\u001b[0m: "
          ]
        }
      ]
    },
    {
      "cell_type": "markdown",
      "metadata": {
        "id": "-a35TTykD5y4"
      },
      "source": [
        "Using Kaggle data on your own machine"
      ]
    },
    {
      "cell_type": "code",
      "execution_count": null,
      "metadata": {
        "id": "yOtSfiuUD5y6"
      },
      "outputs": [],
      "source": [
        "creds = ''\n",
        "\n",
        "#for working with paths in Python, It is recommended using pathlib.path\n",
        "\n",
        "from pathlib import Path  \n",
        "\n",
        "\n",
        "cred_path = Path('~/.kaggle/kaggle.json').expanduser()   #saved in kaggle.json\n",
        "\n",
        "\n",
        "path = Path('us-patent-phrase-to-phrase-matching')  #creating a path alias for the path supplied\n",
        "\n",
        "\n",
        "#use the kaggle api to download the data\n",
        "\n",
        "if not iskaggle and not path.exists():\n",
        "    import zipfile, kaggle\n",
        "    kaggle.api.competition_download_cli(str(path))  #same kaggle cli operation in python\n",
        "    zipfile.ZipFile(f'{path}.zip').extractall(path)  #command to unzip and extract the dataset to the path\n",
        "    "
      ]
    },
    {
      "cell_type": "code",
      "execution_count": null,
      "metadata": {
        "id": "aHJkX92bD5y7"
      },
      "outputs": [],
      "source": [
        "if iskaggle:\n",
        "    path = ('../FastAI_self/us-patent-phrase-to-phrase-matching')  #re-mention the path to the path alias\n",
        "    !pip install -q datasets"
      ]
    },
    {
      "cell_type": "code",
      "execution_count": null,
      "metadata": {
        "id": "xloowO-bD5y7",
        "outputId": "7ccc8e1d-778a-4826-d42b-bbf714436d9e"
      },
      "outputs": [
        {
          "name": "stdout",
          "output_type": "stream",
          "text": [
            "sample_submission.csv  test.csv  train.csv\n"
          ]
        }
      ],
      "source": [
        "!ls {path}"
      ]
    },
    {
      "cell_type": "code",
      "execution_count": null,
      "metadata": {
        "id": "pDoOQRDND5y7",
        "outputId": "8f58c5f5-e33e-4a2c-9695-4ab0afc9558f"
      },
      "outputs": [
        {
          "data": {
            "text/plain": [
              "PosixPath('us-patent-phrase-to-phrase-matching')"
            ]
          },
          "execution_count": 6,
          "metadata": {},
          "output_type": "execute_result"
        }
      ],
      "source": [
        "path"
      ]
    },
    {
      "cell_type": "code",
      "execution_count": 1,
      "metadata": {
        "colab": {
          "base_uri": "https://localhost:8080/",
          "height": 206
        },
        "id": "Fg2TGRIoD5y8",
        "outputId": "e5c483eb-bea5-4a20-9caa-76ead10312de"
      },
      "outputs": [
        {
          "output_type": "execute_result",
          "data": {
            "text/plain": [
              "                 id     anchor                  target context  score\n",
              "0  37d61fd2272659b1  abatement  abatement of pollution     A47   0.50\n",
              "1  7b9652b17b68b7a4  abatement          act of abating     A47   0.75\n",
              "2  36d72442aefd8232  abatement         active catalyst     A47   0.25\n",
              "3  5296b0c19e1ce60e  abatement     eliminating process     A47   0.50\n",
              "4  54c1e3b9184cb5b6  abatement           forest region     A47   0.00"
            ],
            "text/html": [
              "\n",
              "  <div id=\"df-b01d3d8b-f261-479c-a0bb-572fe98e69d0\">\n",
              "    <div class=\"colab-df-container\">\n",
              "      <div>\n",
              "<style scoped>\n",
              "    .dataframe tbody tr th:only-of-type {\n",
              "        vertical-align: middle;\n",
              "    }\n",
              "\n",
              "    .dataframe tbody tr th {\n",
              "        vertical-align: top;\n",
              "    }\n",
              "\n",
              "    .dataframe thead th {\n",
              "        text-align: right;\n",
              "    }\n",
              "</style>\n",
              "<table border=\"1\" class=\"dataframe\">\n",
              "  <thead>\n",
              "    <tr style=\"text-align: right;\">\n",
              "      <th></th>\n",
              "      <th>id</th>\n",
              "      <th>anchor</th>\n",
              "      <th>target</th>\n",
              "      <th>context</th>\n",
              "      <th>score</th>\n",
              "    </tr>\n",
              "  </thead>\n",
              "  <tbody>\n",
              "    <tr>\n",
              "      <th>0</th>\n",
              "      <td>37d61fd2272659b1</td>\n",
              "      <td>abatement</td>\n",
              "      <td>abatement of pollution</td>\n",
              "      <td>A47</td>\n",
              "      <td>0.50</td>\n",
              "    </tr>\n",
              "    <tr>\n",
              "      <th>1</th>\n",
              "      <td>7b9652b17b68b7a4</td>\n",
              "      <td>abatement</td>\n",
              "      <td>act of abating</td>\n",
              "      <td>A47</td>\n",
              "      <td>0.75</td>\n",
              "    </tr>\n",
              "    <tr>\n",
              "      <th>2</th>\n",
              "      <td>36d72442aefd8232</td>\n",
              "      <td>abatement</td>\n",
              "      <td>active catalyst</td>\n",
              "      <td>A47</td>\n",
              "      <td>0.25</td>\n",
              "    </tr>\n",
              "    <tr>\n",
              "      <th>3</th>\n",
              "      <td>5296b0c19e1ce60e</td>\n",
              "      <td>abatement</td>\n",
              "      <td>eliminating process</td>\n",
              "      <td>A47</td>\n",
              "      <td>0.50</td>\n",
              "    </tr>\n",
              "    <tr>\n",
              "      <th>4</th>\n",
              "      <td>54c1e3b9184cb5b6</td>\n",
              "      <td>abatement</td>\n",
              "      <td>forest region</td>\n",
              "      <td>A47</td>\n",
              "      <td>0.00</td>\n",
              "    </tr>\n",
              "  </tbody>\n",
              "</table>\n",
              "</div>\n",
              "      <button class=\"colab-df-convert\" onclick=\"convertToInteractive('df-b01d3d8b-f261-479c-a0bb-572fe98e69d0')\"\n",
              "              title=\"Convert this dataframe to an interactive table.\"\n",
              "              style=\"display:none;\">\n",
              "        \n",
              "  <svg xmlns=\"http://www.w3.org/2000/svg\" height=\"24px\"viewBox=\"0 0 24 24\"\n",
              "       width=\"24px\">\n",
              "    <path d=\"M0 0h24v24H0V0z\" fill=\"none\"/>\n",
              "    <path d=\"M18.56 5.44l.94 2.06.94-2.06 2.06-.94-2.06-.94-.94-2.06-.94 2.06-2.06.94zm-11 1L8.5 8.5l.94-2.06 2.06-.94-2.06-.94L8.5 2.5l-.94 2.06-2.06.94zm10 10l.94 2.06.94-2.06 2.06-.94-2.06-.94-.94-2.06-.94 2.06-2.06.94z\"/><path d=\"M17.41 7.96l-1.37-1.37c-.4-.4-.92-.59-1.43-.59-.52 0-1.04.2-1.43.59L10.3 9.45l-7.72 7.72c-.78.78-.78 2.05 0 2.83L4 21.41c.39.39.9.59 1.41.59.51 0 1.02-.2 1.41-.59l7.78-7.78 2.81-2.81c.8-.78.8-2.07 0-2.86zM5.41 20L4 18.59l7.72-7.72 1.47 1.35L5.41 20z\"/>\n",
              "  </svg>\n",
              "      </button>\n",
              "      \n",
              "  <style>\n",
              "    .colab-df-container {\n",
              "      display:flex;\n",
              "      flex-wrap:wrap;\n",
              "      gap: 12px;\n",
              "    }\n",
              "\n",
              "    .colab-df-convert {\n",
              "      background-color: #E8F0FE;\n",
              "      border: none;\n",
              "      border-radius: 50%;\n",
              "      cursor: pointer;\n",
              "      display: none;\n",
              "      fill: #1967D2;\n",
              "      height: 32px;\n",
              "      padding: 0 0 0 0;\n",
              "      width: 32px;\n",
              "    }\n",
              "\n",
              "    .colab-df-convert:hover {\n",
              "      background-color: #E2EBFA;\n",
              "      box-shadow: 0px 1px 2px rgba(60, 64, 67, 0.3), 0px 1px 3px 1px rgba(60, 64, 67, 0.15);\n",
              "      fill: #174EA6;\n",
              "    }\n",
              "\n",
              "    [theme=dark] .colab-df-convert {\n",
              "      background-color: #3B4455;\n",
              "      fill: #D2E3FC;\n",
              "    }\n",
              "\n",
              "    [theme=dark] .colab-df-convert:hover {\n",
              "      background-color: #434B5C;\n",
              "      box-shadow: 0px 1px 3px 1px rgba(0, 0, 0, 0.15);\n",
              "      filter: drop-shadow(0px 1px 2px rgba(0, 0, 0, 0.3));\n",
              "      fill: #FFFFFF;\n",
              "    }\n",
              "  </style>\n",
              "\n",
              "      <script>\n",
              "        const buttonEl =\n",
              "          document.querySelector('#df-b01d3d8b-f261-479c-a0bb-572fe98e69d0 button.colab-df-convert');\n",
              "        buttonEl.style.display =\n",
              "          google.colab.kernel.accessAllowed ? 'block' : 'none';\n",
              "\n",
              "        async function convertToInteractive(key) {\n",
              "          const element = document.querySelector('#df-b01d3d8b-f261-479c-a0bb-572fe98e69d0');\n",
              "          const dataTable =\n",
              "            await google.colab.kernel.invokeFunction('convertToInteractive',\n",
              "                                                     [key], {});\n",
              "          if (!dataTable) return;\n",
              "\n",
              "          const docLinkHtml = 'Like what you see? Visit the ' +\n",
              "            '<a target=\"_blank\" href=https://colab.research.google.com/notebooks/data_table.ipynb>data table notebook</a>'\n",
              "            + ' to learn more about interactive tables.';\n",
              "          element.innerHTML = '';\n",
              "          dataTable['output_type'] = 'display_data';\n",
              "          await google.colab.output.renderOutput(dataTable, element);\n",
              "          const docLink = document.createElement('div');\n",
              "          docLink.innerHTML = docLinkHtml;\n",
              "          element.appendChild(docLink);\n",
              "        }\n",
              "      </script>\n",
              "    </div>\n",
              "  </div>\n",
              "  "
            ]
          },
          "metadata": {},
          "execution_count": 1
        }
      ],
      "source": [
        "import pandas as pd\n",
        "\n",
        "df = pd.read_csv('train.csv')\n",
        "df.head()"
      ]
    },
    {
      "cell_type": "code",
      "execution_count": 2,
      "metadata": {
        "colab": {
          "base_uri": "https://localhost:8080/",
          "height": 175
        },
        "id": "5En7-KP2D5y8",
        "outputId": "2883cdae-4f0d-4e49-f7f1-025cd06bbc11"
      },
      "outputs": [
        {
          "output_type": "execute_result",
          "data": {
            "text/plain": [
              "                      id                       anchor       target context\n",
              "count              36473                        36473        36473   36473\n",
              "unique             36473                          733        29340     106\n",
              "top     37d61fd2272659b1  component composite coating  composition     H01\n",
              "freq                   1                          152           24    2186"
            ],
            "text/html": [
              "\n",
              "  <div id=\"df-fa59d5ec-a884-4813-9867-6e77cf9c22f8\">\n",
              "    <div class=\"colab-df-container\">\n",
              "      <div>\n",
              "<style scoped>\n",
              "    .dataframe tbody tr th:only-of-type {\n",
              "        vertical-align: middle;\n",
              "    }\n",
              "\n",
              "    .dataframe tbody tr th {\n",
              "        vertical-align: top;\n",
              "    }\n",
              "\n",
              "    .dataframe thead th {\n",
              "        text-align: right;\n",
              "    }\n",
              "</style>\n",
              "<table border=\"1\" class=\"dataframe\">\n",
              "  <thead>\n",
              "    <tr style=\"text-align: right;\">\n",
              "      <th></th>\n",
              "      <th>id</th>\n",
              "      <th>anchor</th>\n",
              "      <th>target</th>\n",
              "      <th>context</th>\n",
              "    </tr>\n",
              "  </thead>\n",
              "  <tbody>\n",
              "    <tr>\n",
              "      <th>count</th>\n",
              "      <td>36473</td>\n",
              "      <td>36473</td>\n",
              "      <td>36473</td>\n",
              "      <td>36473</td>\n",
              "    </tr>\n",
              "    <tr>\n",
              "      <th>unique</th>\n",
              "      <td>36473</td>\n",
              "      <td>733</td>\n",
              "      <td>29340</td>\n",
              "      <td>106</td>\n",
              "    </tr>\n",
              "    <tr>\n",
              "      <th>top</th>\n",
              "      <td>37d61fd2272659b1</td>\n",
              "      <td>component composite coating</td>\n",
              "      <td>composition</td>\n",
              "      <td>H01</td>\n",
              "    </tr>\n",
              "    <tr>\n",
              "      <th>freq</th>\n",
              "      <td>1</td>\n",
              "      <td>152</td>\n",
              "      <td>24</td>\n",
              "      <td>2186</td>\n",
              "    </tr>\n",
              "  </tbody>\n",
              "</table>\n",
              "</div>\n",
              "      <button class=\"colab-df-convert\" onclick=\"convertToInteractive('df-fa59d5ec-a884-4813-9867-6e77cf9c22f8')\"\n",
              "              title=\"Convert this dataframe to an interactive table.\"\n",
              "              style=\"display:none;\">\n",
              "        \n",
              "  <svg xmlns=\"http://www.w3.org/2000/svg\" height=\"24px\"viewBox=\"0 0 24 24\"\n",
              "       width=\"24px\">\n",
              "    <path d=\"M0 0h24v24H0V0z\" fill=\"none\"/>\n",
              "    <path d=\"M18.56 5.44l.94 2.06.94-2.06 2.06-.94-2.06-.94-.94-2.06-.94 2.06-2.06.94zm-11 1L8.5 8.5l.94-2.06 2.06-.94-2.06-.94L8.5 2.5l-.94 2.06-2.06.94zm10 10l.94 2.06.94-2.06 2.06-.94-2.06-.94-.94-2.06-.94 2.06-2.06.94z\"/><path d=\"M17.41 7.96l-1.37-1.37c-.4-.4-.92-.59-1.43-.59-.52 0-1.04.2-1.43.59L10.3 9.45l-7.72 7.72c-.78.78-.78 2.05 0 2.83L4 21.41c.39.39.9.59 1.41.59.51 0 1.02-.2 1.41-.59l7.78-7.78 2.81-2.81c.8-.78.8-2.07 0-2.86zM5.41 20L4 18.59l7.72-7.72 1.47 1.35L5.41 20z\"/>\n",
              "  </svg>\n",
              "      </button>\n",
              "      \n",
              "  <style>\n",
              "    .colab-df-container {\n",
              "      display:flex;\n",
              "      flex-wrap:wrap;\n",
              "      gap: 12px;\n",
              "    }\n",
              "\n",
              "    .colab-df-convert {\n",
              "      background-color: #E8F0FE;\n",
              "      border: none;\n",
              "      border-radius: 50%;\n",
              "      cursor: pointer;\n",
              "      display: none;\n",
              "      fill: #1967D2;\n",
              "      height: 32px;\n",
              "      padding: 0 0 0 0;\n",
              "      width: 32px;\n",
              "    }\n",
              "\n",
              "    .colab-df-convert:hover {\n",
              "      background-color: #E2EBFA;\n",
              "      box-shadow: 0px 1px 2px rgba(60, 64, 67, 0.3), 0px 1px 3px 1px rgba(60, 64, 67, 0.15);\n",
              "      fill: #174EA6;\n",
              "    }\n",
              "\n",
              "    [theme=dark] .colab-df-convert {\n",
              "      background-color: #3B4455;\n",
              "      fill: #D2E3FC;\n",
              "    }\n",
              "\n",
              "    [theme=dark] .colab-df-convert:hover {\n",
              "      background-color: #434B5C;\n",
              "      box-shadow: 0px 1px 3px 1px rgba(0, 0, 0, 0.15);\n",
              "      filter: drop-shadow(0px 1px 2px rgba(0, 0, 0, 0.3));\n",
              "      fill: #FFFFFF;\n",
              "    }\n",
              "  </style>\n",
              "\n",
              "      <script>\n",
              "        const buttonEl =\n",
              "          document.querySelector('#df-fa59d5ec-a884-4813-9867-6e77cf9c22f8 button.colab-df-convert');\n",
              "        buttonEl.style.display =\n",
              "          google.colab.kernel.accessAllowed ? 'block' : 'none';\n",
              "\n",
              "        async function convertToInteractive(key) {\n",
              "          const element = document.querySelector('#df-fa59d5ec-a884-4813-9867-6e77cf9c22f8');\n",
              "          const dataTable =\n",
              "            await google.colab.kernel.invokeFunction('convertToInteractive',\n",
              "                                                     [key], {});\n",
              "          if (!dataTable) return;\n",
              "\n",
              "          const docLinkHtml = 'Like what you see? Visit the ' +\n",
              "            '<a target=\"_blank\" href=https://colab.research.google.com/notebooks/data_table.ipynb>data table notebook</a>'\n",
              "            + ' to learn more about interactive tables.';\n",
              "          element.innerHTML = '';\n",
              "          dataTable['output_type'] = 'display_data';\n",
              "          await google.colab.output.renderOutput(dataTable, element);\n",
              "          const docLink = document.createElement('div');\n",
              "          docLink.innerHTML = docLinkHtml;\n",
              "          element.appendChild(docLink);\n",
              "        }\n",
              "      </script>\n",
              "    </div>\n",
              "  </div>\n",
              "  "
            ]
          },
          "metadata": {},
          "execution_count": 2
        }
      ],
      "source": [
        "df.describe(include='object')"
      ]
    },
    {
      "cell_type": "code",
      "execution_count": 3,
      "metadata": {
        "id": "rloNwlzzD5y8"
      },
      "outputs": [],
      "source": [
        "df['input'] = 'TEXT1:' + df.context + ';TEXT2: '  + df.target + '; ANC1: ' + df.anchor"
      ]
    },
    {
      "cell_type": "code",
      "execution_count": 4,
      "metadata": {
        "colab": {
          "base_uri": "https://localhost:8080/"
        },
        "id": "DJJbVe5ED5y9",
        "outputId": "11376aef-1b45-451e-ab97-6100048c150b"
      },
      "outputs": [
        {
          "output_type": "execute_result",
          "data": {
            "text/plain": [
              "0    TEXT1:A47;TEXT2: abatement of pollution; ANC1:...\n",
              "1     TEXT1:A47;TEXT2: act of abating; ANC1: abatement\n",
              "2    TEXT1:A47;TEXT2: active catalyst; ANC1: abatement\n",
              "3    TEXT1:A47;TEXT2: eliminating process; ANC1: ab...\n",
              "4      TEXT1:A47;TEXT2: forest region; ANC1: abatement\n",
              "Name: input, dtype: object"
            ]
          },
          "metadata": {},
          "execution_count": 4
        }
      ],
      "source": [
        "df.input.head()"
      ]
    },
    {
      "cell_type": "markdown",
      "metadata": {
        "id": "kCK3-fNwD5y9"
      },
      "source": [
        "Tokenization"
      ]
    },
    {
      "cell_type": "code",
      "source": [
        "!pip install datasets"
      ],
      "metadata": {
        "colab": {
          "base_uri": "https://localhost:8080/"
        },
        "id": "m_TwafAmEWjQ",
        "outputId": "c34fc900-c23d-4d50-c155-00298b10cb17"
      },
      "execution_count": 5,
      "outputs": [
        {
          "output_type": "stream",
          "name": "stdout",
          "text": [
            "Looking in indexes: https://pypi.org/simple, https://us-python.pkg.dev/colab-wheels/public/simple/\n",
            "Requirement already satisfied: datasets in /usr/local/lib/python3.9/dist-packages (2.11.0)\n",
            "Requirement already satisfied: aiohttp in /usr/local/lib/python3.9/dist-packages (from datasets) (3.8.4)\n",
            "Requirement already satisfied: pyarrow>=8.0.0 in /usr/local/lib/python3.9/dist-packages (from datasets) (9.0.0)\n",
            "Requirement already satisfied: xxhash in /usr/local/lib/python3.9/dist-packages (from datasets) (3.2.0)\n",
            "Requirement already satisfied: numpy>=1.17 in /usr/local/lib/python3.9/dist-packages (from datasets) (1.22.4)\n",
            "Requirement already satisfied: responses<0.19 in /usr/local/lib/python3.9/dist-packages (from datasets) (0.18.0)\n",
            "Requirement already satisfied: packaging in /usr/local/lib/python3.9/dist-packages (from datasets) (23.0)\n",
            "Requirement already satisfied: tqdm>=4.62.1 in /usr/local/lib/python3.9/dist-packages (from datasets) (4.65.0)\n",
            "Requirement already satisfied: pyyaml>=5.1 in /usr/local/lib/python3.9/dist-packages (from datasets) (6.0)\n",
            "Requirement already satisfied: multiprocess in /usr/local/lib/python3.9/dist-packages (from datasets) (0.70.14)\n",
            "Requirement already satisfied: requests>=2.19.0 in /usr/local/lib/python3.9/dist-packages (from datasets) (2.27.1)\n",
            "Requirement already satisfied: dill<0.3.7,>=0.3.0 in /usr/local/lib/python3.9/dist-packages (from datasets) (0.3.6)\n",
            "Requirement already satisfied: fsspec[http]>=2021.11.1 in /usr/local/lib/python3.9/dist-packages (from datasets) (2023.3.0)\n",
            "Requirement already satisfied: huggingface-hub<1.0.0,>=0.11.0 in /usr/local/lib/python3.9/dist-packages (from datasets) (0.13.4)\n",
            "Requirement already satisfied: pandas in /usr/local/lib/python3.9/dist-packages (from datasets) (1.4.4)\n",
            "Requirement already satisfied: multidict<7.0,>=4.5 in /usr/local/lib/python3.9/dist-packages (from aiohttp->datasets) (6.0.4)\n",
            "Requirement already satisfied: charset-normalizer<4.0,>=2.0 in /usr/local/lib/python3.9/dist-packages (from aiohttp->datasets) (2.0.12)\n",
            "Requirement already satisfied: attrs>=17.3.0 in /usr/local/lib/python3.9/dist-packages (from aiohttp->datasets) (22.2.0)\n",
            "Requirement already satisfied: frozenlist>=1.1.1 in /usr/local/lib/python3.9/dist-packages (from aiohttp->datasets) (1.3.3)\n",
            "Requirement already satisfied: yarl<2.0,>=1.0 in /usr/local/lib/python3.9/dist-packages (from aiohttp->datasets) (1.8.2)\n",
            "Requirement already satisfied: async-timeout<5.0,>=4.0.0a3 in /usr/local/lib/python3.9/dist-packages (from aiohttp->datasets) (4.0.2)\n",
            "Requirement already satisfied: aiosignal>=1.1.2 in /usr/local/lib/python3.9/dist-packages (from aiohttp->datasets) (1.3.1)\n",
            "Requirement already satisfied: filelock in /usr/local/lib/python3.9/dist-packages (from huggingface-hub<1.0.0,>=0.11.0->datasets) (3.10.7)\n",
            "Requirement already satisfied: typing-extensions>=3.7.4.3 in /usr/local/lib/python3.9/dist-packages (from huggingface-hub<1.0.0,>=0.11.0->datasets) (4.5.0)\n",
            "Requirement already satisfied: idna<4,>=2.5 in /usr/local/lib/python3.9/dist-packages (from requests>=2.19.0->datasets) (3.4)\n",
            "Requirement already satisfied: certifi>=2017.4.17 in /usr/local/lib/python3.9/dist-packages (from requests>=2.19.0->datasets) (2022.12.7)\n",
            "Requirement already satisfied: urllib3<1.27,>=1.21.1 in /usr/local/lib/python3.9/dist-packages (from requests>=2.19.0->datasets) (1.26.15)\n",
            "Requirement already satisfied: pytz>=2020.1 in /usr/local/lib/python3.9/dist-packages (from pandas->datasets) (2022.7.1)\n",
            "Requirement already satisfied: python-dateutil>=2.8.1 in /usr/local/lib/python3.9/dist-packages (from pandas->datasets) (2.8.2)\n",
            "Requirement already satisfied: six>=1.5 in /usr/local/lib/python3.9/dist-packages (from python-dateutil>=2.8.1->pandas->datasets) (1.16.0)\n"
          ]
        }
      ]
    },
    {
      "cell_type": "code",
      "execution_count": 6,
      "metadata": {
        "id": "5ZEdDBVwD5y9"
      },
      "outputs": [],
      "source": [
        "from datasets import Dataset, DatasetDict\n",
        "\n",
        "\n",
        "ds = Dataset.from_pandas(df)"
      ]
    },
    {
      "cell_type": "code",
      "execution_count": 7,
      "metadata": {
        "colab": {
          "base_uri": "https://localhost:8080/"
        },
        "id": "xabEOU02D5y-",
        "outputId": "8476d761-e0ab-4e83-ec05-35c589d020b3"
      },
      "outputs": [
        {
          "output_type": "execute_result",
          "data": {
            "text/plain": [
              "Dataset({\n",
              "    features: ['id', 'anchor', 'target', 'context', 'score', 'input'],\n",
              "    num_rows: 36473\n",
              "})"
            ]
          },
          "metadata": {},
          "execution_count": 7
        }
      ],
      "source": [
        "ds"
      ]
    },
    {
      "cell_type": "markdown",
      "metadata": {
        "id": "jcuwpGgSD5y-"
      },
      "source": [
        "We cant pass the texts directly into the model. A deep learning model expects numbers as inputs, hence we can do two things\n",
        "* Tokenization: splitting sentences into words or tokens\n",
        "* Numericalization: Covert each word (or token) into a number."
      ]
    },
    {
      "cell_type": "markdown",
      "metadata": {
        "id": "lw8OWexqD5y-"
      },
      "source": [
        "Huggingface transformers supply numerous models, so details about how to tokenize the dataset depends on the model we use, Generally replace small with large for a slower but accurate model once you have finished exploring"
      ]
    },
    {
      "cell_type": "code",
      "execution_count": 8,
      "metadata": {
        "id": "q1QPhaFwD5y_"
      },
      "outputs": [],
      "source": [
        "model_nm = 'microsoft/deberta-v3-small'"
      ]
    },
    {
      "cell_type": "markdown",
      "metadata": {
        "id": "ocmxJ9B-D5y_"
      },
      "source": [
        "\n",
        "AutoTokenize will create a tokenize appropriate for a given model:"
      ]
    },
    {
      "cell_type": "code",
      "source": [
        "!pip install transformers\n"
      ],
      "metadata": {
        "colab": {
          "base_uri": "https://localhost:8080/"
        },
        "id": "Y39G-yK_f-Fs",
        "outputId": "7a4db7ea-3dc9-46bb-db11-357b9361936b"
      },
      "execution_count": 9,
      "outputs": [
        {
          "output_type": "stream",
          "name": "stdout",
          "text": [
            "Looking in indexes: https://pypi.org/simple, https://us-python.pkg.dev/colab-wheels/public/simple/\n",
            "Requirement already satisfied: transformers in /usr/local/lib/python3.9/dist-packages (4.27.4)\n",
            "Requirement already satisfied: packaging>=20.0 in /usr/local/lib/python3.9/dist-packages (from transformers) (23.0)\n",
            "Requirement already satisfied: regex!=2019.12.17 in /usr/local/lib/python3.9/dist-packages (from transformers) (2022.10.31)\n",
            "Requirement already satisfied: tokenizers!=0.11.3,<0.14,>=0.11.1 in /usr/local/lib/python3.9/dist-packages (from transformers) (0.13.3)\n",
            "Requirement already satisfied: tqdm>=4.27 in /usr/local/lib/python3.9/dist-packages (from transformers) (4.65.0)\n",
            "Requirement already satisfied: pyyaml>=5.1 in /usr/local/lib/python3.9/dist-packages (from transformers) (6.0)\n",
            "Requirement already satisfied: numpy>=1.17 in /usr/local/lib/python3.9/dist-packages (from transformers) (1.22.4)\n",
            "Requirement already satisfied: huggingface-hub<1.0,>=0.11.0 in /usr/local/lib/python3.9/dist-packages (from transformers) (0.13.4)\n",
            "Requirement already satisfied: filelock in /usr/local/lib/python3.9/dist-packages (from transformers) (3.10.7)\n",
            "Requirement already satisfied: requests in /usr/local/lib/python3.9/dist-packages (from transformers) (2.27.1)\n",
            "Requirement already satisfied: typing-extensions>=3.7.4.3 in /usr/local/lib/python3.9/dist-packages (from huggingface-hub<1.0,>=0.11.0->transformers) (4.5.0)\n",
            "Requirement already satisfied: idna<4,>=2.5 in /usr/local/lib/python3.9/dist-packages (from requests->transformers) (3.4)\n",
            "Requirement already satisfied: certifi>=2017.4.17 in /usr/local/lib/python3.9/dist-packages (from requests->transformers) (2022.12.7)\n",
            "Requirement already satisfied: urllib3<1.27,>=1.21.1 in /usr/local/lib/python3.9/dist-packages (from requests->transformers) (1.26.15)\n",
            "Requirement already satisfied: charset-normalizer~=2.0.0 in /usr/local/lib/python3.9/dist-packages (from requests->transformers) (2.0.12)\n"
          ]
        }
      ]
    },
    {
      "cell_type": "code",
      "source": [
        "!pip install sentencepiece\n"
      ],
      "metadata": {
        "colab": {
          "base_uri": "https://localhost:8080/"
        },
        "id": "oJwjpcvujhjl",
        "outputId": "01704308-2e30-4ce6-ddc2-cee6801ef266"
      },
      "execution_count": 10,
      "outputs": [
        {
          "output_type": "stream",
          "name": "stdout",
          "text": [
            "Looking in indexes: https://pypi.org/simple, https://us-python.pkg.dev/colab-wheels/public/simple/\n",
            "Requirement already satisfied: sentencepiece in /usr/local/lib/python3.9/dist-packages (0.1.97)\n"
          ]
        }
      ]
    },
    {
      "cell_type": "code",
      "execution_count": 11,
      "metadata": {
        "colab": {
          "base_uri": "https://localhost:8080/"
        },
        "id": "zJajijCoD5y_",
        "outputId": "1f673003-0b1a-4f30-d59c-6fe221077307"
      },
      "outputs": [
        {
          "output_type": "stream",
          "name": "stderr",
          "text": [
            "Special tokens have been added in the vocabulary, make sure the associated word embeddings are fine-tuned or trained.\n",
            "/usr/local/lib/python3.9/dist-packages/transformers/convert_slow_tokenizer.py:446: UserWarning: The sentencepiece tokenizer that you are converting to a fast tokenizer uses the byte fallback option which is not implemented in the fast tokenizers. In practice this means that the fast version of the tokenizer can produce unknown tokens whereas the sentencepiece version would have converted these unknown tokens into a sequence of byte tokens matching the original piece of text.\n",
            "  warnings.warn(\n",
            "Special tokens have been added in the vocabulary, make sure the associated word embeddings are fine-tuned or trained.\n"
          ]
        }
      ],
      "source": [
        "from transformers import AutoModelForSequenceClassification, AutoTokenizer\n",
        "tokz = AutoTokenizer.from_pretrained('microsoft/deberta-v3-small')\n"
      ]
    },
    {
      "cell_type": "code",
      "execution_count": 12,
      "metadata": {
        "colab": {
          "base_uri": "https://localhost:8080/"
        },
        "id": "IzNWhipBD5y_",
        "outputId": "b60d3667-3eb2-4b71-9638-db1cd5944124"
      },
      "outputs": [
        {
          "output_type": "execute_result",
          "data": {
            "text/plain": [
              "['▁Asphalt',\n",
              " '▁is',\n",
              " '▁a',\n",
              " '▁sticky',\n",
              " '▁black',\n",
              " '▁substance',\n",
              " '▁that',\n",
              " '▁is',\n",
              " '▁used',\n",
              " '▁to',\n",
              " '▁pave',\n",
              " '▁roads',\n",
              " ',',\n",
              " '▁parking',\n",
              " '▁lots',\n",
              " '▁and',\n",
              " '▁driveways',\n",
              " '.',\n",
              " '▁It',\n",
              " '▁is',\n",
              " '▁made',\n",
              " '▁from',\n",
              " '▁crude',\n",
              " '▁oil',\n",
              " '▁and',\n",
              " '▁can',\n",
              " '▁withstand',\n",
              " '▁high',\n",
              " '▁temperatures',\n",
              " '▁and',\n",
              " '▁heavy',\n",
              " '▁traffic',\n",
              " '.',\n",
              " '▁Asphalt',\n",
              " '▁is',\n",
              " '▁also',\n",
              " '▁very',\n",
              " '▁versatile',\n",
              " '▁and',\n",
              " '▁can',\n",
              " '▁be',\n",
              " '▁mixed',\n",
              " '▁with',\n",
              " '▁different',\n",
              " '▁materials',\n",
              " '▁to',\n",
              " '▁create',\n",
              " '▁different',\n",
              " '▁colors',\n",
              " '▁and',\n",
              " '▁textures',\n",
              " '.',\n",
              " '▁Some',\n",
              " '▁people',\n",
              " '▁even',\n",
              " '▁use',\n",
              " '▁asphalt',\n",
              " '▁to',\n",
              " '▁make',\n",
              " '▁art',\n",
              " '▁or',\n",
              " '▁play',\n",
              " '▁games',\n",
              " '.',\n",
              " '▁For',\n",
              " '▁example',\n",
              " ',',\n",
              " '▁you',\n",
              " '▁can',\n",
              " '▁draw',\n",
              " '▁with',\n",
              " '▁chalk',\n",
              " '▁on',\n",
              " '▁asphalt',\n",
              " ',',\n",
              " '▁or',\n",
              " '▁use',\n",
              " '▁it',\n",
              " '▁as',\n",
              " '▁a',\n",
              " '▁giant',\n",
              " '▁board',\n",
              " '▁for',\n",
              " '▁hops',\n",
              " 'co',\n",
              " 'tch',\n",
              " '▁or',\n",
              " '▁tic',\n",
              " '-',\n",
              " 'tac',\n",
              " '-',\n",
              " 'toe',\n",
              " '.',\n",
              " '▁Asphalt',\n",
              " '▁is',\n",
              " '▁not',\n",
              " '▁only',\n",
              " '▁a',\n",
              " '▁practical',\n",
              " '▁material',\n",
              " ',',\n",
              " '▁but',\n",
              " '▁also',\n",
              " '▁a',\n",
              " '▁exhilarating',\n",
              " '!']"
            ]
          },
          "metadata": {},
          "execution_count": 12
        }
      ],
      "source": [
        "#Example\n",
        "\n",
        "tokz.tokenize(\"Asphalt is a sticky black substance that is used to pave roads, parking lots and driveways. It is made from crude oil and can withstand high temperatures and heavy traffic. Asphalt is also very versatile and can be mixed with different materials to create different colors and textures. Some people even use asphalt to make art or play games. For example, you can draw with chalk on asphalt, or use it as a giant board for hopscotch or tic-tac-toe. Asphalt is not only a practical material, but also a exhilarating!\")"
      ]
    },
    {
      "cell_type": "code",
      "execution_count": 13,
      "metadata": {
        "id": "9JLoEWmQD5zA"
      },
      "outputs": [],
      "source": [
        "#Simple function to tokenize our input\n",
        "\n",
        "\n",
        "def tok_func(x):\n",
        "    return tokz(x['input'])"
      ]
    },
    {
      "cell_type": "code",
      "execution_count": 14,
      "metadata": {
        "colab": {
          "base_uri": "https://localhost:8080/",
          "height": 17,
          "referenced_widgets": [
            "2270d1ff279c4e09b7e683b30cafab30",
            "7053926a4b8f44a4a525e20687103c9f",
            "7b3a2294861547c1952be828e87605ae",
            "ab00699669cd49f5ad2a8dc01a33fdec",
            "ffb76cc490394964be878875c49725ee",
            "179a7617125148578b1da198972fb115",
            "c3a6a304238c4955a49ecf1ab1e312a1",
            "abdaa661f0f945ab94bc051161e3a877",
            "aab9643af58d450a9084338855d0ffd8",
            "c7725460cb154b178941c0f2173fc7ce",
            "85c9cd2b78a14dacb996b04e10eb415c"
          ]
        },
        "id": "tm2ExP4bD5zB",
        "outputId": "6fc51768-99de-47e4-c82a-0b82430e4297"
      },
      "outputs": [
        {
          "output_type": "display_data",
          "data": {
            "text/plain": [
              "Map:   0%|          | 0/36473 [00:00<?, ? examples/s]"
            ],
            "application/vnd.jupyter.widget-view+json": {
              "version_major": 2,
              "version_minor": 0,
              "model_id": "2270d1ff279c4e09b7e683b30cafab30"
            }
          },
          "metadata": {}
        }
      ],
      "source": [
        "tok_ds = ds.map(tok_func, batched=True)"
      ]
    },
    {
      "cell_type": "code",
      "execution_count": 15,
      "metadata": {
        "colab": {
          "base_uri": "https://localhost:8080/"
        },
        "id": "pJ_gq0VsD5zB",
        "outputId": "17d50ea6-4297-4aa5-bbbf-b039473c2531"
      },
      "outputs": [
        {
          "output_type": "execute_result",
          "data": {
            "text/plain": [
              "InMemoryTable\n",
              "id: string\n",
              "anchor: string\n",
              "target: string\n",
              "context: string\n",
              "score: double\n",
              "input: string\n",
              "input_ids: list<item: int32>\n",
              "  child 0, item: int32\n",
              "token_type_ids: list<item: int8>\n",
              "  child 0, item: int8\n",
              "attention_mask: list<item: int8>\n",
              "  child 0, item: int8\n",
              "----\n",
              "id: [[\"37d61fd2272659b1\",\"7b9652b17b68b7a4\",\"36d72442aefd8232\",\"5296b0c19e1ce60e\",\"54c1e3b9184cb5b6\",...,\"1957604978889672\",\"0914a65df828ffc0\",\"f5e0068000f0b361\",\"2d5f035af810c1a2\",\"541198ebfc08e6b2\"],[\"26c0231601242aad\",\"c6b1558ec038c539\",\"b4cf0048799a51e2\",\"03b8c54af3f4cb9b\",\"ee6a44dd61b3ffee\",...,\"fa7f80ed4847b63a\",\"5f2502d45c21ae8f\",\"57eabd95b3b47727\",\"22ae2bdc83345365\",\"4f6bd3782a452c93\"],...,[\"1e1f881c014b27f1\",\"62adf1a79cdcdcd8\",\"e39accc1e9470efc\",\"32102b760765c7dd\",\"bd73e6a1ad01b298\",...,\"4dad5d8ab19a2d22\",\"7e9615f8aab0273d\",\"8527077e4116f89d\",\"c8656004664bf5f2\",\"bac3feec26433ca9\"],[\"f7fa7c8605c40a78\",\"c8757b8201719536\",\"c2aeb2bacfb272b1\",\"217271e252282202\",\"e9492b2f6cbafdef\",...,\"8e1386cbefd7f245\",\"42d9e032d1cd3242\",\"208654ccb9e14fa3\",\"756ec035e694722b\",\"8d135da0b55b8c88\"]]\n",
              "anchor: [[\"abatement\",\"abatement\",\"abatement\",\"abatement\",\"abatement\",...,\"air flow line\",\"air flow line\",\"air flow line\",\"air flow line\",\"air flow line\"],[\"air flow line\",\"air flow line\",\"air flow line\",\"air flow line\",\"air flow line\",...,\"arc type\",\"arc type\",\"arc type\",\"arc type\",\"arc type\"],...,[\"vertical comb\",\"vertical comb\",\"vertical comb\",\"vertical comb\",\"vertical comb\",...,\"wearability\",\"wearability\",\"wearability\",\"wearability\",\"wearability\"],[\"wearability\",\"wearability\",\"wearability\",\"wearability\",\"web transfer\",...,\"wood article\",\"wood article\",\"wood article\",\"wood article\",\"wood article\"]]\n",
              "target: [[\"abatement of pollution\",\"act of abating\",\"active catalyst\",\"eliminating process\",\"forest region\",...,\"passage line system\",\"pneumatic flow line\",\"shallow draft floating vessel\",\"supply unit\",\"three controllable hydrofoil displacement boat\"],[\"water absorbent resin\",\"air current flow\",\"air falls in the lungs\",\"air flow component\",\"air flow into line card\",...,\"arc type\",\"arc type stage\",\"arc type structure\",\"arc wavelength\",\"arc wavelength type\"],...,[\"comb therapy\",\"electrode\",\"main frame\",\"microfabricated actuator\",\"microresonator\",...,\"loop lifter\",\"material property\",\"strength\",\"toughness\",\"wear and tear\"],[\"wear characteristics\",\"wear life\",\"wearability\",\"wearable gadgets\",\"curved bars\",...,\"wooden article\",\"wooden box\",\"wooden handle\",\"wooden material\",\"wooden substrate\"]]\n",
              "context: [[\"A47\",\"A47\",\"A47\",\"A47\",\"A47\",...,\"B63\",\"B63\",\"B63\",\"B63\",\"B63\"],[\"B63\",\"F04\",\"F04\",\"F04\",\"F04\",...,\"G01\",\"G01\",\"G01\",\"G01\",\"G01\"],...,[\"B81\",\"B81\",\"B81\",\"B81\",\"B81\",...,\"B21\",\"B21\",\"B21\",\"B21\",\"B21\"],[\"B21\",\"B21\",\"B21\",\"B21\",\"B29\",...,\"B44\",\"B44\",\"B44\",\"B44\",\"B44\"]]\n",
              "score: [[0.5,0.75,0.25,0.5,0,...,0.5,0.75,0.25,0.25,0.25],[0.25,0.5,0,0.5,0.5,...,1,0.75,0.75,0.5,0.5],...,[0,0.25,0.25,0.25,0.25,...,0.25,0.5,0.25,0.25,0.75],[0.5,0.75,1,0,0.25,...,1,0.5,0.5,0.75,0.5]]\n",
              "input: [[\"TEXT1:A47;TEXT2: abatement of pollution; ANC1: abatement\",\"TEXT1:A47;TEXT2: act of abating; ANC1: abatement\",\"TEXT1:A47;TEXT2: active catalyst; ANC1: abatement\",\"TEXT1:A47;TEXT2: eliminating process; ANC1: abatement\",\"TEXT1:A47;TEXT2: forest region; ANC1: abatement\",...,\"TEXT1:B63;TEXT2: passage line system; ANC1: air flow line\",\"TEXT1:B63;TEXT2: pneumatic flow line; ANC1: air flow line\",\"TEXT1:B63;TEXT2: shallow draft floating vessel; ANC1: air flow line\",\"TEXT1:B63;TEXT2: supply unit; ANC1: air flow line\",\"TEXT1:B63;TEXT2: three controllable hydrofoil displacement boat; ANC1: air flow line\"],[\"TEXT1:B63;TEXT2: water absorbent resin; ANC1: air flow line\",\"TEXT1:F04;TEXT2: air current flow; ANC1: air flow line\",\"TEXT1:F04;TEXT2: air falls in the lungs; ANC1: air flow line\",\"TEXT1:F04;TEXT2: air flow component; ANC1: air flow line\",\"TEXT1:F04;TEXT2: air flow into line card; ANC1: air flow line\",...,\"TEXT1:G01;TEXT2: arc type; ANC1: arc type\",\"TEXT1:G01;TEXT2: arc type stage; ANC1: arc type\",\"TEXT1:G01;TEXT2: arc type structure; ANC1: arc type\",\"TEXT1:G01;TEXT2: arc wavelength; ANC1: arc type\",\"TEXT1:G01;TEXT2: arc wavelength type; ANC1: arc type\"],...,[\"TEXT1:B81;TEXT2: comb therapy; ANC1: vertical comb\",\"TEXT1:B81;TEXT2: electrode; ANC1: vertical comb\",\"TEXT1:B81;TEXT2: main frame; ANC1: vertical comb\",\"TEXT1:B81;TEXT2: microfabricated actuator; ANC1: vertical comb\",\"TEXT1:B81;TEXT2: microresonator; ANC1: vertical comb\",...,\"TEXT1:B21;TEXT2: loop lifter; ANC1: wearability\",\"TEXT1:B21;TEXT2: material property; ANC1: wearability\",\"TEXT1:B21;TEXT2: strength; ANC1: wearability\",\"TEXT1:B21;TEXT2: toughness; ANC1: wearability\",\"TEXT1:B21;TEXT2: wear and tear; ANC1: wearability\"],[\"TEXT1:B21;TEXT2: wear characteristics; ANC1: wearability\",\"TEXT1:B21;TEXT2: wear life; ANC1: wearability\",\"TEXT1:B21;TEXT2: wearability; ANC1: wearability\",\"TEXT1:B21;TEXT2: wearable gadgets; ANC1: wearability\",\"TEXT1:B29;TEXT2: curved bars; ANC1: web transfer\",...,\"TEXT1:B44;TEXT2: wooden article; ANC1: wood article\",\"TEXT1:B44;TEXT2: wooden box; ANC1: wood article\",\"TEXT1:B44;TEXT2: wooden handle; ANC1: wood article\",\"TEXT1:B44;TEXT2: wooden material; ANC1: wood article\",\"TEXT1:B44;TEXT2: wooden substrate; ANC1: wood article\"]]\n",
              "input_ids: [[[1,54453,435,294,558,...,23702,435,294,47284,2],[1,54453,435,294,558,...,23702,435,294,47284,2],...,[1,54453,435,294,983,...,294,925,2155,683,2],[1,54453,435,294,983,...,294,925,2155,683,2]],[[1,54453,435,294,983,...,294,925,2155,683,2],[1,54453,435,294,1490,...,294,925,2155,683,2],...,[1,54453,435,294,1474,...,435,294,10268,810,2],[1,54453,435,294,1474,...,435,294,10268,810,2]],...,[[1,54453,435,294,983,...,435,294,5828,21181,2],[1,54453,435,294,983,...,435,294,5828,21181,2],...,[1,54453,435,294,983,...,435,294,1929,6325,2],[1,54453,435,294,983,...,435,294,1929,6325,2]],[[1,54453,435,294,983,...,435,294,1929,6325,2],[1,54453,435,294,983,...,435,294,1929,6325,2],...,[1,54453,435,294,983,...,435,294,1847,1030,2],[1,54453,435,294,983,...,435,294,1847,1030,2]]]\n",
              "token_type_ids: [[[0,0,0,0,0,...,0,0,0,0,0],[0,0,0,0,0,...,0,0,0,0,0],...,[0,0,0,0,0,...,0,0,0,0,0],[0,0,0,0,0,...,0,0,0,0,0]],[[0,0,0,0,0,...,0,0,0,0,0],[0,0,0,0,0,...,0,0,0,0,0],...,[0,0,0,0,0,...,0,0,0,0,0],[0,0,0,0,0,...,0,0,0,0,0]],...,[[0,0,0,0,0,...,0,0,0,0,0],[0,0,0,0,0,...,0,0,0,0,0],...,[0,0,0,0,0,...,0,0,0,0,0],[0,0,0,0,0,...,0,0,0,0,0]],[[0,0,0,0,0,...,0,0,0,0,0],[0,0,0,0,0,...,0,0,0,0,0],...,[0,0,0,0,0,...,0,0,0,0,0],[0,0,0,0,0,...,0,0,0,0,0]]]\n",
              "attention_mask: [[[1,1,1,1,1,...,1,1,1,1,1],[1,1,1,1,1,...,1,1,1,1,1],...,[1,1,1,1,1,...,1,1,1,1,1],[1,1,1,1,1,...,1,1,1,1,1]],[[1,1,1,1,1,...,1,1,1,1,1],[1,1,1,1,1,...,1,1,1,1,1],...,[1,1,1,1,1,...,1,1,1,1,1],[1,1,1,1,1,...,1,1,1,1,1]],...,[[1,1,1,1,1,...,1,1,1,1,1],[1,1,1,1,1,...,1,1,1,1,1],...,[1,1,1,1,1,...,1,1,1,1,1],[1,1,1,1,1,...,1,1,1,1,1]],[[1,1,1,1,1,...,1,1,1,1,1],[1,1,1,1,1,...,1,1,1,1,1],...,[1,1,1,1,1,...,1,1,1,1,1],[1,1,1,1,1,...,1,1,1,1,1]]]"
            ]
          },
          "metadata": {},
          "execution_count": 15
        }
      ],
      "source": [
        "tok_ds.data\n"
      ]
    },
    {
      "cell_type": "code",
      "execution_count": 16,
      "metadata": {
        "colab": {
          "base_uri": "https://localhost:8080/"
        },
        "id": "LCp46b_OD5zB",
        "outputId": "4e7faf7f-ab5f-40f5-bd5f-012b34a7b783"
      },
      "outputs": [
        {
          "output_type": "execute_result",
          "data": {
            "text/plain": [
              "('TEXT1:A47;TEXT2: abatement of pollution; ANC1: abatement',\n",
              " [1,\n",
              "  54453,\n",
              "  435,\n",
              "  294,\n",
              "  558,\n",
              "  5753,\n",
              "  346,\n",
              "  104917,\n",
              "  445,\n",
              "  294,\n",
              "  47284,\n",
              "  265,\n",
              "  6435,\n",
              "  346,\n",
              "  23702,\n",
              "  435,\n",
              "  294,\n",
              "  47284,\n",
              "  2])"
            ]
          },
          "metadata": {},
          "execution_count": 16
        }
      ],
      "source": [
        "#The tokenize function adds a new item to our dataset called input_ids. For instance here is the input and IDs for the first row of our data:\n",
        "row = tok_ds[0]\n",
        "row['input'], row['input_ids']"
      ]
    },
    {
      "cell_type": "code",
      "execution_count": 17,
      "metadata": {
        "colab": {
          "base_uri": "https://localhost:8080/"
        },
        "id": "6eshj8r0D5zC",
        "outputId": "0b67f83d-0386-4d57-e124-cda2d621355f"
      },
      "outputs": [
        {
          "output_type": "execute_result",
          "data": {
            "text/plain": [
              "{'▁Vitro': 96613,\n",
              " '▁deodorant': 36707,\n",
              " '典': 122753,\n",
              " '▁unaccounted': 75202,\n",
              " '▁Pl': 27462,\n",
              " '▁Descargar': 87763,\n",
              " 'द्': 114734,\n",
              " '640': 32170,\n",
              " 'obli': 99706,\n",
              " 'Talk': 24026,\n",
              " '▁spanning': 16056,\n",
              " '̲': 123831,\n",
              " '▁NCR': 40989,\n",
              " 'jiang': 46658,\n",
              " '▁Tonto': 101902,\n",
              " '▁Pericles': 121698,\n",
              " 'pit': 19828,\n",
              " '铝': 126227,\n",
              " '▁POSITIVE': 107556,\n",
              " '▁Sunbelt': 119212,\n",
              " '▁dispatched': 17681,\n",
              " 'Aqua': 62642,\n",
              " '▁Lawyers': 15427,\n",
              " '▁cubby': 85554,\n",
              " '▁RHI': 99531,\n",
              " '▁leuc': 110423,\n",
              " '✦': 122865,\n",
              " 'ising': 9269,\n",
              " '▁infiltrated': 48464,\n",
              " '▁Exporters': 59169,\n",
              " '▁Reince': 101884,\n",
              " '大': 36953,\n",
              " '▁semolina': 105546,\n",
              " '▁Ey': 38443,\n",
              " '▁Mandir': 67285,\n",
              " '印': 114966,\n",
              " '▁clarification': 18817,\n",
              " '▁cryptographic': 44599,\n",
              " '▁Waze': 85269,\n",
              " 'TP': 18291,\n",
              " '▁Mopar': 84824,\n",
              " '▁Challenges': 24315,\n",
              " '▁LANGUAGE': 93385,\n",
              " '▁Agios': 99710,\n",
              " 'ス': 30322,\n",
              " '▁diplomats': 24129,\n",
              " 'UMMER': 116786,\n",
              " '▁Namco': 81195,\n",
              " '▁dispatches': 75812,\n",
              " '▁Hammon': 101453,\n",
              " '▁DMX': 67350,\n",
              " '▁pollster': 88107,\n",
              " 'tzen': 50733,\n",
              " '068': 59416,\n",
              " '▁rooftop': 17101,\n",
              " '▁discography': 55705,\n",
              " '▁ushers': 72583,\n",
              " '▁Vio': 91509,\n",
              " '▁prematurity': 119364,\n",
              " '▁microscopic': 25493,\n",
              " '▁327': 40402,\n",
              " '▁flaxseed': 63400,\n",
              " 'journal': 31044,\n",
              " '▁intrude': 66730,\n",
              " '▁mastery': 19909,\n",
              " '▁spiritual': 3402,\n",
              " 'PIT': 99915,\n",
              " '▁longed': 42536,\n",
              " '▁hdmi': 96998,\n",
              " '▁Slides': 47916,\n",
              " '▁coving': 109261,\n",
              " '▁contextualise': 122204,\n",
              " '▁origins': 10371,\n",
              " '▁piled': 19551,\n",
              " '▁TPI': 105315,\n",
              " '構成': 103937,\n",
              " '▁alive': 3762,\n",
              " '▁Suction': 92506,\n",
              " '▁supplementary': 23697,\n",
              " 'Stream': 28280,\n",
              " '▁KAY': 88092,\n",
              " '▁Activision': 51151,\n",
              " '💫': 125297,\n",
              " '▁ached': 72145,\n",
              " '▁Zum': 56979,\n",
              " '▁Slight': 63066,\n",
              " 'bodied': 26889,\n",
              " '▁kaolin': 69572,\n",
              " '▁Salaries': 78625,\n",
              " '备': 122728,\n",
              " '酮': 126484,\n",
              " '▁Poy': 76987,\n",
              " 'niemi': 104812,\n",
              " '▁radicalism': 78618,\n",
              " '▁cabernet': 104185,\n",
              " '▁Muñoz': 85894,\n",
              " '▁Bet': 14533,\n",
              " '▁trawl': 70542,\n",
              " '▁Pash': 71200,\n",
              " '▁scalpel': 72702,\n",
              " '▁Wayland': 76350,\n",
              " '▁Fiennes': 100561,\n",
              " '们': 122672,\n",
              " '▁reprimanded': 70520,\n",
              " '▁kap': 77929,\n",
              " '▁wish': 1437,\n",
              " '▁young': 856,\n",
              " '▁suicide': 5997,\n",
              " '▁submissive': 41455,\n",
              " '▁trudged': 86565,\n",
              " '▁pare': 50396,\n",
              " '▁Jared': 14912,\n",
              " 'iño': 67431,\n",
              " 'up': 1025,\n",
              " 'charm': 69921,\n",
              " 'undu': 65235,\n",
              " '▁moaned': 59239,\n",
              " '▁ʻ': 83330,\n",
              " '▁avoid': 1662,\n",
              " 'occupied': 44720,\n",
              " '▁Accents': 72538,\n",
              " '▁Elf': 25515,\n",
              " '▁Est': 24951,\n",
              " 'robust': 101245,\n",
              " '▁cet': 64802,\n",
              " 'biased': 70564,\n",
              " '▁smallish': 75900,\n",
              " '▁accretion': 67121,\n",
              " '▁һ': 112441,\n",
              " '▁Bathrooms': 36134,\n",
              " '▁drugging': 108891,\n",
              " 'jz': 98717,\n",
              " 'ਖ': 124104,\n",
              " '팔': 124681,\n",
              " '▁lagoons': 62540,\n",
              " 'ঝ': 127019,\n",
              " 'ουν': 118225,\n",
              " '▁Bettman': 107907,\n",
              " '▁desired': 3885,\n",
              " '▁mixers': 44184,\n",
              " '▁oceanfront': 53041,\n",
              " '▁FORMAT': 108908,\n",
              " 'shadow': 42166,\n",
              " '▁Bukit': 62443,\n",
              " '▁1818': 55587,\n",
              " '▁posited': 71874,\n",
              " '▁there': 343,\n",
              " '▁convenience': 4904,\n",
              " '▁darkening': 59518,\n",
              " '▁CCE': 89469,\n",
              " '▁Holders': 39460,\n",
              " '▁Woodlands': 43686,\n",
              " '▁gastric': 24691,\n",
              " 'premium': 54312,\n",
              " 'ня': 55255,\n",
              " '▁finan': 101551,\n",
              " '▁Ramón': 103934,\n",
              " '▁Opposition': 21033,\n",
              " 'اس': 73218,\n",
              " 't': 297,\n",
              " 'AC': 11629,\n",
              " '▁THINKING': 114639,\n",
              " '▁inform': 4855,\n",
              " 'kk': 26621,\n",
              " '▁reflectance': 79131,\n",
              " '▁Universit': 64004,\n",
              " 'wami': 77812,\n",
              " '▁Melinda': 34191,\n",
              " '▁Communi': 75403,\n",
              " '▁Crist': 48524,\n",
              " 'unprecedented': 92459,\n",
              " '▁nfl': 36300,\n",
              " 'certain': 44078,\n",
              " '▁Grandmother': 40213,\n",
              " '▁Wel': 44210,\n",
              " 'achy': 50109,\n",
              " 'rrington': 60278,\n",
              " '▁Avec': 67626,\n",
              " 'glaze': 85079,\n",
              " '▁Orthopaedic': 45504,\n",
              " '▁995': 87927,\n",
              " '▁Overwhelming': 108948,\n",
              " '▁minutes': 768,\n",
              " '▁Goff': 35985,\n",
              " '▁Reprinted': 69519,\n",
              " 'MIN': 38927,\n",
              " 'pano': 61475,\n",
              " '▁IIRC': 66415,\n",
              " '哀': 127254,\n",
              " 'pharmacological': 118612,\n",
              " 'leader': 34526,\n",
              " '▁Trim': 20193,\n",
              " '▁Unai': 86060,\n",
              " '▁disarray': 51971,\n",
              " '▁ACL': 24680,\n",
              " '▁gesch': 99228,\n",
              " '▁unnerved': 98139,\n",
              " '▁Enbridge': 70300,\n",
              " '▁Tibbetts': 104178,\n",
              " '┊': 127423,\n",
              " '▁Ducati': 43771,\n",
              " 'unlimited': 83741,\n",
              " '▁kb': 46346,\n",
              " '▁Sabina': 84175,\n",
              " '▁boosted': 16563,\n",
              " '▁jotted': 106558,\n",
              " '▁Lewisham': 79170,\n",
              " 'mbps': 106405,\n",
              " '▁1879': 35587,\n",
              " 'Athens': 118949,\n",
              " '▁Arbitr': 107756,\n",
              " '▁indictment': 18619,\n",
              " '▁extremly': 76793,\n",
              " 'hira': 49107,\n",
              " 'foy': 107231,\n",
              " '▁cranial': 53298,\n",
              " '▁vanguard': 50536,\n",
              " 'Hero': 53975,\n",
              " 'wav': 77602,\n",
              " 'LL': 17145,\n",
              " '▁turmeric': 25870,\n",
              " 'Prince': 41776,\n",
              " 'SHOP': 79764,\n",
              " '▁Mario': 9379,\n",
              " 'ȯ': 127228,\n",
              " '▁imports': 11181,\n",
              " '▁Winds': 28050,\n",
              " '▁Bom': 60843,\n",
              " 'IOC': 83461,\n",
              " '▁OTC': 34545,\n",
              " '▁Bao': 39015,\n",
              " '▁Keira': 69630,\n",
              " 'emma': 72854,\n",
              " '嚴': 126366,\n",
              " '▁Carter': 7345,\n",
              " '▁Asbestos': 45584,\n",
              " '▁gb': 58707,\n",
              " 'cdc': 77894,\n",
              " '▁Unusually': 100444,\n",
              " '▁Chak': 64609,\n",
              " '▁Vario': 103246,\n",
              " '▁terms': 1169,\n",
              " 'crit': 48031,\n",
              " 'ISP': 39763,\n",
              " '▁pacemaker': 50500,\n",
              " 'leek': 100856,\n",
              " '▁Morti': 106938,\n",
              " '▁leaving': 2042,\n",
              " '▁multiplexed': 109621,\n",
              " '▁Caught': 43257,\n",
              " '▁undercoat': 101348,\n",
              " '▁Darwinian': 76537,\n",
              " '▁Kyla': 97736,\n",
              " 'IND': 41836,\n",
              " 'ernal': 65306,\n",
              " '异': 123626,\n",
              " '▁lords': 38922,\n",
              " '▁reticulum': 89434,\n",
              " '🌊': 125497,\n",
              " 'yme': 61929,\n",
              " '▁Iguodala': 103809,\n",
              " '▁Dance': 6839,\n",
              " '▁Yesterday': 9201,\n",
              " '▁Invest': 18401,\n",
              " '▁neurotransmitter': 54270,\n",
              " 'killed': 78471,\n",
              " '▁Babson': 102862,\n",
              " 'ween': 45153,\n",
              " '▁blustery': 77649,\n",
              " '▁textbooks': 18388,\n",
              " '▁flushed': 31876,\n",
              " '▁Noodles': 62999,\n",
              " '▁criticise': 44707,\n",
              " '▁Copp': 46185,\n",
              " '▁eager': 7534,\n",
              " 'atlas': 103260,\n",
              " '▁Cecilia': 39676,\n",
              " '▁Bump': 39998,\n",
              " '▁permit': 4810,\n",
              " '▁Drinking': 23906,\n",
              " '▁Gle': 46741,\n",
              " 'Atlanta': 74302,\n",
              " 'olen': 75296,\n",
              " '▁SEAL': 34790,\n",
              " '▁SHOCK': 89609,\n",
              " 'atsi': 102348,\n",
              " '米': 122529,\n",
              " '▁traversing': 49265,\n",
              " 'pyr': 62561,\n",
              " '▁suppose': 5827,\n",
              " '▁guided': 6807,\n",
              " '▁saj': 95374,\n",
              " 'reference': 32553,\n",
              " '▁Declaration': 16982,\n",
              " '▁drones': 13909,\n",
              " '▁bala': 99096,\n",
              " '▁bdrm': 104372,\n",
              " '▁Life': 1982,\n",
              " '▁clamping': 43192,\n",
              " '▁RRSP': 76968,\n",
              " 'ил': 68337,\n",
              " '▁Schengen': 62059,\n",
              " '▁dwarfs': 60562,\n",
              " 'Cu': 32165,\n",
              " '▁Leander': 85756,\n",
              " '▁loveseat': 22016,\n",
              " 'FFA': 102465,\n",
              " 'adora': 59282,\n",
              " '▁cul': 30530,\n",
              " '▁Il': 13790,\n",
              " 'dade': 74228,\n",
              " '凍': 126443,\n",
              " '▁Barkley': 37544,\n",
              " 'Fool': 105632,\n",
              " '▁INVEST': 76971,\n",
              " '▁inscribed': 31715,\n",
              " '▁MASH': 114857,\n",
              " '▁Thau': 116917,\n",
              " 'fuzzy': 119902,\n",
              " '▁Khamenei': 66104,\n",
              " '▁managerial': 23594,\n",
              " 'og': 21528,\n",
              " 'illus': 69109,\n",
              " '▁voir': 77915,\n",
              " '▁Franch': 119829,\n",
              " '▁Spud': 87283,\n",
              " '▁booklets': 49528,\n",
              " '▁Nougat': 61715,\n",
              " '▁Warwickshire': 46563,\n",
              " '▁spirals': 60093,\n",
              " '▁merlin': 99376,\n",
              " '▁RLS': 92630,\n",
              " '▁insinuation': 90524,\n",
              " '▁Hepatic': 116565,\n",
              " '▁Marrow': 79981,\n",
              " '▁Nikolaj': 118578,\n",
              " 'Ohio': 43041,\n",
              " 'Universal': 60640,\n",
              " '▁Subject': 11819,\n",
              " '▁genres': 12409,\n",
              " '▁blades': 11689,\n",
              " '▁administration': 2234,\n",
              " '▁Giant': 14248,\n",
              " 'pic': 22140,\n",
              " '▁Amigo': 64101,\n",
              " '▁circ': 69194,\n",
              " '▁collie': 56725,\n",
              " '▁waiting': 1925,\n",
              " '▁Plenary': 88513,\n",
              " '▁02': 7732,\n",
              " 'mae': 71904,\n",
              " '▁Stable': 33082,\n",
              " '▁Freeze': 33020,\n",
              " '▁pothole': 66039,\n",
              " '▁subscript': 113695,\n",
              " '▁temporarily': 8653,\n",
              " 'ambu': 44669,\n",
              " '▁McEnroe': 109544,\n",
              " 'bur': 20866,\n",
              " '译': 123456,\n",
              " 'rën': 118582,\n",
              " 'snack': 87933,\n",
              " '🇷': 124100,\n",
              " '▁egos': 49827,\n",
              " '▁dullness': 96010,\n",
              " '▁Afraid': 52577,\n",
              " '▁Keynes': 34117,\n",
              " '▁truce': 41038,\n",
              " '▁Presario': 121533,\n",
              " 'zuki': 55861,\n",
              " '▁Trail': 6805,\n",
              " '▁Johnathan': 77270,\n",
              " '▁tracking': 4462,\n",
              " '▁oscillate': 61847,\n",
              " '▁Camouflage': 91959,\n",
              " '播': 123145,\n",
              " '▁Ross': 6088,\n",
              " 'NT': 14017,\n",
              " '▁Ent': 26661,\n",
              " '▁Enneagram': 113915,\n",
              " '▁synonyms': 43721,\n",
              " '▁softener': 38789,\n",
              " '▁Levesque': 120379,\n",
              " 'خ': 47936,\n",
              " '▁unvarnished': 116362,\n",
              " '▁impulse': 17811,\n",
              " '▁delirious': 74611,\n",
              " '▁Nebo': 111786,\n",
              " '약': 114738,\n",
              " 'Certification': 116273,\n",
              " '▁parcels': 26096,\n",
              " 'summary': 91230,\n",
              " '▁Enzo': 54187,\n",
              " '▁Dolores': 45416,\n",
              " 'portable': 54810,\n",
              " 'booth': 67864,\n",
              " 'ਰ': 101694,\n",
              " '▁Watergate': 49964,\n",
              " '▁pipelines': 22618,\n",
              " '▁Lolo': 95350,\n",
              " 'cleared': 106042,\n",
              " '▁Destroyed': 104215,\n",
              " '▁Niall': 47457,\n",
              " '▁Copying': 85969,\n",
              " 'Planner': 120568,\n",
              " '▁buffering': 57905,\n",
              " '▁Ghee': 106669,\n",
              " 'ioni': 76700,\n",
              " '▁delude': 114142,\n",
              " '▁Choices': 37727,\n",
              " '▁surrogates': 80617,\n",
              " '▁Scattering': 109123,\n",
              " '▁Maple': 12546,\n",
              " '▁Auld': 96704,\n",
              " '▁teething': 47712,\n",
              " 'હ': 122929,\n",
              " '▁Supra': 48331,\n",
              " '▁soundly': 50000,\n",
              " '▁Bayside': 70005,\n",
              " '▁Main': 4774,\n",
              " 'holistic': 100994,\n",
              " '▁Acacia': 56110,\n",
              " '▁Abdallah': 103373,\n",
              " '▁immanent': 106780,\n",
              " 'should': 19432,\n",
              " '▁Hornby': 88871,\n",
              " '▁overtures': 83659,\n",
              " '▁Lenders': 44303,\n",
              " '▁Repetition': 97938,\n",
              " '▁GaN': 96620,\n",
              " 'shelter': 77450,\n",
              " '▁ontology': 48300,\n",
              " 'zón': 113096,\n",
              " '59': 5810,\n",
              " 'parking': 66252,\n",
              " '▁Noise': 21967,\n",
              " '▁Waco': 40599,\n",
              " '▁dab': 33111,\n",
              " '▁mattered': 26547,\n",
              " '▁bituminous': 115856,\n",
              " 'से': 119301,\n",
              " '▁gun': 2863,\n",
              " '▁sweetly': 51462,\n",
              " '▁Pending': 55780,\n",
              " '▁418': 58548,\n",
              " '▁Overlook': 68704,\n",
              " '▁cf': 23620,\n",
              " 'ruti': 77926,\n",
              " 'ක්': 97106,\n",
              " '飛': 123962,\n",
              " '맹': 126256,\n",
              " 'actualization': 110730,\n",
              " '▁Loud': 32958,\n",
              " '▁Arun': 34459,\n",
              " '▁contrib': 104081,\n",
              " '▁FOOT': 80946,\n",
              " 'CNT': 94308,\n",
              " '▁seldom': 15706,\n",
              " '▁hormonal': 21988,\n",
              " '▁mums': 33335,\n",
              " '▁priestly': 66568,\n",
              " '≥': 88585,\n",
              " '▁Hostgator': 109745,\n",
              " 'conquer': 77006,\n",
              " 'bic': 41316,\n",
              " '▁carpeted': 53313,\n",
              " '▁sear': 65366,\n",
              " 'portal': 54835,\n",
              " 'anca': 66083,\n",
              " '▁Icahn': 75405,\n",
              " 'ZM': 85813,\n",
              " '番': 122618,\n",
              " 'download': 18852,\n",
              " 'ellar': 51989,\n",
              " 'selective': 53479,\n",
              " '▁fourth': 2532,\n",
              " '▁bullish': 23798,\n",
              " '▁maar': 72099,\n",
              " '▁Nicklas': 97815,\n",
              " '▁bifold': 103212,\n",
              " 'clinical': 38353,\n",
              " '▁1774': 76718,\n",
              " '▁worshipping': 49993,\n",
              " '▁orthogonal': 51248,\n",
              " 'annual': 31428,\n",
              " '▁requiring': 6341,\n",
              " '▁Cholesterol': 61667,\n",
              " 'localhost': 81010,\n",
              " '▁tying': 17094,\n",
              " 'TSX': 46004,\n",
              " 'ARRY': 75825,\n",
              " 'vinci': 85134,\n",
              " '▁ready': 1041,\n",
              " '▁JW': 27973,\n",
              " '▁SIAM': 107208,\n",
              " '▁RESULT': 72599,\n",
              " '▁Loose': 29318,\n",
              " '現': 94941,\n",
              " '▁disappearing': 21926,\n",
              " '▁Tule': 115381,\n",
              " '▁transgenic': 41629,\n",
              " '▁veneer': 25446,\n",
              " 'crossed': 62373,\n",
              " '▁triggered': 9386,\n",
              " 'ന്': 118360,\n",
              " '▁ser': 16639,\n",
              " '▁neighbours': 13469,\n",
              " '▁gru': 85078,\n",
              " '▁Golgi': 101724,\n",
              " 'ithi': 67132,\n",
              " '▁profil': 107341,\n",
              " '▁calves': 26369,\n",
              " 'ologie': 36654,\n",
              " 'ô': 22873,\n",
              " 'DIC': 53075,\n",
              " '▁Sill': 50485,\n",
              " '▁collapsible': 55766,\n",
              " '▁Member': 5322,\n",
              " '▁Benchmark': 35916,\n",
              " '▁overall': 1629,\n",
              " '▁Gaur': 105774,\n",
              " '▁kayakers': 100107,\n",
              " '▁Carving': 77125,\n",
              " '▁thunderbolt': 95108,\n",
              " '▁suggestive': 33658,\n",
              " '▁rapier': 113284,\n",
              " '▁solicit': 25758,\n",
              " '▁OTHER': 18524,\n",
              " '▁damp': 13558,\n",
              " '▁Buzz': 20213,\n",
              " '▁mythical': 26231,\n",
              " '▁planned': 2784,\n",
              " '▁decker': 92150,\n",
              " '▁Tinnitus': 101841,\n",
              " '▁Ernesto': 54155,\n",
              " 'FDI': 98844,\n",
              " 'Heath': 115505,\n",
              " '▁Fahad': 120845,\n",
              " '▁Curse': 36965,\n",
              " '▁Neko': 85517,\n",
              " '▁abundant': 10767,\n",
              " '▁aforesaid': 48622,\n",
              " '▁SCD': 77238,\n",
              " '28': 3686,\n",
              " '▁eyebrows': 18720,\n",
              " '▁mal': 19118,\n",
              " 'ntar': 83811,\n",
              " '▁CRISIL': 87534,\n",
              " '▁Retrospective': 75184,\n",
              " '▁Remnant': 75568,\n",
              " 'ро': 37531,\n",
              " '▁Hooker': 93094,\n",
              " '▁Distance': 18551,\n",
              " '▁Dartford': 95382,\n",
              " '▁blending': 15610,\n",
              " '담': 122601,\n",
              " '▁interpolation': 52903,\n",
              " '▁bookstore': 20464,\n",
              " 'ി': 44377,\n",
              " '▁country': 658,\n",
              " '▁campground': 23755,\n",
              " '▁WBO': 86817,\n",
              " '킨': 123788,\n",
              " '▁McLeod': 45273,\n",
              " '▁Indicates': 66030,\n",
              " '▁Samantha': 17239,\n",
              " '▁Fermi': 62591,\n",
              " '▁imbalanced': 84650,\n",
              " 'ĩ': 122725,\n",
              " '▁quixotic': 114620,\n",
              " '悦': 127431,\n",
              " 'tter': 23478,\n",
              " 'schema': 83993,\n",
              " '▁Mih': 85580,\n",
              " '▁fictitious': 38323,\n",
              " 'peptidase': 96608,\n",
              " 'BOOK': 50447,\n",
              " '▁essentially': 4503,\n",
              " '▁Holes': 60606,\n",
              " 'throughput': 56246,\n",
              " '寛': 127536,\n",
              " '▁Milano': 36377,\n",
              " 'Emerick': 103197,\n",
              " 'cephal': 49842,\n",
              " '▁winemakers': 59595,\n",
              " '▁변': 109200,\n",
              " '▁striped': 18964,\n",
              " '▁uninstaller': 109987,\n",
              " '▁glaring': 28034,\n",
              " '▁neutrinos': 87188,\n",
              " '弃': 126804,\n",
              " '▁Diamond': 7712,\n",
              " '▁captures': 12232,\n",
              " '▁Bick': 88196,\n",
              " '▁Extravaganza': 88202,\n",
              " '▁Abreu': 80474,\n",
              " '▁passwords': 13405,\n",
              " '▁NG': 27901,\n",
              " '▁coughing': 28052,\n",
              " '▁clay': 8076,\n",
              " '▁Moni': 65064,\n",
              " '▁Gatti': 94011,\n",
              " '▁adiabatic': 117139,\n",
              " 'transformed': 102002,\n",
              " '▁POP': 25665,\n",
              " 'urgeon': 69558,\n",
              " 'рус': 84368,\n",
              " '▁sunburst': 98495,\n",
              " '▁Sybil': 77307,\n",
              " 'section': 14694,\n",
              " '▁chiropractors': 51522,\n",
              " '▁Alexandr': 53913,\n",
              " '▁skies': 12600,\n",
              " '▁Warnings': 74291,\n",
              " '▁notary': 48023,\n",
              " '▁parenting': 10982,\n",
              " '▁biodiesel': 51344,\n",
              " '▁launching': 7845,\n",
              " '▁advertises': 64324,\n",
              " 'kul': 37127,\n",
              " 'Fa': 31538,\n",
              " 'cabinet': 85634,\n",
              " '▁obscured': 35163,\n",
              " '▁Aviva': 57773,\n",
              " '▁winnings': 30285,\n",
              " '▁Kubota': 83681,\n",
              " '▁Deploying': 103030,\n",
              " 'alar': 85586,\n",
              " '▁porridge': 43615,\n",
              " '226': 30021,\n",
              " '▁eschew': 58818,\n",
              " '堆': 125375,\n",
              " '▁Sebelius': 111456,\n",
              " '▁Elbow': 47979,\n",
              " '硕': 126971,\n",
              " '▁miller': 53829,\n",
              " '▁Tabata': 101261,\n",
              " '▁castles': 26733,\n",
              " '胜': 125300,\n",
              " '▁Parm': 74501,\n",
              " 'ometri': 70141,\n",
              " 'chard': 48671,\n",
              " '▁douche': 66308,\n",
              " '▁mittens': 55400,\n",
              " 'ː': 66984,\n",
              " '▁Thanh': 69586,\n",
              " '▁tabloid': 40534,\n",
              " 'Move': 45527,\n",
              " '▁deservedly': 74089,\n",
              " 'DA': 13975,\n",
              " '▁Sander': 50060,\n",
              " '▁convening': 65907,\n",
              " '▁keyless': 41791,\n",
              " '▁Zon': 78011,\n",
              " '▁Lua': 51205,\n",
              " 'VGA': 85461,\n",
              " 'enthal': 52073,\n",
              " '▁Fanning': 66780,\n",
              " '▁Avg': 71101,\n",
              " 'drawer': 93937,\n",
              " '▁Klassen': 111956,\n",
              " '▁QUI': 51318,\n",
              " '▁collaborated': 17892,\n",
              " '▁Hideki': 111714,\n",
              " 'Category': 67724,\n",
              " '▁prolific': 16989,\n",
              " '▁Etheridge': 106510,\n",
              " 'major': 30588,\n",
              " 'disorder': 90773,\n",
              " '▁slouch': 49957,\n",
              " '▁Countdown': 41961,\n",
              " '▁Proportion': 90509,\n",
              " '均': 122405,\n",
              " '▁wobble': 39361,\n",
              " 'BOO': 98437,\n",
              " 'ース': 108011,\n",
              " '氏': 124125,\n",
              " '▁acceptance': 6389,\n",
              " '▁republic': 19905,\n",
              " 'icated': 67112,\n",
              " '▁Camry': 39999,\n",
              " 'ω': 38366,\n",
              " '▁seeping': 62697,\n",
              " '▁ATTENTION': 72286,\n",
              " '▁discussed': 3232,\n",
              " '▁boutiques': 28021,\n",
              " '▁lipoprotein': 52415,\n",
              " '▁Sessions': 12360,\n",
              " '▁Vinay': 83610,\n",
              " 'Mechanical': 100196,\n",
              " '▁invitation': 7063,\n",
              " '▁ripple': 30930,\n",
              " '▁Coul': 63686,\n",
              " '▁SKI': 83143,\n",
              " '▁PATRICK': 113705,\n",
              " 'ɖ': 123772,\n",
              " 'flux': 62861,\n",
              " '▁SESSION': 84794,\n",
              " '54': 6396,\n",
              " '▁waterlogged': 96739,\n",
              " 'deleted': 76494,\n",
              " '▁alphabet': 17308,\n",
              " '▁Mailing': 52033,\n",
              " '▁confessions': 48603,\n",
              " 'Dragon': 48400,\n",
              " 'droit': 68056,\n",
              " '▁midwife': 31152,\n",
              " 'enjoy': 50188,\n",
              " '▁Crosby': 23908,\n",
              " '▁fungicides': 92548,\n",
              " '▁southbound': 37918,\n",
              " '▁redshift': 93594,\n",
              " '▁Publishers': 21011,\n",
              " '▁immunohistochemical': 99628,\n",
              " '▁starvation': 28182,\n",
              " '▁unanimity': 101700,\n",
              " '▁Falstaff': 116947,\n",
              " '▁MSNBC': 29383,\n",
              " '钟': 123940,\n",
              " 'lieu': 78819,\n",
              " '▁equinox': 62931,\n",
              " '▁Storyteller': 79490,\n",
              " '▁GPS': 7191,\n",
              " 'iano': 34340,\n",
              " '▁Consume': 68690,\n",
              " '▁Bereavement': 110839,\n",
              " 'OME': 56695,\n",
              " '佐': 124132,\n",
              " '▁eliminated': 9695,\n",
              " '▁EXPERIENCE': 51670,\n",
              " '▁Khoury': 118918,\n",
              " 'jeff': 110315,\n",
              " 'RIE': 60609,\n",
              " '▁together': 603,\n",
              " '▁779': 97430,\n",
              " '▁neutralization': 97884,\n",
              " '▁Krea': 118977,\n",
              " '▁McIlroy': 52121,\n",
              " '▁blistered': 107523,\n",
              " 'ru': 8926,\n",
              " '▁rel': 34367,\n",
              " '▁Latest': 10769,\n",
              " '▁Alcatel': 51976,\n",
              " '▁ungodly': 59499,\n",
              " '▁Grylls': 121372,\n",
              " '▻': 123556,\n",
              " 'ఇ': 125271,\n",
              " 'ese': 12525,\n",
              " '▁Solicitation': 114808,\n",
              " '▁wooing': 94094,\n",
              " 'hotels': 69580,\n",
              " '▁vesicles': 62444,\n",
              " '▁Stiff': 66515,\n",
              " '▁minimizing': 20596,\n",
              " '▁Corsa': 76302,\n",
              " '▁Cavan': 80361,\n",
              " '▁Kosh': 85548,\n",
              " '▁Congregational': 53951,\n",
              " '▁loitering': 93880,\n",
              " 'Pages': 50031,\n",
              " '▁degenerate': 49216,\n",
              " 'JEE': 105097,\n",
              " '▁Société': 84951,\n",
              " '▁tutti': 84954,\n",
              " 'Personally': 97248,\n",
              " '▁Noreen': 112416,\n",
              " '▁fedora': 71451,\n",
              " '▁Guards': 30571,\n",
              " '▁Gl': 62474,\n",
              " '▁trop': 64691,\n",
              " '×2': 49146,\n",
              " '▁BIM': 35931,\n",
              " '▁glutinous': 119585,\n",
              " '▁snapping': 26216,\n",
              " '▁Grenville': 113589,\n",
              " '▁Bandicoot': 120939,\n",
              " '▁Ratna': 67296,\n",
              " '벨': 124091,\n",
              " '▁Dubrovnik': 53682,\n",
              " '▁Gershwin': 73544,\n",
              " 'LUT': 102046,\n",
              " '▁stickers': 12343,\n",
              " '▁Pharmacies': 102096,\n",
              " '▁gjithë': 107101,\n",
              " '▁Tsuru': 111280,\n",
              " 'Zoom': 81813,\n",
              " '钉': 127667,\n",
              " '▁sympathy': 13762,\n",
              " '▁Preserving': 77430,\n",
              " '▁Simmons': 17007,\n",
              " '▁Masks': 65727,\n",
              " '▁Que': 19308,\n",
              " 'D': 691,\n",
              " 'rja': 80274,\n",
              " 'fate': 86150,\n",
              " '▁Falmouth': 48381,\n",
              " '▁Peck': 35636,\n",
              " '▁bulldozers': 88391,\n",
              " '▁Ethnicity': 91808,\n",
              " 'พ': 73904,\n",
              " '▁Goldsboro': 120030,\n",
              " '▁MacBook': 18417,\n",
              " '▁seedling': 56893,\n",
              " '▁problems': 947,\n",
              " 'grat': 49410,\n",
              " '▁temporally': 86950,\n",
              " '▁Subwoofer': 111990,\n",
              " 'archiv': 107804,\n",
              " '▁Furry': 86933,\n",
              " '▁kickass': 88279,\n",
              " '▁launcher': 30639,\n",
              " '▁Automotive': 13946,\n",
              " '▁Kraus': 65399,\n",
              " '▁Acoustics': 80717,\n",
              " '▁Ged': 48755,\n",
              " '▁Buca': 117178,\n",
              " '▁aromatase': 116987,\n",
              " '▁SURE': 50958,\n",
              " 'ussy': 60223,\n",
              " '▁Vai': 41540,\n",
              " '▁Waa': 98324,\n",
              " '▁Nowitzki': 98877,\n",
              " '▁Crimp': 105860,\n",
              " '▁hottest': 11914,\n",
              " 'ון': 122108,\n",
              " '▁ICU': 29917,\n",
              " '▁ONCE': 65447,\n",
              " '▁Blac': 85951,\n",
              " 'though': 9831,\n",
              " '▁discus': 61699,\n",
              " 'apprentice': 121479,\n",
              " '▁Bagel': 65552,\n",
              " '▁pagan': 24113,\n",
              " '▁wandered': 20713,\n",
              " '▁authoring': 38206,\n",
              " '▁sherpa': 118900,\n",
              " '▁Accident': 25205,\n",
              " '▁Cyborg': 70592,\n",
              " 'NSS': 94043,\n",
              " '▁accidentally': 10500,\n",
              " '▁위': 100553,\n",
              " 'spaces': 61866,\n",
              " '▁phd': 65928,\n",
              " '▁angry': 5355,\n",
              " '▁Madhav': 79085,\n",
              " '▁Physiotherapy': 53781,\n",
              " '▁pala': 60183,\n",
              " '▁buys': 21836,\n",
              " '▁Deeply': 72013,\n",
              " '▁Observer': 24752,\n",
              " '▁crusader': 59609,\n",
              " '▁nullify': 64858,\n",
              " '▁BASH': 113189,\n",
              " '찌': 126539,\n",
              " '▁Qualification': 36781,\n",
              " 'proving': 76315,\n",
              " 'Leica': 105791,\n",
              " 'succinate': 104825,\n",
              " 'jewel': 74145,\n",
              " '▁Cautious': 118387,\n",
              " '▁nubuck': 112586,\n",
              " '▁mla': 89233,\n",
              " '▁saved': 3481,\n",
              " 'ラ': 44625,\n",
              " '▁caution': 10206,\n",
              " '▁decommissioned': 66799,\n",
              " '▁proviso': 68772,\n",
              " '▁chimp': 91703,\n",
              " 'jiao': 117966,\n",
              " 'kins': 20225,\n",
              " '▁Brom': 32883,\n",
              " '▁Celeb': 52672,\n",
              " '▁Auf': 40683,\n",
              " '▁prefers': 18354,\n",
              " '▁XF': 50151,\n",
              " '▁cowgirl': 85167,\n",
              " '▁athleisure': 112660,\n",
              " '▁Buen': 108094,\n",
              " '▁Holstein': 75130,\n",
              " '▁Stock': 5670,\n",
              " '▁MLA': 25257,\n",
              " '439': 45627,\n",
              " '▁Hawa': 97611,\n",
              " '▁bushfire': 77972,\n",
              " '▁soapstone': 104314,\n",
              " '▁STRONG': 60504,\n",
              " '▁Wilder': 22569,\n",
              " '▁balm': 24920,\n",
              " '▁Relevance': 81772,\n",
              " '▁Glazer': 84299,\n",
              " 'Leadership': 88410,\n",
              " 'ONE': 22449,\n",
              " '▁Lampoon': 112526,\n",
              " '▁Did': 2709,\n",
              " '▁Tbilisi': 60627,\n",
              " '▁Krsna': 80945,\n",
              " 'Davies': 108055,\n",
              " '▁Krom': 102409,\n",
              " '▁savanna': 75781,\n",
              " '▁laureate': 46198,\n",
              " '▁HEA': 81713,\n",
              " '▁subordination': 91033,\n",
              " '▁Rarely': 41799,\n",
              " 'К': 49775,\n",
              " 'GOLD': 93102,\n",
              " '▁Distracted': 107742,\n",
              " '▁Daisuke': 113267,\n",
              " '▁parlance': 71667,\n",
              " 'EEG': 99161,\n",
              " '▁432': 47035,\n",
              " '▁Dragonfly': 70785,\n",
              " '▁encrusted': 77233,\n",
              " '▁Biologist': 81460,\n",
              " '▁Dislike': 108270,\n",
              " 'aï': 52153,\n",
              " 'onnie': 64355,\n",
              " '琳': 126276,\n",
              " '▁Reliable': 28898,\n",
              " '딱': 126727,\n",
              " '▁1833': 51492,\n",
              " 'bind': 52091,\n",
              " 'Senator': 85412,\n",
              " '▁INPUT': 111547,\n",
              " '▁Ziggy': 74337,\n",
              " 'ausch': 113520,\n",
              " '▁Labelle': 121624,\n",
              " 'Housing': 88867,\n",
              " 'zzer': 107513,\n",
              " '▁concret': 82570,\n",
              " 'stellar': 81117,\n",
              " '▁Woot': 82604,\n",
              " '▁richness': 21519,\n",
              " '▁Healy': 44432,\n",
              " '▁Retweet': 117969,\n",
              " '▁postal': 15800,\n",
              " 'Blast': 79206,\n",
              " '▁Leon': 12407,\n",
              " 'schen': 41881,\n",
              " '▁Cracker': 56693,\n",
              " '▁markers': 10085,\n",
              " 'atro': 79510,\n",
              " 'skie': 62163,\n",
              " '▁Mosaic': 28164,\n",
              " '▁Peterborough': 30907,\n",
              " 'acoustic': 47162,\n",
              " '▁VERSION': 85204,\n",
              " '▁Blow': 28886,\n",
              " '▁dangling': 33302,\n",
              " 'bloom': 49795,\n",
              " '▁translucent': 24032,\n",
              " '▁Broking': 120085,\n",
              " 'soul': 30861,\n",
              " 'eu': 11920,\n",
              " '}': 14986,\n",
              " '▁hazelnuts': 66748,\n",
              " '▁Tracer': 88846,\n",
              " '▁summoned': 22599,\n",
              " '▁VIR': 75759,\n",
              " '▁polyester': 13668,\n",
              " '▁Jenson': 89076,\n",
              " '▁congregations': 28039,\n",
              " '▁Transferring': 91480,\n",
              " '听': 123624,\n",
              " '509': 38834,\n",
              " '▁Alligator': 66426,\n",
              " '습': 119084,\n",
              " '▁Severin': 99752,\n",
              " '▁choreographic': 106644,\n",
              " '▁Flanagan': 42333,\n",
              " 'want': 27364,\n",
              " '▁Cribb': 106485,\n",
              " 'swimming': 90719,\n",
              " '▁peppery': 72380,\n",
              " '▁wickedly': 86046,\n",
              " '▁photography': 3887,\n",
              " '▁Tutors': 56552,\n",
              " 'ieger': 91012,\n",
              " '▁conjugal': 112088,\n",
              " 'neum': 76835,\n",
              " 'ṟ': 125151,\n",
              " '▁DUP': 47024,\n",
              " '▁marries': 43153,\n",
              " '▁BLOG': 45494,\n",
              " '▁handcuffed': 53614,\n",
              " 'URS': 80251,\n",
              " '▁SELLER': 90582,\n",
              " '▁Gillies': 101260,\n",
              " '▁gully': 73922,\n",
              " 'Chad': 103893,\n",
              " '▁receipts': 16511,\n",
              " 'vue': 65196,\n",
              " '▁Breitbart': 37625,\n",
              " '▁motors': 14001,\n",
              " '▁camper': 21560,\n",
              " '▁Walnut': 21461,\n",
              " '▁statist': 85942,\n",
              " '▁priests': 12486,\n",
              " '▁Sche': 26234,\n",
              " 'ଗ': 125541,\n",
              " '▁Chime': 65103,\n",
              " ...}"
            ]
          },
          "metadata": {},
          "execution_count": 17
        }
      ],
      "source": [
        "tokz.vocab #maintains list of words with tokens"
      ]
    },
    {
      "cell_type": "code",
      "execution_count": 18,
      "metadata": {
        "colab": {
          "base_uri": "https://localhost:8080/"
        },
        "id": "fPWfnjcrD5zC",
        "outputId": "a06c1e93-a125-47f3-8008-3ef1062ce29f"
      },
      "outputs": [
        {
          "output_type": "execute_result",
          "data": {
            "text/plain": [
              "1580"
            ]
          },
          "metadata": {},
          "execution_count": 18
        }
      ],
      "source": [
        "tokz.vocab['of']"
      ]
    },
    {
      "cell_type": "code",
      "execution_count": 19,
      "metadata": {
        "id": "1JTPg1JvD5zC"
      },
      "outputs": [],
      "source": [
        "#Finally we need to prepare our labels. Transformers always assumes that your labels has the column name labels, but currently it is score, hence we need to change it\n",
        "\n",
        "tok_ds = tok_ds.rename_columns({'score': 'labels'})"
      ]
    },
    {
      "cell_type": "code",
      "execution_count": 20,
      "metadata": {
        "id": "ch6nvld8D5zD"
      },
      "outputs": [],
      "source": [
        "#Now that we have prepared our tokens and lables we need ot create our validation set"
      ]
    },
    {
      "cell_type": "markdown",
      "metadata": {
        "id": "IsYhug4dD5zD"
      },
      "source": [
        "Test and validation sets"
      ]
    },
    {
      "cell_type": "code",
      "execution_count": 22,
      "metadata": {
        "colab": {
          "base_uri": "https://localhost:8080/",
          "height": 175
        },
        "id": "hvHfqL-ED5zD",
        "outputId": "5443061d-33b2-4ea4-a4e0-393664a119c4"
      },
      "outputs": [
        {
          "output_type": "execute_result",
          "data": {
            "text/plain": [
              "                      id      anchor                         target context\n",
              "count                 36          36                             36      36\n",
              "unique                36          34                             36      29\n",
              "top     4112d61851461f60  el display  inorganic photoconductor drum     G02\n",
              "freq                   1           2                              1       3"
            ],
            "text/html": [
              "\n",
              "  <div id=\"df-27358aff-4f3a-41d5-bd92-95f7458c36c9\">\n",
              "    <div class=\"colab-df-container\">\n",
              "      <div>\n",
              "<style scoped>\n",
              "    .dataframe tbody tr th:only-of-type {\n",
              "        vertical-align: middle;\n",
              "    }\n",
              "\n",
              "    .dataframe tbody tr th {\n",
              "        vertical-align: top;\n",
              "    }\n",
              "\n",
              "    .dataframe thead th {\n",
              "        text-align: right;\n",
              "    }\n",
              "</style>\n",
              "<table border=\"1\" class=\"dataframe\">\n",
              "  <thead>\n",
              "    <tr style=\"text-align: right;\">\n",
              "      <th></th>\n",
              "      <th>id</th>\n",
              "      <th>anchor</th>\n",
              "      <th>target</th>\n",
              "      <th>context</th>\n",
              "    </tr>\n",
              "  </thead>\n",
              "  <tbody>\n",
              "    <tr>\n",
              "      <th>count</th>\n",
              "      <td>36</td>\n",
              "      <td>36</td>\n",
              "      <td>36</td>\n",
              "      <td>36</td>\n",
              "    </tr>\n",
              "    <tr>\n",
              "      <th>unique</th>\n",
              "      <td>36</td>\n",
              "      <td>34</td>\n",
              "      <td>36</td>\n",
              "      <td>29</td>\n",
              "    </tr>\n",
              "    <tr>\n",
              "      <th>top</th>\n",
              "      <td>4112d61851461f60</td>\n",
              "      <td>el display</td>\n",
              "      <td>inorganic photoconductor drum</td>\n",
              "      <td>G02</td>\n",
              "    </tr>\n",
              "    <tr>\n",
              "      <th>freq</th>\n",
              "      <td>1</td>\n",
              "      <td>2</td>\n",
              "      <td>1</td>\n",
              "      <td>3</td>\n",
              "    </tr>\n",
              "  </tbody>\n",
              "</table>\n",
              "</div>\n",
              "      <button class=\"colab-df-convert\" onclick=\"convertToInteractive('df-27358aff-4f3a-41d5-bd92-95f7458c36c9')\"\n",
              "              title=\"Convert this dataframe to an interactive table.\"\n",
              "              style=\"display:none;\">\n",
              "        \n",
              "  <svg xmlns=\"http://www.w3.org/2000/svg\" height=\"24px\"viewBox=\"0 0 24 24\"\n",
              "       width=\"24px\">\n",
              "    <path d=\"M0 0h24v24H0V0z\" fill=\"none\"/>\n",
              "    <path d=\"M18.56 5.44l.94 2.06.94-2.06 2.06-.94-2.06-.94-.94-2.06-.94 2.06-2.06.94zm-11 1L8.5 8.5l.94-2.06 2.06-.94-2.06-.94L8.5 2.5l-.94 2.06-2.06.94zm10 10l.94 2.06.94-2.06 2.06-.94-2.06-.94-.94-2.06-.94 2.06-2.06.94z\"/><path d=\"M17.41 7.96l-1.37-1.37c-.4-.4-.92-.59-1.43-.59-.52 0-1.04.2-1.43.59L10.3 9.45l-7.72 7.72c-.78.78-.78 2.05 0 2.83L4 21.41c.39.39.9.59 1.41.59.51 0 1.02-.2 1.41-.59l7.78-7.78 2.81-2.81c.8-.78.8-2.07 0-2.86zM5.41 20L4 18.59l7.72-7.72 1.47 1.35L5.41 20z\"/>\n",
              "  </svg>\n",
              "      </button>\n",
              "      \n",
              "  <style>\n",
              "    .colab-df-container {\n",
              "      display:flex;\n",
              "      flex-wrap:wrap;\n",
              "      gap: 12px;\n",
              "    }\n",
              "\n",
              "    .colab-df-convert {\n",
              "      background-color: #E8F0FE;\n",
              "      border: none;\n",
              "      border-radius: 50%;\n",
              "      cursor: pointer;\n",
              "      display: none;\n",
              "      fill: #1967D2;\n",
              "      height: 32px;\n",
              "      padding: 0 0 0 0;\n",
              "      width: 32px;\n",
              "    }\n",
              "\n",
              "    .colab-df-convert:hover {\n",
              "      background-color: #E2EBFA;\n",
              "      box-shadow: 0px 1px 2px rgba(60, 64, 67, 0.3), 0px 1px 3px 1px rgba(60, 64, 67, 0.15);\n",
              "      fill: #174EA6;\n",
              "    }\n",
              "\n",
              "    [theme=dark] .colab-df-convert {\n",
              "      background-color: #3B4455;\n",
              "      fill: #D2E3FC;\n",
              "    }\n",
              "\n",
              "    [theme=dark] .colab-df-convert:hover {\n",
              "      background-color: #434B5C;\n",
              "      box-shadow: 0px 1px 3px 1px rgba(0, 0, 0, 0.15);\n",
              "      filter: drop-shadow(0px 1px 2px rgba(0, 0, 0, 0.3));\n",
              "      fill: #FFFFFF;\n",
              "    }\n",
              "  </style>\n",
              "\n",
              "      <script>\n",
              "        const buttonEl =\n",
              "          document.querySelector('#df-27358aff-4f3a-41d5-bd92-95f7458c36c9 button.colab-df-convert');\n",
              "        buttonEl.style.display =\n",
              "          google.colab.kernel.accessAllowed ? 'block' : 'none';\n",
              "\n",
              "        async function convertToInteractive(key) {\n",
              "          const element = document.querySelector('#df-27358aff-4f3a-41d5-bd92-95f7458c36c9');\n",
              "          const dataTable =\n",
              "            await google.colab.kernel.invokeFunction('convertToInteractive',\n",
              "                                                     [key], {});\n",
              "          if (!dataTable) return;\n",
              "\n",
              "          const docLinkHtml = 'Like what you see? Visit the ' +\n",
              "            '<a target=\"_blank\" href=https://colab.research.google.com/notebooks/data_table.ipynb>data table notebook</a>'\n",
              "            + ' to learn more about interactive tables.';\n",
              "          element.innerHTML = '';\n",
              "          dataTable['output_type'] = 'display_data';\n",
              "          await google.colab.output.renderOutput(dataTable, element);\n",
              "          const docLink = document.createElement('div');\n",
              "          docLink.innerHTML = docLinkHtml;\n",
              "          element.appendChild(docLink);\n",
              "        }\n",
              "      </script>\n",
              "    </div>\n",
              "  </div>\n",
              "  "
            ]
          },
          "metadata": {},
          "execution_count": 22
        }
      ],
      "source": [
        "eval_df = pd.read_csv('test.csv')\n",
        "eval_df.describe()"
      ]
    },
    {
      "cell_type": "markdown",
      "metadata": {
        "id": "JipwUsBGD5zE"
      },
      "source": [
        "Validation set"
      ]
    },
    {
      "cell_type": "code",
      "execution_count": 23,
      "metadata": {
        "id": "P27P5deHD5zE"
      },
      "outputs": [],
      "source": [
        "#To explain the motivation, lets start simple, and imagine we are trying to fit a model where the true relationship is this quadratic:\n",
        "\n",
        "\n",
        "def f(x):\n",
        "    return -3*x**2 + 2*x + 20"
      ]
    },
    {
      "cell_type": "code",
      "execution_count": 24,
      "metadata": {
        "id": "28HxelZuD5zE"
      },
      "outputs": [],
      "source": [
        "#unfortunately matplotlib doesnt come with a way to visualize a function\n",
        "#so we will create one\n",
        "\n",
        "import numpy as np, matplotlib.pyplot as plt\n",
        "\n",
        "def plot_function(f, min=-2.1,max=2.1, color='r'):\n",
        "    x = np.linspace(min,max,100)[:,None]\n",
        "    plt.plot(x, f(x), color)"
      ]
    },
    {
      "cell_type": "code",
      "execution_count": 25,
      "metadata": {
        "colab": {
          "base_uri": "https://localhost:8080/",
          "height": 430
        },
        "id": "qMzFuDo1D5zE",
        "outputId": "d615a2c0-1b3e-40f8-979d-9276aa61c1ac"
      },
      "outputs": [
        {
          "output_type": "display_data",
          "data": {
            "text/plain": [
              "<Figure size 640x480 with 1 Axes>"
            ],
            "image/png": "[encoded data removed]"
          },
          "metadata": {}
        }
      ],
      "source": [
        "plot_function(f)"
      ]
    },
    {
      "cell_type": "code",
      "execution_count": 26,
      "metadata": {
        "id": "W_zqGMCOD5zE"
      },
      "outputs": [],
      "source": [
        "#For instance, perhaps we have measuered the height above ground of an object before and after some event. The measurement will have some random error. We can use numpy's random number generator to simulate tha. I lik to use seed when writing about simulations like this so that I know you'll see the same thing I do:"
      ]
    },
    {
      "cell_type": "code",
      "execution_count": 27,
      "metadata": {
        "id": "YcRVBF8AD5zF"
      },
      "outputs": [],
      "source": [
        "from numpy.random import normal,seed,uniform\n",
        "np.random.seed(42)"
      ]
    },
    {
      "cell_type": "code",
      "execution_count": 28,
      "metadata": {
        "id": "MkLZ08McD5zF"
      },
      "outputs": [],
      "source": [
        "#Lets create a function add_noise that adds some random variatin to an array:\n",
        "def noise(x, scale):\n",
        "    return normal(scale=scale, size=x.shape)\n",
        "\n",
        "def add_noise(x, mult, add):\n",
        "    return x*(1+noise(x, mult)) + noise(x, add)"
      ]
    },
    {
      "cell_type": "code",
      "execution_count": 29,
      "metadata": {
        "colab": {
          "base_uri": "https://localhost:8080/",
          "height": 448
        },
        "id": "69TAQEGxD5zF",
        "outputId": "c29bdcef-816b-4c33-9dd0-54291d7c6011"
      },
      "outputs": [
        {
          "output_type": "execute_result",
          "data": {
            "text/plain": [
              "<matplotlib.collections.PathCollection at 0x7efd4f66b610>"
            ]
          },
          "metadata": {},
          "execution_count": 29
        },
        {
          "output_type": "display_data",
          "data": {
            "text/plain": [
              "<Figure size 640x480 with 1 Axes>"
            ],
            "image/png": "[encoded data removed]"
          },
          "metadata": {}
        }
      ],
      "source": [
        "#Lets use it to simulate some measurements evenly distributed over time:\n",
        "\n",
        "x  = np.linspace(-2,2, num=20)[:,None]\n",
        "y = add_noise(f(x), 0.2, 1.3)\n",
        "plt.scatter(x,y)"
      ]
    },
    {
      "cell_type": "code",
      "execution_count": 30,
      "metadata": {
        "id": "OO5mdgdBD5zF"
      },
      "outputs": [],
      "source": [
        "#Now lets try to fit different function in the above dataset\n",
        "\n",
        "from sklearn.linear_model import LinearRegression\n",
        "from sklearn.preprocessing import PolynomialFeatures\n",
        "from sklearn.pipeline import make_pipeline\n",
        "\n",
        "def plot_poly(degree):\n",
        "    model = make_pipeline(PolynomialFeatures(degree), LinearRegression())\n",
        "    model.fit(x,y)\n",
        "    plt.scatter(x,y)\n",
        "    plot_function(model.predict)"
      ]
    },
    {
      "cell_type": "code",
      "execution_count": 31,
      "metadata": {
        "colab": {
          "base_uri": "https://localhost:8080/",
          "height": 430
        },
        "id": "gQiaSLFlD5zF",
        "outputId": "c274edd4-f4b1-495a-a36c-a7ea53402e69"
      },
      "outputs": [
        {
          "output_type": "display_data",
          "data": {
            "text/plain": [
              "<Figure size 640x480 with 1 Axes>"
            ],
            "image/png": "[encoded data removed]"
          },
          "metadata": {}
        }
      ],
      "source": [
        "plot_poly(1)  #1-degree equation or y = ax + b"
      ]
    },
    {
      "cell_type": "code",
      "execution_count": 32,
      "metadata": {
        "colab": {
          "base_uri": "https://localhost:8080/",
          "height": 430
        },
        "id": "sq-tl-EeD5zG",
        "outputId": "eccd8112-630d-46a2-8102-e23fb071c4ce"
      },
      "outputs": [
        {
          "output_type": "display_data",
          "data": {
            "text/plain": [
              "<Figure size 640x480 with 1 Axes>"
            ],
            "image/png": "[encoded data removed]"
          },
          "metadata": {}
        }
      ],
      "source": [
        "plot_poly(10)  #10-degree polynomial"
      ]
    },
    {
      "cell_type": "code",
      "execution_count": 33,
      "metadata": {
        "colab": {
          "base_uri": "https://localhost:8080/",
          "height": 430
        },
        "id": "xaHb3yX7D5zG",
        "outputId": "6f4c9d57-8688-4f91-b804-95983eaed7bb"
      },
      "outputs": [
        {
          "output_type": "display_data",
          "data": {
            "text/plain": [
              "<Figure size 640x480 with 1 Axes>"
            ],
            "image/png": "[encoded data removed]"
          },
          "metadata": {}
        }
      ],
      "source": [
        "#lets try a 2-degree polynomial and compare it with our defined function\n",
        "\n",
        "plot_poly(2)\n",
        "plot_function(f, color='g')\n",
        "\n",
        "\n",
        "\n",
        "#almost similar"
      ]
    },
    {
      "cell_type": "code",
      "execution_count": 34,
      "metadata": {
        "colab": {
          "base_uri": "https://localhost:8080/"
        },
        "id": "jALcze1rD5zH",
        "outputId": "15ab8380-ef74-415b-a725-dcc6781e883a"
      },
      "outputs": [
        {
          "output_type": "execute_result",
          "data": {
            "text/plain": [
              "DatasetDict({\n",
              "    train: Dataset({\n",
              "        features: ['id', 'anchor', 'target', 'context', 'labels', 'input', 'input_ids', 'token_type_ids', 'attention_mask'],\n",
              "        num_rows: 28084\n",
              "    })\n",
              "    test: Dataset({\n",
              "        features: ['id', 'anchor', 'target', 'context', 'labels', 'input', 'input_ids', 'token_type_ids', 'attention_mask'],\n",
              "        num_rows: 8389\n",
              "    })\n",
              "})"
            ]
          },
          "metadata": {},
          "execution_count": 34
        }
      ],
      "source": [
        "#Transformers uses a DatasetDict for holding your training and validationsets. To create on e that contains 25% of our data for the validationset, and 75% for the training set, use train_test_split\n",
        "\n",
        "\n",
        "dds = tok_ds.train_test_split(0.23, seed=42)\n",
        "dds"
      ]
    },
    {
      "cell_type": "markdown",
      "metadata": {
        "id": "W8fQhTxVD5zH"
      },
      "source": [
        "## N.B -- The validation set created by the transformers is called test and not validation, hence not to be confused"
      ]
    },
    {
      "cell_type": "code",
      "execution_count": 35,
      "metadata": {
        "colab": {
          "base_uri": "https://localhost:8080/",
          "height": 17,
          "referenced_widgets": [
            "57f8dff9d70c416699178b15b84c931f",
            "de7945c7e65f4c8d9d48de3b0567f9e5",
            "e586695d52954dc6b1a6269d49dbba3d",
            "f135af8123b74702aa36e3768723c762",
            "ebb176f5ea5043a2a93861fe2f300e81",
            "4cf9bbca8ca042549f90fb6d371f14b4",
            "cee8dc4eac1a47528fc809f3f161ad71",
            "18043f61728b4c6584a700536289b550",
            "09377133cf03483c865720d86437c86c",
            "b4813739c427423eae460a204eb7c581",
            "18e8fcc0a1be4f358cdc9c5a975beb07"
          ]
        },
        "id": "uwk-WnaED5zI",
        "outputId": "7da6ff40-3044-4899-88f3-8eb3b7cefeaa"
      },
      "outputs": [
        {
          "output_type": "display_data",
          "data": {
            "text/plain": [
              "Map:   0%|          | 0/36 [00:00<?, ? examples/s]"
            ],
            "application/vnd.jupyter.widget-view+json": {
              "version_major": 2,
              "version_minor": 0,
              "model_id": "57f8dff9d70c416699178b15b84c931f"
            }
          },
          "metadata": {}
        }
      ],
      "source": [
        "# we will use eval as our name for the test set, to avoid confusion with the test dataset that was created above]\n",
        "\n",
        "\n",
        "\n",
        "eval_df['input'] = 'TEXT1: ' + eval_df.context + '; TEXT2: ' + eval_df.target + '; ANC1: ' + eval_df.anchor\n",
        "\n",
        "\n",
        "eval_ds = Dataset.from_pandas(eval_df).map(tok_func, batched=True)"
      ]
    },
    {
      "cell_type": "code",
      "execution_count": 36,
      "metadata": {
        "colab": {
          "base_uri": "https://localhost:8080/"
        },
        "id": "0hI8DjxVD5zI",
        "outputId": "80369cd0-c4a2-42d4-fcb9-58666f62b6f3"
      },
      "outputs": [
        {
          "output_type": "execute_result",
          "data": {
            "text/plain": [
              "Dataset({\n",
              "    features: ['id', 'anchor', 'target', 'context', 'input', 'input_ids', 'token_type_ids', 'attention_mask'],\n",
              "    num_rows: 36\n",
              "})"
            ]
          },
          "metadata": {},
          "execution_count": 36
        }
      ],
      "source": [
        "eval_ds"
      ]
    },
    {
      "cell_type": "markdown",
      "metadata": {
        "id": "qS5QtQtSD5zI"
      },
      "source": [
        "Metrics and Correlation"
      ]
    },
    {
      "cell_type": "code",
      "execution_count": 37,
      "metadata": {
        "colab": {
          "base_uri": "https://localhost:8080/",
          "height": 270
        },
        "id": "i0c3jNuLD5zJ",
        "outputId": "df1d12b7-ffa2-4657-b4d5-19418d256307"
      },
      "outputs": [
        {
          "output_type": "execute_result",
          "data": {
            "text/plain": [
              "       MedInc  HouseAge  AveRooms  AveBedrms  Population  AveOccup  Latitude  \\\n",
              "7506   3.0550      37.0  5.152778   1.048611       729.0  5.062500     33.92   \n",
              "4720   3.0862      35.0  4.697897   1.055449      1159.0  2.216061     34.05   \n",
              "12888  2.5556      24.0  4.864905   1.129222      1631.0  2.395007     38.66   \n",
              "13344  3.0057      32.0  4.212687   0.936567      1378.0  5.141791     34.05   \n",
              "7173   1.9083      42.0  3.888554   1.039157      1535.0  4.623494     34.05   \n",
              "\n",
              "       Longitude  MedHouseVal  \n",
              "7506     -118.28        1.054  \n",
              "4720     -118.37        3.453  \n",
              "12888    -121.35        1.057  \n",
              "13344    -117.64        0.969  \n",
              "7173     -118.19        1.192  "
            ],
            "text/html": [
              "\n",
              "  <div id=\"df-c0082d91-7e7e-4a5a-a847-eca1c0511ab2\">\n",
              "    <div class=\"colab-df-container\">\n",
              "      <div>\n",
              "<style scoped>\n",
              "    .dataframe tbody tr th:only-of-type {\n",
              "        vertical-align: middle;\n",
              "    }\n",
              "\n",
              "    .dataframe tbody tr th {\n",
              "        vertical-align: top;\n",
              "    }\n",
              "\n",
              "    .dataframe thead th {\n",
              "        text-align: right;\n",
              "    }\n",
              "</style>\n",
              "<table border=\"1\" class=\"dataframe\">\n",
              "  <thead>\n",
              "    <tr style=\"text-align: right;\">\n",
              "      <th></th>\n",
              "      <th>MedInc</th>\n",
              "      <th>HouseAge</th>\n",
              "      <th>AveRooms</th>\n",
              "      <th>AveBedrms</th>\n",
              "      <th>Population</th>\n",
              "      <th>AveOccup</th>\n",
              "      <th>Latitude</th>\n",
              "      <th>Longitude</th>\n",
              "      <th>MedHouseVal</th>\n",
              "    </tr>\n",
              "  </thead>\n",
              "  <tbody>\n",
              "    <tr>\n",
              "      <th>7506</th>\n",
              "      <td>3.0550</td>\n",
              "      <td>37.0</td>\n",
              "      <td>5.152778</td>\n",
              "      <td>1.048611</td>\n",
              "      <td>729.0</td>\n",
              "      <td>5.062500</td>\n",
              "      <td>33.92</td>\n",
              "      <td>-118.28</td>\n",
              "      <td>1.054</td>\n",
              "    </tr>\n",
              "    <tr>\n",
              "      <th>4720</th>\n",
              "      <td>3.0862</td>\n",
              "      <td>35.0</td>\n",
              "      <td>4.697897</td>\n",
              "      <td>1.055449</td>\n",
              "      <td>1159.0</td>\n",
              "      <td>2.216061</td>\n",
              "      <td>34.05</td>\n",
              "      <td>-118.37</td>\n",
              "      <td>3.453</td>\n",
              "    </tr>\n",
              "    <tr>\n",
              "      <th>12888</th>\n",
              "      <td>2.5556</td>\n",
              "      <td>24.0</td>\n",
              "      <td>4.864905</td>\n",
              "      <td>1.129222</td>\n",
              "      <td>1631.0</td>\n",
              "      <td>2.395007</td>\n",
              "      <td>38.66</td>\n",
              "      <td>-121.35</td>\n",
              "      <td>1.057</td>\n",
              "    </tr>\n",
              "    <tr>\n",
              "      <th>13344</th>\n",
              "      <td>3.0057</td>\n",
              "      <td>32.0</td>\n",
              "      <td>4.212687</td>\n",
              "      <td>0.936567</td>\n",
              "      <td>1378.0</td>\n",
              "      <td>5.141791</td>\n",
              "      <td>34.05</td>\n",
              "      <td>-117.64</td>\n",
              "      <td>0.969</td>\n",
              "    </tr>\n",
              "    <tr>\n",
              "      <th>7173</th>\n",
              "      <td>1.9083</td>\n",
              "      <td>42.0</td>\n",
              "      <td>3.888554</td>\n",
              "      <td>1.039157</td>\n",
              "      <td>1535.0</td>\n",
              "      <td>4.623494</td>\n",
              "      <td>34.05</td>\n",
              "      <td>-118.19</td>\n",
              "      <td>1.192</td>\n",
              "    </tr>\n",
              "  </tbody>\n",
              "</table>\n",
              "</div>\n",
              "      <button class=\"colab-df-convert\" onclick=\"convertToInteractive('df-c0082d91-7e7e-4a5a-a847-eca1c0511ab2')\"\n",
              "              title=\"Convert this dataframe to an interactive table.\"\n",
              "              style=\"display:none;\">\n",
              "        \n",
              "  <svg xmlns=\"http://www.w3.org/2000/svg\" height=\"24px\"viewBox=\"0 0 24 24\"\n",
              "       width=\"24px\">\n",
              "    <path d=\"M0 0h24v24H0V0z\" fill=\"none\"/>\n",
              "    <path d=\"M18.56 5.44l.94 2.06.94-2.06 2.06-.94-2.06-.94-.94-2.06-.94 2.06-2.06.94zm-11 1L8.5 8.5l.94-2.06 2.06-.94-2.06-.94L8.5 2.5l-.94 2.06-2.06.94zm10 10l.94 2.06.94-2.06 2.06-.94-2.06-.94-.94-2.06-.94 2.06-2.06.94z\"/><path d=\"M17.41 7.96l-1.37-1.37c-.4-.4-.92-.59-1.43-.59-.52 0-1.04.2-1.43.59L10.3 9.45l-7.72 7.72c-.78.78-.78 2.05 0 2.83L4 21.41c.39.39.9.59 1.41.59.51 0 1.02-.2 1.41-.59l7.78-7.78 2.81-2.81c.8-.78.8-2.07 0-2.86zM5.41 20L4 18.59l7.72-7.72 1.47 1.35L5.41 20z\"/>\n",
              "  </svg>\n",
              "      </button>\n",
              "      \n",
              "  <style>\n",
              "    .colab-df-container {\n",
              "      display:flex;\n",
              "      flex-wrap:wrap;\n",
              "      gap: 12px;\n",
              "    }\n",
              "\n",
              "    .colab-df-convert {\n",
              "      background-color: #E8F0FE;\n",
              "      border: none;\n",
              "      border-radius: 50%;\n",
              "      cursor: pointer;\n",
              "      display: none;\n",
              "      fill: #1967D2;\n",
              "      height: 32px;\n",
              "      padding: 0 0 0 0;\n",
              "      width: 32px;\n",
              "    }\n",
              "\n",
              "    .colab-df-convert:hover {\n",
              "      background-color: #E2EBFA;\n",
              "      box-shadow: 0px 1px 2px rgba(60, 64, 67, 0.3), 0px 1px 3px 1px rgba(60, 64, 67, 0.15);\n",
              "      fill: #174EA6;\n",
              "    }\n",
              "\n",
              "    [theme=dark] .colab-df-convert {\n",
              "      background-color: #3B4455;\n",
              "      fill: #D2E3FC;\n",
              "    }\n",
              "\n",
              "    [theme=dark] .colab-df-convert:hover {\n",
              "      background-color: #434B5C;\n",
              "      box-shadow: 0px 1px 3px 1px rgba(0, 0, 0, 0.15);\n",
              "      filter: drop-shadow(0px 1px 2px rgba(0, 0, 0, 0.3));\n",
              "      fill: #FFFFFF;\n",
              "    }\n",
              "  </style>\n",
              "\n",
              "      <script>\n",
              "        const buttonEl =\n",
              "          document.querySelector('#df-c0082d91-7e7e-4a5a-a847-eca1c0511ab2 button.colab-df-convert');\n",
              "        buttonEl.style.display =\n",
              "          google.colab.kernel.accessAllowed ? 'block' : 'none';\n",
              "\n",
              "        async function convertToInteractive(key) {\n",
              "          const element = document.querySelector('#df-c0082d91-7e7e-4a5a-a847-eca1c0511ab2');\n",
              "          const dataTable =\n",
              "            await google.colab.kernel.invokeFunction('convertToInteractive',\n",
              "                                                     [key], {});\n",
              "          if (!dataTable) return;\n",
              "\n",
              "          const docLinkHtml = 'Like what you see? Visit the ' +\n",
              "            '<a target=\"_blank\" href=https://colab.research.google.com/notebooks/data_table.ipynb>data table notebook</a>'\n",
              "            + ' to learn more about interactive tables.';\n",
              "          element.innerHTML = '';\n",
              "          dataTable['output_type'] = 'display_data';\n",
              "          await google.colab.output.renderOutput(dataTable, element);\n",
              "          const docLink = document.createElement('div');\n",
              "          docLink.innerHTML = docLinkHtml;\n",
              "          element.appendChild(docLink);\n",
              "        }\n",
              "      </script>\n",
              "    </div>\n",
              "  </div>\n",
              "  "
            ]
          },
          "metadata": {},
          "execution_count": 37
        }
      ],
      "source": [
        "#This competition uses pearson correlation coefficient.\n",
        "#To see how it works we will use the california housing dataset\n",
        "\n",
        "\n",
        "from sklearn.datasets import fetch_california_housing\n",
        "housing = fetch_california_housing(as_frame=True)\n",
        "housing = housing['data'].join(housing['target']).sample(1000, random_state=52)\n",
        "housing.head()"
      ]
    },
    {
      "cell_type": "code",
      "execution_count": 38,
      "metadata": {
        "colab": {
          "base_uri": "https://localhost:8080/"
        },
        "id": "tnFEhFJbD5zJ",
        "outputId": "4515facf-5e57-4abd-cdce-be4b8f94430c"
      },
      "outputs": [
        {
          "output_type": "execute_result",
          "data": {
            "text/plain": [
              "array([[ 1.  , -0.12,  0.43, -0.08,  0.01, -0.07, -0.12,  0.04,  0.68],\n",
              "       [-0.12,  1.  , -0.17, -0.06, -0.31,  0.  ,  0.03, -0.13,  0.12],\n",
              "       [ 0.43, -0.17,  1.  ,  0.76, -0.09, -0.07,  0.12, -0.03,  0.21],\n",
              "       [-0.08, -0.06,  0.76,  1.  , -0.08, -0.07,  0.09,  0.  , -0.04],\n",
              "       [ 0.01, -0.31, -0.09, -0.08,  1.  ,  0.16, -0.15,  0.13,  0.  ],\n",
              "       [-0.07,  0.  , -0.07, -0.07,  0.16,  1.  , -0.16,  0.17, -0.27],\n",
              "       [-0.12,  0.03,  0.12,  0.09, -0.15, -0.16,  1.  , -0.93, -0.16],\n",
              "       [ 0.04, -0.13, -0.03,  0.  ,  0.13,  0.17, -0.93,  1.  , -0.03],\n",
              "       [ 0.68,  0.12,  0.21, -0.04,  0.  , -0.27, -0.16, -0.03,  1.  ]])"
            ]
          },
          "metadata": {},
          "execution_count": 38
        }
      ],
      "source": [
        "#We can see all the correlation coefficients for every combination of columns in this dataset by calling np.corrcoef\n",
        "\n",
        "np.set_printoptions(precision=2, suppress=True)\n",
        "np.corrcoef(housing, rowvar=False)\n",
        "\n",
        "\n",
        "#This works greate for multiple values at once."
      ]
    },
    {
      "cell_type": "code",
      "execution_count": 39,
      "metadata": {
        "colab": {
          "base_uri": "https://localhost:8080/"
        },
        "id": "3FgYJhD8D5zK",
        "outputId": "1aa72bfe-4e67-4b64-9bee-1e2dd18ac07f"
      },
      "outputs": [
        {
          "output_type": "execute_result",
          "data": {
            "text/plain": [
              "array([[1.  , 0.68],\n",
              "       [0.68, 1.  ]])"
            ]
          },
          "metadata": {},
          "execution_count": 39
        }
      ],
      "source": [
        "#but for comparing two features\n",
        "np.corrcoef(housing.MedHouseVal, housing.MedInc)"
      ]
    },
    {
      "cell_type": "code",
      "execution_count": 40,
      "metadata": {
        "id": "RUhyoka2D5zK"
      },
      "outputs": [],
      "source": [
        "def corr(x,y):\n",
        "    if np.corrcoef(x,y)[0,1] != 1:\n",
        "        return np.corrcoef(x,y)[0,1]\n",
        "    else:\n",
        "        return np.corrcoef(x,y)[0,0]"
      ]
    },
    {
      "cell_type": "code",
      "execution_count": 41,
      "metadata": {
        "colab": {
          "base_uri": "https://localhost:8080/"
        },
        "id": "R7DYjqXpD5zK",
        "outputId": "6e4e33c2-0af7-40b0-aea9-46132ffb3224"
      },
      "outputs": [
        {
          "output_type": "execute_result",
          "data": {
            "text/plain": [
              "0.6760250732906"
            ]
          },
          "metadata": {},
          "execution_count": 41
        }
      ],
      "source": [
        "corr(housing.MedHouseVal, housing.MedInc)"
      ]
    },
    {
      "cell_type": "code",
      "execution_count": 42,
      "metadata": {
        "id": "44M7MFK7D5zL"
      },
      "outputs": [],
      "source": [
        "#Now lets create a function to check two features from a  dataset and plot their correlation graph\n",
        "\n",
        "def show_corr(df, a, b):\n",
        "    x,y = df[a],df[b]\n",
        "    cr = corr(x,y)\n",
        "    plt.scatter(x,y, alpha=0.4, s=4)\n",
        "    plt.title(f'{a} vs {b};  r:{cr:.2f}')\n"
      ]
    },
    {
      "cell_type": "code",
      "execution_count": 43,
      "metadata": {
        "colab": {
          "base_uri": "https://localhost:8080/",
          "height": 452
        },
        "id": "e_Ha6VmWD5zL",
        "outputId": "12bf05d6-3796-4820-9582-74086e0a0ddb"
      },
      "outputs": [
        {
          "output_type": "display_data",
          "data": {
            "text/plain": [
              "<Figure size 640x480 with 1 Axes>"
            ],
            "image/png": "[encoded data removed]"
          },
          "metadata": {}
        }
      ],
      "source": [
        "show_corr(housing, 'MedInc', 'MedHouseVal')"
      ]
    },
    {
      "cell_type": "code",
      "execution_count": 44,
      "metadata": {
        "colab": {
          "base_uri": "https://localhost:8080/",
          "height": 452
        },
        "id": "tY-abEfYD5zM",
        "outputId": "7fa11a24-6ec7-453d-8d18-266cd409abde"
      },
      "outputs": [
        {
          "output_type": "display_data",
          "data": {
            "text/plain": [
              "<Figure size 640x480 with 1 Axes>"
            ],
            "image/png": "[encoded data removed]"
          },
          "metadata": {}
        }
      ],
      "source": [
        "show_corr(housing, 'MedInc','AveRooms')"
      ]
    },
    {
      "cell_type": "code",
      "execution_count": 45,
      "metadata": {
        "colab": {
          "base_uri": "https://localhost:8080/",
          "height": 452
        },
        "id": "NU1oHca8D5zM",
        "outputId": "e66d487d-abd8-4fee-fdaf-b27fd5748db4"
      },
      "outputs": [
        {
          "output_type": "display_data",
          "data": {
            "text/plain": [
              "<Figure size 640x480 with 1 Axes>"
            ],
            "image/png": "[encoded data removed]"
          },
          "metadata": {}
        }
      ],
      "source": [
        "#Lets try to remove the outliers and check if the value of r increase\n",
        "\n",
        "subset = housing[housing.AveRooms<15]\n",
        "show_corr(subset, 'MedInc','AveRooms')"
      ]
    },
    {
      "cell_type": "code",
      "execution_count": 46,
      "metadata": {
        "colab": {
          "base_uri": "https://localhost:8080/",
          "height": 452
        },
        "id": "a9-F1tgFD5zN",
        "outputId": "e7990d7f-cc42-44b2-b6d2-24c75d4dd668"
      },
      "outputs": [
        {
          "output_type": "display_data",
          "data": {
            "text/plain": [
              "<Figure size 640x480 with 1 Axes>"
            ],
            "image/png": "[encoded data removed]"
          },
          "metadata": {}
        }
      ],
      "source": [
        "#Here's another example\n",
        "\n",
        "show_corr(subset, 'MedHouseVal', 'AveRooms')"
      ]
    },
    {
      "cell_type": "code",
      "execution_count": 47,
      "metadata": {
        "colab": {
          "base_uri": "https://localhost:8080/"
        },
        "id": "cndtCHNwD5zN",
        "outputId": "bf6c0787-a045-46e1-bf20-25a44e81b5d9"
      },
      "outputs": [
        {
          "output_type": "execute_result",
          "data": {
            "text/plain": [
              "7506     1.054\n",
              "4720     3.453\n",
              "12888    1.057\n",
              "13344    0.969\n",
              "7173     1.192\n",
              "         ...  \n",
              "10535    2.454\n",
              "3029     0.638\n",
              "7985     1.563\n",
              "13724    0.728\n",
              "13520    2.213\n",
              "Name: MedHouseVal, Length: 1000, dtype: float64"
            ]
          },
          "metadata": {},
          "execution_count": 47
        }
      ],
      "source": [
        "housing.MedHouseVal"
      ]
    },
    {
      "cell_type": "code",
      "execution_count": 48,
      "metadata": {
        "colab": {
          "base_uri": "https://localhost:8080/",
          "height": 452
        },
        "id": "SrSvNeNfD5zO",
        "outputId": "827d76f2-3df8-4e45-ee27-2c7acab74fc9"
      },
      "outputs": [
        {
          "output_type": "display_data",
          "data": {
            "text/plain": [
              "<Figure size 640x480 with 1 Axes>"
            ],
            "image/png": "[encoded data removed]"
          },
          "metadata": {}
        }
      ],
      "source": [
        "show_corr(subset, 'HouseAge', 'AveRooms')\n"
      ]
    },
    {
      "cell_type": "markdown",
      "metadata": {
        "id": "EsXSXCBGD5zP"
      },
      "source": [
        "Transformers expects metrics to be returned as a dict, since that way the trainer knows what label to use"
      ]
    },
    {
      "cell_type": "code",
      "execution_count": 49,
      "metadata": {
        "id": "4QFX-nn9D5zP"
      },
      "outputs": [],
      "source": [
        "def  corr_d(eval_pred):\n",
        "    return {'pearson': corr(*eval_pred)}"
      ]
    },
    {
      "cell_type": "markdown",
      "metadata": {
        "id": "YJz3u45xD5zP"
      },
      "source": [
        "Training"
      ]
    },
    {
      "cell_type": "code",
      "execution_count": 50,
      "metadata": {
        "id": "YVfOZKqzD5zQ"
      },
      "outputs": [],
      "source": [
        "#Training our model\n",
        "\n",
        "from transformers import TrainingArguments, Trainer\n",
        "# we pick a batch size that fits our GPU, and small number of epochs so we can run experiments quickly\n",
        "\n",
        "bs = 128\n",
        "epochs = 4"
      ]
    },
    {
      "cell_type": "code",
      "execution_count": 51,
      "metadata": {
        "id": "Jvt085F0D5zQ"
      },
      "outputs": [],
      "source": [
        "#The most imp hyperparameter is the learning rate. Fastai provides a learning rate finder to help you figure this out. But transformers dont. The key is to find the largest value you can, but which doesnt result in training failing\n",
        "\n",
        "lr = 8e-5"
      ]
    },
    {
      "cell_type": "code",
      "execution_count": 55,
      "metadata": {
        "id": "aQFwK9Y8D5zQ"
      },
      "outputs": [],
      "source": [
        "#Transformers uses the TrainingArguments class to set up arguments.Don't worry too much about the values were using here\n",
        "\n",
        "args = TrainingArguments('outputs', learning_rate=lr, warmup_ratio=0.1, lr_scheduler_type='cosine', fp16=True,\n",
        "                         evaluation_strategy='epoch',\n",
        "                         per_device_eval_batch_size=bs,\n",
        "                         per_gpu_eval_batch_size=bs*2,\n",
        "                         num_train_epochs=epochs,\n",
        "                         weight_decay=0.01,\n",
        "                         report_to='none')"
      ]
    },
    {
      "cell_type": "code",
      "execution_count": 56,
      "metadata": {
        "colab": {
          "base_uri": "https://localhost:8080/"
        },
        "id": "p2Whf9uXD5zQ",
        "outputId": "ac2f809a-0d1f-4556-ab7e-ba408697474f"
      },
      "outputs": [
        {
          "output_type": "stream",
          "name": "stderr",
          "text": [
            "Some weights of the model checkpoint at microsoft/deberta-v3-small were not used when initializing DebertaV2ForSequenceClassification: ['lm_predictions.lm_head.dense.bias', 'mask_predictions.dense.weight', 'lm_predictions.lm_head.dense.weight', 'mask_predictions.LayerNorm.bias', 'lm_predictions.lm_head.LayerNorm.weight', 'lm_predictions.lm_head.LayerNorm.bias', 'mask_predictions.classifier.weight', 'mask_predictions.LayerNorm.weight', 'lm_predictions.lm_head.bias', 'mask_predictions.dense.bias', 'mask_predictions.classifier.bias']\n",
            "- This IS expected if you are initializing DebertaV2ForSequenceClassification from the checkpoint of a model trained on another task or with another architecture (e.g. initializing a BertForSequenceClassification model from a BertForPreTraining model).\n",
            "- This IS NOT expected if you are initializing DebertaV2ForSequenceClassification from the checkpoint of a model that you expect to be exactly identical (initializing a BertForSequenceClassification model from a BertForSequenceClassification model).\n",
            "Some weights of DebertaV2ForSequenceClassification were not initialized from the model checkpoint at microsoft/deberta-v3-small and are newly initialized: ['classifier.bias', 'pooler.dense.weight', 'pooler.dense.bias', 'classifier.weight']\n",
            "You should probably TRAIN this model on a down-stream task to be able to use it for predictions and inference.\n"
          ]
        }
      ],
      "source": [
        "#We can now create our model and Trainer which is a class which combine the data and model together\n",
        "\n",
        "\n",
        "model = AutoModelForSequenceClassification.from_pretrained(model_nm, num_labels=1)\n",
        "\n",
        "trainer = Trainer(model, args, train_dataset=dds['train'], \n",
        "                  eval_dataset=dds['test'],\n",
        "                  tokenizer=tokz,\n",
        "                  compute_metrics=corr_d)"
      ]
    },
    {
      "cell_type": "code",
      "execution_count": 57,
      "metadata": {
        "colab": {
          "base_uri": "https://localhost:8080/",
          "height": 513
        },
        "id": "R8CFn8ghD5zR",
        "outputId": "431e6fb8-f51c-400b-8a94-1a8f7dc6a731"
      },
      "outputs": [
        {
          "output_type": "display_data",
          "data": {
            "text/plain": [
              "<IPython.core.display.HTML object>"
            ],
            "text/html": [
              "\n",
              "    <div>\n",
              "      \n",
              "      <progress value='14044' max='14044' style='width:300px; height:20px; vertical-align: middle;'></progress>\n",
              "      [14044/14044 30:27, Epoch 4/4]\n",
              "    </div>\n",
              "    <table border=\"1\" class=\"dataframe\">\n",
              "  <thead>\n",
              " <tr style=\"text-align: left;\">\n",
              "      <th>Epoch</th>\n",
              "      <th>Training Loss</th>\n",
              "      <th>Validation Loss</th>\n",
              "      <th>Pearson</th>\n",
              "    </tr>\n",
              "  </thead>\n",
              "  <tbody>\n",
              "    <tr>\n",
              "      <td>1</td>\n",
              "      <td>0.033800</td>\n",
              "      <td>0.027923</td>\n",
              "      <td>0.768792</td>\n",
              "    </tr>\n",
              "    <tr>\n",
              "      <td>2</td>\n",
              "      <td>0.023100</td>\n",
              "      <td>0.030847</td>\n",
              "      <td>0.803517</td>\n",
              "    </tr>\n",
              "    <tr>\n",
              "      <td>3</td>\n",
              "      <td>0.013200</td>\n",
              "      <td>0.024256</td>\n",
              "      <td>0.820979</td>\n",
              "    </tr>\n",
              "    <tr>\n",
              "      <td>4</td>\n",
              "      <td>0.009000</td>\n",
              "      <td>0.022351</td>\n",
              "      <td>0.827746</td>\n",
              "    </tr>\n",
              "  </tbody>\n",
              "</table><p>"
            ]
          },
          "metadata": {}
        },
        {
          "output_type": "stream",
          "name": "stderr",
          "text": [
            "Using deprecated `--per_gpu_eval_batch_size` argument which will be removed in a future version. Using `--per_device_eval_batch_size` is preferred.\n",
            "Using deprecated `--per_gpu_eval_batch_size` argument which will be removed in a future version. Using `--per_device_eval_batch_size` is preferred.\n",
            "Using deprecated `--per_gpu_eval_batch_size` argument which will be removed in a future version. Using `--per_device_eval_batch_size` is preferred.\n",
            "Using deprecated `--per_gpu_eval_batch_size` argument which will be removed in a future version. Using `--per_device_eval_batch_size` is preferred.\n",
            "Using deprecated `--per_gpu_eval_batch_size` argument which will be removed in a future version. Using `--per_device_eval_batch_size` is preferred.\n",
            "Using deprecated `--per_gpu_eval_batch_size` argument which will be removed in a future version. Using `--per_device_eval_batch_size` is preferred.\n",
            "Using deprecated `--per_gpu_eval_batch_size` argument which will be removed in a future version. Using `--per_device_eval_batch_size` is preferred.\n",
            "Using deprecated `--per_gpu_eval_batch_size` argument which will be removed in a future version. Using `--per_device_eval_batch_size` is preferred.\n",
            "Using deprecated `--per_gpu_eval_batch_size` argument which will be removed in a future version. Using `--per_device_eval_batch_size` is preferred.\n",
            "Using deprecated `--per_gpu_eval_batch_size` argument which will be removed in a future version. Using `--per_device_eval_batch_size` is preferred.\n",
            "Using deprecated `--per_gpu_eval_batch_size` argument which will be removed in a future version. Using `--per_device_eval_batch_size` is preferred.\n",
            "Using deprecated `--per_gpu_eval_batch_size` argument which will be removed in a future version. Using `--per_device_eval_batch_size` is preferred.\n"
          ]
        },
        {
          "output_type": "execute_result",
          "data": {
            "text/plain": [
              "TrainOutput(global_step=14044, training_loss=0.023490219228171242, metrics={'train_runtime': 1827.2764, 'train_samples_per_second': 61.477, 'train_steps_per_second': 7.686, 'total_flos': 633681491508000.0, 'train_loss': 0.023490219228171242, 'epoch': 4.0})"
            ]
          },
          "metadata": {},
          "execution_count": 57
        }
      ],
      "source": [
        "trainer.train()"
      ]
    },
    {
      "cell_type": "code",
      "execution_count": 58,
      "metadata": {
        "colab": {
          "base_uri": "https://localhost:8080/",
          "height": 749
        },
        "id": "2b7U5ahSD5zR",
        "outputId": "050ab7ea-5d69-4fda-bfc4-737c4da3e88c"
      },
      "outputs": [
        {
          "output_type": "stream",
          "name": "stderr",
          "text": [
            "Using deprecated `--per_gpu_eval_batch_size` argument which will be removed in a future version. Using `--per_device_eval_batch_size` is preferred.\n",
            "Using deprecated `--per_gpu_eval_batch_size` argument which will be removed in a future version. Using `--per_device_eval_batch_size` is preferred.\n"
          ]
        },
        {
          "output_type": "display_data",
          "data": {
            "text/plain": [
              "<IPython.core.display.HTML object>"
            ],
            "text/html": []
          },
          "metadata": {}
        },
        {
          "output_type": "stream",
          "name": "stderr",
          "text": [
            "Using deprecated `--per_gpu_eval_batch_size` argument which will be removed in a future version. Using `--per_device_eval_batch_size` is preferred.\n"
          ]
        },
        {
          "output_type": "execute_result",
          "data": {
            "text/plain": [
              "array([[ 0.45],\n",
              "       [ 0.53],\n",
              "       [ 0.65],\n",
              "       [ 0.24],\n",
              "       [-0.  ],\n",
              "       [ 0.5 ],\n",
              "       [ 0.55],\n",
              "       [-0.  ],\n",
              "       [ 0.2 ],\n",
              "       [ 1.06],\n",
              "       [ 0.22],\n",
              "       [ 0.24],\n",
              "       [ 0.7 ],\n",
              "       [ 0.97],\n",
              "       [ 0.74],\n",
              "       [ 0.42],\n",
              "       [ 0.33],\n",
              "       [-0.01],\n",
              "       [ 0.51],\n",
              "       [ 0.35],\n",
              "       [ 0.5 ],\n",
              "       [ 0.2 ],\n",
              "       [ 0.07],\n",
              "       [ 0.21],\n",
              "       [ 0.54],\n",
              "       [-0.01],\n",
              "       [-0.01],\n",
              "       [-0.01],\n",
              "       [-0.01],\n",
              "       [ 0.55],\n",
              "       [ 0.26],\n",
              "       [-0.01],\n",
              "       [ 0.76],\n",
              "       [ 0.51],\n",
              "       [ 0.3 ],\n",
              "       [ 0.23]])"
            ]
          },
          "metadata": {},
          "execution_count": 58
        }
      ],
      "source": [
        "#Lets get some predictions\n",
        "\n",
        "preds = trainer.predict(eval_ds).predictions.astype(float)\n",
        "preds"
      ]
    },
    {
      "cell_type": "code",
      "execution_count": 59,
      "metadata": {
        "id": "carf6wRZD5zR"
      },
      "outputs": [],
      "source": [
        "#We can see that some of the values are below 0 and some above 1\n",
        "\n",
        "#To limit this we can use np.clip(val,a,b)\n",
        "preds = np.clip(preds, 0, 1)"
      ]
    },
    {
      "cell_type": "code",
      "source": [
        "preds"
      ],
      "metadata": {
        "colab": {
          "base_uri": "https://localhost:8080/"
        },
        "id": "NY6ANJLgs5hr",
        "outputId": "9c59674f-8c4f-4096-8c95-e94cf9c16404"
      },
      "execution_count": 60,
      "outputs": [
        {
          "output_type": "execute_result",
          "data": {
            "text/plain": [
              "array([[0.45],\n",
              "       [0.53],\n",
              "       [0.65],\n",
              "       [0.24],\n",
              "       [0.  ],\n",
              "       [0.5 ],\n",
              "       [0.55],\n",
              "       [0.  ],\n",
              "       [0.2 ],\n",
              "       [1.  ],\n",
              "       [0.22],\n",
              "       [0.24],\n",
              "       [0.7 ],\n",
              "       [0.97],\n",
              "       [0.74],\n",
              "       [0.42],\n",
              "       [0.33],\n",
              "       [0.  ],\n",
              "       [0.51],\n",
              "       [0.35],\n",
              "       [0.5 ],\n",
              "       [0.2 ],\n",
              "       [0.07],\n",
              "       [0.21],\n",
              "       [0.54],\n",
              "       [0.  ],\n",
              "       [0.  ],\n",
              "       [0.  ],\n",
              "       [0.  ],\n",
              "       [0.55],\n",
              "       [0.26],\n",
              "       [0.  ],\n",
              "       [0.76],\n",
              "       [0.51],\n",
              "       [0.3 ],\n",
              "       [0.23]])"
            ]
          },
          "metadata": {},
          "execution_count": 60
        }
      ]
    },
    {
      "cell_type": "code",
      "source": [
        "import datasets\n",
        "\n",
        "submission = datasets.Dataset.from_dict({\n",
        "    'id': eval_ds['id'],\n",
        "    'score': preds\n",
        "})\n",
        "\n",
        "\n",
        "submission.to_csv('submission.csv', index=False)"
      ],
      "metadata": {
        "colab": {
          "base_uri": "https://localhost:8080/",
          "height": 95,
          "referenced_widgets": [
            "25a2a0d03731466ca3401ca103dec615",
            "6fb6d8556c91496b921e7e73070ecff4",
            "1431eed966d5478d96e6803a92478428",
            "686d1e42d50a4fc7adc6e9a6d10c0eef",
            "9ce92341bf904f1c8238731b302e751a",
            "b054f147ab56438aa2f608fd6edb0875",
            "2ff4d8719e834211af84aa4d2fadb4aa",
            "6db7ac239f504b749556406bac453b16",
            "25e2e2e136b347cca3b10509e375793b",
            "f17b9f239981448f80c74b17379590a6",
            "62ec211e12254b7e9466cb9092896225"
          ]
        },
        "id": "sZKNhnvHs6bZ",
        "outputId": "67d17516-4437-483e-cde5-05a1118dc1c0"
      },
      "execution_count": 62,
      "outputs": [
        {
          "output_type": "display_data",
          "data": {
            "text/plain": [
              "Creating CSV from Arrow format:   0%|          | 0/1 [00:00<?, ?ba/s]"
            ],
            "application/vnd.jupyter.widget-view+json": {
              "version_major": 2,
              "version_minor": 0,
              "model_id": "25a2a0d03731466ca3401ca103dec615"
            }
          },
          "metadata": {}
        },
        {
          "output_type": "execute_result",
          "data": {
            "text/plain": [
              "849"
            ]
          },
          "metadata": {},
          "execution_count": 62
        }
      ]
    },
    {
      "cell_type": "code",
      "source": [],
      "metadata": {
        "id": "qax501YntLDY"
      },
      "execution_count": null,
      "outputs": []
    }
  ],
  "metadata": {
    "kernelspec": {
      "display_name": "DeepLearning",
      "language": "python",
      "name": "python3"
    },
    "language_info": {
      "codemirror_mode": {
        "name": "ipython",
        "version": 3
      },
      "file_extension": ".py",
      "mimetype": "text/x-python",
      "name": "python",
      "nbconvert_exporter": "python",
      "pygments_lexer": "ipython3",
      "version": "3.10.10"
    },
    "orig_nbformat": 4,
    "colab": {
      "provenance": []
    },
    "accelerator": "GPU",
    "gpuClass": "standard",
    "widgets": {
      "application/vnd.jupyter.widget-state+json": {
        "2270d1ff279c4e09b7e683b30cafab30": {
          "model_module": "@jupyter-widgets/controls",
          "model_name": "HBoxModel",
          "model_module_version": "1.5.0",
          "state": {
            "_dom_classes": [],
            "_model_module": "@jupyter-widgets/controls",
            "_model_module_version": "1.5.0",
            "_model_name": "HBoxModel",
            "_view_count": null,
            "_view_module": "@jupyter-widgets/controls",
            "_view_module_version": "1.5.0",
            "_view_name": "HBoxView",
            "box_style": "",
            "children": [
              "IPY_MODEL_7053926a4b8f44a4a525e20687103c9f",
              "IPY_MODEL_7b3a2294861547c1952be828e87605ae",
              "IPY_MODEL_ab00699669cd49f5ad2a8dc01a33fdec"
            ],
            "layout": "IPY_MODEL_ffb76cc490394964be878875c49725ee"
          }
        },
        "7053926a4b8f44a4a525e20687103c9f": {
          "model_module": "@jupyter-widgets/controls",
          "model_name": "HTMLModel",
          "model_module_version": "1.5.0",
          "state": {
            "_dom_classes": [],
            "_model_module": "@jupyter-widgets/controls",
            "_model_module_version": "1.5.0",
            "_model_name": "HTMLModel",
            "_view_count": null,
            "_view_module": "@jupyter-widgets/controls",
            "_view_module_version": "1.5.0",
            "_view_name": "HTMLView",
            "description": "",
            "description_tooltip": null,
            "layout": "IPY_MODEL_179a7617125148578b1da198972fb115",
            "placeholder": "​",
            "style": "IPY_MODEL_c3a6a304238c4955a49ecf1ab1e312a1",
            "value": "Map:  99%"
          }
        },
        "7b3a2294861547c1952be828e87605ae": {
          "model_module": "@jupyter-widgets/controls",
          "model_name": "FloatProgressModel",
          "model_module_version": "1.5.0",
          "state": {
            "_dom_classes": [],
            "_model_module": "@jupyter-widgets/controls",
            "_model_module_version": "1.5.0",
            "_model_name": "FloatProgressModel",
            "_view_count": null,
            "_view_module": "@jupyter-widgets/controls",
            "_view_module_version": "1.5.0",
            "_view_name": "ProgressView",
            "bar_style": "",
            "description": "",
            "description_tooltip": null,
            "layout": "IPY_MODEL_abdaa661f0f945ab94bc051161e3a877",
            "max": 36473,
            "min": 0,
            "orientation": "horizontal",
            "style": "IPY_MODEL_aab9643af58d450a9084338855d0ffd8",
            "value": 36473
          }
        },
        "ab00699669cd49f5ad2a8dc01a33fdec": {
          "model_module": "@jupyter-widgets/controls",
          "model_name": "HTMLModel",
          "model_module_version": "1.5.0",
          "state": {
            "_dom_classes": [],
            "_model_module": "@jupyter-widgets/controls",
            "_model_module_version": "1.5.0",
            "_model_name": "HTMLModel",
            "_view_count": null,
            "_view_module": "@jupyter-widgets/controls",
            "_view_module_version": "1.5.0",
            "_view_name": "HTMLView",
            "description": "",
            "description_tooltip": null,
            "layout": "IPY_MODEL_c7725460cb154b178941c0f2173fc7ce",
            "placeholder": "​",
            "style": "IPY_MODEL_85c9cd2b78a14dacb996b04e10eb415c",
            "value": " 36000/36473 [00:03&lt;00:00, 10401.11 examples/s]"
          }
        },
        "ffb76cc490394964be878875c49725ee": {
          "model_module": "@jupyter-widgets/base",
          "model_name": "LayoutModel",
          "model_module_version": "1.2.0",
          "state": {
            "_model_module": "@jupyter-widgets/base",
            "_model_module_version": "1.2.0",
            "_model_name": "LayoutModel",
            "_view_count": null,
            "_view_module": "@jupyter-widgets/base",
            "_view_module_version": "1.2.0",
            "_view_name": "LayoutView",
            "align_content": null,
            "align_items": null,
            "align_self": null,
            "border": null,
            "bottom": null,
            "display": null,
            "flex": null,
            "flex_flow": null,
            "grid_area": null,
            "grid_auto_columns": null,
            "grid_auto_flow": null,
            "grid_auto_rows": null,
            "grid_column": null,
            "grid_gap": null,
            "grid_row": null,
            "grid_template_areas": null,
            "grid_template_columns": null,
            "grid_template_rows": null,
            "height": null,
            "justify_content": null,
            "justify_items": null,
            "left": null,
            "margin": null,
            "max_height": null,
            "max_width": null,
            "min_height": null,
            "min_width": null,
            "object_fit": null,
            "object_position": null,
            "order": null,
            "overflow": null,
            "overflow_x": null,
            "overflow_y": null,
            "padding": null,
            "right": null,
            "top": null,
            "visibility": "hidden",
            "width": null
          }
        },
        "179a7617125148578b1da198972fb115": {
          "model_module": "@jupyter-widgets/base",
          "model_name": "LayoutModel",
          "model_module_version": "1.2.0",
          "state": {
            "_model_module": "@jupyter-widgets/base",
            "_model_module_version": "1.2.0",
            "_model_name": "LayoutModel",
            "_view_count": null,
            "_view_module": "@jupyter-widgets/base",
            "_view_module_version": "1.2.0",
            "_view_name": "LayoutView",
            "align_content": null,
            "align_items": null,
            "align_self": null,
            "border": null,
            "bottom": null,
            "display": null,
            "flex": null,
            "flex_flow": null,
            "grid_area": null,
            "grid_auto_columns": null,
            "grid_auto_flow": null,
            "grid_auto_rows": null,
            "grid_column": null,
            "grid_gap": null,
            "grid_row": null,
            "grid_template_areas": null,
            "grid_template_columns": null,
            "grid_template_rows": null,
            "height": null,
            "justify_content": null,
            "justify_items": null,
            "left": null,
            "margin": null,
            "max_height": null,
            "max_width": null,
            "min_height": null,
            "min_width": null,
            "object_fit": null,
            "object_position": null,
            "order": null,
            "overflow": null,
            "overflow_x": null,
            "overflow_y": null,
            "padding": null,
            "right": null,
            "top": null,
            "visibility": null,
            "width": null
          }
        },
        "c3a6a304238c4955a49ecf1ab1e312a1": {
          "model_module": "@jupyter-widgets/controls",
          "model_name": "DescriptionStyleModel",
          "model_module_version": "1.5.0",
          "state": {
            "_model_module": "@jupyter-widgets/controls",
            "_model_module_version": "1.5.0",
            "_model_name": "DescriptionStyleModel",
            "_view_count": null,
            "_view_module": "@jupyter-widgets/base",
            "_view_module_version": "1.2.0",
            "_view_name": "StyleView",
            "description_width": ""
          }
        },
        "abdaa661f0f945ab94bc051161e3a877": {
          "model_module": "@jupyter-widgets/base",
          "model_name": "LayoutModel",
          "model_module_version": "1.2.0",
          "state": {
            "_model_module": "@jupyter-widgets/base",
            "_model_module_version": "1.2.0",
            "_model_name": "LayoutModel",
            "_view_count": null,
            "_view_module": "@jupyter-widgets/base",
            "_view_module_version": "1.2.0",
            "_view_name": "LayoutView",
            "align_content": null,
            "align_items": null,
            "align_self": null,
            "border": null,
            "bottom": null,
            "display": null,
            "flex": null,
            "flex_flow": null,
            "grid_area": null,
            "grid_auto_columns": null,
            "grid_auto_flow": null,
            "grid_auto_rows": null,
            "grid_column": null,
            "grid_gap": null,
            "grid_row": null,
            "grid_template_areas": null,
            "grid_template_columns": null,
            "grid_template_rows": null,
            "height": null,
            "justify_content": null,
            "justify_items": null,
            "left": null,
            "margin": null,
            "max_height": null,
            "max_width": null,
            "min_height": null,
            "min_width": null,
            "object_fit": null,
            "object_position": null,
            "order": null,
            "overflow": null,
            "overflow_x": null,
            "overflow_y": null,
            "padding": null,
            "right": null,
            "top": null,
            "visibility": null,
            "width": null
          }
        },
        "aab9643af58d450a9084338855d0ffd8": {
          "model_module": "@jupyter-widgets/controls",
          "model_name": "ProgressStyleModel",
          "model_module_version": "1.5.0",
          "state": {
            "_model_module": "@jupyter-widgets/controls",
            "_model_module_version": "1.5.0",
            "_model_name": "ProgressStyleModel",
            "_view_count": null,
            "_view_module": "@jupyter-widgets/base",
            "_view_module_version": "1.2.0",
            "_view_name": "StyleView",
            "bar_color": null,
            "description_width": ""
          }
        },
        "c7725460cb154b178941c0f2173fc7ce": {
          "model_module": "@jupyter-widgets/base",
          "model_name": "LayoutModel",
          "model_module_version": "1.2.0",
          "state": {
            "_model_module": "@jupyter-widgets/base",
            "_model_module_version": "1.2.0",
            "_model_name": "LayoutModel",
            "_view_count": null,
            "_view_module": "@jupyter-widgets/base",
            "_view_module_version": "1.2.0",
            "_view_name": "LayoutView",
            "align_content": null,
            "align_items": null,
            "align_self": null,
            "border": null,
            "bottom": null,
            "display": null,
            "flex": null,
            "flex_flow": null,
            "grid_area": null,
            "grid_auto_columns": null,
            "grid_auto_flow": null,
            "grid_auto_rows": null,
            "grid_column": null,
            "grid_gap": null,
            "grid_row": null,
            "grid_template_areas": null,
            "grid_template_columns": null,
            "grid_template_rows": null,
            "height": null,
            "justify_content": null,
            "justify_items": null,
            "left": null,
            "margin": null,
            "max_height": null,
            "max_width": null,
            "min_height": null,
            "min_width": null,
            "object_fit": null,
            "object_position": null,
            "order": null,
            "overflow": null,
            "overflow_x": null,
            "overflow_y": null,
            "padding": null,
            "right": null,
            "top": null,
            "visibility": null,
            "width": null
          }
        },
        "85c9cd2b78a14dacb996b04e10eb415c": {
          "model_module": "@jupyter-widgets/controls",
          "model_name": "DescriptionStyleModel",
          "model_module_version": "1.5.0",
          "state": {
            "_model_module": "@jupyter-widgets/controls",
            "_model_module_version": "1.5.0",
            "_model_name": "DescriptionStyleModel",
            "_view_count": null,
            "_view_module": "@jupyter-widgets/base",
            "_view_module_version": "1.2.0",
            "_view_name": "StyleView",
            "description_width": ""
          }
        },
        "57f8dff9d70c416699178b15b84c931f": {
          "model_module": "@jupyter-widgets/controls",
          "model_name": "HBoxModel",
          "model_module_version": "1.5.0",
          "state": {
            "_dom_classes": [],
            "_model_module": "@jupyter-widgets/controls",
            "_model_module_version": "1.5.0",
            "_model_name": "HBoxModel",
            "_view_count": null,
            "_view_module": "@jupyter-widgets/controls",
            "_view_module_version": "1.5.0",
            "_view_name": "HBoxView",
            "box_style": "",
            "children": [
              "IPY_MODEL_de7945c7e65f4c8d9d48de3b0567f9e5",
              "IPY_MODEL_e586695d52954dc6b1a6269d49dbba3d",
              "IPY_MODEL_f135af8123b74702aa36e3768723c762"
            ],
            "layout": "IPY_MODEL_ebb176f5ea5043a2a93861fe2f300e81"
          }
        },
        "de7945c7e65f4c8d9d48de3b0567f9e5": {
          "model_module": "@jupyter-widgets/controls",
          "model_name": "HTMLModel",
          "model_module_version": "1.5.0",
          "state": {
            "_dom_classes": [],
            "_model_module": "@jupyter-widgets/controls",
            "_model_module_version": "1.5.0",
            "_model_name": "HTMLModel",
            "_view_count": null,
            "_view_module": "@jupyter-widgets/controls",
            "_view_module_version": "1.5.0",
            "_view_name": "HTMLView",
            "description": "",
            "description_tooltip": null,
            "layout": "IPY_MODEL_4cf9bbca8ca042549f90fb6d371f14b4",
            "placeholder": "​",
            "style": "IPY_MODEL_cee8dc4eac1a47528fc809f3f161ad71",
            "value": "Map:   0%"
          }
        },
        "e586695d52954dc6b1a6269d49dbba3d": {
          "model_module": "@jupyter-widgets/controls",
          "model_name": "FloatProgressModel",
          "model_module_version": "1.5.0",
          "state": {
            "_dom_classes": [],
            "_model_module": "@jupyter-widgets/controls",
            "_model_module_version": "1.5.0",
            "_model_name": "FloatProgressModel",
            "_view_count": null,
            "_view_module": "@jupyter-widgets/controls",
            "_view_module_version": "1.5.0",
            "_view_name": "ProgressView",
            "bar_style": "",
            "description": "",
            "description_tooltip": null,
            "layout": "IPY_MODEL_18043f61728b4c6584a700536289b550",
            "max": 36,
            "min": 0,
            "orientation": "horizontal",
            "style": "IPY_MODEL_09377133cf03483c865720d86437c86c",
            "value": 36
          }
        },
        "f135af8123b74702aa36e3768723c762": {
          "model_module": "@jupyter-widgets/controls",
          "model_name": "HTMLModel",
          "model_module_version": "1.5.0",
          "state": {
            "_dom_classes": [],
            "_model_module": "@jupyter-widgets/controls",
            "_model_module_version": "1.5.0",
            "_model_name": "HTMLModel",
            "_view_count": null,
            "_view_module": "@jupyter-widgets/controls",
            "_view_module_version": "1.5.0",
            "_view_name": "HTMLView",
            "description": "",
            "description_tooltip": null,
            "layout": "IPY_MODEL_b4813739c427423eae460a204eb7c581",
            "placeholder": "​",
            "style": "IPY_MODEL_18e8fcc0a1be4f358cdc9c5a975beb07",
            "value": " 0/36 [00:00&lt;?, ? examples/s]"
          }
        },
        "ebb176f5ea5043a2a93861fe2f300e81": {
          "model_module": "@jupyter-widgets/base",
          "model_name": "LayoutModel",
          "model_module_version": "1.2.0",
          "state": {
            "_model_module": "@jupyter-widgets/base",
            "_model_module_version": "1.2.0",
            "_model_name": "LayoutModel",
            "_view_count": null,
            "_view_module": "@jupyter-widgets/base",
            "_view_module_version": "1.2.0",
            "_view_name": "LayoutView",
            "align_content": null,
            "align_items": null,
            "align_self": null,
            "border": null,
            "bottom": null,
            "display": null,
            "flex": null,
            "flex_flow": null,
            "grid_area": null,
            "grid_auto_columns": null,
            "grid_auto_flow": null,
            "grid_auto_rows": null,
            "grid_column": null,
            "grid_gap": null,
            "grid_row": null,
            "grid_template_areas": null,
            "grid_template_columns": null,
            "grid_template_rows": null,
            "height": null,
            "justify_content": null,
            "justify_items": null,
            "left": null,
            "margin": null,
            "max_height": null,
            "max_width": null,
            "min_height": null,
            "min_width": null,
            "object_fit": null,
            "object_position": null,
            "order": null,
            "overflow": null,
            "overflow_x": null,
            "overflow_y": null,
            "padding": null,
            "right": null,
            "top": null,
            "visibility": "hidden",
            "width": null
          }
        },
        "4cf9bbca8ca042549f90fb6d371f14b4": {
          "model_module": "@jupyter-widgets/base",
          "model_name": "LayoutModel",
          "model_module_version": "1.2.0",
          "state": {
            "_model_module": "@jupyter-widgets/base",
            "_model_module_version": "1.2.0",
            "_model_name": "LayoutModel",
            "_view_count": null,
            "_view_module": "@jupyter-widgets/base",
            "_view_module_version": "1.2.0",
            "_view_name": "LayoutView",
            "align_content": null,
            "align_items": null,
            "align_self": null,
            "border": null,
            "bottom": null,
            "display": null,
            "flex": null,
            "flex_flow": null,
            "grid_area": null,
            "grid_auto_columns": null,
            "grid_auto_flow": null,
            "grid_auto_rows": null,
            "grid_column": null,
            "grid_gap": null,
            "grid_row": null,
            "grid_template_areas": null,
            "grid_template_columns": null,
            "grid_template_rows": null,
            "height": null,
            "justify_content": null,
            "justify_items": null,
            "left": null,
            "margin": null,
            "max_height": null,
            "max_width": null,
            "min_height": null,
            "min_width": null,
            "object_fit": null,
            "object_position": null,
            "order": null,
            "overflow": null,
            "overflow_x": null,
            "overflow_y": null,
            "padding": null,
            "right": null,
            "top": null,
            "visibility": null,
            "width": null
          }
        },
        "cee8dc4eac1a47528fc809f3f161ad71": {
          "model_module": "@jupyter-widgets/controls",
          "model_name": "DescriptionStyleModel",
          "model_module_version": "1.5.0",
          "state": {
            "_model_module": "@jupyter-widgets/controls",
            "_model_module_version": "1.5.0",
            "_model_name": "DescriptionStyleModel",
            "_view_count": null,
            "_view_module": "@jupyter-widgets/base",
            "_view_module_version": "1.2.0",
            "_view_name": "StyleView",
            "description_width": ""
          }
        },
        "18043f61728b4c6584a700536289b550": {
          "model_module": "@jupyter-widgets/base",
          "model_name": "LayoutModel",
          "model_module_version": "1.2.0",
          "state": {
            "_model_module": "@jupyter-widgets/base",
            "_model_module_version": "1.2.0",
            "_model_name": "LayoutModel",
            "_view_count": null,
            "_view_module": "@jupyter-widgets/base",
            "_view_module_version": "1.2.0",
            "_view_name": "LayoutView",
            "align_content": null,
            "align_items": null,
            "align_self": null,
            "border": null,
            "bottom": null,
            "display": null,
            "flex": null,
            "flex_flow": null,
            "grid_area": null,
            "grid_auto_columns": null,
            "grid_auto_flow": null,
            "grid_auto_rows": null,
            "grid_column": null,
            "grid_gap": null,
            "grid_row": null,
            "grid_template_areas": null,
            "grid_template_columns": null,
            "grid_template_rows": null,
            "height": null,
            "justify_content": null,
            "justify_items": null,
            "left": null,
            "margin": null,
            "max_height": null,
            "max_width": null,
            "min_height": null,
            "min_width": null,
            "object_fit": null,
            "object_position": null,
            "order": null,
            "overflow": null,
            "overflow_x": null,
            "overflow_y": null,
            "padding": null,
            "right": null,
            "top": null,
            "visibility": null,
            "width": null
          }
        },
        "09377133cf03483c865720d86437c86c": {
          "model_module": "@jupyter-widgets/controls",
          "model_name": "ProgressStyleModel",
          "model_module_version": "1.5.0",
          "state": {
            "_model_module": "@jupyter-widgets/controls",
            "_model_module_version": "1.5.0",
            "_model_name": "ProgressStyleModel",
            "_view_count": null,
            "_view_module": "@jupyter-widgets/base",
            "_view_module_version": "1.2.0",
            "_view_name": "StyleView",
            "bar_color": null,
            "description_width": ""
          }
        },
        "b4813739c427423eae460a204eb7c581": {
          "model_module": "@jupyter-widgets/base",
          "model_name": "LayoutModel",
          "model_module_version": "1.2.0",
          "state": {
            "_model_module": "@jupyter-widgets/base",
            "_model_module_version": "1.2.0",
            "_model_name": "LayoutModel",
            "_view_count": null,
            "_view_module": "@jupyter-widgets/base",
            "_view_module_version": "1.2.0",
            "_view_name": "LayoutView",
            "align_content": null,
            "align_items": null,
            "align_self": null,
            "border": null,
            "bottom": null,
            "display": null,
            "flex": null,
            "flex_flow": null,
            "grid_area": null,
            "grid_auto_columns": null,
            "grid_auto_flow": null,
            "grid_auto_rows": null,
            "grid_column": null,
            "grid_gap": null,
            "grid_row": null,
            "grid_template_areas": null,
            "grid_template_columns": null,
            "grid_template_rows": null,
            "height": null,
            "justify_content": null,
            "justify_items": null,
            "left": null,
            "margin": null,
            "max_height": null,
            "max_width": null,
            "min_height": null,
            "min_width": null,
            "object_fit": null,
            "object_position": null,
            "order": null,
            "overflow": null,
            "overflow_x": null,
            "overflow_y": null,
            "padding": null,
            "right": null,
            "top": null,
            "visibility": null,
            "width": null
          }
        },
        "18e8fcc0a1be4f358cdc9c5a975beb07": {
          "model_module": "@jupyter-widgets/controls",
          "model_name": "DescriptionStyleModel",
          "model_module_version": "1.5.0",
          "state": {
            "_model_module": "@jupyter-widgets/controls",
            "_model_module_version": "1.5.0",
            "_model_name": "DescriptionStyleModel",
            "_view_count": null,
            "_view_module": "@jupyter-widgets/base",
            "_view_module_version": "1.2.0",
            "_view_name": "StyleView",
            "description_width": ""
          }
        },
        "25a2a0d03731466ca3401ca103dec615": {
          "model_module": "@jupyter-widgets/controls",
          "model_name": "HBoxModel",
          "model_module_version": "1.5.0",
          "state": {
            "_dom_classes": [],
            "_model_module": "@jupyter-widgets/controls",
            "_model_module_version": "1.5.0",
            "_model_name": "HBoxModel",
            "_view_count": null,
            "_view_module": "@jupyter-widgets/controls",
            "_view_module_version": "1.5.0",
            "_view_name": "HBoxView",
            "box_style": "",
            "children": [
              "IPY_MODEL_6fb6d8556c91496b921e7e73070ecff4",
              "IPY_MODEL_1431eed966d5478d96e6803a92478428",
              "IPY_MODEL_686d1e42d50a4fc7adc6e9a6d10c0eef"
            ],
            "layout": "IPY_MODEL_9ce92341bf904f1c8238731b302e751a"
          }
        },
        "6fb6d8556c91496b921e7e73070ecff4": {
          "model_module": "@jupyter-widgets/controls",
          "model_name": "HTMLModel",
          "model_module_version": "1.5.0",
          "state": {
            "_dom_classes": [],
            "_model_module": "@jupyter-widgets/controls",
            "_model_module_version": "1.5.0",
            "_model_name": "HTMLModel",
            "_view_count": null,
            "_view_module": "@jupyter-widgets/controls",
            "_view_module_version": "1.5.0",
            "_view_name": "HTMLView",
            "description": "",
            "description_tooltip": null,
            "layout": "IPY_MODEL_b054f147ab56438aa2f608fd6edb0875",
            "placeholder": "​",
            "style": "IPY_MODEL_2ff4d8719e834211af84aa4d2fadb4aa",
            "value": "Creating CSV from Arrow format: 100%"
          }
        },
        "1431eed966d5478d96e6803a92478428": {
          "model_module": "@jupyter-widgets/controls",
          "model_name": "FloatProgressModel",
          "model_module_version": "1.5.0",
          "state": {
            "_dom_classes": [],
            "_model_module": "@jupyter-widgets/controls",
            "_model_module_version": "1.5.0",
            "_model_name": "FloatProgressModel",
            "_view_count": null,
            "_view_module": "@jupyter-widgets/controls",
            "_view_module_version": "1.5.0",
            "_view_name": "ProgressView",
            "bar_style": "success",
            "description": "",
            "description_tooltip": null,
            "layout": "IPY_MODEL_6db7ac239f504b749556406bac453b16",
            "max": 1,
            "min": 0,
            "orientation": "horizontal",
            "style": "IPY_MODEL_25e2e2e136b347cca3b10509e375793b",
            "value": 1
          }
        },
        "686d1e42d50a4fc7adc6e9a6d10c0eef": {
          "model_module": "@jupyter-widgets/controls",
          "model_name": "HTMLModel",
          "model_module_version": "1.5.0",
          "state": {
            "_dom_classes": [],
            "_model_module": "@jupyter-widgets/controls",
            "_model_module_version": "1.5.0",
            "_model_name": "HTMLModel",
            "_view_count": null,
            "_view_module": "@jupyter-widgets/controls",
            "_view_module_version": "1.5.0",
            "_view_name": "HTMLView",
            "description": "",
            "description_tooltip": null,
            "layout": "IPY_MODEL_f17b9f239981448f80c74b17379590a6",
            "placeholder": "​",
            "style": "IPY_MODEL_62ec211e12254b7e9466cb9092896225",
            "value": " 1/1 [00:00&lt;00:00, 13.93ba/s]"
          }
        },
        "9ce92341bf904f1c8238731b302e751a": {
          "model_module": "@jupyter-widgets/base",
          "model_name": "LayoutModel",
          "model_module_version": "1.2.0",
          "state": {
            "_model_module": "@jupyter-widgets/base",
            "_model_module_version": "1.2.0",
            "_model_name": "LayoutModel",
            "_view_count": null,
            "_view_module": "@jupyter-widgets/base",
            "_view_module_version": "1.2.0",
            "_view_name": "LayoutView",
            "align_content": null,
            "align_items": null,
            "align_self": null,
            "border": null,
            "bottom": null,
            "display": null,
            "flex": null,
            "flex_flow": null,
            "grid_area": null,
            "grid_auto_columns": null,
            "grid_auto_flow": null,
            "grid_auto_rows": null,
            "grid_column": null,
            "grid_gap": null,
            "grid_row": null,
            "grid_template_areas": null,
            "grid_template_columns": null,
            "grid_template_rows": null,
            "height": null,
            "justify_content": null,
            "justify_items": null,
            "left": null,
            "margin": null,
            "max_height": null,
            "max_width": null,
            "min_height": null,
            "min_width": null,
            "object_fit": null,
            "object_position": null,
            "order": null,
            "overflow": null,
            "overflow_x": null,
            "overflow_y": null,
            "padding": null,
            "right": null,
            "top": null,
            "visibility": null,
            "width": null
          }
        },
        "b054f147ab56438aa2f608fd6edb0875": {
          "model_module": "@jupyter-widgets/base",
          "model_name": "LayoutModel",
          "model_module_version": "1.2.0",
          "state": {
            "_model_module": "@jupyter-widgets/base",
            "_model_module_version": "1.2.0",
            "_model_name": "LayoutModel",
            "_view_count": null,
            "_view_module": "@jupyter-widgets/base",
            "_view_module_version": "1.2.0",
            "_view_name": "LayoutView",
            "align_content": null,
            "align_items": null,
            "align_self": null,
            "border": null,
            "bottom": null,
            "display": null,
            "flex": null,
            "flex_flow": null,
            "grid_area": null,
            "grid_auto_columns": null,
            "grid_auto_flow": null,
            "grid_auto_rows": null,
            "grid_column": null,
            "grid_gap": null,
            "grid_row": null,
            "grid_template_areas": null,
            "grid_template_columns": null,
            "grid_template_rows": null,
            "height": null,
            "justify_content": null,
            "justify_items": null,
            "left": null,
            "margin": null,
            "max_height": null,
            "max_width": null,
            "min_height": null,
            "min_width": null,
            "object_fit": null,
            "object_position": null,
            "order": null,
            "overflow": null,
            "overflow_x": null,
            "overflow_y": null,
            "padding": null,
            "right": null,
            "top": null,
            "visibility": null,
            "width": null
          }
        },
        "2ff4d8719e834211af84aa4d2fadb4aa": {
          "model_module": "@jupyter-widgets/controls",
          "model_name": "DescriptionStyleModel",
          "model_module_version": "1.5.0",
          "state": {
            "_model_module": "@jupyter-widgets/controls",
            "_model_module_version": "1.5.0",
            "_model_name": "DescriptionStyleModel",
            "_view_count": null,
            "_view_module": "@jupyter-widgets/base",
            "_view_module_version": "1.2.0",
            "_view_name": "StyleView",
            "description_width": ""
          }
        },
        "6db7ac239f504b749556406bac453b16": {
          "model_module": "@jupyter-widgets/base",
          "model_name": "LayoutModel",
          "model_module_version": "1.2.0",
          "state": {
            "_model_module": "@jupyter-widgets/base",
            "_model_module_version": "1.2.0",
            "_model_name": "LayoutModel",
            "_view_count": null,
            "_view_module": "@jupyter-widgets/base",
            "_view_module_version": "1.2.0",
            "_view_name": "LayoutView",
            "align_content": null,
            "align_items": null,
            "align_self": null,
            "border": null,
            "bottom": null,
            "display": null,
            "flex": null,
            "flex_flow": null,
            "grid_area": null,
            "grid_auto_columns": null,
            "grid_auto_flow": null,
            "grid_auto_rows": null,
            "grid_column": null,
            "grid_gap": null,
            "grid_row": null,
            "grid_template_areas": null,
            "grid_template_columns": null,
            "grid_template_rows": null,
            "height": null,
            "justify_content": null,
            "justify_items": null,
            "left": null,
            "margin": null,
            "max_height": null,
            "max_width": null,
            "min_height": null,
            "min_width": null,
            "object_fit": null,
            "object_position": null,
            "order": null,
            "overflow": null,
            "overflow_x": null,
            "overflow_y": null,
            "padding": null,
            "right": null,
            "top": null,
            "visibility": null,
            "width": null
          }
        },
        "25e2e2e136b347cca3b10509e375793b": {
          "model_module": "@jupyter-widgets/controls",
          "model_name": "ProgressStyleModel",
          "model_module_version": "1.5.0",
          "state": {
            "_model_module": "@jupyter-widgets/controls",
            "_model_module_version": "1.5.0",
            "_model_name": "ProgressStyleModel",
            "_view_count": null,
            "_view_module": "@jupyter-widgets/base",
            "_view_module_version": "1.2.0",
            "_view_name": "StyleView",
            "bar_color": null,
            "description_width": ""
          }
        },
        "f17b9f239981448f80c74b17379590a6": {
          "model_module": "@jupyter-widgets/base",
          "model_name": "LayoutModel",
          "model_module_version": "1.2.0",
          "state": {
            "_model_module": "@jupyter-widgets/base",
            "_model_module_version": "1.2.0",
            "_model_name": "LayoutModel",
            "_view_count": null,
            "_view_module": "@jupyter-widgets/base",
            "_view_module_version": "1.2.0",
            "_view_name": "LayoutView",
            "align_content": null,
            "align_items": null,
            "align_self": null,
            "border": null,
            "bottom": null,
            "display": null,
            "flex": null,
            "flex_flow": null,
            "grid_area": null,
            "grid_auto_columns": null,
            "grid_auto_flow": null,
            "grid_auto_rows": null,
            "grid_column": null,
            "grid_gap": null,
            "grid_row": null,
            "grid_template_areas": null,
            "grid_template_columns": null,
            "grid_template_rows": null,
            "height": null,
            "justify_content": null,
            "justify_items": null,
            "left": null,
            "margin": null,
            "max_height": null,
            "max_width": null,
            "min_height": null,
            "min_width": null,
            "object_fit": null,
            "object_position": null,
            "order": null,
            "overflow": null,
            "overflow_x": null,
            "overflow_y": null,
            "padding": null,
            "right": null,
            "top": null,
            "visibility": null,
            "width": null
          }
        },
        "62ec211e12254b7e9466cb9092896225": {
          "model_module": "@jupyter-widgets/controls",
          "model_name": "DescriptionStyleModel",
          "model_module_version": "1.5.0",
          "state": {
            "_model_module": "@jupyter-widgets/controls",
            "_model_module_version": "1.5.0",
            "_model_name": "DescriptionStyleModel",
            "_view_count": null,
            "_view_module": "@jupyter-widgets/base",
            "_view_module_version": "1.2.0",
            "_view_name": "StyleView",
            "description_width": ""
          }
        }
      }
    }
  },
  "nbformat": 4,
  "nbformat_minor": 0
}