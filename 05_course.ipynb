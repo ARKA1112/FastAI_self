{
 "cells": [
  {
   "cell_type": "code",
   "execution_count": 1,
   "metadata": {},
   "outputs": [],
   "source": [
    "import os\n",
    "iskaggle = os.environ.get('KAGGLE_KERNEL_RUN_TYPE', '')\n",
    "#Only needs to run when runningon kaggle"
   ]
  },
  {
   "cell_type": "code",
   "execution_count": 2,
   "metadata": {},
   "outputs": [
    {
     "data": {
      "text/plain": [
       "''"
      ]
     },
     "execution_count": 2,
     "metadata": {},
     "output_type": "execute_result"
    }
   ],
   "source": [
    "iskaggle"
   ]
  },
  {
   "attachments": {},
   "cell_type": "markdown",
   "metadata": {},
   "source": [
    "Using Kaggle data on your own machine"
   ]
  },
  {
   "cell_type": "code",
   "execution_count": 2,
   "metadata": {},
   "outputs": [],
   "source": [
    "creds = ''\n",
    "\n",
    "#for working with paths in Python, It is recommended using pathlib.path\n",
    "\n",
    "from pathlib import Path  \n",
    "\n",
    "\n",
    "cred_path = Path('~/.kaggle/kaggle.json').expanduser()   #saved in kaggle.json\n",
    "\n",
    "\n",
    "path = Path('us-patent-phrase-to-phrase-matching')  #creating a path alias for the path supplied\n",
    "\n",
    "\n",
    "#use the kaggle api to download the data\n",
    "\n",
    "if not iskaggle and not path.exists():\n",
    "    import zipfile, kaggle\n",
    "    kaggle.api.competition_download_cli(str(path))  #same kaggle cli operation in python\n",
    "    zipfile.ZipFile(f'{path}.zip').extractall(path)  #command to unzip and extract the dataset to the path\n",
    "    "
   ]
  },
  {
   "cell_type": "code",
   "execution_count": 3,
   "metadata": {},
   "outputs": [],
   "source": [
    "if iskaggle:\n",
    "    path = ('../FastAI_self/us-patent-phrase-to-phrase-matching')  #re-mention the path to the path alias\n",
    "    !pip install -q datasets"
   ]
  },
  {
   "cell_type": "code",
   "execution_count": 4,
   "metadata": {},
   "outputs": [
    {
     "name": "stdout",
     "output_type": "stream",
     "text": [
      "sample_submission.csv  test.csv  train.csv\n"
     ]
    }
   ],
   "source": [
    "!ls {path}"
   ]
  },
  {
   "cell_type": "code",
   "execution_count": 5,
   "metadata": {},
   "outputs": [
    {
     "data": {
      "text/plain": [
       "PosixPath('us-patent-phrase-to-phrase-matching')"
      ]
     },
     "execution_count": 5,
     "metadata": {},
     "output_type": "execute_result"
    }
   ],
   "source": [
    "path"
   ]
  },
  {
   "cell_type": "code",
   "execution_count": 8,
   "metadata": {},
   "outputs": [
    {
     "data": {
      "text/html": [
       "<div>\n",
       "<style scoped>\n",
       "    .dataframe tbody tr th:only-of-type {\n",
       "        vertical-align: middle;\n",
       "    }\n",
       "\n",
       "    .dataframe tbody tr th {\n",
       "        vertical-align: top;\n",
       "    }\n",
       "\n",
       "    .dataframe thead th {\n",
       "        text-align: right;\n",
       "    }\n",
       "</style>\n",
       "<table border=\"1\" class=\"dataframe\">\n",
       "  <thead>\n",
       "    <tr style=\"text-align: right;\">\n",
       "      <th></th>\n",
       "      <th>id</th>\n",
       "      <th>anchor</th>\n",
       "      <th>target</th>\n",
       "      <th>context</th>\n",
       "      <th>score</th>\n",
       "    </tr>\n",
       "  </thead>\n",
       "  <tbody>\n",
       "    <tr>\n",
       "      <th>0</th>\n",
       "      <td>37d61fd2272659b1</td>\n",
       "      <td>abatement</td>\n",
       "      <td>abatement of pollution</td>\n",
       "      <td>A47</td>\n",
       "      <td>0.50</td>\n",
       "    </tr>\n",
       "    <tr>\n",
       "      <th>1</th>\n",
       "      <td>7b9652b17b68b7a4</td>\n",
       "      <td>abatement</td>\n",
       "      <td>act of abating</td>\n",
       "      <td>A47</td>\n",
       "      <td>0.75</td>\n",
       "    </tr>\n",
       "    <tr>\n",
       "      <th>2</th>\n",
       "      <td>36d72442aefd8232</td>\n",
       "      <td>abatement</td>\n",
       "      <td>active catalyst</td>\n",
       "      <td>A47</td>\n",
       "      <td>0.25</td>\n",
       "    </tr>\n",
       "    <tr>\n",
       "      <th>3</th>\n",
       "      <td>5296b0c19e1ce60e</td>\n",
       "      <td>abatement</td>\n",
       "      <td>eliminating process</td>\n",
       "      <td>A47</td>\n",
       "      <td>0.50</td>\n",
       "    </tr>\n",
       "    <tr>\n",
       "      <th>4</th>\n",
       "      <td>54c1e3b9184cb5b6</td>\n",
       "      <td>abatement</td>\n",
       "      <td>forest region</td>\n",
       "      <td>A47</td>\n",
       "      <td>0.00</td>\n",
       "    </tr>\n",
       "  </tbody>\n",
       "</table>\n",
       "</div>"
      ],
      "text/plain": [
       "                 id     anchor                  target context  score\n",
       "0  37d61fd2272659b1  abatement  abatement of pollution     A47   0.50\n",
       "1  7b9652b17b68b7a4  abatement          act of abating     A47   0.75\n",
       "2  36d72442aefd8232  abatement         active catalyst     A47   0.25\n",
       "3  5296b0c19e1ce60e  abatement     eliminating process     A47   0.50\n",
       "4  54c1e3b9184cb5b6  abatement           forest region     A47   0.00"
      ]
     },
     "execution_count": 8,
     "metadata": {},
     "output_type": "execute_result"
    }
   ],
   "source": [
    "import pandas as pd\n",
    "\n",
    "df = pd.read_csv(path/'train.csv')\n",
    "df.head()"
   ]
  },
  {
   "cell_type": "code",
   "execution_count": 8,
   "metadata": {},
   "outputs": [
    {
     "data": {
      "text/html": [
       "<div>\n",
       "<style scoped>\n",
       "    .dataframe tbody tr th:only-of-type {\n",
       "        vertical-align: middle;\n",
       "    }\n",
       "\n",
       "    .dataframe tbody tr th {\n",
       "        vertical-align: top;\n",
       "    }\n",
       "\n",
       "    .dataframe thead th {\n",
       "        text-align: right;\n",
       "    }\n",
       "</style>\n",
       "<table border=\"1\" class=\"dataframe\">\n",
       "  <thead>\n",
       "    <tr style=\"text-align: right;\">\n",
       "      <th></th>\n",
       "      <th>id</th>\n",
       "      <th>anchor</th>\n",
       "      <th>target</th>\n",
       "      <th>context</th>\n",
       "    </tr>\n",
       "  </thead>\n",
       "  <tbody>\n",
       "    <tr>\n",
       "      <th>count</th>\n",
       "      <td>36473</td>\n",
       "      <td>36473</td>\n",
       "      <td>36473</td>\n",
       "      <td>36473</td>\n",
       "    </tr>\n",
       "    <tr>\n",
       "      <th>unique</th>\n",
       "      <td>36473</td>\n",
       "      <td>733</td>\n",
       "      <td>29340</td>\n",
       "      <td>106</td>\n",
       "    </tr>\n",
       "    <tr>\n",
       "      <th>top</th>\n",
       "      <td>37d61fd2272659b1</td>\n",
       "      <td>component composite coating</td>\n",
       "      <td>composition</td>\n",
       "      <td>H01</td>\n",
       "    </tr>\n",
       "    <tr>\n",
       "      <th>freq</th>\n",
       "      <td>1</td>\n",
       "      <td>152</td>\n",
       "      <td>24</td>\n",
       "      <td>2186</td>\n",
       "    </tr>\n",
       "  </tbody>\n",
       "</table>\n",
       "</div>"
      ],
      "text/plain": [
       "                      id                       anchor       target context\n",
       "count              36473                        36473        36473   36473\n",
       "unique             36473                          733        29340     106\n",
       "top     37d61fd2272659b1  component composite coating  composition     H01\n",
       "freq                   1                          152           24    2186"
      ]
     },
     "execution_count": 8,
     "metadata": {},
     "output_type": "execute_result"
    }
   ],
   "source": [
    "df.describe(include='object')"
   ]
  },
  {
   "cell_type": "code",
   "execution_count": 9,
   "metadata": {},
   "outputs": [],
   "source": [
    "df['input'] = 'TEXT1:' + df.context + ';TEXT2: '  + df.target + '; ANC1: ' + df.anchor"
   ]
  },
  {
   "cell_type": "code",
   "execution_count": 10,
   "metadata": {},
   "outputs": [
    {
     "data": {
      "text/plain": [
       "0    TEXT1:A47;TEXT2: abatement of pollution; ANC1:...\n",
       "1     TEXT1:A47;TEXT2: act of abating; ANC1: abatement\n",
       "2    TEXT1:A47;TEXT2: active catalyst; ANC1: abatement\n",
       "3    TEXT1:A47;TEXT2: eliminating process; ANC1: ab...\n",
       "4      TEXT1:A47;TEXT2: forest region; ANC1: abatement\n",
       "Name: input, dtype: object"
      ]
     },
     "execution_count": 10,
     "metadata": {},
     "output_type": "execute_result"
    }
   ],
   "source": [
    "df.input.head()"
   ]
  },
  {
   "attachments": {},
   "cell_type": "markdown",
   "metadata": {},
   "source": [
    "Tokenization"
   ]
  },
  {
   "cell_type": "code",
   "execution_count": 11,
   "metadata": {},
   "outputs": [],
   "source": [
    "from datasets import Dataset, DatasetDict\n",
    "\n",
    "\n",
    "ds = Dataset.from_pandas(df)"
   ]
  },
  {
   "cell_type": "code",
   "execution_count": 12,
   "metadata": {},
   "outputs": [
    {
     "data": {
      "text/plain": [
       "Dataset({\n",
       "    features: ['id', 'anchor', 'target', 'context', 'score', 'input'],\n",
       "    num_rows: 36473\n",
       "})"
      ]
     },
     "execution_count": 12,
     "metadata": {},
     "output_type": "execute_result"
    }
   ],
   "source": [
    "ds"
   ]
  },
  {
   "attachments": {},
   "cell_type": "markdown",
   "metadata": {},
   "source": [
    "We cant pass the texts directly into the model. A deep learning model expects numbers as inputs, hence we can do two things\n",
    "* Tokenization: splitting sentences into words or tokens\n",
    "* Numericalization: Covert each word (or token) into a number."
   ]
  },
  {
   "attachments": {},
   "cell_type": "markdown",
   "metadata": {},
   "source": [
    "Huggingface transformers supply numerous models, so details about how to tokenize the dataset depends on the model we use, Generally replace small with large for a slower but accurate model once you have finished exploring"
   ]
  },
  {
   "cell_type": "code",
   "execution_count": 13,
   "metadata": {},
   "outputs": [],
   "source": [
    "model_nm = 'microsoft/deberta-v3-small'"
   ]
  },
  {
   "attachments": {},
   "cell_type": "markdown",
   "metadata": {},
   "source": [
    "\n",
    "AutoTokenize will create a tokenize appropriate for a given model:"
   ]
  },
  {
   "cell_type": "code",
   "execution_count": 14,
   "metadata": {},
   "outputs": [
    {
     "name": "stderr",
     "output_type": "stream",
     "text": [
      "Special tokens have been added in the vocabulary, make sure the associated word embeddings are fine-tuned or trained.\n",
      "/home/susearc/miniconda3/envs/DeepLearning/lib/python3.10/site-packages/transformers/convert_slow_tokenizer.py:446: UserWarning: The sentencepiece tokenizer that you are converting to a fast tokenizer uses the byte fallback option which is not implemented in the fast tokenizers. In practice this means that the fast version of the tokenizer can produce unknown tokens whereas the sentencepiece version would have converted these unknown tokens into a sequence of byte tokens matching the original piece of text.\n",
      "  warnings.warn(\n",
      "Special tokens have been added in the vocabulary, make sure the associated word embeddings are fine-tuned or trained.\n"
     ]
    }
   ],
   "source": [
    "from transformers import AutoModelForSequenceClassification, AutoTokenizer\n",
    "tokz = AutoTokenizer.from_pretrained('microsoft/deberta-v3-small')\n"
   ]
  },
  {
   "cell_type": "code",
   "execution_count": 15,
   "metadata": {},
   "outputs": [
    {
     "data": {
      "text/plain": [
       "['▁Asphalt',\n",
       " '▁is',\n",
       " '▁a',\n",
       " '▁sticky',\n",
       " '▁black',\n",
       " '▁substance',\n",
       " '▁that',\n",
       " '▁is',\n",
       " '▁used',\n",
       " '▁to',\n",
       " '▁pave',\n",
       " '▁roads',\n",
       " ',',\n",
       " '▁parking',\n",
       " '▁lots',\n",
       " '▁and',\n",
       " '▁driveways',\n",
       " '.',\n",
       " '▁It',\n",
       " '▁is',\n",
       " '▁made',\n",
       " '▁from',\n",
       " '▁crude',\n",
       " '▁oil',\n",
       " '▁and',\n",
       " '▁can',\n",
       " '▁withstand',\n",
       " '▁high',\n",
       " '▁temperatures',\n",
       " '▁and',\n",
       " '▁heavy',\n",
       " '▁traffic',\n",
       " '.',\n",
       " '▁Asphalt',\n",
       " '▁is',\n",
       " '▁also',\n",
       " '▁very',\n",
       " '▁versatile',\n",
       " '▁and',\n",
       " '▁can',\n",
       " '▁be',\n",
       " '▁mixed',\n",
       " '▁with',\n",
       " '▁different',\n",
       " '▁materials',\n",
       " '▁to',\n",
       " '▁create',\n",
       " '▁different',\n",
       " '▁colors',\n",
       " '▁and',\n",
       " '▁textures',\n",
       " '.',\n",
       " '▁Some',\n",
       " '▁people',\n",
       " '▁even',\n",
       " '▁use',\n",
       " '▁asphalt',\n",
       " '▁to',\n",
       " '▁make',\n",
       " '▁art',\n",
       " '▁or',\n",
       " '▁play',\n",
       " '▁games',\n",
       " '.',\n",
       " '▁For',\n",
       " '▁example',\n",
       " ',',\n",
       " '▁you',\n",
       " '▁can',\n",
       " '▁draw',\n",
       " '▁with',\n",
       " '▁chalk',\n",
       " '▁on',\n",
       " '▁asphalt',\n",
       " ',',\n",
       " '▁or',\n",
       " '▁use',\n",
       " '▁it',\n",
       " '▁as',\n",
       " '▁a',\n",
       " '▁giant',\n",
       " '▁board',\n",
       " '▁for',\n",
       " '▁hops',\n",
       " 'co',\n",
       " 'tch',\n",
       " '▁or',\n",
       " '▁tic',\n",
       " '-',\n",
       " 'tac',\n",
       " '-',\n",
       " 'toe',\n",
       " '.',\n",
       " '▁Asphalt',\n",
       " '▁is',\n",
       " '▁not',\n",
       " '▁only',\n",
       " '▁a',\n",
       " '▁practical',\n",
       " '▁material',\n",
       " ',',\n",
       " '▁but',\n",
       " '▁also',\n",
       " '▁a',\n",
       " '▁exhilarating',\n",
       " '!']"
      ]
     },
     "execution_count": 15,
     "metadata": {},
     "output_type": "execute_result"
    }
   ],
   "source": [
    "#Example\n",
    "\n",
    "tokz.tokenize(\"Asphalt is a sticky black substance that is used to pave roads, parking lots and driveways. It is made from crude oil and can withstand high temperatures and heavy traffic. Asphalt is also very versatile and can be mixed with different materials to create different colors and textures. Some people even use asphalt to make art or play games. For example, you can draw with chalk on asphalt, or use it as a giant board for hopscotch or tic-tac-toe. Asphalt is not only a practical material, but also a exhilarating!\")"
   ]
  },
  {
   "cell_type": "code",
   "execution_count": 16,
   "metadata": {},
   "outputs": [],
   "source": [
    "#Simple function to tokenize our input\n",
    "\n",
    "\n",
    "def tok_func(x):\n",
    "    return tokz(x['input'])"
   ]
  },
  {
   "cell_type": "code",
   "execution_count": 17,
   "metadata": {},
   "outputs": [
    {
     "data": {
      "application/vnd.jupyter.widget-view+json": {
       "model_id": "881fe558d5324271bfd795128e5c7480",
       "version_major": 2,
       "version_minor": 0
      },
      "text/plain": [
       "Map:   0%|          | 0/36473 [00:00<?, ? examples/s]"
      ]
     },
     "metadata": {},
     "output_type": "display_data"
    }
   ],
   "source": [
    "tok_ds = ds.map(tok_func, batched=True)"
   ]
  },
  {
   "cell_type": "code",
   "execution_count": 18,
   "metadata": {},
   "outputs": [
    {
     "data": {
      "text/plain": [
       "InMemoryTable\n",
       "id: string\n",
       "anchor: string\n",
       "target: string\n",
       "context: string\n",
       "score: double\n",
       "input: string\n",
       "input_ids: list<item: int32>\n",
       "  child 0, item: int32\n",
       "token_type_ids: list<item: int8>\n",
       "  child 0, item: int8\n",
       "attention_mask: list<item: int8>\n",
       "  child 0, item: int8\n",
       "----\n",
       "id: [[\"37d61fd2272659b1\",\"7b9652b17b68b7a4\",\"36d72442aefd8232\",\"5296b0c19e1ce60e\",\"54c1e3b9184cb5b6\",...,\"1957604978889672\",\"0914a65df828ffc0\",\"f5e0068000f0b361\",\"2d5f035af810c1a2\",\"541198ebfc08e6b2\"],[\"26c0231601242aad\",\"c6b1558ec038c539\",\"b4cf0048799a51e2\",\"03b8c54af3f4cb9b\",\"ee6a44dd61b3ffee\",...,\"fa7f80ed4847b63a\",\"5f2502d45c21ae8f\",\"57eabd95b3b47727\",\"22ae2bdc83345365\",\"4f6bd3782a452c93\"],...,[\"1e1f881c014b27f1\",\"62adf1a79cdcdcd8\",\"e39accc1e9470efc\",\"32102b760765c7dd\",\"bd73e6a1ad01b298\",...,\"4dad5d8ab19a2d22\",\"7e9615f8aab0273d\",\"8527077e4116f89d\",\"c8656004664bf5f2\",\"bac3feec26433ca9\"],[\"f7fa7c8605c40a78\",\"c8757b8201719536\",\"c2aeb2bacfb272b1\",\"217271e252282202\",\"e9492b2f6cbafdef\",...,\"8e1386cbefd7f245\",\"42d9e032d1cd3242\",\"208654ccb9e14fa3\",\"756ec035e694722b\",\"8d135da0b55b8c88\"]]\n",
       "anchor: [[\"abatement\",\"abatement\",\"abatement\",\"abatement\",\"abatement\",...,\"air flow line\",\"air flow line\",\"air flow line\",\"air flow line\",\"air flow line\"],[\"air flow line\",\"air flow line\",\"air flow line\",\"air flow line\",\"air flow line\",...,\"arc type\",\"arc type\",\"arc type\",\"arc type\",\"arc type\"],...,[\"vertical comb\",\"vertical comb\",\"vertical comb\",\"vertical comb\",\"vertical comb\",...,\"wearability\",\"wearability\",\"wearability\",\"wearability\",\"wearability\"],[\"wearability\",\"wearability\",\"wearability\",\"wearability\",\"web transfer\",...,\"wood article\",\"wood article\",\"wood article\",\"wood article\",\"wood article\"]]\n",
       "target: [[\"abatement of pollution\",\"act of abating\",\"active catalyst\",\"eliminating process\",\"forest region\",...,\"passage line system\",\"pneumatic flow line\",\"shallow draft floating vessel\",\"supply unit\",\"three controllable hydrofoil displacement boat\"],[\"water absorbent resin\",\"air current flow\",\"air falls in the lungs\",\"air flow component\",\"air flow into line card\",...,\"arc type\",\"arc type stage\",\"arc type structure\",\"arc wavelength\",\"arc wavelength type\"],...,[\"comb therapy\",\"electrode\",\"main frame\",\"microfabricated actuator\",\"microresonator\",...,\"loop lifter\",\"material property\",\"strength\",\"toughness\",\"wear and tear\"],[\"wear characteristics\",\"wear life\",\"wearability\",\"wearable gadgets\",\"curved bars\",...,\"wooden article\",\"wooden box\",\"wooden handle\",\"wooden material\",\"wooden substrate\"]]\n",
       "context: [[\"A47\",\"A47\",\"A47\",\"A47\",\"A47\",...,\"B63\",\"B63\",\"B63\",\"B63\",\"B63\"],[\"B63\",\"F04\",\"F04\",\"F04\",\"F04\",...,\"G01\",\"G01\",\"G01\",\"G01\",\"G01\"],...,[\"B81\",\"B81\",\"B81\",\"B81\",\"B81\",...,\"B21\",\"B21\",\"B21\",\"B21\",\"B21\"],[\"B21\",\"B21\",\"B21\",\"B21\",\"B29\",...,\"B44\",\"B44\",\"B44\",\"B44\",\"B44\"]]\n",
       "score: [[0.5,0.75,0.25,0.5,0,...,0.5,0.75,0.25,0.25,0.25],[0.25,0.5,0,0.5,0.5,...,1,0.75,0.75,0.5,0.5],...,[0,0.25,0.25,0.25,0.25,...,0.25,0.5,0.25,0.25,0.75],[0.5,0.75,1,0,0.25,...,1,0.5,0.5,0.75,0.5]]\n",
       "input: [[\"TEXT1:A47;TEXT2: abatement of pollution; ANC1: abatement\",\"TEXT1:A47;TEXT2: act of abating; ANC1: abatement\",\"TEXT1:A47;TEXT2: active catalyst; ANC1: abatement\",\"TEXT1:A47;TEXT2: eliminating process; ANC1: abatement\",\"TEXT1:A47;TEXT2: forest region; ANC1: abatement\",...,\"TEXT1:B63;TEXT2: passage line system; ANC1: air flow line\",\"TEXT1:B63;TEXT2: pneumatic flow line; ANC1: air flow line\",\"TEXT1:B63;TEXT2: shallow draft floating vessel; ANC1: air flow line\",\"TEXT1:B63;TEXT2: supply unit; ANC1: air flow line\",\"TEXT1:B63;TEXT2: three controllable hydrofoil displacement boat; ANC1: air flow line\"],[\"TEXT1:B63;TEXT2: water absorbent resin; ANC1: air flow line\",\"TEXT1:F04;TEXT2: air current flow; ANC1: air flow line\",\"TEXT1:F04;TEXT2: air falls in the lungs; ANC1: air flow line\",\"TEXT1:F04;TEXT2: air flow component; ANC1: air flow line\",\"TEXT1:F04;TEXT2: air flow into line card; ANC1: air flow line\",...,\"TEXT1:G01;TEXT2: arc type; ANC1: arc type\",\"TEXT1:G01;TEXT2: arc type stage; ANC1: arc type\",\"TEXT1:G01;TEXT2: arc type structure; ANC1: arc type\",\"TEXT1:G01;TEXT2: arc wavelength; ANC1: arc type\",\"TEXT1:G01;TEXT2: arc wavelength type; ANC1: arc type\"],...,[\"TEXT1:B81;TEXT2: comb therapy; ANC1: vertical comb\",\"TEXT1:B81;TEXT2: electrode; ANC1: vertical comb\",\"TEXT1:B81;TEXT2: main frame; ANC1: vertical comb\",\"TEXT1:B81;TEXT2: microfabricated actuator; ANC1: vertical comb\",\"TEXT1:B81;TEXT2: microresonator; ANC1: vertical comb\",...,\"TEXT1:B21;TEXT2: loop lifter; ANC1: wearability\",\"TEXT1:B21;TEXT2: material property; ANC1: wearability\",\"TEXT1:B21;TEXT2: strength; ANC1: wearability\",\"TEXT1:B21;TEXT2: toughness; ANC1: wearability\",\"TEXT1:B21;TEXT2: wear and tear; ANC1: wearability\"],[\"TEXT1:B21;TEXT2: wear characteristics; ANC1: wearability\",\"TEXT1:B21;TEXT2: wear life; ANC1: wearability\",\"TEXT1:B21;TEXT2: wearability; ANC1: wearability\",\"TEXT1:B21;TEXT2: wearable gadgets; ANC1: wearability\",\"TEXT1:B29;TEXT2: curved bars; ANC1: web transfer\",...,\"TEXT1:B44;TEXT2: wooden article; ANC1: wood article\",\"TEXT1:B44;TEXT2: wooden box; ANC1: wood article\",\"TEXT1:B44;TEXT2: wooden handle; ANC1: wood article\",\"TEXT1:B44;TEXT2: wooden material; ANC1: wood article\",\"TEXT1:B44;TEXT2: wooden substrate; ANC1: wood article\"]]\n",
       "input_ids: [[[1,54453,435,294,558,...,23702,435,294,47284,2],[1,54453,435,294,558,...,23702,435,294,47284,2],...,[1,54453,435,294,983,...,294,925,2155,683,2],[1,54453,435,294,983,...,294,925,2155,683,2]],[[1,54453,435,294,983,...,294,925,2155,683,2],[1,54453,435,294,1490,...,294,925,2155,683,2],...,[1,54453,435,294,1474,...,435,294,10268,810,2],[1,54453,435,294,1474,...,435,294,10268,810,2]],...,[[1,54453,435,294,983,...,435,294,5828,21181,2],[1,54453,435,294,983,...,435,294,5828,21181,2],...,[1,54453,435,294,983,...,435,294,1929,6325,2],[1,54453,435,294,983,...,435,294,1929,6325,2]],[[1,54453,435,294,983,...,435,294,1929,6325,2],[1,54453,435,294,983,...,435,294,1929,6325,2],...,[1,54453,435,294,983,...,435,294,1847,1030,2],[1,54453,435,294,983,...,435,294,1847,1030,2]]]\n",
       "token_type_ids: [[[0,0,0,0,0,...,0,0,0,0,0],[0,0,0,0,0,...,0,0,0,0,0],...,[0,0,0,0,0,...,0,0,0,0,0],[0,0,0,0,0,...,0,0,0,0,0]],[[0,0,0,0,0,...,0,0,0,0,0],[0,0,0,0,0,...,0,0,0,0,0],...,[0,0,0,0,0,...,0,0,0,0,0],[0,0,0,0,0,...,0,0,0,0,0]],...,[[0,0,0,0,0,...,0,0,0,0,0],[0,0,0,0,0,...,0,0,0,0,0],...,[0,0,0,0,0,...,0,0,0,0,0],[0,0,0,0,0,...,0,0,0,0,0]],[[0,0,0,0,0,...,0,0,0,0,0],[0,0,0,0,0,...,0,0,0,0,0],...,[0,0,0,0,0,...,0,0,0,0,0],[0,0,0,0,0,...,0,0,0,0,0]]]\n",
       "attention_mask: [[[1,1,1,1,1,...,1,1,1,1,1],[1,1,1,1,1,...,1,1,1,1,1],...,[1,1,1,1,1,...,1,1,1,1,1],[1,1,1,1,1,...,1,1,1,1,1]],[[1,1,1,1,1,...,1,1,1,1,1],[1,1,1,1,1,...,1,1,1,1,1],...,[1,1,1,1,1,...,1,1,1,1,1],[1,1,1,1,1,...,1,1,1,1,1]],...,[[1,1,1,1,1,...,1,1,1,1,1],[1,1,1,1,1,...,1,1,1,1,1],...,[1,1,1,1,1,...,1,1,1,1,1],[1,1,1,1,1,...,1,1,1,1,1]],[[1,1,1,1,1,...,1,1,1,1,1],[1,1,1,1,1,...,1,1,1,1,1],...,[1,1,1,1,1,...,1,1,1,1,1],[1,1,1,1,1,...,1,1,1,1,1]]]"
      ]
     },
     "execution_count": 18,
     "metadata": {},
     "output_type": "execute_result"
    }
   ],
   "source": [
    "tok_ds.data\n"
   ]
  },
  {
   "cell_type": "code",
   "execution_count": 19,
   "metadata": {},
   "outputs": [
    {
     "data": {
      "text/plain": [
       "('TEXT1:A47;TEXT2: abatement of pollution; ANC1: abatement',\n",
       " [1,\n",
       "  54453,\n",
       "  435,\n",
       "  294,\n",
       "  558,\n",
       "  5753,\n",
       "  346,\n",
       "  104917,\n",
       "  445,\n",
       "  294,\n",
       "  47284,\n",
       "  265,\n",
       "  6435,\n",
       "  346,\n",
       "  23702,\n",
       "  435,\n",
       "  294,\n",
       "  47284,\n",
       "  2])"
      ]
     },
     "execution_count": 19,
     "metadata": {},
     "output_type": "execute_result"
    }
   ],
   "source": [
    "#The tokenize function adds a new item to our dataset called input_ids. For instance here is the input and IDs for the first row of our data:\n",
    "row = tok_ds[0]\n",
    "row['input'], row['input_ids']"
   ]
  },
  {
   "cell_type": "code",
   "execution_count": 20,
   "metadata": {},
   "outputs": [
    {
     "data": {
      "text/plain": [
       "{'resse': 65597,\n",
       " '揭': 126732,\n",
       " 'Thriller': 118201,\n",
       " '▁Chaz': 63149,\n",
       " '▁Lovett': 75314,\n",
       " '▁riverbed': 88167,\n",
       " '▁bound': 4935,\n",
       " '▁Kidd': 35549,\n",
       " 'fur': 24102,\n",
       " 'adjusted': 31193,\n",
       " '▁Oooo': 95340,\n",
       " 'strewn': 102504,\n",
       " '▁acceptability': 65783,\n",
       " '▁pavers': 42301,\n",
       " '▁BOA': 90238,\n",
       " '▁Afford': 86454,\n",
       " '▁Dhruv': 117301,\n",
       " '▁Setter': 82396,\n",
       " '▁infidelity': 44734,\n",
       " 'confused': 115850,\n",
       " 'broek': 109322,\n",
       " '▁Nantwich': 119669,\n",
       " '▁Following': 4087,\n",
       " '▁capillary': 44346,\n",
       " '▁friendliness': 39978,\n",
       " '▁Shino': 90040,\n",
       " '▁Conspiracy': 44200,\n",
       " 'hier': 68546,\n",
       " 'opportunities': 114131,\n",
       " '▁Lecture': 21482,\n",
       " '▁Cochran': 46867,\n",
       " '▁aliment': 73487,\n",
       " '▁Rasheed': 87338,\n",
       " '▁Disabled': 37572,\n",
       " 'haug': 115305,\n",
       " '▁plastid': 117798,\n",
       " '▁extend': 4388,\n",
       " '▁Sigrid': 118073,\n",
       " 'Tutorial': 122049,\n",
       " '▁Pembroke': 43854,\n",
       " '▁Finn': 14688,\n",
       " '舊': 126133,\n",
       " '▁buckwheat': 59926,\n",
       " '▁regulate': 10445,\n",
       " '▁tag': 4149,\n",
       " '▁brandy': 40507,\n",
       " 'pitched': 55312,\n",
       " '▁Informer': 89642,\n",
       " '▁essays': 6422,\n",
       " '▁Http': 49286,\n",
       " '▁BEGIN': 79264,\n",
       " '▁categorized': 18877,\n",
       " '▁GIRLS': 77874,\n",
       " '▁coined': 25523,\n",
       " '▁Rockport': 77244,\n",
       " '▁classed': 36571,\n",
       " '▁WSJ': 49520,\n",
       " '黒': 124324,\n",
       " '▁Mesopotamia': 61442,\n",
       " '▁Venturing': 119275,\n",
       " 'jala': 81976,\n",
       " 'BAD': 82515,\n",
       " '▁psychomotor': 120367,\n",
       " '▁Vaseline': 85125,\n",
       " '▁cloning': 34219,\n",
       " '월': 96683,\n",
       " '▁birth': 2665,\n",
       " '▁imperative': 10854,\n",
       " 'pap': 65934,\n",
       " 'mani': 25851,\n",
       " '▁Symonds': 107168,\n",
       " '蒂': 126775,\n",
       " '▁ranked': 5666,\n",
       " '罩': 125925,\n",
       " 'Trop': 90977,\n",
       " '▁blissful': 37301,\n",
       " '▁Amie': 91641,\n",
       " '▁CBC': 19548,\n",
       " '▁featured': 3103,\n",
       " '矛': 127886,\n",
       " '료': 72441,\n",
       " '▁Crochet': 38248,\n",
       " 'ന': 95412,\n",
       " 'lio': 23627,\n",
       " '▁cessation': 29447,\n",
       " '▁Ça': 100605,\n",
       " '▁IHG': 91265,\n",
       " 'heroic': 111013,\n",
       " '▁Tomkins': 112044,\n",
       " '▁airtight': 32846,\n",
       " '▁memorialized': 107038,\n",
       " '▁Demo': 18276,\n",
       " '▁Akita': 94938,\n",
       " 'kasa': 88536,\n",
       " '▁SLR': 38156,\n",
       " '▁buttocks': 41576,\n",
       " '▁automate': 18613,\n",
       " '▁Emi': 76911,\n",
       " '▁deprived': 19525,\n",
       " '▁Competitor': 92915,\n",
       " '▁Cronenberg': 109701,\n",
       " 'od': 15498,\n",
       " '▁Spencer': 10874,\n",
       " '▁Centuries': 65789,\n",
       " '▁dependency': 17660,\n",
       " '▁LIT': 80373,\n",
       " '▁Feasibility': 81951,\n",
       " '▁tagline': 37556,\n",
       " '▁excommunicated': 99921,\n",
       " '๐': 124099,\n",
       " '▁Occasion': 67568,\n",
       " '▁whenever': 3825,\n",
       " '▁irrational': 22109,\n",
       " 'iyya': 66164,\n",
       " '▁mesoderm': 120141,\n",
       " '▁Loma': 39101,\n",
       " 'fight': 26453,\n",
       " '227': 30333,\n",
       " '▁Kardashians': 59537,\n",
       " '20°': 66924,\n",
       " '▁Maurice': 21504,\n",
       " 'wia': 86558,\n",
       " '▁Horatio': 75267,\n",
       " '▁Canonical': 73511,\n",
       " '▁Busby': 87913,\n",
       " '▁Incarnation': 78428,\n",
       " '▁queues': 31014,\n",
       " '▁ungreased': 119979,\n",
       " '▁Morricone': 122315,\n",
       " 'zinger': 64030,\n",
       " '▁SSM': 83268,\n",
       " 'DIG': 89940,\n",
       " 'BTS': 95090,\n",
       " '▁Ally': 32003,\n",
       " '▁Lesley': 39055,\n",
       " 'ti': 5605,\n",
       " '▁occupant': 34804,\n",
       " '▁dueling': 74225,\n",
       " '▁Fentanyl': 103716,\n",
       " '▁finest': 5198,\n",
       " '▁EVENT': 37460,\n",
       " 'Dep': 92538,\n",
       " '▁WalMart': 94617,\n",
       " '▁271': 44366,\n",
       " 'claims': 83457,\n",
       " '集': 83746,\n",
       " 'alongside': 112230,\n",
       " '▁transcript': 15035,\n",
       " '▁Facilitate': 63792,\n",
       " '▁McKi': 57193,\n",
       " '▁Impairment': 86715,\n",
       " 'policy': 36398,\n",
       " '▁Jib': 81962,\n",
       " '▁taxicab': 104436,\n",
       " 'ность': 78799,\n",
       " '▁presynaptic': 114054,\n",
       " '▁distributor': 12021,\n",
       " '▁tallying': 76732,\n",
       " 'Greatest': 103966,\n",
       " 'officio': 120289,\n",
       " '▁mistrial': 99069,\n",
       " '▁friction': 13982,\n",
       " '▁344': 48178,\n",
       " 'ač': 82627,\n",
       " '▁exude': 60820,\n",
       " '▁practicing': 7893,\n",
       " '▁Diamonds': 25955,\n",
       " '▁Exhibit': 24437,\n",
       " '▁Christi': 28967,\n",
       " '▁Osage': 71394,\n",
       " '▁CSN': 91836,\n",
       " 'manage': 47914,\n",
       " '▁exceptions': 10538,\n",
       " '▁microfiber': 35104,\n",
       " '▁Detox': 36015,\n",
       " 'proliferative': 88512,\n",
       " '▁glo': 49346,\n",
       " '▁regressive': 63941,\n",
       " '▁product': 714,\n",
       " 'rion': 29937,\n",
       " '▁odometer': 60967,\n",
       " 'Usually': 81160,\n",
       " '▁Simulated': 101177,\n",
       " '▁epitomized': 104960,\n",
       " 'πα': 107175,\n",
       " '▁millennials': 21810,\n",
       " '가': 22295,\n",
       " '▁BOOKS': 74044,\n",
       " '◯': 125335,\n",
       " 'singular': 103973,\n",
       " '▁unclear': 8317,\n",
       " '▁examine': 5105,\n",
       " '▁summarize': 23212,\n",
       " 'utra': 58418,\n",
       " 'Squirt': 75032,\n",
       " 'Bot': 31836,\n",
       " '▁adhered': 28914,\n",
       " '▁Replacing': 40109,\n",
       " '▁mk': 40258,\n",
       " '▁Vihar': 74240,\n",
       " '▁Minoan': 99724,\n",
       " '471': 45801,\n",
       " '▁Leukemia': 64437,\n",
       " '▁gull': 65374,\n",
       " '▁Emeli': 108386,\n",
       " '▁stimuli': 22356,\n",
       " '▁Taxi': 23984,\n",
       " 'Muslim': 27612,\n",
       " '▁IU': 30840,\n",
       " '▁Addresses': 57284,\n",
       " '▁Bur': 13999,\n",
       " 'confessed': 98840,\n",
       " '▁Conquest': 48655,\n",
       " '져': 122833,\n",
       " '310': 22397,\n",
       " 'humble': 112510,\n",
       " '▁Mentally': 82212,\n",
       " '664': 49678,\n",
       " 'hnen': 90472,\n",
       " '▁slurp': 85327,\n",
       " 'universal': 53431,\n",
       " 'rief': 103604,\n",
       " 'Load': 51002,\n",
       " '▁subscribers': 9577,\n",
       " '▁adventures': 7301,\n",
       " '▁419': 48999,\n",
       " '▁morphology': 27173,\n",
       " '▁praise': 7210,\n",
       " 'Abd': 74850,\n",
       " '▁softened': 26587,\n",
       " '▁Stratton': 50764,\n",
       " 'martial': 77020,\n",
       " '董': 125345,\n",
       " '▁slump': 24997,\n",
       " 'Ю': 101050,\n",
       " '▁Circuit': 9135,\n",
       " '▁wavelength': 22646,\n",
       " '▁Syria': 4826,\n",
       " '▁Slipper': 80770,\n",
       " 'yser': 94344,\n",
       " 'nada': 64769,\n",
       " '▁fogged': 122439,\n",
       " '▁draws': 7894,\n",
       " '▁untrained': 51534,\n",
       " '▁integers': 41920,\n",
       " '▁Rear': 14733,\n",
       " '▁hounds': 57893,\n",
       " '▁NSCLC': 85202,\n",
       " 'sar': 19529,\n",
       " 'ങ': 125446,\n",
       " '▁reupholster': 85742,\n",
       " 'ática': 87818,\n",
       " '▁escapades': 79774,\n",
       " '▁Islamist': 23672,\n",
       " 'mead': 47345,\n",
       " '▁Petty': 30657,\n",
       " '▁ALSO': 23987,\n",
       " 'minority': 95550,\n",
       " '▁RVs': 59473,\n",
       " '▁peaked': 23021,\n",
       " '▁Bashar': 32539,\n",
       " '▁mismo': 82357,\n",
       " 'shri': 63431,\n",
       " '▁tensioner': 99742,\n",
       " 'KL': 41063,\n",
       " '▁pitches': 15176,\n",
       " '▁Cancer': 5610,\n",
       " 'Telegram': 109407,\n",
       " '▁birds': 4109,\n",
       " '▁Kham': 64581,\n",
       " '▁Ideas': 4464,\n",
       " 'TICAL': 71385,\n",
       " 'hibi': 65292,\n",
       " '▁exposing': 15619,\n",
       " '▁frontend': 56709,\n",
       " '▁adapting': 19416,\n",
       " '▁ewes': 82535,\n",
       " '▁Marlene': 49565,\n",
       " '▁Kü': 67331,\n",
       " 'prince': 85429,\n",
       " 'Ñ': 31120,\n",
       " '▁clamping': 43192,\n",
       " 'ნ': 94010,\n",
       " '抵': 123941,\n",
       " 'Prof': 59775,\n",
       " '▁WORKING': 68825,\n",
       " '▁Viaduct': 99970,\n",
       " '铁': 124124,\n",
       " '▁Norton': 15859,\n",
       " '▁reclassify': 112494,\n",
       " '▁Dei': 37929,\n",
       " '▁PFS': 76276,\n",
       " '▁mobo': 90561,\n",
       " 'ffrey': 80102,\n",
       " '▁resolute': 50416,\n",
       " '▁QoL': 119773,\n",
       " 'Rebecca': 89499,\n",
       " 'ká': 98737,\n",
       " 'around': 12116,\n",
       " '▁CAMP': 49527,\n",
       " '▁simulating': 47170,\n",
       " '▁outward': 17262,\n",
       " '▁Gaol': 113978,\n",
       " '▁separator': 24526,\n",
       " 'stained': 40222,\n",
       " '▁Brei': 73293,\n",
       " '▁MOH': 84741,\n",
       " 'bajo': 100067,\n",
       " '▁search': 1004,\n",
       " '▁Gives': 36203,\n",
       " '▁Tuner': 75077,\n",
       " 'hormone': 91384,\n",
       " '▁Yuko': 109404,\n",
       " '▁Mycoplasma': 118937,\n",
       " 'associated': 22151,\n",
       " '▁Yog': 89771,\n",
       " '▁fraternities': 87464,\n",
       " '▁Syrah': 59177,\n",
       " '▁Teng': 51007,\n",
       " '▁Hypnosis': 57972,\n",
       " '▁relic': 36175,\n",
       " '▁rescheduling': 85983,\n",
       " '̦': 127342,\n",
       " '▁cleansed': 43250,\n",
       " '▁612': 53490,\n",
       " '▁Schuette': 119385,\n",
       " '▁Trance': 70643,\n",
       " 'PN': 24460,\n",
       " '▁eyeshadow': 33278,\n",
       " '▁Interment': 53624,\n",
       " '▁Ableton': 72461,\n",
       " '▁AXIS': 108688,\n",
       " '▁kidney': 8870,\n",
       " '▁travelling': 6206,\n",
       " '▁FUNCTION': 74418,\n",
       " '▁Handgun': 106581,\n",
       " '▁2014': 1151,\n",
       " '▁Exposure': 26511,\n",
       " 'RSS': 69115,\n",
       " '▁crab': 15814,\n",
       " 'sensory': 58836,\n",
       " '▁Lewis': 5424,\n",
       " '탐': 124593,\n",
       " '▁Awaken': 78400,\n",
       " '▁Soy': 34917,\n",
       " '▁NEEDED': 85090,\n",
       " '▁Gurgaon': 34973,\n",
       " 'exploited': 119191,\n",
       " '▁Thorough': 79353,\n",
       " '▁Plasti': 93665,\n",
       " '▁DDA': 82255,\n",
       " '▁briny': 119713,\n",
       " 'Victoria': 58017,\n",
       " '▁Bessemer': 101008,\n",
       " 'PASS': 53732,\n",
       " 'automation': 121964,\n",
       " '▁FACTORY': 94653,\n",
       " '▁easing': 22284,\n",
       " '▁centering': 46722,\n",
       " '▁Boats': 39738,\n",
       " '▁Choctaw': 75470,\n",
       " 'CRC': 37586,\n",
       " '▁Bloomingdale': 73441,\n",
       " '▁block': 2095,\n",
       " '▁ulcer': 39618,\n",
       " '▁innovating': 44230,\n",
       " 'GX': 54831,\n",
       " '▁germplasm': 120957,\n",
       " '▁Rudy': 27596,\n",
       " '층': 108724,\n",
       " '▁paparazzi': 57049,\n",
       " '▁chieftain': 66388,\n",
       " 'Front': 42178,\n",
       " 'effect': 28885,\n",
       " '▁Ade': 27623,\n",
       " '717': 48315,\n",
       " 'gada': 68855,\n",
       " '▁예': 82332,\n",
       " 'vir': 21375,\n",
       " '▁hurricanes': 26163,\n",
       " 'unnecessary': 117455,\n",
       " 'Movie': 60826,\n",
       " '▁Insulation': 28822,\n",
       " '▁prospects': 6948,\n",
       " '▁whodunit': 120602,\n",
       " '▁Luft': 84560,\n",
       " '▁354': 50238,\n",
       " '▁IT': 2295,\n",
       " '▁idle': 16110,\n",
       " '▁Sidebar': 90363,\n",
       " '▁Prevail': 105748,\n",
       " '▁visas': 19776,\n",
       " '▁potluck': 44198,\n",
       " '▁tiller': 69298,\n",
       " '▁fount': 114635,\n",
       " '₵': 125221,\n",
       " '▁Allowing': 36695,\n",
       " '獎': 125240,\n",
       " '▁Premature': 105750,\n",
       " '▁Sonoma': 25591,\n",
       " '▁grisly': 67506,\n",
       " '▁rhododendron': 82638,\n",
       " '▁Braddock': 92523,\n",
       " 'boi': 75580,\n",
       " '▁Kilmer': 101635,\n",
       " '▁Oo': 34176,\n",
       " '▁anointing': 57703,\n",
       " 'splen': 98113,\n",
       " '▁virtuosity': 82625,\n",
       " '▁dif': 79089,\n",
       " '▁leftist': 29555,\n",
       " '▁soulful': 30833,\n",
       " '<0x39>': 61,\n",
       " 'ằ': 123209,\n",
       " '▁Min': 11555,\n",
       " '▁Terra': 18601,\n",
       " '▁Literacy': 25141,\n",
       " '▁smile': 3292,\n",
       " '늄': 125648,\n",
       " '▁Swan': 16268,\n",
       " '▁dismay': 31018,\n",
       " '▁authorisation': 38728,\n",
       " '፣': 125477,\n",
       " '▁TMZ': 33344,\n",
       " '▁constructive': 14350,\n",
       " '▁jose': 81651,\n",
       " '▁exalt': 62837,\n",
       " '▁SGS': 69055,\n",
       " '▁unmotivated': 95115,\n",
       " '269': 34233,\n",
       " '▁Varun': 63753,\n",
       " '▁Ke': 10238,\n",
       " '▁Kilo': 62110,\n",
       " '▁Dimple': 101949,\n",
       " 'Thi': 88105,\n",
       " '▁Meditate': 105499,\n",
       " '▁LSI': 80288,\n",
       " '▁Colomb': 91997,\n",
       " '▁Illustrator': 29543,\n",
       " '▁millwork': 96506,\n",
       " '▁snapping': 26216,\n",
       " '▁facade': 23020,\n",
       " '▁Directive': 21088,\n",
       " '383': 40849,\n",
       " '▁repurposed': 45918,\n",
       " '▁bacterium': 44574,\n",
       " '▁Enrico': 67757,\n",
       " '▁banker': 24006,\n",
       " 'Abby': 106101,\n",
       " 'populated': 50997,\n",
       " '▁Robot': 18598,\n",
       " 'Sir': 34995,\n",
       " '▁pla': 35404,\n",
       " '▁Corfu': 67439,\n",
       " '▁Rhizo': 88578,\n",
       " '▁Experiment': 23619,\n",
       " '▁Rickey': 73034,\n",
       " '827': 56208,\n",
       " 'uma': 14392,\n",
       " '▁Grill': 13556,\n",
       " '▁hart': 63951,\n",
       " '▁ACCC': 83394,\n",
       " '▁Forster': 52684,\n",
       " '▁Dossier': 102417,\n",
       " '▁reply': 4806,\n",
       " 'ulph': 80029,\n",
       " 'dden': 44390,\n",
       " '▁stupidly': 59406,\n",
       " '▁foregone': 77197,\n",
       " 'Getting': 45485,\n",
       " '▁간': 106543,\n",
       " '▁apron': 25186,\n",
       " '▁Christophe': 57895,\n",
       " '▁Doodle': 45437,\n",
       " 'MARKET': 121150,\n",
       " '▁redoing': 85773,\n",
       " '温': 122969,\n",
       " '▁Priestley': 103983,\n",
       " '▁fertilizer': 18043,\n",
       " 'Acquire': 119666,\n",
       " '▁enraptured': 114745,\n",
       " '▁Dha': 52620,\n",
       " '▁cardiac': 11786,\n",
       " '▁ك': 74185,\n",
       " '▁Jaz': 63202,\n",
       " '▁Polish': 8950,\n",
       " '▁Abdo': 76069,\n",
       " '▁Intra': 29008,\n",
       " 'analyst': 99585,\n",
       " '▁Persson': 106529,\n",
       " '▁ovaries': 45301,\n",
       " 'Individual': 74495,\n",
       " 'guessing': 101247,\n",
       " '▁Characteristic': 94634,\n",
       " 'pretend': 111115,\n",
       " 'converged': 118440,\n",
       " 'ඒ': 124515,\n",
       " '▁Boynton': 64692,\n",
       " 'msn': 79177,\n",
       " 'grandson': 81322,\n",
       " '▁unrelenting': 42510,\n",
       " 'winkel': 109895,\n",
       " '▁Atheros': 120244,\n",
       " '▁NOOK': 99130,\n",
       " '▁arguable': 80360,\n",
       " 'Adv': 78399,\n",
       " '▁NAI': 60442,\n",
       " '▁Weintraub': 112708,\n",
       " '488': 40159,\n",
       " '求': 97729,\n",
       " 'fed': 17745,\n",
       " '▁Basquiat': 112377,\n",
       " '▁Puss': 105607,\n",
       " 'assessment': 36622,\n",
       " 'beh': 65560,\n",
       " '660': 32050,\n",
       " 'vention': 66405,\n",
       " '▁declarative': 74993,\n",
       " 'anovic': 93199,\n",
       " 'll': 436,\n",
       " '▁Fonts': 58004,\n",
       " '▁Probation': 54587,\n",
       " 'HCC': 84283,\n",
       " '۸': 125224,\n",
       " '▁endeavors': 18179,\n",
       " '▁skateboarding': 47877,\n",
       " '▁advisors': 13215,\n",
       " '▁finale': 12228,\n",
       " '▁Wilma': 62466,\n",
       " '▁Nayak': 102590,\n",
       " '▁twofold': 50133,\n",
       " '▁walkthrough': 39038,\n",
       " '▁251': 38224,\n",
       " 'equilibrium': 84244,\n",
       " '▁CCF': 89098,\n",
       " '▁Numbers': 17558,\n",
       " '▁TRT': 99566,\n",
       " 'Julia': 75060,\n",
       " 'ity': 3376,\n",
       " 'CCI': 53839,\n",
       " '▁md': 40994,\n",
       " '▁culinary': 11121,\n",
       " '▁Felici': 101075,\n",
       " '▁briefs': 38607,\n",
       " 'пер': 58050,\n",
       " '▁archaeologists': 38004,\n",
       " '▁visuals': 17297,\n",
       " '▁safeties': 85652,\n",
       " '▁customisable': 63558,\n",
       " '▁Jokic': 111851,\n",
       " '▁undesirable': 21946,\n",
       " 'AH': 17018,\n",
       " '▁Sainsbury': 41806,\n",
       " 'igi': 33684,\n",
       " '▁Kalin': 65226,\n",
       " '▁Historia': 74852,\n",
       " '̽': 127743,\n",
       " '▁liter': 23919,\n",
       " '▁MDR': 63831,\n",
       " 'ISTER': 93654,\n",
       " '▁temporary': 4316,\n",
       " '▁oocyte': 104396,\n",
       " 'NAM': 75644,\n",
       " '▁Procurement': 33084,\n",
       " '▁conga': 106336,\n",
       " '▁nozzle': 23966,\n",
       " 'Rae': 75467,\n",
       " '▁PCBs': 67240,\n",
       " 'Open': 18631,\n",
       " '▁Glendale': 30107,\n",
       " '▁Metallica': 49172,\n",
       " 'bacteria': 67163,\n",
       " 'Nuclear': 107015,\n",
       " '▁fluctuation': 47432,\n",
       " 'iparous': 111187,\n",
       " 'garde': 26405,\n",
       " '▁plait': 80595,\n",
       " '▁Claro': 108486,\n",
       " '▁Hark': 69789,\n",
       " 'obi': 35423,\n",
       " 'Liam': 115673,\n",
       " '▁malefic': 121622,\n",
       " '誤': 124320,\n",
       " '▁undoing': 51750,\n",
       " 'ଥ': 126161,\n",
       " '▁overlaps': 52464,\n",
       " 'Same': 72267,\n",
       " '▁Feta': 105458,\n",
       " '▁Beulah': 96779,\n",
       " 'bree': 83770,\n",
       " '▁amounting': 40558,\n",
       " 'rosh': 92474,\n",
       " '▁bitterness': 24134,\n",
       " '▁Brawn': 103662,\n",
       " '▁macadamia': 75662,\n",
       " '▁SDC': 90300,\n",
       " '▁hole': 3693,\n",
       " '▁Important': 13361,\n",
       " '▁Jeep': 12863,\n",
       " '▁Anchorage': 27748,\n",
       " '▁runners': 8887,\n",
       " '▁Graveyard': 66085,\n",
       " '▁Pend': 74127,\n",
       " '▁768': 51045,\n",
       " '▁tipo': 76784,\n",
       " '▁Reacher': 105027,\n",
       " 'પ': 116210,\n",
       " '▁incurred': 12180,\n",
       " '▁cajun': 120174,\n",
       " '▁HWY': 94384,\n",
       " '▁sob': 63559,\n",
       " '▁Clam': 51442,\n",
       " '▁Fragrance': 38295,\n",
       " '▁Cigars': 81503,\n",
       " '▁Rosemary': 25688,\n",
       " '▁Start': 4174,\n",
       " 'TLD': 99898,\n",
       " '▁warplanes': 79169,\n",
       " '▁sputtering': 74457,\n",
       " 'celebrity': 90105,\n",
       " '▁Trimming': 91719,\n",
       " '▁Robert': 2519,\n",
       " '▁Corrected': 87875,\n",
       " 'MSC': 56004,\n",
       " '▁Cardi': 39408,\n",
       " '▁Eastside': 59920,\n",
       " '▁sorcerer': 53801,\n",
       " '▁repulsed': 81815,\n",
       " '▁Regis': 35957,\n",
       " '▁Vantage': 49420,\n",
       " '▁McConnell': 19355,\n",
       " 'different': 31523,\n",
       " '▁Residential': 9260,\n",
       " '▁mineralogy': 116585,\n",
       " '▁philanthropists': 77854,\n",
       " '▁promptly': 9398,\n",
       " '▁2011': 1513,\n",
       " '035': 48408,\n",
       " '▁varnish': 34385,\n",
       " '▁Sing': 17011,\n",
       " '▁devi': 88749,\n",
       " '▁preach': 18847,\n",
       " '▁Casting': 31768,\n",
       " '▁emulator': 31800,\n",
       " '424': 39578,\n",
       " '▁kurti': 109708,\n",
       " '▁Ainslie': 116329,\n",
       " '▁Cir': 18443,\n",
       " '▁jerk': 21838,\n",
       " '▁Beirut': 30708,\n",
       " '▁roped': 61799,\n",
       " '▁gynecologic': 106093,\n",
       " '▁monologues': 73027,\n",
       " '▁Akers': 89047,\n",
       " '▁Drywall': 72927,\n",
       " 'brian': 80983,\n",
       " '▁grafting': 51115,\n",
       " '▁Astros': 26517,\n",
       " 'ү': 81877,\n",
       " '▁Yucca': 84006,\n",
       " 'since': 18084,\n",
       " '知': 80167,\n",
       " 'Nation': 42873,\n",
       " '▁guard': 4268,\n",
       " 'basin': 89533,\n",
       " 'Maz': 91677,\n",
       " 'Foundation': 76587,\n",
       " '▁PLENTY': 118878,\n",
       " '▁hypocrite': 59173,\n",
       " '▁skri': 118944,\n",
       " '▁Ibis': 79998,\n",
       " '▁GCSE': 32071,\n",
       " '▁fervor': 49010,\n",
       " '▁Won': 15311,\n",
       " '▁Howell': 27202,\n",
       " '▁unexplained': 34494,\n",
       " '▁phosphorylation': 33479,\n",
       " 'Cop': 62315,\n",
       " '▁Visualize': 76752,\n",
       " '▁1759': 94919,\n",
       " '▁outtakes': 98366,\n",
       " '▁divisiveness': 101286,\n",
       " '▁Fas': 37164,\n",
       " '▁Connacht': 94184,\n",
       " '▁wiser': 29456,\n",
       " 'trak': 57985,\n",
       " '▁EXTREMELY': 90054,\n",
       " '▁Inconel': 104820,\n",
       " '▁nightcap': 100349,\n",
       " '▁illuminating': 28132,\n",
       " '▁TER': 53562,\n",
       " '▁Ptolemy': 82675,\n",
       " '💐': 126534,\n",
       " '▁154': 25306,\n",
       " '▁Unmanned': 83293,\n",
       " 'Use': 24632,\n",
       " '▁Buildings': 25978,\n",
       " '▁harbinger': 66616,\n",
       " '▁dishwashers': 67178,\n",
       " '▁MANY': 31355,\n",
       " '▁pews': 62263,\n",
       " 'сі': 107659,\n",
       " 'how': 5608,\n",
       " '备': 122728,\n",
       " '▁goats': 18303,\n",
       " '▁Emir': 76511,\n",
       " '▁implored': 82875,\n",
       " '▁Wacker': 96025,\n",
       " '▁carries': 6146,\n",
       " '▁telescoping': 77111,\n",
       " 'Gulf': 108560,\n",
       " '肖': 125430,\n",
       " 'denial': 86246,\n",
       " '▁tide': 11180,\n",
       " '▁Instances': 87326,\n",
       " '십': 124168,\n",
       " '▁están': 89673,\n",
       " 'Apache': 111767,\n",
       " 'capsule': 86838,\n",
       " 'صلى': 113526,\n",
       " '▁Falwell': 105107,\n",
       " '▁Fangio': 115915,\n",
       " 'ров': 64357,\n",
       " '▁Alley': 26383,\n",
       " '▁furnished': 12133,\n",
       " '▁leggy': 111207,\n",
       " '▁Egyptian': 9826,\n",
       " '▁cheeks': 16411,\n",
       " '▁Curcumin': 92893,\n",
       " '▁pacific': 44637,\n",
       " 'ո': 106993,\n",
       " '▁Nyong': 96752,\n",
       " '▁Ragnar': 78958,\n",
       " '▁pure': 3828,\n",
       " '▁Magister': 115699,\n",
       " 'voca': 54377,\n",
       " '質': 104575,\n",
       " '▁thiol': 110539,\n",
       " '▁Franciscan': 40930,\n",
       " 'SPACE': 83062,\n",
       " '▁Deus': 56378,\n",
       " '▁minimised': 84563,\n",
       " '994': 65939,\n",
       " '▁Ristorante': 104725,\n",
       " '▁militarily': 59783,\n",
       " '▁Drew': 11658,\n",
       " '▁DMT': 87592,\n",
       " 'ා': 45441,\n",
       " '▁defenceman': 66637,\n",
       " 'obo': 33981,\n",
       " '▁ISIL': 44933,\n",
       " 'larion': 122319,\n",
       " '▁BRUSSELS': 98641,\n",
       " 'lucid': 120829,\n",
       " 'uated': 66631,\n",
       " '▁haggling': 87884,\n",
       " 'essential': 30689,\n",
       " '美': 74601,\n",
       " '▁Ukraine': 7116,\n",
       " '▁Base': 7524,\n",
       " '▁misidentified': 111804,\n",
       " '▁VAL': 62441,\n",
       " '▁Ø': 34540,\n",
       " '▁traumatic': 14377,\n",
       " '▁Ernie': 31972,\n",
       " 'Didn': 88738,\n",
       " 'IQ': 31088,\n",
       " '▁Lon': 35596,\n",
       " '▁imperfectly': 105358,\n",
       " '▁salesman': 25535,\n",
       " '▁Antti': 107794,\n",
       " '圣': 124897,\n",
       " '▁supervisory': 29598,\n",
       " '▁€20': 76729,\n",
       " '▁DeWitt': 73048,\n",
       " 'Plugin': 74663,\n",
       " 'ammer': 83145,\n",
       " 'Originally': 105528,\n",
       " '▁SAIL': 95243,\n",
       " 'HOOD': 112954,\n",
       " '▁Wrestling': 22497,\n",
       " '▁Ake': 56626,\n",
       " '▁bulletin': 21848,\n",
       " '▁Drugs': 19685,\n",
       " '▁spec': 15198,\n",
       " '▁wpc': 99445,\n",
       " '▁Whole': 11068,\n",
       " '▁Ju': 14334,\n",
       " '▁Lexi': 36855,\n",
       " 'Winning': 76456,\n",
       " '▁Observation': 44106,\n",
       " '▁MIRROR': 105536,\n",
       " '▁installed': 2627,\n",
       " '▁Legacy': 14217,\n",
       " '▁MiG': 68487,\n",
       " '▁Maru': 45344,\n",
       " '▁Necessity': 94825,\n",
       " '린': 120798,\n",
       " '▁blanketed': 78253,\n",
       " 'study': 25010,\n",
       " '▁Snyder': 19821,\n",
       " '▁inaccurate': 16782,\n",
       " '▁LL': 21965,\n",
       " 'seeded': 28495,\n",
       " '▁எ': 108842,\n",
       " '▁revive': 18400,\n",
       " '▁Rumors': 43183,\n",
       " '▁Adwords': 44540,\n",
       " '▁remittances': 61455,\n",
       " '▁relearn': 88177,\n",
       " '▁itchiness': 93268,\n",
       " '▁unites': 39429,\n",
       " 'niej': 114436,\n",
       " '▁roast': 12877,\n",
       " '▁modifications': 10035,\n",
       " '▁Seller': 15344,\n",
       " '▁electrodes': 23604,\n",
       " 'east': 15155,\n",
       " '▁Babo': 95667,\n",
       " '▁Creo': 100578,\n",
       " '▁Moga': 107662,\n",
       " '▁mercies': 81617,\n",
       " 'degree': 10800,\n",
       " '▁Hann': 67992,\n",
       " '▁Gaynor': 100440,\n",
       " '⏰': 126219,\n",
       " '▁NDIS': 88052,\n",
       " '▁ballooned': 82736,\n",
       " '▁labyrinth': 35366,\n",
       " '▁succeed': 5376,\n",
       " '階': 123845,\n",
       " '▁inventive': 21641,\n",
       " '▁Lilac': 67078,\n",
       " 'universit': 108041,\n",
       " '▁sniff': 30465,\n",
       " '▁MIND': 46368,\n",
       " '▁lacto': 88857,\n",
       " '▁skulk': 109969,\n",
       " 'iol': 53226,\n",
       " 'PET': 44999,\n",
       " '▁Humber': 50194,\n",
       " '▁waning': 40202,\n",
       " '▁monogram': 41189,\n",
       " 'ylla': 86260,\n",
       " '▁privatizing': 112382,\n",
       " '▁Atari': 36067,\n",
       " '▁dopamine': 28183,\n",
       " '▁Lumberton': 116593,\n",
       " '▁Nez': 76382,\n",
       " 'Donovan': 105330,\n",
       " '▁fretting': 67165,\n",
       " '▁irrevocably': 58319,\n",
       " '▁Raghu': 70942,\n",
       " 'inka': 48005,\n",
       " '▁Respondent': 33780,\n",
       " 'PJ': 66066,\n",
       " '▁neuroprotective': 102910,\n",
       " '▁jealousy': 25088,\n",
       " 'ativity': 65822,\n",
       " '▁dua': 88386,\n",
       " '▁Hereditary': 99257,\n",
       " 'Hunt': 55815,\n",
       " 'addled': 108396,\n",
       " '▁VST': 59957,\n",
       " '▁besoin': 117254,\n",
       " '▁severing': 86176,\n",
       " '烧': 124986,\n",
       " '▁Harbor': 9508,\n",
       " '▁Rhône': 95065,\n",
       " '▁skewer': 50952,\n",
       " '▁tidak': 63983,\n",
       " '▁454': 54438,\n",
       " '▁Rhone': 76339,\n",
       " 'wavelength': 96512,\n",
       " '▁splattered': 83207,\n",
       " '▁uncontrollable': 42275,\n",
       " 'erna': 49095,\n",
       " '▁tramadol': 49630,\n",
       " '▁tut': 65827,\n",
       " 'TSC': 88788,\n",
       " '▁Typically': 10536,\n",
       " 'ılı': 117636,\n",
       " '▁jarred': 97787,\n",
       " '揃': 127581,\n",
       " 'picking': 47764,\n",
       " '▁Dioxide': 62446,\n",
       " 'word': 14040,\n",
       " '▁Without': 4031,\n",
       " '▁Cheap': 8287,\n",
       " '▁Muertos': 95217,\n",
       " '▁PERSON': 47064,\n",
       " '▁Thalia': 99848,\n",
       " '▁Flak': 111071,\n",
       " '▁LGBTQIA': 117162,\n",
       " '▁Spree': 89819,\n",
       " '▁Vida': 43530,\n",
       " '▁XVI': 36854,\n",
       " '▁bounties': 89505,\n",
       " '▁showstopper': 90854,\n",
       " 'eration': 33005,\n",
       " '▁provincial': 10014,\n",
       " '▁Gor': 17899,\n",
       " '▁Dubrovnik': 53682,\n",
       " '▁Northstar': 91760,\n",
       " '▁situating': 120148,\n",
       " '▁Bouchard': 70979,\n",
       " '▁airbase': 86223,\n",
       " '▁riverboat': 97849,\n",
       " '▁skilfully': 85022,\n",
       " 'uš': 95058,\n",
       " 'LEV': 98201,\n",
       " '람': 104916,\n",
       " 'coaches': 110481,\n",
       " 'doh': 82863,\n",
       " '▁2005': 2589,\n",
       " '▁heroes': 8320,\n",
       " '▁emily': 112059,\n",
       " '▁Disposing': 120411,\n",
       " 'modulation': 75615,\n",
       " 'NCE': 87608,\n",
       " '▁psy': 70201,\n",
       " '▁Enlist': 99463,\n",
       " 'church': 25631,\n",
       " '▁necessitating': 75739,\n",
       " '▁MADE': 30373,\n",
       " '▁primeval': 95414,\n",
       " '搭': 124434,\n",
       " '▁Verda': 85224,\n",
       " '▁Superhero': 57659,\n",
       " '▁outrebounded': 120426,\n",
       " '▁Tomorrowland': 97695,\n",
       " '▁subsets': 51284,\n",
       " '▁blowout': 36932,\n",
       " '▁intensities': 53836,\n",
       " 'imi': 19277,\n",
       " '▁waterfront': 16612,\n",
       " '撃': 124784,\n",
       " '▁Alisa': 73523,\n",
       " '▁audiophile': 63912,\n",
       " '▁mansions': 47320,\n",
       " '▁centred': 27105,\n",
       " 'viv': 52391,\n",
       " 'Platform': 83230,\n",
       " '▁semicircular': 112435,\n",
       " '▁Barents': 109859,\n",
       " 'テ': 62105,\n",
       " '▁concept': 2133,\n",
       " '▁Quake': 52637,\n",
       " '▁Median': 52014,\n",
       " '▁ribeye': 112725,\n",
       " 'ication': 65396,\n",
       " '礎': 125288,\n",
       " '▁Explorers': 62762,\n",
       " '▁Dimitrov': 61253,\n",
       " '▁Juanita': 71044,\n",
       " '▁bytes': 19168,\n",
       " '▁accelerates': 40660,\n",
       " 'fall': 14472,\n",
       " 'hauer': 81756,\n",
       " 'Emerald': 119848,\n",
       " '▁Witney': 121095,\n",
       " '▁Gilroy': 76222,\n",
       " '▁Perched': 91461,\n",
       " '▁squaring': 87349,\n",
       " '▁perpetually': 36701,\n",
       " '▁spar': 42475,\n",
       " '▁Concrete': 12883,\n",
       " '▁subcontractor': 54364,\n",
       " '▁motioned': 58882,\n",
       " '▁Barthes': 116333,\n",
       " '▁Brussels': 10908,\n",
       " '▁carbohydrate': 24808,\n",
       " '▁Morrisville': 110901,\n",
       " '▁falciparum': 84253,\n",
       " '▁£': 27977,\n",
       " 'été': 97286,\n",
       " '▁global': 1307,\n",
       " '▁solenoid': 42652,\n",
       " 'zzi': 36524,\n",
       " '▁explicit': 11212,\n",
       " '▁unfilled': 72402,\n",
       " '▁anatomic': 73267,\n",
       " '▁Laura': 7186,\n",
       " '▁Wonderland': 26407,\n",
       " '▁Custody': 66232,\n",
       " '▁strategically': 16154,\n",
       " 'ASIS': 117699,\n",
       " '▁Waldman': 96011,\n",
       " 'asil': 76652,\n",
       " '▁solidarity': 14752,\n",
       " '▁Electra': 61980,\n",
       " '▁weary': 22145,\n",
       " 'Diary': 115668,\n",
       " '▁shark': 13904,\n",
       " '▁Norden': 106039,\n",
       " '▁concoctions': 77412,\n",
       " 'tens': 26713,\n",
       " '▁crisscross': 80077,\n",
       " '▁softball': 21518,\n",
       " '▁plantations': 29122,\n",
       " ...}"
      ]
     },
     "execution_count": 20,
     "metadata": {},
     "output_type": "execute_result"
    }
   ],
   "source": [
    "tokz.vocab #maintains list of words with tokens"
   ]
  },
  {
   "cell_type": "code",
   "execution_count": 21,
   "metadata": {},
   "outputs": [
    {
     "data": {
      "text/plain": [
       "1580"
      ]
     },
     "execution_count": 21,
     "metadata": {},
     "output_type": "execute_result"
    }
   ],
   "source": [
    "tokz.vocab['of']"
   ]
  },
  {
   "cell_type": "code",
   "execution_count": 22,
   "metadata": {},
   "outputs": [],
   "source": [
    "#Finally we need to prepare our labels. Transformers always assumes that your labels has the column name labels, but currently it is score, hence we need to change it\n",
    "\n",
    "tok_ds = tok_ds.rename_columns({'score': 'labels'})"
   ]
  },
  {
   "cell_type": "code",
   "execution_count": 23,
   "metadata": {},
   "outputs": [],
   "source": [
    "#Now that we have prepared our tokens and lables we need ot create our validation set"
   ]
  },
  {
   "attachments": {},
   "cell_type": "markdown",
   "metadata": {},
   "source": [
    "Test and validation sets"
   ]
  },
  {
   "cell_type": "code",
   "execution_count": 24,
   "metadata": {},
   "outputs": [
    {
     "data": {
      "text/html": [
       "<div>\n",
       "<style scoped>\n",
       "    .dataframe tbody tr th:only-of-type {\n",
       "        vertical-align: middle;\n",
       "    }\n",
       "\n",
       "    .dataframe tbody tr th {\n",
       "        vertical-align: top;\n",
       "    }\n",
       "\n",
       "    .dataframe thead th {\n",
       "        text-align: right;\n",
       "    }\n",
       "</style>\n",
       "<table border=\"1\" class=\"dataframe\">\n",
       "  <thead>\n",
       "    <tr style=\"text-align: right;\">\n",
       "      <th></th>\n",
       "      <th>id</th>\n",
       "      <th>anchor</th>\n",
       "      <th>target</th>\n",
       "      <th>context</th>\n",
       "    </tr>\n",
       "  </thead>\n",
       "  <tbody>\n",
       "    <tr>\n",
       "      <th>count</th>\n",
       "      <td>36</td>\n",
       "      <td>36</td>\n",
       "      <td>36</td>\n",
       "      <td>36</td>\n",
       "    </tr>\n",
       "    <tr>\n",
       "      <th>unique</th>\n",
       "      <td>36</td>\n",
       "      <td>34</td>\n",
       "      <td>36</td>\n",
       "      <td>29</td>\n",
       "    </tr>\n",
       "    <tr>\n",
       "      <th>top</th>\n",
       "      <td>4112d61851461f60</td>\n",
       "      <td>el display</td>\n",
       "      <td>inorganic photoconductor drum</td>\n",
       "      <td>G02</td>\n",
       "    </tr>\n",
       "    <tr>\n",
       "      <th>freq</th>\n",
       "      <td>1</td>\n",
       "      <td>2</td>\n",
       "      <td>1</td>\n",
       "      <td>3</td>\n",
       "    </tr>\n",
       "  </tbody>\n",
       "</table>\n",
       "</div>"
      ],
      "text/plain": [
       "                      id      anchor                         target context\n",
       "count                 36          36                             36      36\n",
       "unique                36          34                             36      29\n",
       "top     4112d61851461f60  el display  inorganic photoconductor drum     G02\n",
       "freq                   1           2                              1       3"
      ]
     },
     "execution_count": 24,
     "metadata": {},
     "output_type": "execute_result"
    }
   ],
   "source": [
    "eval_df = pd.read_csv(path/'test.csv')\n",
    "eval_df.describe()"
   ]
  },
  {
   "attachments": {},
   "cell_type": "markdown",
   "metadata": {},
   "source": [
    "Validation set"
   ]
  },
  {
   "cell_type": "code",
   "execution_count": 25,
   "metadata": {},
   "outputs": [],
   "source": [
    "#To explain the motivation, lets start simple, and imagine we are trying to fit a model where the true relationship is this quadratic:\n",
    "\n",
    "\n",
    "def f(x):\n",
    "    return -3*x**2 + 2*x + 20"
   ]
  },
  {
   "cell_type": "code",
   "execution_count": 26,
   "metadata": {},
   "outputs": [],
   "source": [
    "#unfortunately matplotlib doesnt come with a way to visualize a function\n",
    "#so we will create one\n",
    "\n",
    "import numpy as np, matplotlib.pyplot as plt\n",
    "\n",
    "def plot_function(f, min=-2.1,max=2.1, color='r'):\n",
    "    x = np.linspace(min,max,100)[:,None]\n",
    "    plt.plot(x, f(x), color)"
   ]
  },
  {
   "cell_type": "code",
   "execution_count": 27,
   "metadata": {},
   "outputs": [
    {
     "data": {
      "image/png": "[encoded data removed]",
      "text/plain": [
       "<Figure size 640x480 with 1 Axes>"
      ]
     },
     "metadata": {},
     "output_type": "display_data"
    }
   ],
   "source": [
    "plot_function(f)"
   ]
  },
  {
   "cell_type": "code",
   "execution_count": 28,
   "metadata": {},
   "outputs": [],
   "source": [
    "#For instance, perhaps we have measuered the height above ground of an object before and after some event. The measurement will have some random error. We can use numpy's random number generator to simulate tha. I lik to use seed when writing about simulations like this so that I know you'll see the same thing I do:"
   ]
  },
  {
   "cell_type": "code",
   "execution_count": 29,
   "metadata": {},
   "outputs": [],
   "source": [
    "from numpy.random import normal,seed,uniform\n",
    "np.random.seed(42)"
   ]
  },
  {
   "cell_type": "code",
   "execution_count": 30,
   "metadata": {},
   "outputs": [],
   "source": [
    "#Lets create a function add_noise that adds some random variatin to an array:\n",
    "def noise(x, scale):\n",
    "    return normal(scale=scale, size=x.shape)\n",
    "\n",
    "def add_noise(x, mult, add):\n",
    "    return x*(1+noise(x, mult)) + noise(x, add)"
   ]
  },
  {
   "cell_type": "code",
   "execution_count": 31,
   "metadata": {},
   "outputs": [
    {
     "data": {
      "text/plain": [
       "<matplotlib.collections.PathCollection at 0x7faef2fb68f0>"
      ]
     },
     "execution_count": 31,
     "metadata": {},
     "output_type": "execute_result"
    },
    {
     "data": {
      "image/png": "[encoded data removed]",
      "text/plain": [
       "<Figure size 640x480 with 1 Axes>"
      ]
     },
     "metadata": {},
     "output_type": "display_data"
    }
   ],
   "source": [
    "#Lets use it to simulate some measurements evenly distributed over time:\n",
    "\n",
    "x  = np.linspace(-2,2, num=20)[:,None]\n",
    "y = add_noise(f(x), 0.2, 1.3)\n",
    "plt.scatter(x,y)"
   ]
  },
  {
   "cell_type": "code",
   "execution_count": 32,
   "metadata": {},
   "outputs": [],
   "source": [
    "#Now lets try to fit different function in the above dataset\n",
    "\n",
    "from sklearn.linear_model import LinearRegression\n",
    "from sklearn.preprocessing import PolynomialFeatures\n",
    "from sklearn.pipeline import make_pipeline\n",
    "\n",
    "def plot_poly(degree):\n",
    "    model = make_pipeline(PolynomialFeatures(degree), LinearRegression())\n",
    "    model.fit(x,y)\n",
    "    plt.scatter(x,y)\n",
    "    plot_function(model.predict)"
   ]
  },
  {
   "cell_type": "code",
   "execution_count": 33,
   "metadata": {},
   "outputs": [
    {
     "data": {
      "image/png": "[encoded data removed]",
      "text/plain": [
       "<Figure size 640x480 with 1 Axes>"
      ]
     },
     "metadata": {},
     "output_type": "display_data"
    }
   ],
   "source": [
    "plot_poly(1)  #1-degree equation or y = ax + b"
   ]
  },
  {
   "cell_type": "code",
   "execution_count": 34,
   "metadata": {},
   "outputs": [
    {
     "data": {
      "image/png": "[encoded data removed]",
      "text/plain": [
       "<Figure size 640x480 with 1 Axes>"
      ]
     },
     "metadata": {},
     "output_type": "display_data"
    }
   ],
   "source": [
    "plot_poly(10)  #10-degree polynomial"
   ]
  },
  {
   "cell_type": "code",
   "execution_count": 35,
   "metadata": {},
   "outputs": [
    {
     "data": {
      "image/png": "[encoded data removed]",
      "text/plain": [
       "<Figure size 640x480 with 1 Axes>"
      ]
     },
     "metadata": {},
     "output_type": "display_data"
    }
   ],
   "source": [
    "#lets try a 2-degree polynomial and compare it with our defined function\n",
    "\n",
    "plot_poly(2)\n",
    "plot_function(f, color='g')\n",
    "\n",
    "\n",
    "\n",
    "#almost similar"
   ]
  },
  {
   "cell_type": "code",
   "execution_count": 36,
   "metadata": {},
   "outputs": [
    {
     "data": {
      "text/plain": [
       "DatasetDict({\n",
       "    train: Dataset({\n",
       "        features: ['id', 'anchor', 'target', 'context', 'labels', 'input', 'input_ids', 'token_type_ids', 'attention_mask'],\n",
       "        num_rows: 28084\n",
       "    })\n",
       "    test: Dataset({\n",
       "        features: ['id', 'anchor', 'target', 'context', 'labels', 'input', 'input_ids', 'token_type_ids', 'attention_mask'],\n",
       "        num_rows: 8389\n",
       "    })\n",
       "})"
      ]
     },
     "execution_count": 36,
     "metadata": {},
     "output_type": "execute_result"
    }
   ],
   "source": [
    "#Transformers uses a DatasetDict for holding your training and validationsets. To create on e that contains 25% of our data for the validationset, and 75% for the training set, use train_test_split\n",
    "\n",
    "\n",
    "dds = tok_ds.train_test_split(0.23, seed=42)\n",
    "dds"
   ]
  },
  {
   "attachments": {},
   "cell_type": "markdown",
   "metadata": {},
   "source": [
    "## N.B -- The validation set created by the transformers is called test and not validation, hence not to be confused"
   ]
  },
  {
   "cell_type": "code",
   "execution_count": 37,
   "metadata": {},
   "outputs": [
    {
     "data": {
      "application/vnd.jupyter.widget-view+json": {
       "model_id": "7d37a397cf9e4ffbac1bc03d5cf245f2",
       "version_major": 2,
       "version_minor": 0
      },
      "text/plain": [
       "Map:   0%|          | 0/36 [00:00<?, ? examples/s]"
      ]
     },
     "metadata": {},
     "output_type": "display_data"
    }
   ],
   "source": [
    "# we will use eval as our name for the test set, to avoid confusion with the test dataset that was created above]\n",
    "\n",
    "\n",
    "\n",
    "eval_df['input'] = 'TEXT1: ' + eval_df.context + '; TEXT2: ' + eval_df.target + '; ANC1: ' + eval_df.anchor\n",
    "\n",
    "\n",
    "eval_ds = Dataset.from_pandas(eval_df).map(tok_func, batched=True)"
   ]
  },
  {
   "cell_type": "code",
   "execution_count": 38,
   "metadata": {},
   "outputs": [
    {
     "data": {
      "text/plain": [
       "Dataset({\n",
       "    features: ['id', 'anchor', 'target', 'context', 'input', 'input_ids', 'token_type_ids', 'attention_mask'],\n",
       "    num_rows: 36\n",
       "})"
      ]
     },
     "execution_count": 38,
     "metadata": {},
     "output_type": "execute_result"
    }
   ],
   "source": [
    "eval_ds"
   ]
  },
  {
   "attachments": {},
   "cell_type": "markdown",
   "metadata": {},
   "source": [
    "Metrics and Correlation"
   ]
  },
  {
   "cell_type": "code",
   "execution_count": 40,
   "metadata": {},
   "outputs": [
    {
     "data": {
      "text/html": [
       "<div>\n",
       "<style scoped>\n",
       "    .dataframe tbody tr th:only-of-type {\n",
       "        vertical-align: middle;\n",
       "    }\n",
       "\n",
       "    .dataframe tbody tr th {\n",
       "        vertical-align: top;\n",
       "    }\n",
       "\n",
       "    .dataframe thead th {\n",
       "        text-align: right;\n",
       "    }\n",
       "</style>\n",
       "<table border=\"1\" class=\"dataframe\">\n",
       "  <thead>\n",
       "    <tr style=\"text-align: right;\">\n",
       "      <th></th>\n",
       "      <th>MedInc</th>\n",
       "      <th>HouseAge</th>\n",
       "      <th>AveRooms</th>\n",
       "      <th>AveBedrms</th>\n",
       "      <th>Population</th>\n",
       "      <th>AveOccup</th>\n",
       "      <th>Latitude</th>\n",
       "      <th>Longitude</th>\n",
       "      <th>MedHouseVal</th>\n",
       "    </tr>\n",
       "  </thead>\n",
       "  <tbody>\n",
       "    <tr>\n",
       "      <th>7506</th>\n",
       "      <td>3.0550</td>\n",
       "      <td>37.0</td>\n",
       "      <td>5.152778</td>\n",
       "      <td>1.048611</td>\n",
       "      <td>729.0</td>\n",
       "      <td>5.062500</td>\n",
       "      <td>33.92</td>\n",
       "      <td>-118.28</td>\n",
       "      <td>1.054</td>\n",
       "    </tr>\n",
       "    <tr>\n",
       "      <th>4720</th>\n",
       "      <td>3.0862</td>\n",
       "      <td>35.0</td>\n",
       "      <td>4.697897</td>\n",
       "      <td>1.055449</td>\n",
       "      <td>1159.0</td>\n",
       "      <td>2.216061</td>\n",
       "      <td>34.05</td>\n",
       "      <td>-118.37</td>\n",
       "      <td>3.453</td>\n",
       "    </tr>\n",
       "    <tr>\n",
       "      <th>12888</th>\n",
       "      <td>2.5556</td>\n",
       "      <td>24.0</td>\n",
       "      <td>4.864905</td>\n",
       "      <td>1.129222</td>\n",
       "      <td>1631.0</td>\n",
       "      <td>2.395007</td>\n",
       "      <td>38.66</td>\n",
       "      <td>-121.35</td>\n",
       "      <td>1.057</td>\n",
       "    </tr>\n",
       "    <tr>\n",
       "      <th>13344</th>\n",
       "      <td>3.0057</td>\n",
       "      <td>32.0</td>\n",
       "      <td>4.212687</td>\n",
       "      <td>0.936567</td>\n",
       "      <td>1378.0</td>\n",
       "      <td>5.141791</td>\n",
       "      <td>34.05</td>\n",
       "      <td>-117.64</td>\n",
       "      <td>0.969</td>\n",
       "    </tr>\n",
       "    <tr>\n",
       "      <th>7173</th>\n",
       "      <td>1.9083</td>\n",
       "      <td>42.0</td>\n",
       "      <td>3.888554</td>\n",
       "      <td>1.039157</td>\n",
       "      <td>1535.0</td>\n",
       "      <td>4.623494</td>\n",
       "      <td>34.05</td>\n",
       "      <td>-118.19</td>\n",
       "      <td>1.192</td>\n",
       "    </tr>\n",
       "  </tbody>\n",
       "</table>\n",
       "</div>"
      ],
      "text/plain": [
       "       MedInc  HouseAge  AveRooms  AveBedrms  Population  AveOccup  Latitude  \\\n",
       "7506   3.0550      37.0  5.152778   1.048611       729.0  5.062500     33.92   \n",
       "4720   3.0862      35.0  4.697897   1.055449      1159.0  2.216061     34.05   \n",
       "12888  2.5556      24.0  4.864905   1.129222      1631.0  2.395007     38.66   \n",
       "13344  3.0057      32.0  4.212687   0.936567      1378.0  5.141791     34.05   \n",
       "7173   1.9083      42.0  3.888554   1.039157      1535.0  4.623494     34.05   \n",
       "\n",
       "       Longitude  MedHouseVal  \n",
       "7506     -118.28        1.054  \n",
       "4720     -118.37        3.453  \n",
       "12888    -121.35        1.057  \n",
       "13344    -117.64        0.969  \n",
       "7173     -118.19        1.192  "
      ]
     },
     "execution_count": 40,
     "metadata": {},
     "output_type": "execute_result"
    }
   ],
   "source": [
    "#This competition uses pearson correlation coefficient.\n",
    "#To see how it works we will use the california housing dataset\n",
    "\n",
    "\n",
    "from sklearn.datasets import fetch_california_housing\n",
    "housing = fetch_california_housing(as_frame=True)\n",
    "housing = housing['data'].join(housing['target']).sample(1000, random_state=52)\n",
    "housing.head()"
   ]
  },
  {
   "cell_type": "code",
   "execution_count": 41,
   "metadata": {},
   "outputs": [
    {
     "data": {
      "text/plain": [
       "array([[ 1.  , -0.12,  0.43, -0.08,  0.01, -0.07, -0.12,  0.04,  0.68],\n",
       "       [-0.12,  1.  , -0.17, -0.06, -0.31,  0.  ,  0.03, -0.13,  0.12],\n",
       "       [ 0.43, -0.17,  1.  ,  0.76, -0.09, -0.07,  0.12, -0.03,  0.21],\n",
       "       [-0.08, -0.06,  0.76,  1.  , -0.08, -0.07,  0.09,  0.  , -0.04],\n",
       "       [ 0.01, -0.31, -0.09, -0.08,  1.  ,  0.16, -0.15,  0.13,  0.  ],\n",
       "       [-0.07,  0.  , -0.07, -0.07,  0.16,  1.  , -0.16,  0.17, -0.27],\n",
       "       [-0.12,  0.03,  0.12,  0.09, -0.15, -0.16,  1.  , -0.93, -0.16],\n",
       "       [ 0.04, -0.13, -0.03,  0.  ,  0.13,  0.17, -0.93,  1.  , -0.03],\n",
       "       [ 0.68,  0.12,  0.21, -0.04,  0.  , -0.27, -0.16, -0.03,  1.  ]])"
      ]
     },
     "execution_count": 41,
     "metadata": {},
     "output_type": "execute_result"
    }
   ],
   "source": [
    "#We can see all the correlation coefficients for every combination of columns in this dataset by calling np.corrcoef\n",
    "\n",
    "np.set_printoptions(precision=2, suppress=True)\n",
    "np.corrcoef(housing, rowvar=False)\n",
    "\n",
    "\n",
    "#This works greate for multiple values at once."
   ]
  },
  {
   "cell_type": "code",
   "execution_count": 42,
   "metadata": {},
   "outputs": [
    {
     "data": {
      "text/plain": [
       "array([[1.  , 0.68],\n",
       "       [0.68, 1.  ]])"
      ]
     },
     "execution_count": 42,
     "metadata": {},
     "output_type": "execute_result"
    }
   ],
   "source": [
    "#but for comparing two features\n",
    "np.corrcoef(housing.MedHouseVal, housing.MedInc)"
   ]
  },
  {
   "cell_type": "code",
   "execution_count": 71,
   "metadata": {},
   "outputs": [],
   "source": [
    "def corr(x,y):\n",
    "    if np.corrcoef(x,y)[0,1] != 1:\n",
    "        return np.corrcoef(x,y)[0,1]\n",
    "    else:\n",
    "        return np.corrcoef(x,y)[0,0]"
   ]
  },
  {
   "cell_type": "code",
   "execution_count": 72,
   "metadata": {},
   "outputs": [
    {
     "data": {
      "text/plain": [
       "0.6760250732906005"
      ]
     },
     "execution_count": 72,
     "metadata": {},
     "output_type": "execute_result"
    }
   ],
   "source": [
    "corr(housing.MedHouseVal, housing.MedInc)"
   ]
  },
  {
   "cell_type": "code",
   "execution_count": 87,
   "metadata": {},
   "outputs": [],
   "source": [
    "#Now lets create a function to check two features from a  dataset and plot their correlation graph\n",
    "\n",
    "def show_corr(df, a, b):\n",
    "    x,y = df[a],df[b]\n",
    "    cr = corr(x,y)\n",
    "    plt.scatter(x,y, alpha=0.4, s=4)\n",
    "    plt.title(f'{a} vs {b};  r:{cr:.2f}')\n"
   ]
  },
  {
   "cell_type": "code",
   "execution_count": 82,
   "metadata": {},
   "outputs": [
    {
     "data": {
      "image/png": "[encoded data removed]",
      "text/plain": [
       "<Figure size 640x480 with 1 Axes>"
      ]
     },
     "metadata": {},
     "output_type": "display_data"
    }
   ],
   "source": [
    "show_corr(housing, 'MedInc', 'MedHouseVal')"
   ]
  },
  {
   "cell_type": "code",
   "execution_count": 83,
   "metadata": {},
   "outputs": [
    {
     "data": {
      "image/png": "[encoded data removed]",
      "text/plain": [
       "<Figure size 640x480 with 1 Axes>"
      ]
     },
     "metadata": {},
     "output_type": "display_data"
    }
   ],
   "source": [
    "show_corr(housing, 'MedInc','AveRooms')"
   ]
  },
  {
   "cell_type": "code",
   "execution_count": 98,
   "metadata": {},
   "outputs": [
    {
     "data": {
      "image/png": "[encoded data removed]",
      "text/plain": [
       "<Figure size 640x480 with 1 Axes>"
      ]
     },
     "metadata": {},
     "output_type": "display_data"
    }
   ],
   "source": [
    "#Lets try to remove the outliers and check if the value of r increase\n",
    "\n",
    "subset = housing[housing.AveRooms<15]\n",
    "show_corr(subset, 'MedInc','AveRooms')"
   ]
  },
  {
   "cell_type": "code",
   "execution_count": 100,
   "metadata": {},
   "outputs": [
    {
     "data": {
      "image/png": "[encoded data removed]",
      "text/plain": [
       "<Figure size 640x480 with 1 Axes>"
      ]
     },
     "metadata": {},
     "output_type": "display_data"
    }
   ],
   "source": [
    "#Here's another example\n",
    "\n",
    "show_corr(subset, 'MedHouseVal', 'AveRooms')"
   ]
  },
  {
   "cell_type": "code",
   "execution_count": 97,
   "metadata": {},
   "outputs": [
    {
     "data": {
      "text/plain": [
       "7506     1.054\n",
       "4720     3.453\n",
       "12888    1.057\n",
       "13344    0.969\n",
       "7173     1.192\n",
       "         ...  \n",
       "10535    2.454\n",
       "3029     0.638\n",
       "7985     1.563\n",
       "13724    0.728\n",
       "13520    2.213\n",
       "Name: MedHouseVal, Length: 1000, dtype: float64"
      ]
     },
     "execution_count": 97,
     "metadata": {},
     "output_type": "execute_result"
    }
   ],
   "source": [
    "housing.MedHouseVal"
   ]
  },
  {
   "cell_type": "code",
   "execution_count": 101,
   "metadata": {},
   "outputs": [
    {
     "data": {
      "image/png": "[encoded data removed]",
      "text/plain": [
       "<Figure size 640x480 with 1 Axes>"
      ]
     },
     "metadata": {},
     "output_type": "display_data"
    }
   ],
   "source": [
    "show_corr(subset, 'HouseAge', 'AveRooms')\n"
   ]
  },
  {
   "attachments": {},
   "cell_type": "markdown",
   "metadata": {},
   "source": [
    "Transformers expects metrics to be returned as a dict, since that way the trainer knows what label to use"
   ]
  },
  {
   "cell_type": "code",
   "execution_count": 102,
   "metadata": {},
   "outputs": [],
   "source": [
    "def  corr_d(eval_pred):\n",
    "    return {'pearson': corr(*eval_pred)}"
   ]
  },
  {
   "attachments": {},
   "cell_type": "markdown",
   "metadata": {},
   "source": [
    "Training"
   ]
  },
  {
   "cell_type": "code",
   "execution_count": 103,
   "metadata": {},
   "outputs": [],
   "source": [
    "#Training our model\n",
    "\n",
    "from transformers import TrainingArguments, Trainer\n",
    "# we pick a batch size that fits our GPU, and small number of epochs so we can run experiments quickly\n",
    "\n",
    "bs = 128\n",
    "epochs = 4"
   ]
  },
  {
   "cell_type": "code",
   "execution_count": 104,
   "metadata": {},
   "outputs": [],
   "source": [
    "#The most imp hyperparameter is the learning rate. Fastai provides a learning rate finder to help you figure this out. But transformers dont. The key is to find the largest value you can, but which doesnt result in training failing\n",
    "\n",
    "lr = 8e-5"
   ]
  },
  {
   "cell_type": "code",
   "execution_count": 106,
   "metadata": {},
   "outputs": [],
   "source": [
    "#Transformers uses the TrainingArguments class to set up arguments.Don't worry too much about the values were using here\n",
    "\n",
    "args = TrainingArguments('outputs', learning_rate=lr, warmup_ratio=0.1, lr_scheduler_type='cosine', fp16=False,\n",
    "                         evaluation_strategy='epoch',\n",
    "                         per_device_eval_batch_size=bs,\n",
    "                         per_gpu_eval_batch_size=bs*2,\n",
    "                         num_train_epochs=epochs,\n",
    "                         weight_decay=0.01,\n",
    "                         report_to='none')"
   ]
  },
  {
   "cell_type": "code",
   "execution_count": 108,
   "metadata": {},
   "outputs": [
    {
     "data": {
      "application/vnd.jupyter.widget-view+json": {
       "model_id": "a7f928f728804ae5a1876fd47aa31a44",
       "version_major": 2,
       "version_minor": 0
      },
      "text/plain": [
       "Downloading pytorch_model.bin:   0%|          | 0.00/286M [00:00<?, ?B/s]"
      ]
     },
     "metadata": {},
     "output_type": "display_data"
    },
    {
     "name": "stderr",
     "output_type": "stream",
     "text": [
      "Some weights of the model checkpoint at microsoft/deberta-v3-small were not used when initializing DebertaV2ForSequenceClassification: ['lm_predictions.lm_head.LayerNorm.bias', 'mask_predictions.LayerNorm.bias', 'lm_predictions.lm_head.bias', 'mask_predictions.classifier.weight', 'lm_predictions.lm_head.dense.bias', 'lm_predictions.lm_head.LayerNorm.weight', 'mask_predictions.classifier.bias', 'mask_predictions.dense.bias', 'lm_predictions.lm_head.dense.weight', 'mask_predictions.dense.weight', 'mask_predictions.LayerNorm.weight']\n",
      "- This IS expected if you are initializing DebertaV2ForSequenceClassification from the checkpoint of a model trained on another task or with another architecture (e.g. initializing a BertForSequenceClassification model from a BertForPreTraining model).\n",
      "- This IS NOT expected if you are initializing DebertaV2ForSequenceClassification from the checkpoint of a model that you expect to be exactly identical (initializing a BertForSequenceClassification model from a BertForSequenceClassification model).\n",
      "Some weights of DebertaV2ForSequenceClassification were not initialized from the model checkpoint at microsoft/deberta-v3-small and are newly initialized: ['pooler.dense.weight', 'classifier.bias', 'classifier.weight', 'pooler.dense.bias']\n",
      "You should probably TRAIN this model on a down-stream task to be able to use it for predictions and inference.\n"
     ]
    }
   ],
   "source": [
    "#We can now create our model and Trainer which is a class which combine the data and model together\n",
    "\n",
    "\n",
    "model = AutoModelForSequenceClassification.from_pretrained(model_nm, num_labels=1)\n",
    "\n",
    "trainer = Trainer(model, args, train_dataset=dds['train'], \n",
    "                  eval_dataset=dds['test'],\n",
    "                  tokenizer=tokz,\n",
    "                  compute_metrics=corr_d)"
   ]
  },
  {
   "cell_type": "code",
   "execution_count": null,
   "metadata": {},
   "outputs": [],
   "source": [
    "trainer.train()"
   ]
  },
  {
   "cell_type": "code",
   "execution_count": null,
   "metadata": {},
   "outputs": [],
   "source": [
    "#Lets get some predictions\n",
    "\n",
    "preds = trainer.predict(eval_ds).predictions.astype(float)\n",
    "preds"
   ]
  },
  {
   "cell_type": "code",
   "execution_count": null,
   "metadata": {},
   "outputs": [],
   "source": [
    "#We can see that some of the values are below 0 and some above 1\n",
    "\n",
    "#To limit this we can use "
   ]
  }
 ],
 "metadata": {
  "kernelspec": {
   "display_name": "DeepLearning",
   "language": "python",
   "name": "python3"
  },
  "language_info": {
   "codemirror_mode": {
    "name": "ipython",
    "version": 3
   },
   "file_extension": ".py",
   "mimetype": "text/x-python",
   "name": "python",
   "nbconvert_exporter": "python",
   "pygments_lexer": "ipython3",
   "version": "3.10.10"
  },
  "orig_nbformat": 4
 },
 "nbformat": 4,
 "nbformat_minor": 2
}
