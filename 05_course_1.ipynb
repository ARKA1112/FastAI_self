{
  "cells": [
    {
      "cell_type": "code",
      "execution_count": 1,
      "metadata": {
        "colab": {
          "base_uri": "https://localhost:8080/",
          "height": 396
        },
        "id": "t6IGyOiOcRtr",
        "outputId": "1763cb09-6023-441d-f514-6c1f7afb6670"
      },
      "outputs": [
        {
          "output_type": "error",
          "ename": "OSError",
          "evalue": "ignored",
          "traceback": [
            "\u001b[0;31m---------------------------------------------------------------------------\u001b[0m",
            "\u001b[0;31mOSError\u001b[0m                                   Traceback (most recent call last)",
            "\u001b[0;32m<ipython-input-1-0a70abe24e8e>\u001b[0m in \u001b[0;36m<cell line: 5>\u001b[0;34m()\u001b[0m\n\u001b[1;32m      7\u001b[0m     \u001b[0mpath\u001b[0m \u001b[0;34m=\u001b[0m \u001b[0mPath\u001b[0m\u001b[0;34m(\u001b[0m\u001b[0;34m'titanic'\u001b[0m\u001b[0;34m)\u001b[0m\u001b[0;34m\u001b[0m\u001b[0;34m\u001b[0m\u001b[0m\n\u001b[1;32m      8\u001b[0m     \u001b[0;32mif\u001b[0m \u001b[0;32mnot\u001b[0m \u001b[0mpath\u001b[0m\u001b[0;34m.\u001b[0m\u001b[0mexists\u001b[0m\u001b[0;34m(\u001b[0m\u001b[0;34m)\u001b[0m\u001b[0;34m:\u001b[0m\u001b[0;34m\u001b[0m\u001b[0;34m\u001b[0m\u001b[0m\n\u001b[0;32m----> 9\u001b[0;31m         \u001b[0;32mimport\u001b[0m \u001b[0mzipfile\u001b[0m\u001b[0;34m,\u001b[0m\u001b[0mkaggle\u001b[0m\u001b[0;34m\u001b[0m\u001b[0;34m\u001b[0m\u001b[0m\n\u001b[0m\u001b[1;32m     10\u001b[0m         \u001b[0mkaggle\u001b[0m\u001b[0;34m.\u001b[0m\u001b[0mapi\u001b[0m\u001b[0;34m.\u001b[0m\u001b[0mcompetition_download_cli\u001b[0m\u001b[0;34m(\u001b[0m\u001b[0mstr\u001b[0m\u001b[0;34m(\u001b[0m\u001b[0mpath\u001b[0m\u001b[0;34m)\u001b[0m\u001b[0;34m)\u001b[0m\u001b[0;34m\u001b[0m\u001b[0;34m\u001b[0m\u001b[0m\n\u001b[1;32m     11\u001b[0m         \u001b[0mzipfile\u001b[0m\u001b[0;34m.\u001b[0m\u001b[0mZipFile\u001b[0m\u001b[0;34m(\u001b[0m\u001b[0;34mf'{path}.zip'\u001b[0m\u001b[0;34m)\u001b[0m\u001b[0;34m.\u001b[0m\u001b[0mextractall\u001b[0m\u001b[0;34m(\u001b[0m\u001b[0mpath\u001b[0m\u001b[0;34m)\u001b[0m\u001b[0;34m\u001b[0m\u001b[0;34m\u001b[0m\u001b[0m\n",
            "\u001b[0;32m/usr/local/lib/python3.9/dist-packages/kaggle/__init__.py\u001b[0m in \u001b[0;36m<module>\u001b[0;34m\u001b[0m\n\u001b[1;32m     21\u001b[0m \u001b[0;34m\u001b[0m\u001b[0m\n\u001b[1;32m     22\u001b[0m \u001b[0mapi\u001b[0m \u001b[0;34m=\u001b[0m \u001b[0mKaggleApi\u001b[0m\u001b[0;34m(\u001b[0m\u001b[0mApiClient\u001b[0m\u001b[0;34m(\u001b[0m\u001b[0;34m)\u001b[0m\u001b[0;34m)\u001b[0m\u001b[0;34m\u001b[0m\u001b[0;34m\u001b[0m\u001b[0m\n\u001b[0;32m---> 23\u001b[0;31m \u001b[0mapi\u001b[0m\u001b[0;34m.\u001b[0m\u001b[0mauthenticate\u001b[0m\u001b[0;34m(\u001b[0m\u001b[0;34m)\u001b[0m\u001b[0;34m\u001b[0m\u001b[0;34m\u001b[0m\u001b[0m\n\u001b[0m",
            "\u001b[0;32m/usr/local/lib/python3.9/dist-packages/kaggle/api/kaggle_api_extended.py\u001b[0m in \u001b[0;36mauthenticate\u001b[0;34m(self)\u001b[0m\n\u001b[1;32m    162\u001b[0m                 \u001b[0mconfig_data\u001b[0m \u001b[0;34m=\u001b[0m \u001b[0mself\u001b[0m\u001b[0;34m.\u001b[0m\u001b[0mread_config_file\u001b[0m\u001b[0;34m(\u001b[0m\u001b[0mconfig_data\u001b[0m\u001b[0;34m)\u001b[0m\u001b[0;34m\u001b[0m\u001b[0;34m\u001b[0m\u001b[0m\n\u001b[1;32m    163\u001b[0m             \u001b[0;32melse\u001b[0m\u001b[0;34m:\u001b[0m\u001b[0;34m\u001b[0m\u001b[0;34m\u001b[0m\u001b[0m\n\u001b[0;32m--> 164\u001b[0;31m                 raise IOError('Could not find {}. Make sure it\\'s located in'\n\u001b[0m\u001b[1;32m    165\u001b[0m                               ' {}. Or use the environment method.'.format(\n\u001b[1;32m    166\u001b[0m                                   self.config_file, self.config_dir))\n",
            "\u001b[0;31mOSError\u001b[0m: Could not find kaggle.json. Make sure it's located in /root/.kaggle. Or use the environment method."
          ]
        }
      ],
      "source": [
        "import os\n",
        "from pathlib import Path\n",
        "\n",
        "iskaggle = os.environ.get('KAGGLE_KERNEL_RUN_TYPE', '')\n",
        "if iskaggle: path = Path('../input/titanic')\n",
        "else:\n",
        "    path = Path('titanic')\n",
        "    if not path.exists():\n",
        "        import zipfile,kaggle\n",
        "        kaggle.api.competition_download_cli(str(path))\n",
        "        zipfile.ZipFile(f'{path}.zip').extractall(path)"
      ]
    },
    {
      "cell_type": "code",
      "execution_count": 2,
      "metadata": {
        "id": "NJqegxlncRtt"
      },
      "outputs": [],
      "source": [
        "import torch, numpy as np, pandas as pd\n",
        "np.set_printoptions(linewidth=140)"
      ]
    },
    {
      "cell_type": "code",
      "execution_count": 3,
      "metadata": {
        "id": "b5UsRXuGcRtu"
      },
      "outputs": [],
      "source": [
        "torch.set_printoptions(linewidth=140, sci_mode=False, edgeitems=7)\n",
        "pd.set_option('display.width', 140)"
      ]
    },
    {
      "cell_type": "markdown",
      "metadata": {
        "id": "KgTuK4Z_cRtv"
      },
      "source": [
        "Cleaning the data"
      ]
    },
    {
      "cell_type": "code",
      "execution_count": 4,
      "metadata": {
        "colab": {
          "base_uri": "https://localhost:8080/",
          "height": 423
        },
        "id": "3jTRD0x3cRtx",
        "outputId": "b65475e5-f576-4e14-fba8-b3ba656ea1b7"
      },
      "outputs": [
        {
          "output_type": "execute_result",
          "data": {
            "text/plain": [
              "     PassengerId  Survived  Pclass                                               Name     Sex   Age  SibSp  Parch            Ticket  \\\n",
              "0              1         0       3                            Braund, Mr. Owen Harris    male  22.0      1      0         A/5 21171   \n",
              "1              2         1       1  Cumings, Mrs. John Bradley (Florence Briggs Th...  female  38.0      1      0          PC 17599   \n",
              "2              3         1       3                             Heikkinen, Miss. Laina  female  26.0      0      0  STON/O2. 3101282   \n",
              "3              4         1       1       Futrelle, Mrs. Jacques Heath (Lily May Peel)  female  35.0      1      0            113803   \n",
              "4              5         0       3                           Allen, Mr. William Henry    male  35.0      0      0            373450   \n",
              "..           ...       ...     ...                                                ...     ...   ...    ...    ...               ...   \n",
              "886          887         0       2                              Montvila, Rev. Juozas    male  27.0      0      0            211536   \n",
              "887          888         1       1                       Graham, Miss. Margaret Edith  female  19.0      0      0            112053   \n",
              "888          889         0       3           Johnston, Miss. Catherine Helen \"Carrie\"  female   NaN      1      2        W./C. 6607   \n",
              "889          890         1       1                              Behr, Mr. Karl Howell    male  26.0      0      0            111369   \n",
              "890          891         0       3                                Dooley, Mr. Patrick    male  32.0      0      0            370376   \n",
              "\n",
              "        Fare Cabin Embarked  \n",
              "0     7.2500   NaN        S  \n",
              "1    71.2833   C85        C  \n",
              "2     7.9250   NaN        S  \n",
              "3    53.1000  C123        S  \n",
              "4     8.0500   NaN        S  \n",
              "..       ...   ...      ...  \n",
              "886  13.0000   NaN        S  \n",
              "887  30.0000   B42        S  \n",
              "888  23.4500   NaN        S  \n",
              "889  30.0000  C148        C  \n",
              "890   7.7500   NaN        Q  \n",
              "\n",
              "[891 rows x 12 columns]"
            ],
            "text/html": [
              "\n",
              "  <div id=\"df-bdc84147-7660-47c6-a552-9c0b3fa13afb\">\n",
              "    <div class=\"colab-df-container\">\n",
              "      <div>\n",
              "<style scoped>\n",
              "    .dataframe tbody tr th:only-of-type {\n",
              "        vertical-align: middle;\n",
              "    }\n",
              "\n",
              "    .dataframe tbody tr th {\n",
              "        vertical-align: top;\n",
              "    }\n",
              "\n",
              "    .dataframe thead th {\n",
              "        text-align: right;\n",
              "    }\n",
              "</style>\n",
              "<table border=\"1\" class=\"dataframe\">\n",
              "  <thead>\n",
              "    <tr style=\"text-align: right;\">\n",
              "      <th></th>\n",
              "      <th>PassengerId</th>\n",
              "      <th>Survived</th>\n",
              "      <th>Pclass</th>\n",
              "      <th>Name</th>\n",
              "      <th>Sex</th>\n",
              "      <th>Age</th>\n",
              "      <th>SibSp</th>\n",
              "      <th>Parch</th>\n",
              "      <th>Ticket</th>\n",
              "      <th>Fare</th>\n",
              "      <th>Cabin</th>\n",
              "      <th>Embarked</th>\n",
              "    </tr>\n",
              "  </thead>\n",
              "  <tbody>\n",
              "    <tr>\n",
              "      <th>0</th>\n",
              "      <td>1</td>\n",
              "      <td>0</td>\n",
              "      <td>3</td>\n",
              "      <td>Braund, Mr. Owen Harris</td>\n",
              "      <td>male</td>\n",
              "      <td>22.0</td>\n",
              "      <td>1</td>\n",
              "      <td>0</td>\n",
              "      <td>A/5 21171</td>\n",
              "      <td>7.2500</td>\n",
              "      <td>NaN</td>\n",
              "      <td>S</td>\n",
              "    </tr>\n",
              "    <tr>\n",
              "      <th>1</th>\n",
              "      <td>2</td>\n",
              "      <td>1</td>\n",
              "      <td>1</td>\n",
              "      <td>Cumings, Mrs. John Bradley (Florence Briggs Th...</td>\n",
              "      <td>female</td>\n",
              "      <td>38.0</td>\n",
              "      <td>1</td>\n",
              "      <td>0</td>\n",
              "      <td>PC 17599</td>\n",
              "      <td>71.2833</td>\n",
              "      <td>C85</td>\n",
              "      <td>C</td>\n",
              "    </tr>\n",
              "    <tr>\n",
              "      <th>2</th>\n",
              "      <td>3</td>\n",
              "      <td>1</td>\n",
              "      <td>3</td>\n",
              "      <td>Heikkinen, Miss. Laina</td>\n",
              "      <td>female</td>\n",
              "      <td>26.0</td>\n",
              "      <td>0</td>\n",
              "      <td>0</td>\n",
              "      <td>STON/O2. 3101282</td>\n",
              "      <td>7.9250</td>\n",
              "      <td>NaN</td>\n",
              "      <td>S</td>\n",
              "    </tr>\n",
              "    <tr>\n",
              "      <th>3</th>\n",
              "      <td>4</td>\n",
              "      <td>1</td>\n",
              "      <td>1</td>\n",
              "      <td>Futrelle, Mrs. Jacques Heath (Lily May Peel)</td>\n",
              "      <td>female</td>\n",
              "      <td>35.0</td>\n",
              "      <td>1</td>\n",
              "      <td>0</td>\n",
              "      <td>113803</td>\n",
              "      <td>53.1000</td>\n",
              "      <td>C123</td>\n",
              "      <td>S</td>\n",
              "    </tr>\n",
              "    <tr>\n",
              "      <th>4</th>\n",
              "      <td>5</td>\n",
              "      <td>0</td>\n",
              "      <td>3</td>\n",
              "      <td>Allen, Mr. William Henry</td>\n",
              "      <td>male</td>\n",
              "      <td>35.0</td>\n",
              "      <td>0</td>\n",
              "      <td>0</td>\n",
              "      <td>373450</td>\n",
              "      <td>8.0500</td>\n",
              "      <td>NaN</td>\n",
              "      <td>S</td>\n",
              "    </tr>\n",
              "    <tr>\n",
              "      <th>...</th>\n",
              "      <td>...</td>\n",
              "      <td>...</td>\n",
              "      <td>...</td>\n",
              "      <td>...</td>\n",
              "      <td>...</td>\n",
              "      <td>...</td>\n",
              "      <td>...</td>\n",
              "      <td>...</td>\n",
              "      <td>...</td>\n",
              "      <td>...</td>\n",
              "      <td>...</td>\n",
              "      <td>...</td>\n",
              "    </tr>\n",
              "    <tr>\n",
              "      <th>886</th>\n",
              "      <td>887</td>\n",
              "      <td>0</td>\n",
              "      <td>2</td>\n",
              "      <td>Montvila, Rev. Juozas</td>\n",
              "      <td>male</td>\n",
              "      <td>27.0</td>\n",
              "      <td>0</td>\n",
              "      <td>0</td>\n",
              "      <td>211536</td>\n",
              "      <td>13.0000</td>\n",
              "      <td>NaN</td>\n",
              "      <td>S</td>\n",
              "    </tr>\n",
              "    <tr>\n",
              "      <th>887</th>\n",
              "      <td>888</td>\n",
              "      <td>1</td>\n",
              "      <td>1</td>\n",
              "      <td>Graham, Miss. Margaret Edith</td>\n",
              "      <td>female</td>\n",
              "      <td>19.0</td>\n",
              "      <td>0</td>\n",
              "      <td>0</td>\n",
              "      <td>112053</td>\n",
              "      <td>30.0000</td>\n",
              "      <td>B42</td>\n",
              "      <td>S</td>\n",
              "    </tr>\n",
              "    <tr>\n",
              "      <th>888</th>\n",
              "      <td>889</td>\n",
              "      <td>0</td>\n",
              "      <td>3</td>\n",
              "      <td>Johnston, Miss. Catherine Helen \"Carrie\"</td>\n",
              "      <td>female</td>\n",
              "      <td>NaN</td>\n",
              "      <td>1</td>\n",
              "      <td>2</td>\n",
              "      <td>W./C. 6607</td>\n",
              "      <td>23.4500</td>\n",
              "      <td>NaN</td>\n",
              "      <td>S</td>\n",
              "    </tr>\n",
              "    <tr>\n",
              "      <th>889</th>\n",
              "      <td>890</td>\n",
              "      <td>1</td>\n",
              "      <td>1</td>\n",
              "      <td>Behr, Mr. Karl Howell</td>\n",
              "      <td>male</td>\n",
              "      <td>26.0</td>\n",
              "      <td>0</td>\n",
              "      <td>0</td>\n",
              "      <td>111369</td>\n",
              "      <td>30.0000</td>\n",
              "      <td>C148</td>\n",
              "      <td>C</td>\n",
              "    </tr>\n",
              "    <tr>\n",
              "      <th>890</th>\n",
              "      <td>891</td>\n",
              "      <td>0</td>\n",
              "      <td>3</td>\n",
              "      <td>Dooley, Mr. Patrick</td>\n",
              "      <td>male</td>\n",
              "      <td>32.0</td>\n",
              "      <td>0</td>\n",
              "      <td>0</td>\n",
              "      <td>370376</td>\n",
              "      <td>7.7500</td>\n",
              "      <td>NaN</td>\n",
              "      <td>Q</td>\n",
              "    </tr>\n",
              "  </tbody>\n",
              "</table>\n",
              "<p>891 rows × 12 columns</p>\n",
              "</div>\n",
              "      <button class=\"colab-df-convert\" onclick=\"convertToInteractive('df-bdc84147-7660-47c6-a552-9c0b3fa13afb')\"\n",
              "              title=\"Convert this dataframe to an interactive table.\"\n",
              "              style=\"display:none;\">\n",
              "        \n",
              "  <svg xmlns=\"http://www.w3.org/2000/svg\" height=\"24px\"viewBox=\"0 0 24 24\"\n",
              "       width=\"24px\">\n",
              "    <path d=\"M0 0h24v24H0V0z\" fill=\"none\"/>\n",
              "    <path d=\"M18.56 5.44l.94 2.06.94-2.06 2.06-.94-2.06-.94-.94-2.06-.94 2.06-2.06.94zm-11 1L8.5 8.5l.94-2.06 2.06-.94-2.06-.94L8.5 2.5l-.94 2.06-2.06.94zm10 10l.94 2.06.94-2.06 2.06-.94-2.06-.94-.94-2.06-.94 2.06-2.06.94z\"/><path d=\"M17.41 7.96l-1.37-1.37c-.4-.4-.92-.59-1.43-.59-.52 0-1.04.2-1.43.59L10.3 9.45l-7.72 7.72c-.78.78-.78 2.05 0 2.83L4 21.41c.39.39.9.59 1.41.59.51 0 1.02-.2 1.41-.59l7.78-7.78 2.81-2.81c.8-.78.8-2.07 0-2.86zM5.41 20L4 18.59l7.72-7.72 1.47 1.35L5.41 20z\"/>\n",
              "  </svg>\n",
              "      </button>\n",
              "      \n",
              "  <style>\n",
              "    .colab-df-container {\n",
              "      display:flex;\n",
              "      flex-wrap:wrap;\n",
              "      gap: 12px;\n",
              "    }\n",
              "\n",
              "    .colab-df-convert {\n",
              "      background-color: #E8F0FE;\n",
              "      border: none;\n",
              "      border-radius: 50%;\n",
              "      cursor: pointer;\n",
              "      display: none;\n",
              "      fill: #1967D2;\n",
              "      height: 32px;\n",
              "      padding: 0 0 0 0;\n",
              "      width: 32px;\n",
              "    }\n",
              "\n",
              "    .colab-df-convert:hover {\n",
              "      background-color: #E2EBFA;\n",
              "      box-shadow: 0px 1px 2px rgba(60, 64, 67, 0.3), 0px 1px 3px 1px rgba(60, 64, 67, 0.15);\n",
              "      fill: #174EA6;\n",
              "    }\n",
              "\n",
              "    [theme=dark] .colab-df-convert {\n",
              "      background-color: #3B4455;\n",
              "      fill: #D2E3FC;\n",
              "    }\n",
              "\n",
              "    [theme=dark] .colab-df-convert:hover {\n",
              "      background-color: #434B5C;\n",
              "      box-shadow: 0px 1px 3px 1px rgba(0, 0, 0, 0.15);\n",
              "      filter: drop-shadow(0px 1px 2px rgba(0, 0, 0, 0.3));\n",
              "      fill: #FFFFFF;\n",
              "    }\n",
              "  </style>\n",
              "\n",
              "      <script>\n",
              "        const buttonEl =\n",
              "          document.querySelector('#df-bdc84147-7660-47c6-a552-9c0b3fa13afb button.colab-df-convert');\n",
              "        buttonEl.style.display =\n",
              "          google.colab.kernel.accessAllowed ? 'block' : 'none';\n",
              "\n",
              "        async function convertToInteractive(key) {\n",
              "          const element = document.querySelector('#df-bdc84147-7660-47c6-a552-9c0b3fa13afb');\n",
              "          const dataTable =\n",
              "            await google.colab.kernel.invokeFunction('convertToInteractive',\n",
              "                                                     [key], {});\n",
              "          if (!dataTable) return;\n",
              "\n",
              "          const docLinkHtml = 'Like what you see? Visit the ' +\n",
              "            '<a target=\"_blank\" href=https://colab.research.google.com/notebooks/data_table.ipynb>data table notebook</a>'\n",
              "            + ' to learn more about interactive tables.';\n",
              "          element.innerHTML = '';\n",
              "          dataTable['output_type'] = 'display_data';\n",
              "          await google.colab.output.renderOutput(dataTable, element);\n",
              "          const docLink = document.createElement('div');\n",
              "          docLink.innerHTML = docLinkHtml;\n",
              "          element.appendChild(docLink);\n",
              "        }\n",
              "      </script>\n",
              "    </div>\n",
              "  </div>\n",
              "  "
            ]
          },
          "metadata": {},
          "execution_count": 4
        }
      ],
      "source": [
        "df = pd.read_csv('train.csv')\n",
        "df"
      ]
    },
    {
      "cell_type": "code",
      "execution_count": 5,
      "metadata": {
        "colab": {
          "base_uri": "https://localhost:8080/"
        },
        "id": "lBQr00jvcRty",
        "outputId": "911d2588-aac5-4232-b4d5-0ac171bdd972"
      },
      "outputs": [
        {
          "output_type": "execute_result",
          "data": {
            "text/plain": [
              "PassengerId      0\n",
              "Survived         0\n",
              "Pclass           0\n",
              "Name             0\n",
              "Sex              0\n",
              "Age            177\n",
              "SibSp            0\n",
              "Parch            0\n",
              "Ticket           0\n",
              "Fare             0\n",
              "Cabin          687\n",
              "Embarked         2\n",
              "dtype: int64"
            ]
          },
          "metadata": {},
          "execution_count": 5
        }
      ],
      "source": [
        "df.isna().sum()"
      ]
    },
    {
      "cell_type": "code",
      "execution_count": 6,
      "metadata": {
        "colab": {
          "base_uri": "https://localhost:8080/"
        },
        "id": "H9SmdLyxcRtz",
        "outputId": "583122e0-467d-4131-d0c4-86d1c2df1644"
      },
      "outputs": [
        {
          "output_type": "execute_result",
          "data": {
            "text/plain": [
              "PassengerId                      1\n",
              "Survived                       0.0\n",
              "Pclass                         3.0\n",
              "Name           Abbing, Mr. Anthony\n",
              "Sex                           male\n",
              "Age                           24.0\n",
              "SibSp                          0.0\n",
              "Parch                          0.0\n",
              "Ticket                        1601\n",
              "Fare                          8.05\n",
              "Cabin                      B96 B98\n",
              "Embarked                         S\n",
              "Name: 0, dtype: object"
            ]
          },
          "metadata": {},
          "execution_count": 6
        }
      ],
      "source": [
        "#We will need to replace the missing values with something. It doesnt generally matter too much what we choose. We will use the most common values . We can use the mode function  for that. One wrinkle is that it return more than one row in the case of ties, so we just grab the first row with iloc[0]:\n",
        "\n",
        "\n",
        "modes = df.mode().iloc[0]\n",
        "modes"
      ]
    },
    {
      "cell_type": "code",
      "execution_count": 7,
      "metadata": {
        "colab": {
          "base_uri": "https://localhost:8080/"
        },
        "id": "sFax6F5UcRt0",
        "outputId": "0bc79d0d-9b6c-46fd-bb64-f80f58e72f0a"
      },
      "outputs": [
        {
          "output_type": "execute_result",
          "data": {
            "text/plain": [
              "PassengerId    0\n",
              "Survived       0\n",
              "Pclass         0\n",
              "Name           0\n",
              "Sex            0\n",
              "Age            0\n",
              "SibSp          0\n",
              "Parch          0\n",
              "Ticket         0\n",
              "Fare           0\n",
              "Cabin          0\n",
              "Embarked       0\n",
              "dtype: int64"
            ]
          },
          "metadata": {},
          "execution_count": 7
        }
      ],
      "source": [
        "#We will fill the missing data with the mode values\n",
        "\n",
        "df.fillna(modes, inplace=True)\n",
        "df.isna().sum()"
      ]
    },
    {
      "cell_type": "code",
      "execution_count": 8,
      "metadata": {
        "colab": {
          "base_uri": "https://localhost:8080/"
        },
        "id": "u1wrSrMDcRt1",
        "outputId": "9571888d-20a9-4e39-cde3-10dd464193e3"
      },
      "outputs": [
        {
          "output_type": "execute_result",
          "data": {
            "text/plain": [
              "Index(['PassengerId', 'Survived', 'Pclass', 'Age', 'SibSp', 'Parch', 'Fare'], dtype='object')"
            ]
          },
          "metadata": {},
          "execution_count": 8
        }
      ],
      "source": [
        "#Here's how we get a quick summary of all the numeric columns in the dataset\n",
        "\n",
        "import numpy as np\n",
        "df.describe(include=(np.number)).columns"
      ]
    },
    {
      "cell_type": "code",
      "execution_count": 9,
      "metadata": {
        "id": "IBjxn-uacRt2"
      },
      "outputs": [],
      "source": [
        "import matplotlib.pyplot as plt\n",
        "import seaborn as sns\n"
      ]
    },
    {
      "cell_type": "code",
      "execution_count": 10,
      "metadata": {
        "colab": {
          "base_uri": "https://localhost:8080/",
          "height": 360
        },
        "id": "8wRpki-fcRt2",
        "outputId": "7d6835fc-5d41-437c-ed7e-962af438b1d0"
      },
      "outputs": [
        {
          "output_type": "display_data",
          "data": {
            "text/plain": [
              "<Figure size 5000x1000 with 6 Axes>"
            ],
            "image/png": "[encoded data removed]"
          },
          "metadata": {}
        }
      ],
      "source": [
        "import enum\n",
        "plt.figure(figsize=(50,10))\n",
        "for i,j in enumerate(['Survived', 'Pclass', 'Age', 'SibSp', 'Parch', 'Fare']):\n",
        "    plt.subplot(2,4,i+1)\n",
        "    plt.hist(df[j],color=np.random.choice(['r','y','b','g']))\n",
        "    plt.title(j)\n",
        "    #plt.axis('off')"
      ]
    },
    {
      "cell_type": "code",
      "execution_count": 11,
      "metadata": {
        "colab": {
          "base_uri": "https://localhost:8080/",
          "height": 448
        },
        "id": "hYVzLdB5cRt3",
        "outputId": "2fcb0664-b253-4617-9368-44c6a3728a4a"
      },
      "outputs": [
        {
          "output_type": "execute_result",
          "data": {
            "text/plain": [
              "<Axes: >"
            ]
          },
          "metadata": {},
          "execution_count": 11
        },
        {
          "output_type": "display_data",
          "data": {
            "text/plain": [
              "<Figure size 640x480 with 1 Axes>"
            ],
            "image/png": "[encoded data removed]"
          },
          "metadata": {}
        }
      ],
      "source": [
        "df['Fare'].hist()"
      ]
    },
    {
      "cell_type": "code",
      "execution_count": 12,
      "metadata": {
        "id": "QyDKD5ZLcRt3"
      },
      "outputs": [],
      "source": [
        "#Clearly the 'Fare' Values are skewed to the left\n",
        "#So we will log it and plot\n",
        "df['Logfare'] = np.log(df['Fare']+1)\n",
        "\n",
        "\n",
        "#There are zeroes in the column to fix this we add +1"
      ]
    },
    {
      "cell_type": "code",
      "execution_count": 13,
      "metadata": {
        "colab": {
          "base_uri": "https://localhost:8080/",
          "height": 448
        },
        "id": "hTnsX4mYcRt4",
        "outputId": "d6fc5ce9-8be2-46dc-fbe5-abc74a2fade5"
      },
      "outputs": [
        {
          "output_type": "execute_result",
          "data": {
            "text/plain": [
              "<Axes: >"
            ]
          },
          "metadata": {},
          "execution_count": 13
        },
        {
          "output_type": "display_data",
          "data": {
            "text/plain": [
              "<Figure size 640x480 with 1 Axes>"
            ],
            "image/png": "[encoded data removed]"
          },
          "metadata": {}
        }
      ],
      "source": [
        "df['Logfare'].hist(color='g')"
      ]
    },
    {
      "cell_type": "code",
      "execution_count": 14,
      "metadata": {
        "colab": {
          "base_uri": "https://localhost:8080/"
        },
        "id": "_akYeFdfcRt4",
        "outputId": "598e21d9-96c2-4d9f-c4b0-db433ad3fe1d"
      },
      "outputs": [
        {
          "output_type": "execute_result",
          "data": {
            "text/plain": [
              "[1, 2, 3]"
            ]
          },
          "metadata": {},
          "execution_count": 14
        }
      ],
      "source": [
        "pclass = sorted(df.Pclass.unique())\n",
        "pclass"
      ]
    },
    {
      "cell_type": "code",
      "execution_count": 15,
      "metadata": {
        "colab": {
          "base_uri": "https://localhost:8080/",
          "height": 175
        },
        "id": "G5NMv3LJcRt5",
        "outputId": "747de03b-2c4f-4d3e-9f6b-5e5ae0fd64d9"
      },
      "outputs": [
        {
          "output_type": "execute_result",
          "data": {
            "text/plain": [
              "                           Name   Sex  Ticket    Cabin Embarked\n",
              "count                       891   891     891      891      891\n",
              "unique                      891     2     681      147        3\n",
              "top     Braund, Mr. Owen Harris  male  347082  B96 B98        S\n",
              "freq                          1   577       7      691      646"
            ],
            "text/html": [
              "\n",
              "  <div id=\"df-d1a1b767-8b84-4836-8dec-4deb44796971\">\n",
              "    <div class=\"colab-df-container\">\n",
              "      <div>\n",
              "<style scoped>\n",
              "    .dataframe tbody tr th:only-of-type {\n",
              "        vertical-align: middle;\n",
              "    }\n",
              "\n",
              "    .dataframe tbody tr th {\n",
              "        vertical-align: top;\n",
              "    }\n",
              "\n",
              "    .dataframe thead th {\n",
              "        text-align: right;\n",
              "    }\n",
              "</style>\n",
              "<table border=\"1\" class=\"dataframe\">\n",
              "  <thead>\n",
              "    <tr style=\"text-align: right;\">\n",
              "      <th></th>\n",
              "      <th>Name</th>\n",
              "      <th>Sex</th>\n",
              "      <th>Ticket</th>\n",
              "      <th>Cabin</th>\n",
              "      <th>Embarked</th>\n",
              "    </tr>\n",
              "  </thead>\n",
              "  <tbody>\n",
              "    <tr>\n",
              "      <th>count</th>\n",
              "      <td>891</td>\n",
              "      <td>891</td>\n",
              "      <td>891</td>\n",
              "      <td>891</td>\n",
              "      <td>891</td>\n",
              "    </tr>\n",
              "    <tr>\n",
              "      <th>unique</th>\n",
              "      <td>891</td>\n",
              "      <td>2</td>\n",
              "      <td>681</td>\n",
              "      <td>147</td>\n",
              "      <td>3</td>\n",
              "    </tr>\n",
              "    <tr>\n",
              "      <th>top</th>\n",
              "      <td>Braund, Mr. Owen Harris</td>\n",
              "      <td>male</td>\n",
              "      <td>347082</td>\n",
              "      <td>B96 B98</td>\n",
              "      <td>S</td>\n",
              "    </tr>\n",
              "    <tr>\n",
              "      <th>freq</th>\n",
              "      <td>1</td>\n",
              "      <td>577</td>\n",
              "      <td>7</td>\n",
              "      <td>691</td>\n",
              "      <td>646</td>\n",
              "    </tr>\n",
              "  </tbody>\n",
              "</table>\n",
              "</div>\n",
              "      <button class=\"colab-df-convert\" onclick=\"convertToInteractive('df-d1a1b767-8b84-4836-8dec-4deb44796971')\"\n",
              "              title=\"Convert this dataframe to an interactive table.\"\n",
              "              style=\"display:none;\">\n",
              "        \n",
              "  <svg xmlns=\"http://www.w3.org/2000/svg\" height=\"24px\"viewBox=\"0 0 24 24\"\n",
              "       width=\"24px\">\n",
              "    <path d=\"M0 0h24v24H0V0z\" fill=\"none\"/>\n",
              "    <path d=\"M18.56 5.44l.94 2.06.94-2.06 2.06-.94-2.06-.94-.94-2.06-.94 2.06-2.06.94zm-11 1L8.5 8.5l.94-2.06 2.06-.94-2.06-.94L8.5 2.5l-.94 2.06-2.06.94zm10 10l.94 2.06.94-2.06 2.06-.94-2.06-.94-.94-2.06-.94 2.06-2.06.94z\"/><path d=\"M17.41 7.96l-1.37-1.37c-.4-.4-.92-.59-1.43-.59-.52 0-1.04.2-1.43.59L10.3 9.45l-7.72 7.72c-.78.78-.78 2.05 0 2.83L4 21.41c.39.39.9.59 1.41.59.51 0 1.02-.2 1.41-.59l7.78-7.78 2.81-2.81c.8-.78.8-2.07 0-2.86zM5.41 20L4 18.59l7.72-7.72 1.47 1.35L5.41 20z\"/>\n",
              "  </svg>\n",
              "      </button>\n",
              "      \n",
              "  <style>\n",
              "    .colab-df-container {\n",
              "      display:flex;\n",
              "      flex-wrap:wrap;\n",
              "      gap: 12px;\n",
              "    }\n",
              "\n",
              "    .colab-df-convert {\n",
              "      background-color: #E8F0FE;\n",
              "      border: none;\n",
              "      border-radius: 50%;\n",
              "      cursor: pointer;\n",
              "      display: none;\n",
              "      fill: #1967D2;\n",
              "      height: 32px;\n",
              "      padding: 0 0 0 0;\n",
              "      width: 32px;\n",
              "    }\n",
              "\n",
              "    .colab-df-convert:hover {\n",
              "      background-color: #E2EBFA;\n",
              "      box-shadow: 0px 1px 2px rgba(60, 64, 67, 0.3), 0px 1px 3px 1px rgba(60, 64, 67, 0.15);\n",
              "      fill: #174EA6;\n",
              "    }\n",
              "\n",
              "    [theme=dark] .colab-df-convert {\n",
              "      background-color: #3B4455;\n",
              "      fill: #D2E3FC;\n",
              "    }\n",
              "\n",
              "    [theme=dark] .colab-df-convert:hover {\n",
              "      background-color: #434B5C;\n",
              "      box-shadow: 0px 1px 3px 1px rgba(0, 0, 0, 0.15);\n",
              "      filter: drop-shadow(0px 1px 2px rgba(0, 0, 0, 0.3));\n",
              "      fill: #FFFFFF;\n",
              "    }\n",
              "  </style>\n",
              "\n",
              "      <script>\n",
              "        const buttonEl =\n",
              "          document.querySelector('#df-d1a1b767-8b84-4836-8dec-4deb44796971 button.colab-df-convert');\n",
              "        buttonEl.style.display =\n",
              "          google.colab.kernel.accessAllowed ? 'block' : 'none';\n",
              "\n",
              "        async function convertToInteractive(key) {\n",
              "          const element = document.querySelector('#df-d1a1b767-8b84-4836-8dec-4deb44796971');\n",
              "          const dataTable =\n",
              "            await google.colab.kernel.invokeFunction('convertToInteractive',\n",
              "                                                     [key], {});\n",
              "          if (!dataTable) return;\n",
              "\n",
              "          const docLinkHtml = 'Like what you see? Visit the ' +\n",
              "            '<a target=\"_blank\" href=https://colab.research.google.com/notebooks/data_table.ipynb>data table notebook</a>'\n",
              "            + ' to learn more about interactive tables.';\n",
              "          element.innerHTML = '';\n",
              "          dataTable['output_type'] = 'display_data';\n",
              "          await google.colab.output.renderOutput(dataTable, element);\n",
              "          const docLink = document.createElement('div');\n",
              "          docLink.innerHTML = docLinkHtml;\n",
              "          element.appendChild(docLink);\n",
              "        }\n",
              "      </script>\n",
              "    </div>\n",
              "  </div>\n",
              "  "
            ]
          },
          "metadata": {},
          "execution_count": 15
        }
      ],
      "source": [
        "#Quick summary of the non numeric components\n",
        "\n",
        "df.describe(include=[object])"
      ]
    },
    {
      "cell_type": "code",
      "execution_count": 16,
      "metadata": {
        "id": "KyG7qgtycRt5"
      },
      "outputs": [],
      "source": [
        "#Creating dummy variables \n",
        "df = pd.get_dummies(df, columns=['Sex', 'Pclass', \"Embarked\"])"
      ]
    },
    {
      "cell_type": "code",
      "execution_count": 17,
      "metadata": {
        "colab": {
          "base_uri": "https://localhost:8080/"
        },
        "id": "-xsgTpbgcRt6",
        "outputId": "3e7be579-d3d8-446a-c824-a807904d1eb9"
      },
      "outputs": [
        {
          "output_type": "execute_result",
          "data": {
            "text/plain": [
              "Index(['PassengerId', 'Survived', 'Name', 'Age', 'SibSp', 'Parch', 'Ticket', 'Fare', 'Cabin', 'Logfare', 'Sex_female', 'Sex_male',\n",
              "       'Pclass_1', 'Pclass_2', 'Pclass_3', 'Embarked_C', 'Embarked_Q', 'Embarked_S'],\n",
              "      dtype='object')"
            ]
          },
          "metadata": {},
          "execution_count": 17
        }
      ],
      "source": [
        "df.columns"
      ]
    },
    {
      "cell_type": "code",
      "execution_count": 18,
      "metadata": {
        "colab": {
          "base_uri": "https://localhost:8080/",
          "height": 206
        },
        "id": "HCIroBKacRt6",
        "outputId": "37907c97-ee3c-4cf4-c4c2-d99a04b8ac83"
      },
      "outputs": [
        {
          "output_type": "execute_result",
          "data": {
            "text/plain": [
              "   Sex_male  Sex_female  Pclass_1  Pclass_2  Pclass_3  Embarked_C  Embarked_Q  Embarked_S\n",
              "0         1           0         0         0         1           0           0           1\n",
              "1         0           1         1         0         0           1           0           0\n",
              "2         0           1         0         0         1           0           0           1\n",
              "3         0           1         1         0         0           0           0           1\n",
              "4         1           0         0         0         1           0           0           1"
            ],
            "text/html": [
              "\n",
              "  <div id=\"df-cfedb1dc-1df9-4299-b0c9-ff0bd93adadc\">\n",
              "    <div class=\"colab-df-container\">\n",
              "      <div>\n",
              "<style scoped>\n",
              "    .dataframe tbody tr th:only-of-type {\n",
              "        vertical-align: middle;\n",
              "    }\n",
              "\n",
              "    .dataframe tbody tr th {\n",
              "        vertical-align: top;\n",
              "    }\n",
              "\n",
              "    .dataframe thead th {\n",
              "        text-align: right;\n",
              "    }\n",
              "</style>\n",
              "<table border=\"1\" class=\"dataframe\">\n",
              "  <thead>\n",
              "    <tr style=\"text-align: right;\">\n",
              "      <th></th>\n",
              "      <th>Sex_male</th>\n",
              "      <th>Sex_female</th>\n",
              "      <th>Pclass_1</th>\n",
              "      <th>Pclass_2</th>\n",
              "      <th>Pclass_3</th>\n",
              "      <th>Embarked_C</th>\n",
              "      <th>Embarked_Q</th>\n",
              "      <th>Embarked_S</th>\n",
              "    </tr>\n",
              "  </thead>\n",
              "  <tbody>\n",
              "    <tr>\n",
              "      <th>0</th>\n",
              "      <td>1</td>\n",
              "      <td>0</td>\n",
              "      <td>0</td>\n",
              "      <td>0</td>\n",
              "      <td>1</td>\n",
              "      <td>0</td>\n",
              "      <td>0</td>\n",
              "      <td>1</td>\n",
              "    </tr>\n",
              "    <tr>\n",
              "      <th>1</th>\n",
              "      <td>0</td>\n",
              "      <td>1</td>\n",
              "      <td>1</td>\n",
              "      <td>0</td>\n",
              "      <td>0</td>\n",
              "      <td>1</td>\n",
              "      <td>0</td>\n",
              "      <td>0</td>\n",
              "    </tr>\n",
              "    <tr>\n",
              "      <th>2</th>\n",
              "      <td>0</td>\n",
              "      <td>1</td>\n",
              "      <td>0</td>\n",
              "      <td>0</td>\n",
              "      <td>1</td>\n",
              "      <td>0</td>\n",
              "      <td>0</td>\n",
              "      <td>1</td>\n",
              "    </tr>\n",
              "    <tr>\n",
              "      <th>3</th>\n",
              "      <td>0</td>\n",
              "      <td>1</td>\n",
              "      <td>1</td>\n",
              "      <td>0</td>\n",
              "      <td>0</td>\n",
              "      <td>0</td>\n",
              "      <td>0</td>\n",
              "      <td>1</td>\n",
              "    </tr>\n",
              "    <tr>\n",
              "      <th>4</th>\n",
              "      <td>1</td>\n",
              "      <td>0</td>\n",
              "      <td>0</td>\n",
              "      <td>0</td>\n",
              "      <td>1</td>\n",
              "      <td>0</td>\n",
              "      <td>0</td>\n",
              "      <td>1</td>\n",
              "    </tr>\n",
              "  </tbody>\n",
              "</table>\n",
              "</div>\n",
              "      <button class=\"colab-df-convert\" onclick=\"convertToInteractive('df-cfedb1dc-1df9-4299-b0c9-ff0bd93adadc')\"\n",
              "              title=\"Convert this dataframe to an interactive table.\"\n",
              "              style=\"display:none;\">\n",
              "        \n",
              "  <svg xmlns=\"http://www.w3.org/2000/svg\" height=\"24px\"viewBox=\"0 0 24 24\"\n",
              "       width=\"24px\">\n",
              "    <path d=\"M0 0h24v24H0V0z\" fill=\"none\"/>\n",
              "    <path d=\"M18.56 5.44l.94 2.06.94-2.06 2.06-.94-2.06-.94-.94-2.06-.94 2.06-2.06.94zm-11 1L8.5 8.5l.94-2.06 2.06-.94-2.06-.94L8.5 2.5l-.94 2.06-2.06.94zm10 10l.94 2.06.94-2.06 2.06-.94-2.06-.94-.94-2.06-.94 2.06-2.06.94z\"/><path d=\"M17.41 7.96l-1.37-1.37c-.4-.4-.92-.59-1.43-.59-.52 0-1.04.2-1.43.59L10.3 9.45l-7.72 7.72c-.78.78-.78 2.05 0 2.83L4 21.41c.39.39.9.59 1.41.59.51 0 1.02-.2 1.41-.59l7.78-7.78 2.81-2.81c.8-.78.8-2.07 0-2.86zM5.41 20L4 18.59l7.72-7.72 1.47 1.35L5.41 20z\"/>\n",
              "  </svg>\n",
              "      </button>\n",
              "      \n",
              "  <style>\n",
              "    .colab-df-container {\n",
              "      display:flex;\n",
              "      flex-wrap:wrap;\n",
              "      gap: 12px;\n",
              "    }\n",
              "\n",
              "    .colab-df-convert {\n",
              "      background-color: #E8F0FE;\n",
              "      border: none;\n",
              "      border-radius: 50%;\n",
              "      cursor: pointer;\n",
              "      display: none;\n",
              "      fill: #1967D2;\n",
              "      height: 32px;\n",
              "      padding: 0 0 0 0;\n",
              "      width: 32px;\n",
              "    }\n",
              "\n",
              "    .colab-df-convert:hover {\n",
              "      background-color: #E2EBFA;\n",
              "      box-shadow: 0px 1px 2px rgba(60, 64, 67, 0.3), 0px 1px 3px 1px rgba(60, 64, 67, 0.15);\n",
              "      fill: #174EA6;\n",
              "    }\n",
              "\n",
              "    [theme=dark] .colab-df-convert {\n",
              "      background-color: #3B4455;\n",
              "      fill: #D2E3FC;\n",
              "    }\n",
              "\n",
              "    [theme=dark] .colab-df-convert:hover {\n",
              "      background-color: #434B5C;\n",
              "      box-shadow: 0px 1px 3px 1px rgba(0, 0, 0, 0.15);\n",
              "      filter: drop-shadow(0px 1px 2px rgba(0, 0, 0, 0.3));\n",
              "      fill: #FFFFFF;\n",
              "    }\n",
              "  </style>\n",
              "\n",
              "      <script>\n",
              "        const buttonEl =\n",
              "          document.querySelector('#df-cfedb1dc-1df9-4299-b0c9-ff0bd93adadc button.colab-df-convert');\n",
              "        buttonEl.style.display =\n",
              "          google.colab.kernel.accessAllowed ? 'block' : 'none';\n",
              "\n",
              "        async function convertToInteractive(key) {\n",
              "          const element = document.querySelector('#df-cfedb1dc-1df9-4299-b0c9-ff0bd93adadc');\n",
              "          const dataTable =\n",
              "            await google.colab.kernel.invokeFunction('convertToInteractive',\n",
              "                                                     [key], {});\n",
              "          if (!dataTable) return;\n",
              "\n",
              "          const docLinkHtml = 'Like what you see? Visit the ' +\n",
              "            '<a target=\"_blank\" href=https://colab.research.google.com/notebooks/data_table.ipynb>data table notebook</a>'\n",
              "            + ' to learn more about interactive tables.';\n",
              "          element.innerHTML = '';\n",
              "          dataTable['output_type'] = 'display_data';\n",
              "          await google.colab.output.renderOutput(dataTable, element);\n",
              "          const docLink = document.createElement('div');\n",
              "          docLink.innerHTML = docLinkHtml;\n",
              "          element.appendChild(docLink);\n",
              "        }\n",
              "      </script>\n",
              "    </div>\n",
              "  </div>\n",
              "  "
            ]
          },
          "metadata": {},
          "execution_count": 18
        }
      ],
      "source": [
        "added_cols = ['Sex_male', 'Sex_female', 'Pclass_1', 'Pclass_2', 'Pclass_3', 'Embarked_C', 'Embarked_Q', 'Embarked_S']\n",
        "df[added_cols].head()"
      ]
    },
    {
      "cell_type": "code",
      "execution_count": 19,
      "metadata": {
        "colab": {
          "base_uri": "https://localhost:8080/"
        },
        "id": "6oMO4nYXcRt7",
        "outputId": "642892ae-4833-4ba8-aac8-adbb19a296ac"
      },
      "outputs": [
        {
          "output_type": "execute_result",
          "data": {
            "text/plain": [
              "tensor([0, 1, 1, 1, 0, 0, 0, 0, 1, 1, 1, 1, 0, 0, 0, 1, 0, 1, 0, 1, 0, 1, 1, 1, 0, 1, 0, 0, 1, 0, 0, 1, 1, 0, 0, 0, 1, 0, 0, 1, 0, 0, 0, 1,\n",
              "        1, 0, 0, 1, 0, 0, 0, 0, 1, 1, 0, 1, 1, 0, 1, 0, 0, 1, 0, 0, 0, 1, 1, 0, 1, 0, 0, 0, 0, 0, 1, 0, 0, 0, 1, 1, 0, 1, 1, 0, 1, 1, 0, 0,\n",
              "        1, 0, 0, 0, 0, 0, 0, 0, 0, 1, 1, 0, 0, 0, 0, 0, 0, 0, 1, 1, 0, 1, 0, 0, 0, 0, 0, 0, 0, 0, 0, 0, 0, 0, 0, 1, 0, 1, 0, 1, 1, 0, 0, 0,\n",
              "        0, 1, 0, 0, 1, 0, 0, 0, 0, 1, 1, 0, 0, 0, 1, 0, 0, 0, 0, 1, 0, 0, 0, 0, 1, 0, 0, 0, 0, 1, 0, 0, 0, 1, 1, 0, 0, 0, 0, 0, 1, 0, 0, 0,\n",
              "        0, 0, 0, 0, 0, 0, 0, 1, 1, 0, 1, 1, 0, 0, 1, 0, 1, 1, 1, 1, 0, 0, 1, 0, 0, 0, 0, 0, 1, 0, 0, 1, 1, 1, 0, 1, 0, 0, 0, 1, 1, 0, 1, 0,\n",
              "        1, 0, 0, 0, 1, 0, 1, 0, 0, 0, 1, 0, 0, 1, 0, 0, 0, 1, 0, 0, 0, 1, 0, 0, 0, 0, 0, 1, 1, 0, 0, 0, 0, 0, 0, 1, 1, 1, 1, 1, 0, 1, 0, 0,\n",
              "        0, 0, 0, 1, 1, 1, 0, 1, 1, 0, 1, 1, 0, 0, 0, 1, 0, 0, 0, 1, 0, 0, 1, 0, 1, 1, 1, 1, 0, 0, 0, 0, 0, 0, 1, 1, 1, 1, 0, 1, 0, 1, 1, 1,\n",
              "        0, 1, 1, 1, 0, 0, 0, 1, 1, 0, 1, 1, 0, 0, 1, 1, 0, 1, 0, 1, 1, 1, 1, 0, 0, 0, 1, 0, 0, 1, 1, 0, 1, 1, 0, 0, 0, 1, 1, 1, 1, 0, 0, 0,\n",
              "        0, 0, 0, 0, 1, 0, 1, 1, 0, 0, 0, 0, 0, 0, 1, 1, 1, 1, 1, 0, 0, 0, 0, 1, 1, 0, 0, 0, 1, 1, 0, 1, 0, 0, 0, 1, 0, 1, 1, 1, 0, 1, 1, 0,\n",
              "        0, 0, 0, 1, 1, 0, 0, 0, 0, 0, 0, 1, 0, 0, 0, 0, 1, 0, 1, 0, 1, 1, 0, 0, 0, 0, 0, 0, 0, 0, 1, 1, 0, 1, 1, 1, 1, 0, 0, 1, 0, 1, 0, 0,\n",
              "        1, 0, 0, 1, 1, 1, 1, 1, 1, 1, 0, 0, 0, 1, 0, 1, 0, 1, 1, 0, 1, 0, 0, 0, 0, 0, 0, 0, 0, 1, 0, 0, 1, 1, 0, 0, 0, 0, 0, 1, 0, 0, 0, 1,\n",
              "        1, 0, 1, 0, 0, 1, 0, 0, 0, 0, 0, 0, 1, 0, 0, 0, 0, 0, 0, 0, 1, 0, 1, 1, 0, 1, 1, 0, 1, 1, 0, 0, 1, 0, 1, 0, 1, 0, 0, 1, 0, 0, 1, 0,\n",
              "        0, 0, 1, 0, 0, 1, 0, 1, 0, 1, 0, 1, 1, 0, 0, 1, 0, 0, 1, 1, 0, 1, 1, 0, 0, 1, 1, 0, 1, 0, 1, 1, 0, 0, 0, 0, 0, 0, 0, 0, 0, 1, 1, 1,\n",
              "        1, 1, 0, 0, 1, 1, 0, 1, 1, 1, 0, 0, 0, 1, 0, 1, 0, 0, 0, 1, 0, 0, 0, 0, 1, 0, 0, 1, 1, 0, 0, 0, 1, 0, 0, 1, 1, 1, 0, 0, 1, 0, 0, 1,\n",
              "        0, 0, 1, 0, 0, 1, 1, 0, 0, 0, 0, 1, 0, 0, 1, 0, 1, 0, 0, 1, 0, 0, 0, 0, 0, 1, 0, 1, 1, 1, 0, 1, 0, 1, 0, 1, 0, 1, 0, 0, 0, 0, 0, 0,\n",
              "        1, 0, 0, 0, 1, 0, 0, 0, 0, 1, 1, 0, 0, 1, 0, 0, 0, 1, 0, 1, 0, 1, 0, 0, 0, 0, 0, 0, 0, 1, 1, 1, 1, 0, 0, 0, 0, 1, 0, 0, 1, 1, 0, 0,\n",
              "        0, 0, 1, 1, 1, 1, 1, 0, 1, 0, 0, 0, 1, 1, 0, 0, 1, 0, 0, 0, 1, 0, 1, 1, 0, 0, 1, 0, 0, 0, 0, 0, 0, 1, 0, 0, 1, 0, 1, 0, 1, 0, 0, 1,\n",
              "        0, 0, 1, 1, 0, 0, 1, 1, 0, 0, 0, 1, 0, 0, 1, 1, 0, 1, 0, 0, 0, 0, 0, 0, 0, 0, 1, 0, 0, 1, 0, 1, 1, 1, 0, 0, 0, 0, 1, 0, 1, 0, 0, 0,\n",
              "        0, 0, 0, 0, 1, 1, 0, 0, 0, 1, 1, 1, 1, 0, 0, 0, 0, 1, 0, 0, 0, 0, 0, 0, 0, 0, 0, 0, 1, 1, 0, 1, 0, 0, 0, 1, 1, 1, 1, 1, 0, 0, 0, 1,\n",
              "        0, 0, 1, 1, 0, 0, 1, 0, 0, 0, 0, 0, 0, 1, 0, 0, 0, 1, 0, 1, 1, 1, 1, 0, 0, 0, 1, 0, 0, 1, 1, 0, 0, 1, 0, 1, 0, 0, 1, 1, 0, 0, 0, 1,\n",
              "        1, 0, 0, 0, 0, 0, 0, 1, 0, 1, 0])"
            ]
          },
          "metadata": {},
          "execution_count": 19
        }
      ],
      "source": [
        "#Create our independent predictiors and dependent target variables\n",
        "\n",
        "from torch import tensor\n",
        "t_dep = tensor(df.Survived)\n",
        "t_dep"
      ]
    },
    {
      "cell_type": "code",
      "execution_count": 20,
      "metadata": {
        "colab": {
          "base_uri": "https://localhost:8080/"
        },
        "id": "BhDMilvvcRt7",
        "outputId": "d76ef3dd-c785-438e-c564-a89608cbd904"
      },
      "outputs": [
        {
          "output_type": "execute_result",
          "data": {
            "text/plain": [
              "['Sex_male',\n",
              " 'Sex_female',\n",
              " 'Pclass_1',\n",
              " 'Pclass_2',\n",
              " 'Pclass_3',\n",
              " 'Embarked_C',\n",
              " 'Embarked_Q',\n",
              " 'Embarked_S']"
            ]
          },
          "metadata": {},
          "execution_count": 20
        }
      ],
      "source": [
        "added_cols"
      ]
    },
    {
      "cell_type": "markdown",
      "metadata": {
        "id": "igNM8SnYcRt7"
      },
      "source": [
        "Our independent variables are all the continuous variables of interest plus all the dummy variables we jsut created:"
      ]
    },
    {
      "cell_type": "code",
      "execution_count": 21,
      "metadata": {
        "colab": {
          "base_uri": "https://localhost:8080/",
          "height": 337
        },
        "id": "JZiN87eJcRt7",
        "outputId": "f03b111c-8279-4500-a586-6e3b419be4ec"
      },
      "outputs": [
        {
          "output_type": "execute_result",
          "data": {
            "text/plain": [
              "   PassengerId  Survived                                               Name   Age  SibSp  Parch            Ticket     Fare    Cabin  \\\n",
              "0            1         0                            Braund, Mr. Owen Harris  22.0      1      0         A/5 21171   7.2500  B96 B98   \n",
              "1            2         1  Cumings, Mrs. John Bradley (Florence Briggs Th...  38.0      1      0          PC 17599  71.2833      C85   \n",
              "2            3         1                             Heikkinen, Miss. Laina  26.0      0      0  STON/O2. 3101282   7.9250  B96 B98   \n",
              "3            4         1       Futrelle, Mrs. Jacques Heath (Lily May Peel)  35.0      1      0            113803  53.1000     C123   \n",
              "4            5         0                           Allen, Mr. William Henry  35.0      0      0            373450   8.0500  B96 B98   \n",
              "\n",
              "    Logfare  Sex_female  Sex_male  Pclass_1  Pclass_2  Pclass_3  Embarked_C  Embarked_Q  Embarked_S  \n",
              "0  2.110213           0         1         0         0         1           0           0           1  \n",
              "1  4.280593           1         0         1         0         0           1           0           0  \n",
              "2  2.188856           1         0         0         0         1           0           0           1  \n",
              "3  3.990834           1         0         1         0         0           0           0           1  \n",
              "4  2.202765           0         1         0         0         1           0           0           1  "
            ],
            "text/html": [
              "\n",
              "  <div id=\"df-79479d52-fde2-4957-aaf1-5953256c8767\">\n",
              "    <div class=\"colab-df-container\">\n",
              "      <div>\n",
              "<style scoped>\n",
              "    .dataframe tbody tr th:only-of-type {\n",
              "        vertical-align: middle;\n",
              "    }\n",
              "\n",
              "    .dataframe tbody tr th {\n",
              "        vertical-align: top;\n",
              "    }\n",
              "\n",
              "    .dataframe thead th {\n",
              "        text-align: right;\n",
              "    }\n",
              "</style>\n",
              "<table border=\"1\" class=\"dataframe\">\n",
              "  <thead>\n",
              "    <tr style=\"text-align: right;\">\n",
              "      <th></th>\n",
              "      <th>PassengerId</th>\n",
              "      <th>Survived</th>\n",
              "      <th>Name</th>\n",
              "      <th>Age</th>\n",
              "      <th>SibSp</th>\n",
              "      <th>Parch</th>\n",
              "      <th>Ticket</th>\n",
              "      <th>Fare</th>\n",
              "      <th>Cabin</th>\n",
              "      <th>Logfare</th>\n",
              "      <th>Sex_female</th>\n",
              "      <th>Sex_male</th>\n",
              "      <th>Pclass_1</th>\n",
              "      <th>Pclass_2</th>\n",
              "      <th>Pclass_3</th>\n",
              "      <th>Embarked_C</th>\n",
              "      <th>Embarked_Q</th>\n",
              "      <th>Embarked_S</th>\n",
              "    </tr>\n",
              "  </thead>\n",
              "  <tbody>\n",
              "    <tr>\n",
              "      <th>0</th>\n",
              "      <td>1</td>\n",
              "      <td>0</td>\n",
              "      <td>Braund, Mr. Owen Harris</td>\n",
              "      <td>22.0</td>\n",
              "      <td>1</td>\n",
              "      <td>0</td>\n",
              "      <td>A/5 21171</td>\n",
              "      <td>7.2500</td>\n",
              "      <td>B96 B98</td>\n",
              "      <td>2.110213</td>\n",
              "      <td>0</td>\n",
              "      <td>1</td>\n",
              "      <td>0</td>\n",
              "      <td>0</td>\n",
              "      <td>1</td>\n",
              "      <td>0</td>\n",
              "      <td>0</td>\n",
              "      <td>1</td>\n",
              "    </tr>\n",
              "    <tr>\n",
              "      <th>1</th>\n",
              "      <td>2</td>\n",
              "      <td>1</td>\n",
              "      <td>Cumings, Mrs. John Bradley (Florence Briggs Th...</td>\n",
              "      <td>38.0</td>\n",
              "      <td>1</td>\n",
              "      <td>0</td>\n",
              "      <td>PC 17599</td>\n",
              "      <td>71.2833</td>\n",
              "      <td>C85</td>\n",
              "      <td>4.280593</td>\n",
              "      <td>1</td>\n",
              "      <td>0</td>\n",
              "      <td>1</td>\n",
              "      <td>0</td>\n",
              "      <td>0</td>\n",
              "      <td>1</td>\n",
              "      <td>0</td>\n",
              "      <td>0</td>\n",
              "    </tr>\n",
              "    <tr>\n",
              "      <th>2</th>\n",
              "      <td>3</td>\n",
              "      <td>1</td>\n",
              "      <td>Heikkinen, Miss. Laina</td>\n",
              "      <td>26.0</td>\n",
              "      <td>0</td>\n",
              "      <td>0</td>\n",
              "      <td>STON/O2. 3101282</td>\n",
              "      <td>7.9250</td>\n",
              "      <td>B96 B98</td>\n",
              "      <td>2.188856</td>\n",
              "      <td>1</td>\n",
              "      <td>0</td>\n",
              "      <td>0</td>\n",
              "      <td>0</td>\n",
              "      <td>1</td>\n",
              "      <td>0</td>\n",
              "      <td>0</td>\n",
              "      <td>1</td>\n",
              "    </tr>\n",
              "    <tr>\n",
              "      <th>3</th>\n",
              "      <td>4</td>\n",
              "      <td>1</td>\n",
              "      <td>Futrelle, Mrs. Jacques Heath (Lily May Peel)</td>\n",
              "      <td>35.0</td>\n",
              "      <td>1</td>\n",
              "      <td>0</td>\n",
              "      <td>113803</td>\n",
              "      <td>53.1000</td>\n",
              "      <td>C123</td>\n",
              "      <td>3.990834</td>\n",
              "      <td>1</td>\n",
              "      <td>0</td>\n",
              "      <td>1</td>\n",
              "      <td>0</td>\n",
              "      <td>0</td>\n",
              "      <td>0</td>\n",
              "      <td>0</td>\n",
              "      <td>1</td>\n",
              "    </tr>\n",
              "    <tr>\n",
              "      <th>4</th>\n",
              "      <td>5</td>\n",
              "      <td>0</td>\n",
              "      <td>Allen, Mr. William Henry</td>\n",
              "      <td>35.0</td>\n",
              "      <td>0</td>\n",
              "      <td>0</td>\n",
              "      <td>373450</td>\n",
              "      <td>8.0500</td>\n",
              "      <td>B96 B98</td>\n",
              "      <td>2.202765</td>\n",
              "      <td>0</td>\n",
              "      <td>1</td>\n",
              "      <td>0</td>\n",
              "      <td>0</td>\n",
              "      <td>1</td>\n",
              "      <td>0</td>\n",
              "      <td>0</td>\n",
              "      <td>1</td>\n",
              "    </tr>\n",
              "  </tbody>\n",
              "</table>\n",
              "</div>\n",
              "      <button class=\"colab-df-convert\" onclick=\"convertToInteractive('df-79479d52-fde2-4957-aaf1-5953256c8767')\"\n",
              "              title=\"Convert this dataframe to an interactive table.\"\n",
              "              style=\"display:none;\">\n",
              "        \n",
              "  <svg xmlns=\"http://www.w3.org/2000/svg\" height=\"24px\"viewBox=\"0 0 24 24\"\n",
              "       width=\"24px\">\n",
              "    <path d=\"M0 0h24v24H0V0z\" fill=\"none\"/>\n",
              "    <path d=\"M18.56 5.44l.94 2.06.94-2.06 2.06-.94-2.06-.94-.94-2.06-.94 2.06-2.06.94zm-11 1L8.5 8.5l.94-2.06 2.06-.94-2.06-.94L8.5 2.5l-.94 2.06-2.06.94zm10 10l.94 2.06.94-2.06 2.06-.94-2.06-.94-.94-2.06-.94 2.06-2.06.94z\"/><path d=\"M17.41 7.96l-1.37-1.37c-.4-.4-.92-.59-1.43-.59-.52 0-1.04.2-1.43.59L10.3 9.45l-7.72 7.72c-.78.78-.78 2.05 0 2.83L4 21.41c.39.39.9.59 1.41.59.51 0 1.02-.2 1.41-.59l7.78-7.78 2.81-2.81c.8-.78.8-2.07 0-2.86zM5.41 20L4 18.59l7.72-7.72 1.47 1.35L5.41 20z\"/>\n",
              "  </svg>\n",
              "      </button>\n",
              "      \n",
              "  <style>\n",
              "    .colab-df-container {\n",
              "      display:flex;\n",
              "      flex-wrap:wrap;\n",
              "      gap: 12px;\n",
              "    }\n",
              "\n",
              "    .colab-df-convert {\n",
              "      background-color: #E8F0FE;\n",
              "      border: none;\n",
              "      border-radius: 50%;\n",
              "      cursor: pointer;\n",
              "      display: none;\n",
              "      fill: #1967D2;\n",
              "      height: 32px;\n",
              "      padding: 0 0 0 0;\n",
              "      width: 32px;\n",
              "    }\n",
              "\n",
              "    .colab-df-convert:hover {\n",
              "      background-color: #E2EBFA;\n",
              "      box-shadow: 0px 1px 2px rgba(60, 64, 67, 0.3), 0px 1px 3px 1px rgba(60, 64, 67, 0.15);\n",
              "      fill: #174EA6;\n",
              "    }\n",
              "\n",
              "    [theme=dark] .colab-df-convert {\n",
              "      background-color: #3B4455;\n",
              "      fill: #D2E3FC;\n",
              "    }\n",
              "\n",
              "    [theme=dark] .colab-df-convert:hover {\n",
              "      background-color: #434B5C;\n",
              "      box-shadow: 0px 1px 3px 1px rgba(0, 0, 0, 0.15);\n",
              "      filter: drop-shadow(0px 1px 2px rgba(0, 0, 0, 0.3));\n",
              "      fill: #FFFFFF;\n",
              "    }\n",
              "  </style>\n",
              "\n",
              "      <script>\n",
              "        const buttonEl =\n",
              "          document.querySelector('#df-79479d52-fde2-4957-aaf1-5953256c8767 button.colab-df-convert');\n",
              "        buttonEl.style.display =\n",
              "          google.colab.kernel.accessAllowed ? 'block' : 'none';\n",
              "\n",
              "        async function convertToInteractive(key) {\n",
              "          const element = document.querySelector('#df-79479d52-fde2-4957-aaf1-5953256c8767');\n",
              "          const dataTable =\n",
              "            await google.colab.kernel.invokeFunction('convertToInteractive',\n",
              "                                                     [key], {});\n",
              "          if (!dataTable) return;\n",
              "\n",
              "          const docLinkHtml = 'Like what you see? Visit the ' +\n",
              "            '<a target=\"_blank\" href=https://colab.research.google.com/notebooks/data_table.ipynb>data table notebook</a>'\n",
              "            + ' to learn more about interactive tables.';\n",
              "          element.innerHTML = '';\n",
              "          dataTable['output_type'] = 'display_data';\n",
              "          await google.colab.output.renderOutput(dataTable, element);\n",
              "          const docLink = document.createElement('div');\n",
              "          docLink.innerHTML = docLinkHtml;\n",
              "          element.appendChild(docLink);\n",
              "        }\n",
              "      </script>\n",
              "    </div>\n",
              "  </div>\n",
              "  "
            ]
          },
          "metadata": {},
          "execution_count": 21
        }
      ],
      "source": [
        "df.head()"
      ]
    },
    {
      "cell_type": "code",
      "execution_count": 22,
      "metadata": {
        "id": "ecXI4TxmcRt8"
      },
      "outputs": [],
      "source": [
        "df.rename({'Logfare':'LogFare'},axis=1,inplace=True)"
      ]
    },
    {
      "cell_type": "markdown",
      "metadata": {
        "id": "faBNeFeYcRt8"
      },
      "source": [
        "Converting to tensor"
      ]
    },
    {
      "cell_type": "code",
      "execution_count": 23,
      "metadata": {
        "colab": {
          "base_uri": "https://localhost:8080/"
        },
        "id": "UN-b7TDKcRt8",
        "outputId": "c89d363e-f821-4ba4-ebe6-c8704c3db728"
      },
      "outputs": [
        {
          "output_type": "execute_result",
          "data": {
            "text/plain": [
              "torch.Size([891, 12])"
            ]
          },
          "metadata": {},
          "execution_count": 23
        }
      ],
      "source": [
        "indep_cols = ['Age','SibSp','Parch','LogFare'] + added_cols\n",
        "deps = torch.tensor(df.Survived).to(torch.float32)\n",
        "t_indep = tensor(df[indep_cols].values, dtype=torch.float)\n",
        "t_indep.shape"
      ]
    },
    {
      "cell_type": "markdown",
      "metadata": {
        "id": "wrtQ-UiIcRt8"
      },
      "source": [
        "Setting up a linear model"
      ]
    },
    {
      "cell_type": "code",
      "execution_count": 24,
      "metadata": {
        "colab": {
          "base_uri": "https://localhost:8080/"
        },
        "id": "LGzqy2D7cRt8",
        "outputId": "131ea3cd-c011-44cb-dace-8f48b3c8bda6"
      },
      "outputs": [
        {
          "output_type": "execute_result",
          "data": {
            "text/plain": [
              "tensor([0.4540, 0.1965, 0.9210, 0.3462, 0.1481, 0.0858, 0.5909, 0.0659, 0.7476, 0.6253, 0.9392, 0.1338])"
            ]
          },
          "metadata": {},
          "execution_count": 24
        }
      ],
      "source": [
        "torch.manual_seed(43)\n",
        "n_coeff = t_indep.shape[1]\n",
        "coeffs = torch.rand(n_coeff)\n",
        "coeffs"
      ]
    },
    {
      "cell_type": "code",
      "execution_count": 25,
      "metadata": {
        "colab": {
          "base_uri": "https://localhost:8080/"
        },
        "id": "pc_NrZutcRt9",
        "outputId": "13f9a93d-c81e-48aa-f5e5-7d1396f404ea"
      },
      "outputs": [
        {
          "output_type": "execute_result",
          "data": {
            "text/plain": [
              "tensor([[    9.9883,     0.1975,     0.0010,     0.7315,     0.1491,     0.0010,     0.0010,     0.0010,     0.7486,     0.0010,     0.0010,\n",
              "             0.1348],\n",
              "        [   17.2518,     0.1975,     0.0010,     1.4829,     0.0010,     0.0868,     0.5919,     0.0010,     0.0010,     0.6263,     0.0010,\n",
              "             0.0010],\n",
              "        [   11.8042,     0.0010,     0.0010,     0.7587,     0.0010,     0.0868,     0.0010,     0.0010,     0.7486,     0.0010,     0.0010,\n",
              "             0.1348],\n",
              "        [   15.8899,     0.1975,     0.0010,     1.3825,     0.0010,     0.0868,     0.5919,     0.0010,     0.0010,     0.0010,     0.0010,\n",
              "             0.1348],\n",
              "        [   15.8899,     0.0010,     0.0010,     0.7636,     0.1491,     0.0010,     0.0010,     0.0010,     0.7486,     0.0010,     0.0010,\n",
              "             0.1348],\n",
              "        [   10.8962,     0.0010,     0.0010,     0.7788,     0.1491,     0.0010,     0.0010,     0.0010,     0.7486,     0.0010,     0.9402,\n",
              "             0.0010],\n",
              "        [   24.5153,     0.0010,     0.0010,     1.3745,     0.1491,     0.0010,     0.5919,     0.0010,     0.0010,     0.0010,     0.0010,\n",
              "             0.1348],\n",
              "        ...,\n",
              "        [   11.3502,     0.0010,     0.0010,     0.7230,     0.1491,     0.0010,     0.0010,     0.0010,     0.7486,     0.0010,     0.0010,\n",
              "             0.1348],\n",
              "        [   17.7058,     0.0010,     4.6062,     1.1799,     0.0010,     0.0868,     0.0010,     0.0010,     0.7486,     0.0010,     0.9402,\n",
              "             0.0010],\n",
              "        [   12.2581,     0.0010,     0.0010,     0.9146,     0.1491,     0.0010,     0.0010,     0.0669,     0.0010,     0.0010,     0.0010,\n",
              "             0.1348],\n",
              "        [    8.6264,     0.0010,     0.0010,     1.1898,     0.0010,     0.0868,     0.5919,     0.0010,     0.0010,     0.0010,     0.0010,\n",
              "             0.1348],\n",
              "        [   10.8962,     0.1975,     1.8431,     1.1076,     0.0010,     0.0868,     0.0010,     0.0010,     0.7486,     0.0010,     0.0010,\n",
              "             0.1348],\n",
              "        [   11.8042,     0.0010,     0.0010,     1.1898,     0.1491,     0.0010,     0.5919,     0.0010,     0.0010,     0.6263,     0.0010,\n",
              "             0.0010],\n",
              "        [   14.5280,     0.0010,     0.0010,     0.7519,     0.1491,     0.0010,     0.0010,     0.0010,     0.7486,     0.0010,     0.9402,\n",
              "             0.0010]])"
            ]
          },
          "metadata": {},
          "execution_count": 25
        }
      ],
      "source": [
        "#These are the weights initialized\n",
        "#next we need to multiply the coefficients with the feature vectors\n",
        "\n",
        "t_indep*coeffs + 0.001"
      ]
    },
    {
      "cell_type": "code",
      "execution_count": 26,
      "metadata": {
        "id": "0RT_bMSWcRt9"
      },
      "outputs": [],
      "source": [
        "#clearly the value of the first column is way large than the rest\n",
        "#So we will do the following\n",
        "\n",
        "vals, indices = t_indep.max(dim=0)\n",
        "t_indep = t_indep/vals"
      ]
    },
    {
      "cell_type": "code",
      "execution_count": 27,
      "metadata": {
        "colab": {
          "base_uri": "https://localhost:8080/"
        },
        "id": "EXVKcew0cRt9",
        "outputId": "7f8f4fdc-9a81-4441-85c0-9ee9930004f0"
      },
      "outputs": [
        {
          "output_type": "execute_result",
          "data": {
            "text/plain": [
              "tensor([[0.2750, 0.1250, 0.0000, 0.3381, 1.0000, 0.0000, 0.0000, 0.0000, 1.0000, 0.0000, 0.0000, 1.0000],\n",
              "        [0.4750, 0.1250, 0.0000, 0.6859, 0.0000, 1.0000, 1.0000, 0.0000, 0.0000, 1.0000, 0.0000, 0.0000],\n",
              "        [0.3250, 0.0000, 0.0000, 0.3507, 0.0000, 1.0000, 0.0000, 0.0000, 1.0000, 0.0000, 0.0000, 1.0000],\n",
              "        [0.4375, 0.1250, 0.0000, 0.6395, 0.0000, 1.0000, 1.0000, 0.0000, 0.0000, 0.0000, 0.0000, 1.0000],\n",
              "        [0.4375, 0.0000, 0.0000, 0.3530, 1.0000, 0.0000, 0.0000, 0.0000, 1.0000, 0.0000, 0.0000, 1.0000],\n",
              "        [0.3000, 0.0000, 0.0000, 0.3600, 1.0000, 0.0000, 0.0000, 0.0000, 1.0000, 0.0000, 1.0000, 0.0000],\n",
              "        [0.6750, 0.0000, 0.0000, 0.6358, 1.0000, 0.0000, 1.0000, 0.0000, 0.0000, 0.0000, 0.0000, 1.0000],\n",
              "        ...,\n",
              "        [0.3125, 0.0000, 0.0000, 0.3342, 1.0000, 0.0000, 0.0000, 0.0000, 1.0000, 0.0000, 0.0000, 1.0000],\n",
              "        [0.4875, 0.0000, 0.8333, 0.5456, 0.0000, 1.0000, 0.0000, 0.0000, 1.0000, 0.0000, 1.0000, 0.0000],\n",
              "        [0.3375, 0.0000, 0.0000, 0.4229, 1.0000, 0.0000, 0.0000, 1.0000, 0.0000, 0.0000, 0.0000, 1.0000],\n",
              "        [0.2375, 0.0000, 0.0000, 0.5502, 0.0000, 1.0000, 1.0000, 0.0000, 0.0000, 0.0000, 0.0000, 1.0000],\n",
              "        [0.3000, 0.1250, 0.3333, 0.5122, 0.0000, 1.0000, 0.0000, 0.0000, 1.0000, 0.0000, 0.0000, 1.0000],\n",
              "        [0.3250, 0.0000, 0.0000, 0.5502, 1.0000, 0.0000, 1.0000, 0.0000, 0.0000, 1.0000, 0.0000, 0.0000],\n",
              "        [0.4000, 0.0000, 0.0000, 0.3476, 1.0000, 0.0000, 0.0000, 0.0000, 1.0000, 0.0000, 1.0000, 0.0000]])"
            ]
          },
          "metadata": {},
          "execution_count": 27
        }
      ],
      "source": [
        "t_indep #Much better"
      ]
    },
    {
      "cell_type": "code",
      "execution_count": 28,
      "metadata": {
        "colab": {
          "base_uri": "https://localhost:8080/"
        },
        "id": "Z5PQpPwEcRt9",
        "outputId": "021cfa7c-5a46-4563-8354-9513068127d5"
      },
      "outputs": [
        {
          "output_type": "execute_result",
          "data": {
            "text/plain": [
              "tensor([[0.1258, 0.0256, 0.0010, 0.1181, 0.1491, 0.0010, 0.0010, 0.0010, 0.7486, 0.0010, 0.0010, 0.1348],\n",
              "        [0.2166, 0.0256, 0.0010, 0.2384, 0.0010, 0.0868, 0.5919, 0.0010, 0.0010, 0.6263, 0.0010, 0.0010],\n",
              "        [0.1485, 0.0010, 0.0010, 0.1224, 0.0010, 0.0868, 0.0010, 0.0010, 0.7486, 0.0010, 0.0010, 0.1348],\n",
              "        [0.1996, 0.0256, 0.0010, 0.2224, 0.0010, 0.0868, 0.5919, 0.0010, 0.0010, 0.0010, 0.0010, 0.1348],\n",
              "        [0.1996, 0.0010, 0.0010, 0.1232, 0.1491, 0.0010, 0.0010, 0.0010, 0.7486, 0.0010, 0.0010, 0.1348],\n",
              "        [0.1372, 0.0010, 0.0010, 0.1256, 0.1491, 0.0010, 0.0010, 0.0010, 0.7486, 0.0010, 0.9402, 0.0010],\n",
              "        [0.3074, 0.0010, 0.0010, 0.2211, 0.1491, 0.0010, 0.5919, 0.0010, 0.0010, 0.0010, 0.0010, 0.1348],\n",
              "        ...,\n",
              "        [0.1429, 0.0010, 0.0010, 0.1167, 0.1491, 0.0010, 0.0010, 0.0010, 0.7486, 0.0010, 0.0010, 0.1348],\n",
              "        [0.2223, 0.0010, 0.7685, 0.1899, 0.0010, 0.0868, 0.0010, 0.0010, 0.7486, 0.0010, 0.9402, 0.0010],\n",
              "        [0.1542, 0.0010, 0.0010, 0.1474, 0.1491, 0.0010, 0.0010, 0.0669, 0.0010, 0.0010, 0.0010, 0.1348],\n",
              "        [0.1088, 0.0010, 0.0010, 0.1915, 0.0010, 0.0868, 0.5919, 0.0010, 0.0010, 0.0010, 0.0010, 0.1348],\n",
              "        [0.1372, 0.0256, 0.3080, 0.1783, 0.0010, 0.0868, 0.0010, 0.0010, 0.7486, 0.0010, 0.0010, 0.1348],\n",
              "        [0.1485, 0.0010, 0.0010, 0.1915, 0.1491, 0.0010, 0.5919, 0.0010, 0.0010, 0.6263, 0.0010, 0.0010],\n",
              "        [0.1826, 0.0010, 0.0010, 0.1213, 0.1491, 0.0010, 0.0010, 0.0010, 0.7486, 0.0010, 0.9402, 0.0010]])"
            ]
          },
          "metadata": {},
          "execution_count": 28
        }
      ],
      "source": [
        "t_indep*coeffs+0.001"
      ]
    },
    {
      "cell_type": "code",
      "execution_count": 29,
      "metadata": {
        "colab": {
          "base_uri": "https://localhost:8080/"
        },
        "id": "WaofQjhYcRt9",
        "outputId": "96cccf3d-87b1-46e5-bc7f-d556ff85c2c7"
      },
      "outputs": [
        {
          "output_type": "execute_result",
          "data": {
            "text/plain": [
              "tensor([[1.3079],\n",
              "        [1.7917],\n",
              "        [1.2482],\n",
              "        [1.2671],\n",
              "        [1.3623],\n",
              "        [2.1077],\n",
              "        [1.4113],\n",
              "        [1.4517],\n",
              "        [1.5779],\n",
              "        [1.0837],\n",
              "        [1.3394],\n",
              "        [1.3356],\n",
              "        [1.2771],\n",
              "        [2.2476],\n",
              "        [1.1796],\n",
              "        [0.7668],\n",
              "        [2.2989],\n",
              "        [0.6424],\n",
              "        [1.3430],\n",
              "        [1.7238],\n",
              "        [0.7412],\n",
              "        [0.6991],\n",
              "        [1.9918],\n",
              "        [1.2432],\n",
              "        [1.4234],\n",
              "        [2.1798],\n",
              "        [1.7861],\n",
              "        [1.6826],\n",
              "        [2.0419],\n",
              "        [1.2989],\n",
              "        [1.7896],\n",
              "        [1.7518],\n",
              "        [2.0411],\n",
              "        [0.8698],\n",
              "        [1.8050],\n",
              "        [1.3679],\n",
              "        [1.7861],\n",
              "        [1.2828],\n",
              "        [1.2938],\n",
              "        [1.7137],\n",
              "        [1.3610],\n",
              "        [0.6468],\n",
              "        [1.7904],\n",
              "        [1.3458],\n",
              "        [2.0136],\n",
              "        [1.2998],\n",
              "        [2.1631],\n",
              "        [2.0411],\n",
              "        [1.8915],\n",
              "        [1.2686],\n",
              "        [1.5385],\n",
              "        [1.2813],\n",
              "        [1.8582],\n",
              "        [0.6695],\n",
              "        [2.1285],\n",
              "        [1.2205],\n",
              "        [0.5522],\n",
              "        [1.8116],\n",
              "        [0.8438],\n",
              "        [1.7483],\n",
              "        [1.7748],\n",
              "        [1.2819],\n",
              "        [1.4108],\n",
              "        [1.6315],\n",
              "        [1.6988],\n",
              "        [2.0019],\n",
              "        [0.5976],\n",
              "        [1.2721],\n",
              "        [1.6023],\n",
              "        [1.3640],\n",
              "        [0.6769],\n",
              "        [1.7144],\n",
              "        [0.7181],\n",
              "        [1.8570],\n",
              "        [1.4478],\n",
              "        [1.3030],\n",
              "        [1.2989],\n",
              "        [1.2998],\n",
              "        [0.8602],\n",
              "        [1.2937],\n",
              "        [1.2940],\n",
              "        [1.3365],\n",
              "        [2.0414],\n",
              "        [1.2586],\n",
              "        [0.5295],\n",
              "        [1.3968],\n",
              "        [1.8151],\n",
              "        [1.2998],\n",
              "        [1.6431],\n",
              "        [1.2998],\n",
              "        [1.3282],\n",
              "        [1.2759],\n",
              "        [1.3995],\n",
              "        [1.6910],\n",
              "        [1.4933],\n",
              "        [1.2998],\n",
              "        [1.9775],\n",
              "        [1.8914],\n",
              "        [0.8203],\n",
              "        [0.7601],\n",
              "        [1.2593],\n",
              "        [1.2989],\n",
              "        [1.3994],\n",
              "        [1.3545],\n",
              "        [1.4220],\n",
              "        [1.3216],\n",
              "        [1.2180],\n",
              "        [1.2981],\n",
              "        [1.3783],\n",
              "        [2.1242],\n",
              "        [1.3718],\n",
              "        [1.7294],\n",
              "        [1.2885],\n",
              "        [1.2494],\n",
              "        [1.7191],\n",
              "        [1.2821],\n",
              "        [2.3673],\n",
              "        [0.7204],\n",
              "        [1.9720],\n",
              "        [1.5885],\n",
              "        [0.7672],\n",
              "        [1.2998],\n",
              "        [1.2509],\n",
              "        [0.6284],\n",
              "        [1.5866],\n",
              "        [1.7646],\n",
              "        [2.1034],\n",
              "        [1.2940],\n",
              "        [1.9598],\n",
              "        [1.4120],\n",
              "        [1.8415],\n",
              "        [1.2707],\n",
              "        [1.4225],\n",
              "        [0.6695],\n",
              "        [0.6481],\n",
              "        [1.1358],\n",
              "        [1.4208],\n",
              "        [1.3407],\n",
              "        [1.2612],\n",
              "        [1.7557],\n",
              "        [2.0686],\n",
              "        [1.2244],\n",
              "        [1.2966],\n",
              "        [2.0683],\n",
              "        [0.6021],\n",
              "        [0.8471],\n",
              "        [1.3153],\n",
              "        [1.5842],\n",
              "        [1.0568],\n",
              "        [0.7445],\n",
              "        [0.7937],\n",
              "        [1.2057],\n",
              "        [1.4786],\n",
              "        [1.7303],\n",
              "        [1.2951],\n",
              "        [2.0485],\n",
              "        [1.9956],\n",
              "        [1.3339],\n",
              "        [1.3035],\n",
              "        [1.9173],\n",
              "        [1.6021],\n",
              "        [0.6809],\n",
              "        [1.3095],\n",
              "        [1.2638],\n",
              "        [1.5045],\n",
              "        [1.5698],\n",
              "        [1.3355],\n",
              "        [2.0597],\n",
              "        [1.2037],\n",
              "        [1.4251],\n",
              "        [1.4274],\n",
              "        [2.3102],\n",
              "        [1.3014],\n",
              "        [1.2821],\n",
              "        [1.8858],\n",
              "        [1.4427],\n",
              "        [1.5866],\n",
              "        [1.7859],\n",
              "        [0.6764],\n",
              "        [1.2458],\n",
              "        [1.8550],\n",
              "        [1.1415],\n",
              "        [1.6907],\n",
              "        [0.7727],\n",
              "        [1.4829],\n",
              "        [1.2391],\n",
              "        [2.1009],\n",
              "        [1.3241],\n",
              "        [2.4074],\n",
              "        [1.3670],\n",
              "        [0.6255],\n",
              "        [0.6140],\n",
              "        [1.2326],\n",
              "        [0.7377],\n",
              "        [1.7500],\n",
              "        [1.9202],\n",
              "        [2.1034],\n",
              "        [1.5576],\n",
              "        [2.0411],\n",
              "        [0.5801],\n",
              "        [1.3308],\n",
              "        [1.9173],\n",
              "        [1.3461],\n",
              "        [1.9081],\n",
              "        [1.2658],\n",
              "        [1.2794],\n",
              "        [1.4043],\n",
              "        [1.8461],\n",
              "        [1.9957],\n",
              "        [1.7956],\n",
              "        [1.2934],\n",
              "        [0.6676],\n",
              "        [1.2834],\n",
              "        [0.6764],\n",
              "        [2.1280],\n",
              "        [1.7774],\n",
              "        [1.2538],\n",
              "        [0.8075],\n",
              "        [1.7368],\n",
              "        [0.6655],\n",
              "        [1.2545],\n",
              "        [0.6594],\n",
              "        [1.4531],\n",
              "        [1.2989],\n",
              "        [1.3752],\n",
              "        [1.2959],\n",
              "        [0.6031],\n",
              "        [1.2749],\n",
              "        [0.6083],\n",
              "        [1.5243],\n",
              "        [1.2918],\n",
              "        [1.3265],\n",
              "        [0.8429],\n",
              "        [1.6057],\n",
              "        [0.6315],\n",
              "        [1.2344],\n",
              "        [0.8169],\n",
              "        [0.8333],\n",
              "        [0.6031],\n",
              "        [0.6905],\n",
              "        [1.7834],\n",
              "        [2.1009],\n",
              "        [0.6598],\n",
              "        [1.2825],\n",
              "        [1.8201],\n",
              "        [2.2392],\n",
              "        [1.2415],\n",
              "        [0.8928],\n",
              "        [1.4937],\n",
              "        [0.8736],\n",
              "        [1.2947],\n",
              "        [1.4571],\n",
              "        [1.4206],\n",
              "        [1.3938],\n",
              "        [1.6883],\n",
              "        [2.0969],\n",
              "        [1.6935],\n",
              "        [1.2408],\n",
              "        [1.8589],\n",
              "        [0.9176],\n",
              "        [2.1034],\n",
              "        [1.6567],\n",
              "        [1.6015],\n",
              "        [1.1118],\n",
              "        [2.0411],\n",
              "        [0.6996],\n",
              "        [1.5896],\n",
              "        [1.3284],\n",
              "        [1.5847],\n",
              "        [1.2939],\n",
              "        [1.2132],\n",
              "        [1.1833],\n",
              "        [0.8512],\n",
              "        [1.9298],\n",
              "        [2.0411],\n",
              "        [1.4469],\n",
              "        [1.3549],\n",
              "        [0.4960],\n",
              "        [2.3273],\n",
              "        [1.5254],\n",
              "        [2.3360],\n",
              "        [1.3213],\n",
              "        [1.2627],\n",
              "        [1.2715],\n",
              "        [1.2038],\n",
              "        [1.8461],\n",
              "        [1.3421],\n",
              "        [1.2875],\n",
              "        [0.7445],\n",
              "        [2.0298],\n",
              "        [1.2131],\n",
              "        [1.6973],\n",
              "        [1.2015],\n",
              "        [1.2423],\n",
              "        [1.2989],\n",
              "        [1.6988],\n",
              "        [1.7833],\n",
              "        [1.4443],\n",
              "        [1.2124],\n",
              "        [2.0573],\n",
              "        [2.0411],\n",
              "        [2.2091],\n",
              "        [1.1493],\n",
              "        [1.3829],\n",
              "        [1.2998],\n",
              "        [1.5005],\n",
              "        [1.7119],\n",
              "        [1.6958],\n",
              "        [1.2247],\n",
              "        [1.7095],\n",
              "        [1.6961],\n",
              "        [2.0815],\n",
              "        [0.8060],\n",
              "        [1.3216],\n",
              "        [0.9652],\n",
              "        [1.2477],\n",
              "        [0.6411],\n",
              "        [0.8165],\n",
              "        [1.5890],\n",
              "        [1.9914],\n",
              "        [1.2834],\n",
              "        [1.3159],\n",
              "        [1.4169],\n",
              "        [0.7891],\n",
              "        [1.9173],\n",
              "        [1.7911],\n",
              "        [1.4974],\n",
              "        [0.6482],\n",
              "        [1.5034],\n",
              "        [1.7845],\n",
              "        [2.1468],\n",
              "        [1.3307],\n",
              "        [1.5335],\n",
              "        [1.3447],\n",
              "        [1.2552],\n",
              "        [1.2989],\n",
              "        [1.3077],\n",
              "        [1.8190],\n",
              "        [1.4190],\n",
              "        [1.3397],\n",
              "        [0.7320],\n",
              "        [1.6487],\n",
              "        [0.6651],\n",
              "        [0.6481],\n",
              "        [0.7105],\n",
              "        [0.5801],\n",
              "        [0.6709],\n",
              "        [1.2974],\n",
              "        [1.3934],\n",
              "        [1.4056],\n",
              "        [1.3009],\n",
              "        [1.2198],\n",
              "        [1.9131],\n",
              "        [1.3706],\n",
              "        [1.7861],\n",
              "        [1.3308],\n",
              "        [1.3242],\n",
              "        [0.6596],\n",
              "        [2.0419],\n",
              "        [2.0419],\n",
              "        [2.0936],\n",
              "        [1.2267],\n",
              "        [2.0315],\n",
              "        [1.3558],\n",
              "        [2.1631],\n",
              "        [1.3288],\n",
              "        [1.9195],\n",
              "        [1.7238],\n",
              "        [2.0411],\n",
              "        [1.6862],\n",
              "        [1.7665],\n",
              "        [1.2799],\n",
              "        [1.2715],\n",
              "        [1.7739],\n",
              "        [1.3951],\n",
              "        [1.7201],\n",
              "        [1.2211],\n",
              "        [2.1338],\n",
              "        [1.7359],\n",
              "        [1.2698],\n",
              "        [1.8537],\n",
              "        [1.9397],\n",
              "        [1.3445],\n",
              "        [1.2659],\n",
              "        [1.2989],\n",
              "        [0.7011],\n",
              "        [1.6916],\n",
              "        [0.6482],\n",
              "        [2.1033],\n",
              "        [1.0278],\n",
              "        [1.6867],\n",
              "        [1.2812],\n",
              "        [1.3709],\n",
              "        [1.7320],\n",
              "        [1.5818],\n",
              "        [1.2869],\n",
              "        [1.2761],\n",
              "        [0.8037],\n",
              "        [0.6258],\n",
              "        [0.6014],\n",
              "        [1.3842],\n",
              "        [1.3112],\n",
              "        [1.2551],\n",
              "        [1.3816],\n",
              "        [1.2185],\n",
              "        [0.7488],\n",
              "        [1.4512],\n",
              "        [0.7204],\n",
              "        [1.2811],\n",
              "        [1.5243],\n",
              "        [1.2989],\n",
              "        [2.0974],\n",
              "        [2.0900],\n",
              "        [0.4960],\n",
              "        [1.4126],\n",
              "        [1.2376],\n",
              "        [0.8633],\n",
              "        [0.8531],\n",
              "        [0.6764],\n",
              "        [1.5218],\n",
              "        [1.7904],\n",
              "        [2.0863],\n",
              "        [1.3271],\n",
              "        [1.4678],\n",
              "        [1.4911],\n",
              "        [1.2947],\n",
              "        [0.6638],\n",
              "        [0.5882],\n",
              "        [2.1034],\n",
              "        [1.3452],\n",
              "        [1.2276],\n",
              "        [1.2974],\n",
              "        [0.7433],\n",
              "        [1.2541],\n",
              "        [1.4173],\n",
              "        [1.4996],\n",
              "        [1.6523],\n",
              "        [1.1088],\n",
              "        [2.1959],\n",
              "        [0.6712],\n",
              "        [0.9143],\n",
              "        [1.2854],\n",
              "        [1.3284],\n",
              "        [0.6028],\n",
              "        [1.3002],\n",
              "        [1.4595],\n",
              "        [0.6924],\n",
              "        [1.2617],\n",
              "        [1.8686],\n",
              "        [1.3713],\n",
              "        [1.0820],\n",
              "        [1.3710],\n",
              "        [1.7329],\n",
              "        [1.9286],\n",
              "        [1.2998],\n",
              "        [1.8188],\n",
              "        [1.4376],\n",
              "        [1.2034],\n",
              "        [0.7167],\n",
              "        [2.1034],\n",
              "        [1.3411],\n",
              "        [1.3566],\n",
              "        [1.3554],\n",
              "        [0.7786],\n",
              "        [1.2998],\n",
              "        [1.3728],\n",
              "        [0.4960],\n",
              "        [1.3865],\n",
              "        [2.1032],\n",
              "        [1.8445],\n",
              "        [1.2947],\n",
              "        [1.3829],\n",
              "        [1.0027],\n",
              "        [1.0690],\n",
              "        [1.2362],\n",
              "        [1.2412],\n",
              "        [0.7488],\n",
              "        [1.3463],\n",
              "        [1.2852],\n",
              "        [1.2875],\n",
              "        [1.7370],\n",
              "        [0.4960],\n",
              "        [1.4474],\n",
              "        [1.4676],\n",
              "        [1.7936],\n",
              "        [1.5243],\n",
              "        [1.2959],\n",
              "        [1.8954],\n",
              "        [1.3339],\n",
              "        [1.4274],\n",
              "        [1.3710],\n",
              "        [1.2777],\n",
              "        [1.3883],\n",
              "        [1.9968],\n",
              "        [1.2828],\n",
              "        [1.8211],\n",
              "        [1.8876],\n",
              "        [1.3318],\n",
              "        [1.5749],\n",
              "        [1.2983],\n",
              "        [1.2638],\n",
              "        [2.0241],\n",
              "        [2.0404],\n",
              "        [1.3201],\n",
              "        [1.1614],\n",
              "        [1.7637],\n",
              "        [0.9746],\n",
              "        [1.2049],\n",
              "        [1.3755],\n",
              "        [1.4138],\n",
              "        [2.1318],\n",
              "        [1.2998],\n",
              "        [1.2725],\n",
              "        [1.8725],\n",
              "        [1.2963],\n",
              "        [1.3488],\n",
              "        [0.6260],\n",
              "        [2.1620],\n",
              "        [0.7092],\n",
              "        [1.3443],\n",
              "        [1.2451],\n",
              "        [1.2875],\n",
              "        [1.7861],\n",
              "        [1.9434],\n",
              "        [1.7861],\n",
              "        [2.1970],\n",
              "        [0.7167],\n",
              "        [1.3209],\n",
              "        [1.3842],\n",
              "        [0.8331],\n",
              "        [0.6698],\n",
              "        [1.7861],\n",
              "        [1.9244],\n",
              "        [2.0887],\n",
              "        [1.2753],\n",
              "        [0.8276],\n",
              "        [1.3241],\n",
              "        [1.7437],\n",
              "        [1.3297],\n",
              "        [1.9635],\n",
              "        [1.5711],\n",
              "        [1.6282],\n",
              "        [1.6396],\n",
              "        [0.7488],\n",
              "        [1.9441],\n",
              "        [1.4308],\n",
              "        [0.6127],\n",
              "        [1.1372],\n",
              "        [1.5770],\n",
              "        [0.7847],\n",
              "        [2.0415],\n",
              "        [0.6958],\n",
              "        [2.1039],\n",
              "        [1.7747],\n",
              "        [1.2245],\n",
              "        [1.4206],\n",
              "        [1.8165],\n",
              "        [1.8138],\n",
              "        [1.4654],\n",
              "        [1.3696],\n",
              "        [2.1034],\n",
              "        [1.3897],\n",
              "        [0.6670],\n",
              "        [1.2998],\n",
              "        [1.2376],\n",
              "        [1.4057],\n",
              "        [1.2705],\n",
              "        [1.9294],\n",
              "        [1.7861],\n",
              "        [1.3440],\n",
              "        [0.8471],\n",
              "        [1.3921],\n",
              "        [1.2727],\n",
              "        [2.0411],\n",
              "        [1.2545],\n",
              "        [1.3013],\n",
              "        [0.6369],\n",
              "        [1.2926],\n",
              "        [1.7834],\n",
              "        [1.3445],\n",
              "        [0.8080],\n",
              "        [1.9751],\n",
              "        [0.8491],\n",
              "        [1.7868],\n",
              "        [1.7953],\n",
              "        [1.4752],\n",
              "        [0.7803],\n",
              "        [2.1381],\n",
              "        [1.2885],\n",
              "        [1.2998],\n",
              "        [1.3563],\n",
              "        [1.8763],\n",
              "        [1.4252],\n",
              "        [2.3481],\n",
              "        [0.7771],\n",
              "        [1.6027],\n",
              "        [0.6293],\n",
              "        [1.3195],\n",
              "        [1.7861],\n",
              "        [1.9041],\n",
              "        [0.8212],\n",
              "        [1.2989],\n",
              "        [1.2302],\n",
              "        [1.4133],\n",
              "        [1.7589],\n",
              "        [1.4260],\n",
              "        [1.3329],\n",
              "        [1.2294],\n",
              "        [1.4536],\n",
              "        [1.3291],\n",
              "        [2.1853],\n",
              "        [1.2934],\n",
              "        [2.1009],\n",
              "        [2.1034],\n",
              "        [1.3623],\n",
              "        [0.9977],\n",
              "        [1.5641],\n",
              "        [1.3088],\n",
              "        [0.7275],\n",
              "        [0.6428],\n",
              "        [1.8626],\n",
              "        [1.3685],\n",
              "        [1.9809],\n",
              "        [1.2816],\n",
              "        [1.3181],\n",
              "        [1.4255],\n",
              "        [1.6324],\n",
              "        [1.1841],\n",
              "        [1.3102],\n",
              "        [2.1033],\n",
              "        [1.5293],\n",
              "        [1.4466],\n",
              "        [1.7493],\n",
              "        [1.0210],\n",
              "        [1.5976],\n",
              "        [0.6028],\n",
              "        [1.3445],\n",
              "        [0.8971],\n",
              "        [2.1850],\n",
              "        [1.3597],\n",
              "        [1.2759],\n",
              "        [1.6862],\n",
              "        [1.5578],\n",
              "        [1.4024],\n",
              "        [1.8445],\n",
              "        [1.9148],\n",
              "        [1.2705],\n",
              "        [1.8937],\n",
              "        [1.2967],\n",
              "        [1.2288],\n",
              "        [1.2989],\n",
              "        [0.7295],\n",
              "        [1.2851],\n",
              "        [2.0416],\n",
              "        [2.0003],\n",
              "        [0.7842],\n",
              "        [1.2989],\n",
              "        [2.2998],\n",
              "        [0.6367],\n",
              "        [2.2753],\n",
              "        [1.4896],\n",
              "        [1.8769],\n",
              "        [1.3335],\n",
              "        [1.3644],\n",
              "        [1.3009],\n",
              "        [0.8296],\n",
              "        [0.6481],\n",
              "        [1.2981],\n",
              "        [1.4077],\n",
              "        [1.2035],\n",
              "        [0.9072],\n",
              "        [1.3055],\n",
              "        [0.8925],\n",
              "        [0.6821],\n",
              "        [0.4960],\n",
              "        [1.2641],\n",
              "        [1.3027],\n",
              "        [1.2136],\n",
              "        [2.3834],\n",
              "        [2.0803],\n",
              "        [2.0435],\n",
              "        [1.7710],\n",
              "        [1.2839],\n",
              "        [1.7654],\n",
              "        [1.0830],\n",
              "        [1.5329],\n",
              "        [1.5782],\n",
              "        [1.2832],\n",
              "        [1.2642],\n",
              "        [1.3584],\n",
              "        [1.3105],\n",
              "        [1.7950],\n",
              "        [1.4024],\n",
              "        [1.7918],\n",
              "        [1.4092],\n",
              "        [0.8032],\n",
              "        [1.4133],\n",
              "        [2.0410],\n",
              "        [2.0941],\n",
              "        [1.3995],\n",
              "        [1.7421],\n",
              "        [1.2668],\n",
              "        [1.8783],\n",
              "        [2.1090],\n",
              "        [1.3345],\n",
              "        [0.7639],\n",
              "        [0.7012],\n",
              "        [1.3066],\n",
              "        [1.2263],\n",
              "        [2.0019],\n",
              "        [1.6678],\n",
              "        [1.2049],\n",
              "        [1.4020],\n",
              "        [1.3364],\n",
              "        [0.8013],\n",
              "        [1.2690],\n",
              "        [1.8310],\n",
              "        [0.5862],\n",
              "        [2.1386],\n",
              "        [1.3492],\n",
              "        [0.6807],\n",
              "        [1.2782],\n",
              "        [0.6991],\n",
              "        [0.7899],\n",
              "        [1.2840],\n",
              "        [1.2808],\n",
              "        [0.7129],\n",
              "        [2.0410],\n",
              "        [0.7091],\n",
              "        [1.2670],\n",
              "        [1.2843],\n",
              "        [1.7610],\n",
              "        [0.4960],\n",
              "        [0.6367],\n",
              "        [0.6367],\n",
              "        [1.3607],\n",
              "        [1.9345],\n",
              "        [1.9211],\n",
              "        [1.2989],\n",
              "        [1.2989],\n",
              "        [1.2115],\n",
              "        [1.3566],\n",
              "        [2.0985],\n",
              "        [1.3597],\n",
              "        [1.3388],\n",
              "        [1.6973],\n",
              "        [1.4799],\n",
              "        [0.6142],\n",
              "        [1.2386],\n",
              "        [2.1431],\n",
              "        [0.6746],\n",
              "        [1.3733],\n",
              "        [1.3592],\n",
              "        [1.2932],\n",
              "        [1.1339],\n",
              "        [0.6937],\n",
              "        [1.3210],\n",
              "        [0.6021],\n",
              "        [1.3566],\n",
              "        [1.2578],\n",
              "        [1.3297],\n",
              "        [1.3903],\n",
              "        [1.7634],\n",
              "        [1.6244],\n",
              "        [1.2527],\n",
              "        [1.3789],\n",
              "        [1.7180],\n",
              "        [2.0780],\n",
              "        [2.1865],\n",
              "        [1.3471],\n",
              "        [1.3081],\n",
              "        [1.4348],\n",
              "        [0.7565],\n",
              "        [1.7861],\n",
              "        [1.2653],\n",
              "        [1.2639],\n",
              "        [2.1034],\n",
              "        [1.1518],\n",
              "        [2.1033],\n",
              "        [1.5173],\n",
              "        [1.6614],\n",
              "        [1.1688],\n",
              "        [1.2399],\n",
              "        [1.6865],\n",
              "        [1.2990],\n",
              "        [1.3004],\n",
              "        [1.2000],\n",
              "        [2.3329],\n",
              "        [1.5491],\n",
              "        [1.8806],\n",
              "        [2.1034],\n",
              "        [0.6334],\n",
              "        [1.8550],\n",
              "        [1.7043],\n",
              "        [1.3046],\n",
              "        [0.7275],\n",
              "        [1.2833],\n",
              "        [1.2811],\n",
              "        [1.8202],\n",
              "        [1.5064],\n",
              "        [0.6991],\n",
              "        [0.8348],\n",
              "        [1.5448],\n",
              "        [1.8139],\n",
              "        [1.3099],\n",
              "        [1.3379],\n",
              "        [1.1061],\n",
              "        [1.2018],\n",
              "        [0.7275],\n",
              "        [1.2557],\n",
              "        [1.3102],\n",
              "        [1.4417],\n",
              "        [0.6939],\n",
              "        [1.6112],\n",
              "        [1.3367],\n",
              "        [1.0210],\n",
              "        [1.2311],\n",
              "        [1.4071],\n",
              "        [1.3969],\n",
              "        [1.6655],\n",
              "        [1.5480],\n",
              "        [1.3205],\n",
              "        [1.1005],\n",
              "        [1.4302],\n",
              "        [1.5101],\n",
              "        [2.0981],\n",
              "        [1.4024],\n",
              "        [1.3658],\n",
              "        [2.1034],\n",
              "        [1.4181],\n",
              "        [1.7323],\n",
              "        [0.7081],\n",
              "        [1.7861],\n",
              "        [1.2930],\n",
              "        [1.2673],\n",
              "        [1.9593],\n",
              "        [1.2865],\n",
              "        [1.2998],\n",
              "        [1.4478],\n",
              "        [1.7025],\n",
              "        [1.2764],\n",
              "        [0.5861],\n",
              "        [1.6766],\n",
              "        [1.8401],\n",
              "        [1.2638],\n",
              "        [1.3988],\n",
              "        [1.9173],\n",
              "        [1.8528],\n",
              "        [0.8678],\n",
              "        [1.7245],\n",
              "        [1.6621],\n",
              "        [1.5819],\n",
              "        [1.8545],\n",
              "        [1.2720],\n",
              "        [0.7546],\n",
              "        [1.3645],\n",
              "        [1.5395],\n",
              "        [1.3582],\n",
              "        [2.2343],\n",
              "        [1.7861],\n",
              "        [1.4739],\n",
              "        [0.6436],\n",
              "        [1.2776],\n",
              "        [1.8550],\n",
              "        [0.6424],\n",
              "        [0.6823],\n",
              "        [1.1165],\n",
              "        [1.2794],\n",
              "        [1.3081],\n",
              "        [1.3807],\n",
              "        [1.3102],\n",
              "        [1.4881],\n",
              "        [1.1715],\n",
              "        [1.4359],\n",
              "        [1.1511],\n",
              "        [1.6727],\n",
              "        [1.2872],\n",
              "        [1.2705],\n",
              "        [1.2989],\n",
              "        [2.0312],\n",
              "        [0.7757],\n",
              "        [1.3500],\n",
              "        [1.2396],\n",
              "        [0.6542],\n",
              "        [1.2990],\n",
              "        [2.9623],\n",
              "        [0.6594],\n",
              "        [1.1208],\n",
              "        [1.6243],\n",
              "        [1.7144],\n",
              "        [2.1488]])"
            ]
          },
          "metadata": {},
          "execution_count": 29
        }
      ],
      "source": [
        "#make predictions\n",
        "\n",
        "t_preds = ((t_indep*coeffs)+0.001).sum(axis=1)\n",
        "t_preds.view(-1,1)"
      ]
    },
    {
      "cell_type": "code",
      "execution_count": 30,
      "metadata": {
        "colab": {
          "base_uri": "https://localhost:8080/"
        },
        "id": "8DFPVjq6cRt9",
        "outputId": "034e67bf-79b8-4aa1-bb32-331321f009ad"
      },
      "outputs": [
        {
          "output_type": "execute_result",
          "data": {
            "text/plain": [
              "tensor([1.3079, 1.7917, 1.2482, 1.2671, 1.3623, 2.1077, 1.4113, 1.4517, 1.5779, 1.0837])"
            ]
          },
          "metadata": {},
          "execution_count": 30
        }
      ],
      "source": [
        "t_preds[:10]"
      ]
    },
    {
      "cell_type": "code",
      "execution_count": 31,
      "metadata": {
        "id": "ibICSSWZcRt-"
      },
      "outputs": [],
      "source": [
        "#Since these predictions are meaningless as the weights or coefficients are randomly \n",
        "#initialized\n",
        "\n",
        "\n",
        "#next we will calculate gradient descent and define a loss function\n",
        "\n",
        "loss = np.abs(t_preds-deps).mean()"
      ]
    },
    {
      "cell_type": "code",
      "execution_count": 32,
      "metadata": {
        "colab": {
          "base_uri": "https://localhost:8080/"
        },
        "id": "WdP0WD8fcRt-",
        "outputId": "4cd17c58-f01c-40b5-a609-1e79429b786d"
      },
      "outputs": [
        {
          "output_type": "execute_result",
          "data": {
            "text/plain": [
              "tensor(1.0620)"
            ]
          },
          "metadata": {},
          "execution_count": 32
        }
      ],
      "source": [
        "loss"
      ]
    },
    {
      "cell_type": "code",
      "execution_count": 33,
      "metadata": {
        "id": "H5IgXofvcRt-"
      },
      "outputs": [],
      "source": [
        "#Next we will have to calculate the gradients and then modify the weights to minimize the loss\n",
        "\n",
        "#But first lets define the loss and predict function for our convenience\n",
        "\n",
        "def calc_preds(coeffs, t_indep):\n",
        "    return ((t_indep*coeffs)+0.01).sum(axis=1)\n",
        "\n",
        "def calc_loss(coeffs, t_indep, deps):\n",
        "    return torch.abs(calc_preds(coeffs,t_indep)-deps).mean()\n"
      ]
    },
    {
      "cell_type": "markdown",
      "metadata": {
        "id": "60ku8cf1cRt-"
      },
      "source": [
        "Doing a gradient descent step"
      ]
    },
    {
      "cell_type": "code",
      "execution_count": 34,
      "metadata": {
        "colab": {
          "base_uri": "https://localhost:8080/"
        },
        "id": "B5-Gp3gfcRt-",
        "outputId": "daec9f65-710a-4e47-dd43-b2735384ef2e"
      },
      "outputs": [
        {
          "output_type": "execute_result",
          "data": {
            "text/plain": [
              "tensor([0.4540, 0.1965, 0.9210, 0.3462, 0.1481, 0.0858, 0.5909, 0.0659, 0.7476, 0.6253, 0.9392, 0.1338], requires_grad=True)"
            ]
          },
          "metadata": {},
          "execution_count": 34
        }
      ],
      "source": [
        "coeffs.requires_grad_()"
      ]
    },
    {
      "cell_type": "code",
      "execution_count": 35,
      "metadata": {
        "colab": {
          "base_uri": "https://localhost:8080/"
        },
        "id": "2vPiXkKUcRt_",
        "outputId": "739532d3-cd3a-4383-bf10-02bead50c6b3"
      },
      "outputs": [
        {
          "output_type": "execute_result",
          "data": {
            "text/plain": [
              "tensor(1.1531, grad_fn=<MeanBackward0>)"
            ]
          },
          "metadata": {},
          "execution_count": 35
        }
      ],
      "source": [
        "loss = calc_loss(coeffs,t_indep,deps)\n",
        "loss"
      ]
    },
    {
      "cell_type": "code",
      "execution_count": 36,
      "metadata": {
        "id": "5tFRKHSOcRt_"
      },
      "outputs": [],
      "source": [
        "#calculate the gradient\n",
        "loss.backward()"
      ]
    },
    {
      "cell_type": "code",
      "execution_count": 37,
      "metadata": {
        "colab": {
          "base_uri": "https://localhost:8080/"
        },
        "id": "qWNX9aBZcRt_",
        "outputId": "552dbd52-0cdc-437a-a701-2026f7862075"
      },
      "outputs": [
        {
          "output_type": "execute_result",
          "data": {
            "text/plain": [
              "tensor([0.3106, 0.0570, 0.0520, 0.4038, 0.6139, 0.2379, 0.2424, 0.0584, 0.5511, 0.1886, 0.0864, 0.5769])"
            ]
          },
          "metadata": {},
          "execution_count": 37
        }
      ],
      "source": [
        "coeffs.grad"
      ]
    },
    {
      "cell_type": "code",
      "execution_count": 38,
      "metadata": {
        "colab": {
          "base_uri": "https://localhost:8080/"
        },
        "id": "YKI-8w5-cRt_",
        "outputId": "0cd43d99-366a-4b0f-92b6-858bac0bebbc"
      },
      "outputs": [
        {
          "output_type": "execute_result",
          "data": {
            "text/plain": [
              "tensor([0.6211, 0.1139, 0.1040, 0.8077, 1.2278, 0.4759, 0.4848, 0.1167, 1.1021, 0.3771, 0.1728, 1.1538])"
            ]
          },
          "metadata": {},
          "execution_count": 38
        }
      ],
      "source": [
        "loss = calc_loss(coeffs, t_indep, t_dep)\n",
        "loss.backward()\n",
        "coeffs.grad"
      ]
    },
    {
      "cell_type": "code",
      "execution_count": 39,
      "metadata": {
        "id": "H1uUcPEncRuA"
      },
      "outputs": [],
      "source": [
        "#Running backward everytime modifies the grad values as usual, second time the grad is calculated it calculated the slope of the grad function itself which is unnecessary\n"
      ]
    },
    {
      "cell_type": "code",
      "execution_count": 40,
      "metadata": {
        "colab": {
          "base_uri": "https://localhost:8080/"
        },
        "id": "00DZgKyQcRuA",
        "outputId": "1f956b30-fd40-4dd0-fce0-acea1d799442"
      },
      "outputs": [
        {
          "output_type": "stream",
          "name": "stdout",
          "text": [
            "tensor(0.7547)\n"
          ]
        }
      ],
      "source": [
        "#Lets do one gradient descent step and check that our loss decreases\n",
        "\n",
        "loss = calc_loss(coeffs, t_indep, deps)\n",
        "loss.backward()\n",
        "with torch.no_grad():\n",
        "    coeffs.sub_(coeffs.grad*0.1)\n",
        "    coeffs.grad.zero_()\n",
        "    print(calc_loss(coeffs, t_indep, t_dep))"
      ]
    },
    {
      "cell_type": "code",
      "source": [
        "!pip install fastai\n",
        "!pip install fastbook\n",
        "#fastbook.setup()"
      ],
      "metadata": {
        "id": "Eo08CZ0Aeq3v"
      },
      "execution_count": null,
      "outputs": []
    },
    {
      "cell_type": "code",
      "source": [
        "import fastai"
      ],
      "metadata": {
        "id": "n0Qvg6KEfbPF"
      },
      "execution_count": 44,
      "outputs": []
    },
    {
      "cell_type": "code",
      "source": [
        "fastai.data.transform"
      ],
      "metadata": {
        "id": "gOrWcv7sf37e"
      },
      "execution_count": null,
      "outputs": []
    },
    {
      "cell_type": "code",
      "source": [
        "#lets split the data into training and test\n",
        "\n",
        "from fastai.data.transforms import RandomSplitter"
      ],
      "metadata": {
        "id": "LFIEe2PzeTPV"
      },
      "execution_count": 47,
      "outputs": []
    },
    {
      "cell_type": "code",
      "source": [
        "trn_split, val_split = RandomSplitter(seed=42)(df)\n"
      ],
      "metadata": {
        "id": "4L1Vcz7qeoLq"
      },
      "execution_count": 48,
      "outputs": []
    },
    {
      "cell_type": "code",
      "source": [
        "trn_indep,val_indep = t_indep[trn_split], t_indep[val_split]\n",
        "trn_dep, val_dep = deps[trn_split], deps[val_split]"
      ],
      "metadata": {
        "id": "twLWIiG9gNoR"
      },
      "execution_count": 78,
      "outputs": []
    },
    {
      "cell_type": "code",
      "source": [
        "trn_indep.shape, trn_dep.shape"
      ],
      "metadata": {
        "colab": {
          "base_uri": "https://localhost:8080/"
        },
        "id": "RB-n8dHGgmpS",
        "outputId": "46d056eb-3be9-4f97-b8a6-262bd7e8aaf3"
      },
      "execution_count": 52,
      "outputs": [
        {
          "output_type": "execute_result",
          "data": {
            "text/plain": [
              "(torch.Size([713, 12]), torch.Size([713]))"
            ]
          },
          "metadata": {},
          "execution_count": 52
        }
      ]
    },
    {
      "cell_type": "code",
      "source": [
        "#Create functions for the three things we did manually above\n",
        "\n",
        "def update_coeffs(coeffs, lr):\n",
        "  coeffs.sub_(coeffs.grad*lr)\n",
        "  coeffs.grad.zero_()"
      ],
      "metadata": {
        "id": "Z4ZLxk1OhEqK"
      },
      "execution_count": 58,
      "outputs": []
    },
    {
      "cell_type": "code",
      "source": [
        "def one_epoch(coeffs, lr):\n",
        "  loss = calc_loss(coeffs, trn_indep, trn_dep)\n",
        "  loss.backward()\n",
        "  with torch.no_grad():\n",
        "    update_coeffs(coeffs, lr)\n",
        "  print(f\"{loss:.3f}\", end=\";\")"
      ],
      "metadata": {
        "id": "sfqr_KL5h6re"
      },
      "execution_count": 64,
      "outputs": []
    },
    {
      "cell_type": "code",
      "source": [
        "def init_coeffs():\n",
        "  return (torch.rand(n_coeff)).requires_grad_()"
      ],
      "metadata": {
        "id": "gxPYnRmaicRx"
      },
      "execution_count": 113,
      "outputs": []
    },
    {
      "cell_type": "code",
      "source": [],
      "metadata": {
        "id": "wIonmKn-jEsb"
      },
      "execution_count": 113,
      "outputs": []
    },
    {
      "cell_type": "code",
      "source": [
        "#We can now use these functions to train our model\n",
        "\n",
        "def train_model(epochs=30, lr=0.01):\n",
        "  torch.manual_seed(43)\n",
        "  coeffs = init_coeffs()\n",
        "  for i in range(epochs):\n",
        "    one_epoch(coeffs, lr=lr)\n",
        "  return coeffs"
      ],
      "metadata": {
        "id": "cXonyHtFi3sJ"
      },
      "execution_count": 114,
      "outputs": []
    },
    {
      "cell_type": "code",
      "source": [
        "coeffs = train_model(18,lr=0.2)\n",
        "\n",
        "#This function returns the coefficients but prints the loss simultaneously"
      ],
      "metadata": {
        "colab": {
          "base_uri": "https://localhost:8080/"
        },
        "id": "KuWX3ciSjV-3",
        "outputId": "04077255-8048-46b2-9d16-cf2db8aaf51d"
      },
      "execution_count": 115,
      "outputs": [
        {
          "output_type": "stream",
          "name": "stdout",
          "text": [
            "1.154;0.866;0.663;0.545;0.465;0.412;0.396;0.389;0.378;0.380;0.349;0.346;0.345;0.358;0.328;0.323;0.318;0.313;"
          ]
        }
      ]
    },
    {
      "cell_type": "code",
      "source": [
        "coeffs"
      ],
      "metadata": {
        "colab": {
          "base_uri": "https://localhost:8080/"
        },
        "id": "oMzaxIDYjaAd",
        "outputId": "a338ea83-1b6b-4acd-97e7-ebbb68d7699d"
      },
      "execution_count": 116,
      "outputs": [
        {
          "output_type": "execute_result",
          "data": {
            "text/plain": [
              "tensor([ 0.1567,  0.1015,  0.8466,  0.0482, -0.4539,  0.0499,  0.4153,  0.2241,  0.1271,  0.2870,  0.6688,  0.1046], requires_grad=True)"
            ]
          },
          "metadata": {},
          "execution_count": 116
        }
      ]
    },
    {
      "cell_type": "code",
      "source": [
        "def show_coeffs():\n",
        "  return dict(zip(indep_cols, coeffs.requires_grad_(False)))\n",
        "show_coeffs()"
      ],
      "metadata": {
        "colab": {
          "base_uri": "https://localhost:8080/"
        },
        "id": "OHl-7-yzlTE3",
        "outputId": "56f6160b-d4b1-4818-dbbd-0ac3d05d44d1"
      },
      "execution_count": 117,
      "outputs": [
        {
          "output_type": "execute_result",
          "data": {
            "text/plain": [
              "{'Age': tensor(0.1567),\n",
              " 'SibSp': tensor(0.1015),\n",
              " 'Parch': tensor(0.8466),\n",
              " 'LogFare': tensor(0.0482),\n",
              " 'Sex_male': tensor(-0.4539),\n",
              " 'Sex_female': tensor(0.0499),\n",
              " 'Pclass_1': tensor(0.4153),\n",
              " 'Pclass_2': tensor(0.2241),\n",
              " 'Pclass_3': tensor(0.1271),\n",
              " 'Embarked_C': tensor(0.2870),\n",
              " 'Embarked_Q': tensor(0.6688),\n",
              " 'Embarked_S': tensor(0.1046)}"
            ]
          },
          "metadata": {},
          "execution_count": 117
        }
      ]
    },
    {
      "cell_type": "markdown",
      "source": [
        "Measuring Accuracy"
      ],
      "metadata": {
        "id": "PGAx6DCkmJgJ"
      }
    },
    {
      "cell_type": "code",
      "source": [
        "val_indep.shape"
      ],
      "metadata": {
        "colab": {
          "base_uri": "https://localhost:8080/"
        },
        "id": "bAiu5G5dmhrH",
        "outputId": "52173ef7-16a3-4b75-c606-8f8b095f0e87"
      },
      "execution_count": 118,
      "outputs": [
        {
          "output_type": "execute_result",
          "data": {
            "text/plain": [
              "torch.Size([178, 12])"
            ]
          },
          "metadata": {},
          "execution_count": 118
        }
      ]
    },
    {
      "cell_type": "code",
      "source": [
        "preds = calc_preds(coeffs, val_indep)"
      ],
      "metadata": {
        "id": "O9M4vI1kmCL9"
      },
      "execution_count": 119,
      "outputs": []
    },
    {
      "cell_type": "code",
      "source": [
        "results = val_dep.bool()==(preds>0.5)\n",
        "results[:16]"
      ],
      "metadata": {
        "colab": {
          "base_uri": "https://localhost:8080/"
        },
        "id": "J1SrRdWumZQJ",
        "outputId": "53913e88-132f-40a5-ae4e-448c2059dfab"
      },
      "execution_count": 120,
      "outputs": [
        {
          "output_type": "execute_result",
          "data": {
            "text/plain": [
              "tensor([ True, False,  True,  True,  True,  True,  True,  True,  True,  True, False, False, False,  True,  True, False])"
            ]
          },
          "metadata": {},
          "execution_count": 120
        }
      ]
    },
    {
      "cell_type": "code",
      "source": [
        "#Lets see what our average accuracy is \n",
        "\n",
        "results.float().mean()"
      ],
      "metadata": {
        "colab": {
          "base_uri": "https://localhost:8080/"
        },
        "id": "uxvd-ckMnNBr",
        "outputId": "53e6230d-0b3d-409b-bfe7-578d00fc8bdc"
      },
      "execution_count": 121,
      "outputs": [
        {
          "output_type": "execute_result",
          "data": {
            "text/plain": [
              "tensor(0.7472)"
            ]
          },
          "metadata": {},
          "execution_count": 121
        }
      ]
    },
    {
      "cell_type": "code",
      "source": [
        "#We will create a function so we can calculate teh accuarcy easy for other models\n",
        "#  we train"
      ],
      "metadata": {
        "id": "fD44zBE3nTcX"
      },
      "execution_count": 122,
      "outputs": []
    },
    {
      "cell_type": "code",
      "source": [
        "def acc(coeffs):\n",
        "  return (val_dep.bool()==(calc_preds(coeffs, val_indep)>0.5)).float().mean()\n",
        "acc(coeffs)"
      ],
      "metadata": {
        "colab": {
          "base_uri": "https://localhost:8080/"
        },
        "id": "ORPBUAspnfQc",
        "outputId": "15b64eba-d1d5-46ef-99eb-608116bbbae1"
      },
      "execution_count": 123,
      "outputs": [
        {
          "output_type": "execute_result",
          "data": {
            "text/plain": [
              "tensor(0.7472)"
            ]
          },
          "metadata": {},
          "execution_count": 123
        }
      ]
    },
    {
      "cell_type": "markdown",
      "source": [
        "## Using sigmoid"
      ],
      "metadata": {
        "id": "QwuJRa_LoAZV"
      }
    },
    {
      "cell_type": "code",
      "source": [
        "!pip install sympy"
      ],
      "metadata": {
        "id": "wWr74Hrcn-65"
      },
      "execution_count": 124,
      "outputs": []
    },
    {
      "cell_type": "code",
      "source": [
        "import sympy\n",
        "sympy.plot(\"1/(1+exp(-x))\", xlim=(-5,5))"
      ],
      "metadata": {
        "id": "zjPGZow9oRMl"
      },
      "execution_count": null,
      "outputs": []
    },
    {
      "cell_type": "code",
      "source": [
        "def calc_pred(coeffs, indeps):\n",
        "  return torch.sigmoid(((indeps*coeffs))).sum(axis=1)"
      ],
      "metadata": {
        "id": "XEE5k70Hoat_"
      },
      "execution_count": 172,
      "outputs": []
    },
    {
      "cell_type": "code",
      "source": [
        "coeffs = train_model(epochs=500,lr=0.51)"
      ],
      "metadata": {
        "colab": {
          "base_uri": "https://localhost:8080/"
        },
        "id": "BSkynkbQpY0b",
        "outputId": "4b5e5e32-c53c-4ba3-92fe-2aad178cdba9"
      },
      "execution_count": 173,
      "outputs": [
        {
          "output_type": "stream",
          "name": "stdout",
          "text": [
            "1.154;0.560;0.441;0.446;0.439;0.428;0.389;0.408;0.402;0.414;0.415;0.447;0.411;0.402;0.374;0.323;0.438;0.471;0.401;0.471;0.372;0.406;0.382;0.464;0.368;0.333;0.395;0.502;0.381;0.477;0.358;0.403;0.376;0.496;0.344;0.349;0.363;0.530;0.375;0.469;0.356;0.432;0.346;0.418;0.341;0.489;0.342;0.446;0.375;0.493;0.331;0.358;0.341;0.512;0.387;0.494;0.333;0.381;0.319;0.482;0.415;0.482;0.338;0.397;0.299;0.388;0.427;0.500;0.388;0.481;0.328;0.362;0.326;0.495;0.401;0.492;0.331;0.382;0.310;0.441;0.447;0.462;0.339;0.420;0.328;0.438;0.367;0.514;0.331;0.388;0.294;0.424;0.471;0.454;0.327;0.402;0.353;0.503;0.346;0.435;0.317;0.379;0.360;0.547;0.340;0.415;0.300;0.380;0.419;0.503;0.369;0.478;0.320;0.369;0.302;0.455;0.442;0.470;0.335;0.418;0.325;0.438;0.368;0.493;0.338;0.406;0.288;0.377;0.452;0.480;0.372;0.480;0.320;0.378;0.301;0.465;0.425;0.485;0.335;0.409;0.311;0.406;0.387;0.517;0.346;0.416;0.290;0.374;0.410;0.512;0.360;0.476;0.319;0.383;0.303;0.459;0.424;0.487;0.330;0.406;0.306;0.428;0.408;0.499;0.334;0.397;0.296;0.386;0.439;0.484;0.363;0.475;0.314;0.374;0.317;0.497;0.384;0.485;0.330;0.394;0.302;0.429;0.428;0.488;0.339;0.414;0.310;0.404;0.376;0.507;0.354;0.461;0.292;0.330;0.364;0.533;0.356;0.470;0.350;0.461;0.317;0.385;0.319;0.498;0.376;0.481;0.321;0.388;0.303;0.469;0.408;0.487;0.327;0.389;0.302;0.451;0.425;0.482;0.324;0.388;0.308;0.470;0.398;0.485;0.321;0.384;0.309;0.476;0.398;0.484;0.321;0.387;0.308;0.472;0.400;0.482;0.322;0.386;0.309;0.472;0.399;0.483;0.320;0.383;0.311;0.477;0.395;0.483;0.321;0.390;0.313;0.479;0.387;0.480;0.318;0.386;0.311;0.480;0.391;0.483;0.324;0.399;0.310;0.454;0.384;0.489;0.323;0.396;0.306;0.444;0.405;0.488;0.329;0.406;0.308;0.414;0.397;0.502;0.350;0.426;0.296;0.378;0.370;0.515;0.355;0.461;0.316;0.389;0.320;0.494;0.376;0.479;0.315;0.385;0.318;0.483;0.385;0.485;0.322;0.388;0.306;0.468;0.402;0.482;0.325;0.400;0.307;0.448;0.389;0.493;0.327;0.401;0.301;0.416;0.410;0.497;0.341;0.417;0.306;0.395;0.385;0.509;0.349;0.452;0.297;0.372;0.334;0.521;0.358;0.473;0.327;0.409;0.312;0.457;0.379;0.489;0.322;0.388;0.302;0.468;0.403;0.481;0.327;0.401;0.308;0.447;0.401;0.481;0.317;0.383;0.310;0.476;0.393;0.483;0.323;0.394;0.310;0.460;0.401;0.480;0.316;0.383;0.309;0.469;0.398;0.483;0.321;0.386;0.314;0.474;0.394;0.478;0.317;0.388;0.320;0.479;0.383;0.481;0.318;0.385;0.314;0.476;0.392;0.482;0.319;0.389;0.313;0.470;0.392;0.481;0.321;0.392;0.315;0.466;0.394;0.478;0.318;0.383;0.310;0.472;0.395;0.481;0.321;0.393;0.315;0.467;0.392;0.479;0.317;0.384;0.308;0.467;0.401;0.481;0.321;0.393;0.315;0.464;0.396;0.477;0.316;0.384;0.310;0.473;0.393;0.481;0.320;0.394;0.315;0.466;0.394;0.479;0.317;0.384;0.309;0.472;0.395;0.479;0.321;0.392;0.316;0.467;0.393;0.479;0.317;0.383;0.309;0.473;0.394;0.480;0.320;0.394;0.314;0.461;0.397;0.476;0.317;0.392;0.316;0.467;0.394;0.479;0.317;0.383;0.310;0.471;0.396;0.480;0.321;0.393;0.316;0.467;0.393;0.479;0.316;0.384;0.310;0.471;0.395;0.481;0.320;0.394;0.315;0.464;0.393;0.480;0.317;0.383;0.309;0.472;0.395;0.479;0.321;0.392;0.316;0.467;0.393;0.480;0.317;0.384;"
          ]
        }
      ]
    },
    {
      "cell_type": "code",
      "source": [
        "acc(coeffs)"
      ],
      "metadata": {
        "colab": {
          "base_uri": "https://localhost:8080/"
        },
        "id": "hArcO5HvpvMK",
        "outputId": "a028564d-38b9-4870-c322-633d3cfba41d"
      },
      "execution_count": 174,
      "outputs": [
        {
          "output_type": "execute_result",
          "data": {
            "text/plain": [
              "tensor(0.8371)"
            ]
          },
          "metadata": {},
          "execution_count": 174
        }
      ]
    },
    {
      "cell_type": "code",
      "source": [
        "#That has improed\n",
        "\n",
        "show_coeffs()"
      ],
      "metadata": {
        "colab": {
          "base_uri": "https://localhost:8080/"
        },
        "id": "YLVvaZ_9pyRV",
        "outputId": "d37541a6-953f-44d6-c13b-ce539016f044"
      },
      "execution_count": 177,
      "outputs": [
        {
          "output_type": "execute_result",
          "data": {
            "text/plain": [
              "{'Age': tensor(-0.4865),\n",
              " 'SibSp': tensor(-0.4923),\n",
              " 'Parch': tensor(-0.1655),\n",
              " 'LogFare': tensor(0.2359),\n",
              " 'Sex_male': tensor(-0.5600),\n",
              " 'Sex_female': tensor(0.1116),\n",
              " 'Pclass_1': tensor(0.3420),\n",
              " 'Pclass_2': tensor(0.2734),\n",
              " 'Pclass_3': tensor(0.1067),\n",
              " 'Embarked_C': tensor(0.3721),\n",
              " 'Embarked_Q': tensor(0.3713),\n",
              " 'Embarked_S': tensor(0.2726)}"
            ]
          },
          "metadata": {},
          "execution_count": 177
        }
      ]
    },
    {
      "cell_type": "code",
      "source": [
        "tst_df = pd.read_csv('test.csv')\n",
        "tst_df.isna().sum()"
      ],
      "metadata": {
        "colab": {
          "base_uri": "https://localhost:8080/"
        },
        "id": "Q_F1FgJXr3Vb",
        "outputId": "f5a2f47e-d778-4816-bcf8-1fb4025cd473"
      },
      "execution_count": 179,
      "outputs": [
        {
          "output_type": "execute_result",
          "data": {
            "text/plain": [
              "PassengerId      0\n",
              "Pclass           0\n",
              "Name             0\n",
              "Sex              0\n",
              "Age             86\n",
              "SibSp            0\n",
              "Parch            0\n",
              "Ticket           0\n",
              "Fare             1\n",
              "Cabin          327\n",
              "Embarked         0\n",
              "dtype: int64"
            ]
          },
          "metadata": {},
          "execution_count": 179
        }
      ]
    },
    {
      "cell_type": "code",
      "source": [
        "tst_df['Fare'] = tst_df.Fare.fillna(0)"
      ],
      "metadata": {
        "id": "l4R0wxKUt0i6"
      },
      "execution_count": 180,
      "outputs": []
    },
    {
      "cell_type": "code",
      "source": [
        "tst_df.fillna(modes, inplace=True)\n",
        "tst_df['LogFare'] = np.log(tst_df['Fare']+1)\n",
        "tst_df = pd.get_dummies(tst_df, columns = [\"Sex\",\"Pclass\",\"Embarked\"])\n",
        "\n",
        "tst_indep = tensor(tst_df[indep_cols].values, dtype=torch.float)\n",
        "tst_indep = tst_indep/vals"
      ],
      "metadata": {
        "id": "0A4RSOMZuIUJ"
      },
      "execution_count": 181,
      "outputs": []
    },
    {
      "cell_type": "code",
      "source": [
        "tst_indep"
      ],
      "metadata": {
        "colab": {
          "base_uri": "https://localhost:8080/"
        },
        "id": "1zrSWnZBumTM",
        "outputId": "cfc53555-292e-4eab-a35c-42132b8d440f"
      },
      "execution_count": 182,
      "outputs": [
        {
          "output_type": "execute_result",
          "data": {
            "text/plain": [
              "tensor([[0.4313, 0.0000, 0.0000, 0.3490, 1.0000, 0.0000, 0.0000, 0.0000, 1.0000, 0.0000, 1.0000, 0.0000],\n",
              "        [0.5875, 0.1250, 0.0000, 0.3332, 0.0000, 1.0000, 0.0000, 0.0000, 1.0000, 0.0000, 0.0000, 1.0000],\n",
              "        [0.7750, 0.0000, 0.0000, 0.3796, 1.0000, 0.0000, 0.0000, 1.0000, 0.0000, 0.0000, 1.0000, 0.0000],\n",
              "        [0.3375, 0.0000, 0.0000, 0.3634, 1.0000, 0.0000, 0.0000, 0.0000, 1.0000, 0.0000, 0.0000, 1.0000],\n",
              "        [0.2750, 0.1250, 0.1667, 0.4145, 0.0000, 1.0000, 0.0000, 0.0000, 1.0000, 0.0000, 0.0000, 1.0000],\n",
              "        [0.1750, 0.0000, 0.0000, 0.3725, 1.0000, 0.0000, 0.0000, 0.0000, 1.0000, 0.0000, 0.0000, 1.0000],\n",
              "        [0.3750, 0.0000, 0.0000, 0.3453, 0.0000, 1.0000, 0.0000, 0.0000, 1.0000, 0.0000, 1.0000, 0.0000],\n",
              "        ...,\n",
              "        [0.4625, 0.1250, 0.0000, 0.7228, 0.0000, 1.0000, 1.0000, 0.0000, 0.0000, 0.0000, 1.0000, 0.0000],\n",
              "        [0.3500, 0.0000, 0.0000, 0.3480, 0.0000, 1.0000, 0.0000, 0.0000, 1.0000, 0.0000, 0.0000, 1.0000],\n",
              "        [0.3000, 0.0000, 0.0000, 0.3530, 1.0000, 0.0000, 0.0000, 0.0000, 1.0000, 0.0000, 0.0000, 1.0000],\n",
              "        [0.4875, 0.0000, 0.0000, 0.7530, 0.0000, 1.0000, 1.0000, 0.0000, 0.0000, 1.0000, 0.0000, 0.0000],\n",
              "        [0.4812, 0.0000, 0.0000, 0.3381, 1.0000, 0.0000, 0.0000, 0.0000, 1.0000, 0.0000, 0.0000, 1.0000],\n",
              "        [0.3000, 0.0000, 0.0000, 0.3530, 1.0000, 0.0000, 0.0000, 0.0000, 1.0000, 0.0000, 0.0000, 1.0000],\n",
              "        [0.3000, 0.1250, 0.1667, 0.5049, 1.0000, 0.0000, 0.0000, 0.0000, 1.0000, 1.0000, 0.0000, 0.0000]])"
            ]
          },
          "metadata": {},
          "execution_count": 182
        }
      ]
    },
    {
      "cell_type": "code",
      "source": [
        "#Lets calculate the predictions of which passengers survived in the test set\n",
        "\n"
      ],
      "metadata": {
        "id": "YXaZLjiGuny1"
      },
      "execution_count": 183,
      "outputs": []
    },
    {
      "cell_type": "code",
      "source": [
        "tst_df['Survived'] = (calc_preds(tst_indep, coeffs)>0.5).int()"
      ],
      "metadata": {
        "id": "CXpqaA79u2Pt"
      },
      "execution_count": 184,
      "outputs": []
    },
    {
      "cell_type": "markdown",
      "source": [
        "Submit to Kaggle"
      ],
      "metadata": {
        "id": "Kk0bXbN6vB0k"
      }
    },
    {
      "cell_type": "code",
      "source": [
        "sub_df = tst_df[['PassengerId','Survived']]\n",
        "sub_df.to_csv('sub.csv', index=False)"
      ],
      "metadata": {
        "id": "3AQ2nZx0u-d0"
      },
      "execution_count": 185,
      "outputs": []
    },
    {
      "cell_type": "code",
      "source": [
        "!head sub.csv"
      ],
      "metadata": {
        "colab": {
          "base_uri": "https://localhost:8080/"
        },
        "id": "MC550lN6vOXT",
        "outputId": "8aa68c8b-cf45-4e56-a5c7-823db71dd95c"
      },
      "execution_count": 186,
      "outputs": [
        {
          "output_type": "stream",
          "name": "stdout",
          "text": [
            "PassengerId,Survived\n",
            "892,0\n",
            "893,0\n",
            "894,0\n",
            "895,0\n",
            "896,0\n",
            "897,0\n",
            "898,1\n",
            "899,0\n",
            "900,1\n"
          ]
        }
      ]
    },
    {
      "cell_type": "markdown",
      "source": [
        "Doing calculations in a more neater way"
      ],
      "metadata": {
        "id": "hFulTrcty1CR"
      }
    },
    {
      "cell_type": "code",
      "source": [
        "#till now we were doing\n",
        "\n",
        "(val_indep*coeffs).sum(axis=1)"
      ],
      "metadata": {
        "colab": {
          "base_uri": "https://localhost:8080/"
        },
        "id": "LncuKe8QvQm2",
        "outputId": "a5963e62-9973-4ed6-b0aa-4f5ef63a9ec0"
      },
      "execution_count": 188,
      "outputs": [
        {
          "output_type": "execute_result",
          "data": {
            "text/plain": [
              "tensor([ 0.7082, -0.1461, -0.1475,  0.0393, -0.0664, -0.1656,  0.6393,  0.5870, -0.4035,  0.4744, -0.2927, -0.2109, -0.1999,  0.5261,\n",
              "        -0.3114, -0.0938, -0.2154,  0.6024, -0.1267,  0.3881, -0.2441, -0.1607,  0.6777,  0.4072, -0.2236, -0.1677,  0.4899, -0.1972,\n",
              "        -0.1984,  0.5256,  0.5926,  0.1769, -0.2137, -0.2830,  0.6717,  0.3086, -0.0969,  0.8405, -0.2435,  0.3600, -0.0374, -0.2435,\n",
              "        -0.1667,  0.7954, -0.2192,  0.2437, -0.1858, -0.2899, -0.1497,  0.4368, -0.0669, -0.4522, -0.4054, -0.2540, -0.0799, -0.1164,\n",
              "        -0.1461, -0.3552, -0.2252, -0.2468,  0.0986, -0.2669, -0.3022, -0.2258,  0.4529,  0.0640, -0.0603, -0.2961, -0.3085,  0.4849,\n",
              "        -0.2563,  0.4946, -0.1103, -0.2379,  0.0330, -0.1960, -0.2435, -0.0676, -0.0299, -0.1951, -0.0315,  0.7304, -0.2381, -0.2470,\n",
              "         0.4458, -0.0415,  0.1607,  0.7056,  0.6469, -0.0542, -0.2909, -0.2435,  0.8200, -0.1840,  0.5489, -0.0341, -0.1693,  0.4410,\n",
              "         0.5377, -0.1202, -0.2970,  0.5256, -0.2928, -0.2806, -0.0421, -0.1698, -0.2744,  0.4645,  0.1114, -0.3399,  0.5262,  0.3521,\n",
              "         0.0384,  0.7331, -0.2435,  0.5631,  0.1894, -0.1461, -0.3547,  0.7025, -0.4118, -0.1342, -0.1461,  0.2905, -0.1475,  0.0080,\n",
              "         0.4209,  0.4151, -0.1892, -0.2187,  0.7978, -0.2810,  0.5016,  0.5596,  0.8069, -0.2131, -0.2718, -0.2683, -0.0439,  0.5615,\n",
              "        -0.0968,  0.6132, -0.3760, -0.1947,  0.2565,  0.4466, -0.3261,  0.5084,  0.7411,  0.3926,  0.3696,  0.4704,  0.6221, -0.2758,\n",
              "        -0.2306, -0.7134, -0.2435,  0.3977, -0.1211, -0.2232,  0.8280, -0.0256, -0.2733, -0.0998,  0.6949,  0.6396,  0.5461,  0.5018,\n",
              "        -0.2958, -0.1495,  0.3660, -0.1927,  0.6901, -0.2379, -0.3656,  0.6137,  0.0390, -0.2178])"
            ]
          },
          "metadata": {},
          "execution_count": 188
        }
      ]
    },
    {
      "cell_type": "code",
      "source": [
        "#using torch we can do it more simply\n",
        "\n",
        "val_indep@coeffs"
      ],
      "metadata": {
        "colab": {
          "base_uri": "https://localhost:8080/"
        },
        "id": "vkCz8Tu1y_lZ",
        "outputId": "714bdf52-4861-4c55-f6c1-aa0d19ddb3ee"
      },
      "execution_count": 190,
      "outputs": [
        {
          "output_type": "execute_result",
          "data": {
            "text/plain": [
              "tensor([ 0.7082, -0.1461, -0.1475,  0.0393, -0.0664, -0.1656,  0.6393,  0.5870, -0.4035,  0.4744, -0.2927, -0.2109, -0.1999,  0.5261,\n",
              "        -0.3114, -0.0938, -0.2154,  0.6024, -0.1267,  0.3881, -0.2441, -0.1607,  0.6777,  0.4072, -0.2236, -0.1677,  0.4899, -0.1972,\n",
              "        -0.1984,  0.5256,  0.5926,  0.1769, -0.2137, -0.2830,  0.6717,  0.3086, -0.0969,  0.8405, -0.2435,  0.3600, -0.0374, -0.2435,\n",
              "        -0.1667,  0.7954, -0.2192,  0.2437, -0.1858, -0.2899, -0.1497,  0.4368, -0.0669, -0.4522, -0.4054, -0.2540, -0.0799, -0.1164,\n",
              "        -0.1461, -0.3552, -0.2252, -0.2468,  0.0986, -0.2669, -0.3022, -0.2258,  0.4529,  0.0640, -0.0603, -0.2961, -0.3085,  0.4849,\n",
              "        -0.2563,  0.4946, -0.1103, -0.2379,  0.0330, -0.1960, -0.2435, -0.0676, -0.0299, -0.1951, -0.0315,  0.7304, -0.2381, -0.2470,\n",
              "         0.4458, -0.0415,  0.1607,  0.7056,  0.6469, -0.0542, -0.2909, -0.2435,  0.8200, -0.1840,  0.5489, -0.0341, -0.1693,  0.4410,\n",
              "         0.5377, -0.1202, -0.2970,  0.5256, -0.2928, -0.2806, -0.0421, -0.1698, -0.2744,  0.4645,  0.1114, -0.3399,  0.5262,  0.3521,\n",
              "         0.0384,  0.7331, -0.2435,  0.5631,  0.1894, -0.1461, -0.3547,  0.7025, -0.4118, -0.1342, -0.1461,  0.2905, -0.1475,  0.0080,\n",
              "         0.4209,  0.4151, -0.1892, -0.2187,  0.7978, -0.2810,  0.5016,  0.5596,  0.8069, -0.2131, -0.2718, -0.2683, -0.0439,  0.5615,\n",
              "        -0.0968,  0.6132, -0.3760, -0.1947,  0.2565,  0.4466, -0.3261,  0.5084,  0.7411,  0.3926,  0.3696,  0.4704,  0.6221, -0.2758,\n",
              "        -0.2306, -0.7134, -0.2435,  0.3977, -0.1211, -0.2232,  0.8280, -0.0256, -0.2733, -0.0998,  0.6949,  0.6396,  0.5461,  0.5018,\n",
              "        -0.2958, -0.1495,  0.3660, -0.1927,  0.6901, -0.2379, -0.3656,  0.6137,  0.0390, -0.2178])"
            ]
          },
          "metadata": {},
          "execution_count": 190
        }
      ]
    },
    {
      "cell_type": "code",
      "source": [
        "#redefine calc_preds function\n",
        "\n",
        "\n",
        "def cal_preds(coeffs, indeps):\n",
        "  return torch.sigmoid((coeffs@indeps))"
      ],
      "metadata": {
        "id": "SdYl2QwjzH9o"
      },
      "execution_count": 191,
      "outputs": []
    },
    {
      "cell_type": "code",
      "source": [
        "def init_coeffs():\n",
        "  return (torch.rand(n_coeff, 1)*0.1).requires_grad_()"
      ],
      "metadata": {
        "id": "bBxks2cSzY75"
      },
      "execution_count": 192,
      "outputs": []
    },
    {
      "cell_type": "code",
      "source": [],
      "metadata": {
        "id": "7Pyj6NamziP4"
      },
      "execution_count": null,
      "outputs": []
    }
  ],
  "metadata": {
    "kernelspec": {
      "display_name": "DeepLearning",
      "language": "python",
      "name": "python3"
    },
    "language_info": {
      "codemirror_mode": {
        "name": "ipython",
        "version": 3
      },
      "file_extension": ".py",
      "mimetype": "text/x-python",
      "name": "python",
      "nbconvert_exporter": "python",
      "pygments_lexer": "ipython3",
      "version": "3.10.10"
    },
    "orig_nbformat": 4,
    "colab": {
      "provenance": []
    }
  },
  "nbformat": 4,
  "nbformat_minor": 0
}